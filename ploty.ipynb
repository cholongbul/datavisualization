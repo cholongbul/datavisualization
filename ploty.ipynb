{
 "cells": [
  {
   "cell_type": "code",
   "execution_count": 16,
   "metadata": {
    "collapsed": true,
    "pycharm": {
     "name": "#%%\n"
    }
   },
   "outputs": [],
   "source": [
    "import plotly.express as px\n",
    "import pandas as pd\n",
    "import plotly.graph_objects as go"
   ]
  },
  {
   "cell_type": "code",
   "execution_count": 2,
   "outputs": [
    {
     "data": {
      "text/plain": "          country continent  year  lifeExp       pop   gdpPercap iso_alpha  \\\n0     Afghanistan      Asia  1952   28.801   8425333  779.445314       AFG   \n1     Afghanistan      Asia  1957   30.332   9240934  820.853030       AFG   \n2     Afghanistan      Asia  1962   31.997  10267083  853.100710       AFG   \n3     Afghanistan      Asia  1967   34.020  11537966  836.197138       AFG   \n4     Afghanistan      Asia  1972   36.088  13079460  739.981106       AFG   \n...           ...       ...   ...      ...       ...         ...       ...   \n1699     Zimbabwe    Africa  1987   62.351   9216418  706.157306       ZWE   \n1700     Zimbabwe    Africa  1992   60.377  10704340  693.420786       ZWE   \n1701     Zimbabwe    Africa  1997   46.809  11404948  792.449960       ZWE   \n1702     Zimbabwe    Africa  2002   39.989  11926563  672.038623       ZWE   \n1703     Zimbabwe    Africa  2007   43.487  12311143  469.709298       ZWE   \n\n      iso_num  \n0           4  \n1           4  \n2           4  \n3           4  \n4           4  \n...       ...  \n1699      716  \n1700      716  \n1701      716  \n1702      716  \n1703      716  \n\n[1704 rows x 8 columns]",
      "text/html": "<div>\n<style scoped>\n    .dataframe tbody tr th:only-of-type {\n        vertical-align: middle;\n    }\n\n    .dataframe tbody tr th {\n        vertical-align: top;\n    }\n\n    .dataframe thead th {\n        text-align: right;\n    }\n</style>\n<table border=\"1\" class=\"dataframe\">\n  <thead>\n    <tr style=\"text-align: right;\">\n      <th></th>\n      <th>country</th>\n      <th>continent</th>\n      <th>year</th>\n      <th>lifeExp</th>\n      <th>pop</th>\n      <th>gdpPercap</th>\n      <th>iso_alpha</th>\n      <th>iso_num</th>\n    </tr>\n  </thead>\n  <tbody>\n    <tr>\n      <th>0</th>\n      <td>Afghanistan</td>\n      <td>Asia</td>\n      <td>1952</td>\n      <td>28.801</td>\n      <td>8425333</td>\n      <td>779.445314</td>\n      <td>AFG</td>\n      <td>4</td>\n    </tr>\n    <tr>\n      <th>1</th>\n      <td>Afghanistan</td>\n      <td>Asia</td>\n      <td>1957</td>\n      <td>30.332</td>\n      <td>9240934</td>\n      <td>820.853030</td>\n      <td>AFG</td>\n      <td>4</td>\n    </tr>\n    <tr>\n      <th>2</th>\n      <td>Afghanistan</td>\n      <td>Asia</td>\n      <td>1962</td>\n      <td>31.997</td>\n      <td>10267083</td>\n      <td>853.100710</td>\n      <td>AFG</td>\n      <td>4</td>\n    </tr>\n    <tr>\n      <th>3</th>\n      <td>Afghanistan</td>\n      <td>Asia</td>\n      <td>1967</td>\n      <td>34.020</td>\n      <td>11537966</td>\n      <td>836.197138</td>\n      <td>AFG</td>\n      <td>4</td>\n    </tr>\n    <tr>\n      <th>4</th>\n      <td>Afghanistan</td>\n      <td>Asia</td>\n      <td>1972</td>\n      <td>36.088</td>\n      <td>13079460</td>\n      <td>739.981106</td>\n      <td>AFG</td>\n      <td>4</td>\n    </tr>\n    <tr>\n      <th>...</th>\n      <td>...</td>\n      <td>...</td>\n      <td>...</td>\n      <td>...</td>\n      <td>...</td>\n      <td>...</td>\n      <td>...</td>\n      <td>...</td>\n    </tr>\n    <tr>\n      <th>1699</th>\n      <td>Zimbabwe</td>\n      <td>Africa</td>\n      <td>1987</td>\n      <td>62.351</td>\n      <td>9216418</td>\n      <td>706.157306</td>\n      <td>ZWE</td>\n      <td>716</td>\n    </tr>\n    <tr>\n      <th>1700</th>\n      <td>Zimbabwe</td>\n      <td>Africa</td>\n      <td>1992</td>\n      <td>60.377</td>\n      <td>10704340</td>\n      <td>693.420786</td>\n      <td>ZWE</td>\n      <td>716</td>\n    </tr>\n    <tr>\n      <th>1701</th>\n      <td>Zimbabwe</td>\n      <td>Africa</td>\n      <td>1997</td>\n      <td>46.809</td>\n      <td>11404948</td>\n      <td>792.449960</td>\n      <td>ZWE</td>\n      <td>716</td>\n    </tr>\n    <tr>\n      <th>1702</th>\n      <td>Zimbabwe</td>\n      <td>Africa</td>\n      <td>2002</td>\n      <td>39.989</td>\n      <td>11926563</td>\n      <td>672.038623</td>\n      <td>ZWE</td>\n      <td>716</td>\n    </tr>\n    <tr>\n      <th>1703</th>\n      <td>Zimbabwe</td>\n      <td>Africa</td>\n      <td>2007</td>\n      <td>43.487</td>\n      <td>12311143</td>\n      <td>469.709298</td>\n      <td>ZWE</td>\n      <td>716</td>\n    </tr>\n  </tbody>\n</table>\n<p>1704 rows × 8 columns</p>\n</div>"
     },
     "execution_count": 2,
     "metadata": {},
     "output_type": "execute_result"
    }
   ],
   "source": [
    "df = px.data.gapminder()\n",
    "df"
   ],
   "metadata": {
    "collapsed": false,
    "pycharm": {
     "name": "#%%\n"
    }
   }
  },
  {
   "cell_type": "code",
   "execution_count": 8,
   "outputs": [
    {
     "data": {
      "application/vnd.plotly.v1+json": {
       "data": [
        {
         "alignmentgroup": "True",
         "hovertemplate": "year=%{x}<br>pop=%{y}<extra></extra>",
         "legendgroup": "",
         "marker": {
          "color": "#636efa",
          "pattern": {
           "shape": ""
          }
         },
         "name": "",
         "offsetgroup": "",
         "orientation": "v",
         "showlegend": false,
         "textposition": "auto",
         "x": [
          1952,
          1957,
          1962,
          1967,
          1972,
          1977,
          1982,
          1987,
          1992,
          1997,
          2002,
          2007
         ],
         "xaxis": "x",
         "y": [
          20947571,
          22611552,
          26420307,
          30131000,
          33505000,
          36436000,
          39326000,
          41622000,
          43805450,
          46173816,
          47969150,
          49044790
         ],
         "yaxis": "y",
         "type": "bar"
        }
       ],
       "layout": {
        "template": {
         "data": {
          "bar": [
           {
            "error_x": {
             "color": "#f2f5fa"
            },
            "error_y": {
             "color": "#f2f5fa"
            },
            "marker": {
             "line": {
              "color": "rgb(17,17,17)",
              "width": 0.5
             },
             "pattern": {
              "fillmode": "overlay",
              "size": 10,
              "solidity": 0.2
             }
            },
            "type": "bar"
           }
          ],
          "barpolar": [
           {
            "marker": {
             "line": {
              "color": "rgb(17,17,17)",
              "width": 0.5
             },
             "pattern": {
              "fillmode": "overlay",
              "size": 10,
              "solidity": 0.2
             }
            },
            "type": "barpolar"
           }
          ],
          "carpet": [
           {
            "aaxis": {
             "endlinecolor": "#A2B1C6",
             "gridcolor": "#506784",
             "linecolor": "#506784",
             "minorgridcolor": "#506784",
             "startlinecolor": "#A2B1C6"
            },
            "baxis": {
             "endlinecolor": "#A2B1C6",
             "gridcolor": "#506784",
             "linecolor": "#506784",
             "minorgridcolor": "#506784",
             "startlinecolor": "#A2B1C6"
            },
            "type": "carpet"
           }
          ],
          "choropleth": [
           {
            "colorbar": {
             "outlinewidth": 0,
             "ticks": ""
            },
            "type": "choropleth"
           }
          ],
          "contour": [
           {
            "colorbar": {
             "outlinewidth": 0,
             "ticks": ""
            },
            "colorscale": [
             [
              0.0,
              "#0d0887"
             ],
             [
              0.1111111111111111,
              "#46039f"
             ],
             [
              0.2222222222222222,
              "#7201a8"
             ],
             [
              0.3333333333333333,
              "#9c179e"
             ],
             [
              0.4444444444444444,
              "#bd3786"
             ],
             [
              0.5555555555555556,
              "#d8576b"
             ],
             [
              0.6666666666666666,
              "#ed7953"
             ],
             [
              0.7777777777777778,
              "#fb9f3a"
             ],
             [
              0.8888888888888888,
              "#fdca26"
             ],
             [
              1.0,
              "#f0f921"
             ]
            ],
            "type": "contour"
           }
          ],
          "contourcarpet": [
           {
            "colorbar": {
             "outlinewidth": 0,
             "ticks": ""
            },
            "type": "contourcarpet"
           }
          ],
          "heatmap": [
           {
            "colorbar": {
             "outlinewidth": 0,
             "ticks": ""
            },
            "colorscale": [
             [
              0.0,
              "#0d0887"
             ],
             [
              0.1111111111111111,
              "#46039f"
             ],
             [
              0.2222222222222222,
              "#7201a8"
             ],
             [
              0.3333333333333333,
              "#9c179e"
             ],
             [
              0.4444444444444444,
              "#bd3786"
             ],
             [
              0.5555555555555556,
              "#d8576b"
             ],
             [
              0.6666666666666666,
              "#ed7953"
             ],
             [
              0.7777777777777778,
              "#fb9f3a"
             ],
             [
              0.8888888888888888,
              "#fdca26"
             ],
             [
              1.0,
              "#f0f921"
             ]
            ],
            "type": "heatmap"
           }
          ],
          "heatmapgl": [
           {
            "colorbar": {
             "outlinewidth": 0,
             "ticks": ""
            },
            "colorscale": [
             [
              0.0,
              "#0d0887"
             ],
             [
              0.1111111111111111,
              "#46039f"
             ],
             [
              0.2222222222222222,
              "#7201a8"
             ],
             [
              0.3333333333333333,
              "#9c179e"
             ],
             [
              0.4444444444444444,
              "#bd3786"
             ],
             [
              0.5555555555555556,
              "#d8576b"
             ],
             [
              0.6666666666666666,
              "#ed7953"
             ],
             [
              0.7777777777777778,
              "#fb9f3a"
             ],
             [
              0.8888888888888888,
              "#fdca26"
             ],
             [
              1.0,
              "#f0f921"
             ]
            ],
            "type": "heatmapgl"
           }
          ],
          "histogram": [
           {
            "marker": {
             "pattern": {
              "fillmode": "overlay",
              "size": 10,
              "solidity": 0.2
             }
            },
            "type": "histogram"
           }
          ],
          "histogram2d": [
           {
            "colorbar": {
             "outlinewidth": 0,
             "ticks": ""
            },
            "colorscale": [
             [
              0.0,
              "#0d0887"
             ],
             [
              0.1111111111111111,
              "#46039f"
             ],
             [
              0.2222222222222222,
              "#7201a8"
             ],
             [
              0.3333333333333333,
              "#9c179e"
             ],
             [
              0.4444444444444444,
              "#bd3786"
             ],
             [
              0.5555555555555556,
              "#d8576b"
             ],
             [
              0.6666666666666666,
              "#ed7953"
             ],
             [
              0.7777777777777778,
              "#fb9f3a"
             ],
             [
              0.8888888888888888,
              "#fdca26"
             ],
             [
              1.0,
              "#f0f921"
             ]
            ],
            "type": "histogram2d"
           }
          ],
          "histogram2dcontour": [
           {
            "colorbar": {
             "outlinewidth": 0,
             "ticks": ""
            },
            "colorscale": [
             [
              0.0,
              "#0d0887"
             ],
             [
              0.1111111111111111,
              "#46039f"
             ],
             [
              0.2222222222222222,
              "#7201a8"
             ],
             [
              0.3333333333333333,
              "#9c179e"
             ],
             [
              0.4444444444444444,
              "#bd3786"
             ],
             [
              0.5555555555555556,
              "#d8576b"
             ],
             [
              0.6666666666666666,
              "#ed7953"
             ],
             [
              0.7777777777777778,
              "#fb9f3a"
             ],
             [
              0.8888888888888888,
              "#fdca26"
             ],
             [
              1.0,
              "#f0f921"
             ]
            ],
            "type": "histogram2dcontour"
           }
          ],
          "mesh3d": [
           {
            "colorbar": {
             "outlinewidth": 0,
             "ticks": ""
            },
            "type": "mesh3d"
           }
          ],
          "parcoords": [
           {
            "line": {
             "colorbar": {
              "outlinewidth": 0,
              "ticks": ""
             }
            },
            "type": "parcoords"
           }
          ],
          "pie": [
           {
            "automargin": true,
            "type": "pie"
           }
          ],
          "scatter": [
           {
            "marker": {
             "line": {
              "color": "#283442"
             }
            },
            "type": "scatter"
           }
          ],
          "scatter3d": [
           {
            "line": {
             "colorbar": {
              "outlinewidth": 0,
              "ticks": ""
             }
            },
            "marker": {
             "colorbar": {
              "outlinewidth": 0,
              "ticks": ""
             }
            },
            "type": "scatter3d"
           }
          ],
          "scattercarpet": [
           {
            "marker": {
             "colorbar": {
              "outlinewidth": 0,
              "ticks": ""
             }
            },
            "type": "scattercarpet"
           }
          ],
          "scattergeo": [
           {
            "marker": {
             "colorbar": {
              "outlinewidth": 0,
              "ticks": ""
             }
            },
            "type": "scattergeo"
           }
          ],
          "scattergl": [
           {
            "marker": {
             "line": {
              "color": "#283442"
             }
            },
            "type": "scattergl"
           }
          ],
          "scattermapbox": [
           {
            "marker": {
             "colorbar": {
              "outlinewidth": 0,
              "ticks": ""
             }
            },
            "type": "scattermapbox"
           }
          ],
          "scatterpolar": [
           {
            "marker": {
             "colorbar": {
              "outlinewidth": 0,
              "ticks": ""
             }
            },
            "type": "scatterpolar"
           }
          ],
          "scatterpolargl": [
           {
            "marker": {
             "colorbar": {
              "outlinewidth": 0,
              "ticks": ""
             }
            },
            "type": "scatterpolargl"
           }
          ],
          "scatterternary": [
           {
            "marker": {
             "colorbar": {
              "outlinewidth": 0,
              "ticks": ""
             }
            },
            "type": "scatterternary"
           }
          ],
          "surface": [
           {
            "colorbar": {
             "outlinewidth": 0,
             "ticks": ""
            },
            "colorscale": [
             [
              0.0,
              "#0d0887"
             ],
             [
              0.1111111111111111,
              "#46039f"
             ],
             [
              0.2222222222222222,
              "#7201a8"
             ],
             [
              0.3333333333333333,
              "#9c179e"
             ],
             [
              0.4444444444444444,
              "#bd3786"
             ],
             [
              0.5555555555555556,
              "#d8576b"
             ],
             [
              0.6666666666666666,
              "#ed7953"
             ],
             [
              0.7777777777777778,
              "#fb9f3a"
             ],
             [
              0.8888888888888888,
              "#fdca26"
             ],
             [
              1.0,
              "#f0f921"
             ]
            ],
            "type": "surface"
           }
          ],
          "table": [
           {
            "cells": {
             "fill": {
              "color": "#506784"
             },
             "line": {
              "color": "rgb(17,17,17)"
             }
            },
            "header": {
             "fill": {
              "color": "#2a3f5f"
             },
             "line": {
              "color": "rgb(17,17,17)"
             }
            },
            "type": "table"
           }
          ]
         },
         "layout": {
          "annotationdefaults": {
           "arrowcolor": "#f2f5fa",
           "arrowhead": 0,
           "arrowwidth": 1
          },
          "autotypenumbers": "strict",
          "coloraxis": {
           "colorbar": {
            "outlinewidth": 0,
            "ticks": ""
           }
          },
          "colorscale": {
           "diverging": [
            [
             0,
             "#8e0152"
            ],
            [
             0.1,
             "#c51b7d"
            ],
            [
             0.2,
             "#de77ae"
            ],
            [
             0.3,
             "#f1b6da"
            ],
            [
             0.4,
             "#fde0ef"
            ],
            [
             0.5,
             "#f7f7f7"
            ],
            [
             0.6,
             "#e6f5d0"
            ],
            [
             0.7,
             "#b8e186"
            ],
            [
             0.8,
             "#7fbc41"
            ],
            [
             0.9,
             "#4d9221"
            ],
            [
             1,
             "#276419"
            ]
           ],
           "sequential": [
            [
             0.0,
             "#0d0887"
            ],
            [
             0.1111111111111111,
             "#46039f"
            ],
            [
             0.2222222222222222,
             "#7201a8"
            ],
            [
             0.3333333333333333,
             "#9c179e"
            ],
            [
             0.4444444444444444,
             "#bd3786"
            ],
            [
             0.5555555555555556,
             "#d8576b"
            ],
            [
             0.6666666666666666,
             "#ed7953"
            ],
            [
             0.7777777777777778,
             "#fb9f3a"
            ],
            [
             0.8888888888888888,
             "#fdca26"
            ],
            [
             1.0,
             "#f0f921"
            ]
           ],
           "sequentialminus": [
            [
             0.0,
             "#0d0887"
            ],
            [
             0.1111111111111111,
             "#46039f"
            ],
            [
             0.2222222222222222,
             "#7201a8"
            ],
            [
             0.3333333333333333,
             "#9c179e"
            ],
            [
             0.4444444444444444,
             "#bd3786"
            ],
            [
             0.5555555555555556,
             "#d8576b"
            ],
            [
             0.6666666666666666,
             "#ed7953"
            ],
            [
             0.7777777777777778,
             "#fb9f3a"
            ],
            [
             0.8888888888888888,
             "#fdca26"
            ],
            [
             1.0,
             "#f0f921"
            ]
           ]
          },
          "colorway": [
           "#636efa",
           "#EF553B",
           "#00cc96",
           "#ab63fa",
           "#FFA15A",
           "#19d3f3",
           "#FF6692",
           "#B6E880",
           "#FF97FF",
           "#FECB52"
          ],
          "font": {
           "color": "#f2f5fa"
          },
          "geo": {
           "bgcolor": "rgb(17,17,17)",
           "lakecolor": "rgb(17,17,17)",
           "landcolor": "rgb(17,17,17)",
           "showlakes": true,
           "showland": true,
           "subunitcolor": "#506784"
          },
          "hoverlabel": {
           "align": "left"
          },
          "hovermode": "closest",
          "mapbox": {
           "style": "dark"
          },
          "paper_bgcolor": "rgb(17,17,17)",
          "plot_bgcolor": "rgb(17,17,17)",
          "polar": {
           "angularaxis": {
            "gridcolor": "#506784",
            "linecolor": "#506784",
            "ticks": ""
           },
           "bgcolor": "rgb(17,17,17)",
           "radialaxis": {
            "gridcolor": "#506784",
            "linecolor": "#506784",
            "ticks": ""
           }
          },
          "scene": {
           "xaxis": {
            "backgroundcolor": "rgb(17,17,17)",
            "gridcolor": "#506784",
            "gridwidth": 2,
            "linecolor": "#506784",
            "showbackground": true,
            "ticks": "",
            "zerolinecolor": "#C8D4E3"
           },
           "yaxis": {
            "backgroundcolor": "rgb(17,17,17)",
            "gridcolor": "#506784",
            "gridwidth": 2,
            "linecolor": "#506784",
            "showbackground": true,
            "ticks": "",
            "zerolinecolor": "#C8D4E3"
           },
           "zaxis": {
            "backgroundcolor": "rgb(17,17,17)",
            "gridcolor": "#506784",
            "gridwidth": 2,
            "linecolor": "#506784",
            "showbackground": true,
            "ticks": "",
            "zerolinecolor": "#C8D4E3"
           }
          },
          "shapedefaults": {
           "line": {
            "color": "#f2f5fa"
           }
          },
          "sliderdefaults": {
           "bgcolor": "#C8D4E3",
           "bordercolor": "rgb(17,17,17)",
           "borderwidth": 1,
           "tickwidth": 0
          },
          "ternary": {
           "aaxis": {
            "gridcolor": "#506784",
            "linecolor": "#506784",
            "ticks": ""
           },
           "baxis": {
            "gridcolor": "#506784",
            "linecolor": "#506784",
            "ticks": ""
           },
           "bgcolor": "rgb(17,17,17)",
           "caxis": {
            "gridcolor": "#506784",
            "linecolor": "#506784",
            "ticks": ""
           }
          },
          "title": {
           "x": 0.05
          },
          "updatemenudefaults": {
           "bgcolor": "#506784",
           "borderwidth": 0
          },
          "xaxis": {
           "automargin": true,
           "gridcolor": "#283442",
           "linecolor": "#506784",
           "ticks": "",
           "title": {
            "standoff": 15
           },
           "zerolinecolor": "#283442",
           "zerolinewidth": 2
          },
          "yaxis": {
           "automargin": true,
           "gridcolor": "#283442",
           "linecolor": "#506784",
           "ticks": "",
           "title": {
            "standoff": 15
           },
           "zerolinecolor": "#283442",
           "zerolinewidth": 2
          }
         }
        },
        "xaxis": {
         "anchor": "y",
         "domain": [
          0.0,
          1.0
         ],
         "title": {
          "text": "year"
         }
        },
        "yaxis": {
         "anchor": "x",
         "domain": [
          0.0,
          1.0
         ],
         "title": {
          "text": "pop"
         }
        },
        "legend": {
         "tracegroupgap": 0
        },
        "margin": {
         "t": 60
        },
        "barmode": "relative"
       },
       "config": {
        "plotlyServerURL": "https://plot.ly"
       }
      },
      "text/html": "<div>                            <div id=\"0fa4019b-0d13-4f09-a71e-68f3fd48c64a\" class=\"plotly-graph-div\" style=\"height:525px; width:100%;\"></div>            <script type=\"text/javascript\">                require([\"plotly\"], function(Plotly) {                    window.PLOTLYENV=window.PLOTLYENV || {};                                    if (document.getElementById(\"0fa4019b-0d13-4f09-a71e-68f3fd48c64a\")) {                    Plotly.newPlot(                        \"0fa4019b-0d13-4f09-a71e-68f3fd48c64a\",                        [{\"alignmentgroup\":\"True\",\"hovertemplate\":\"year=%{x}<br>pop=%{y}<extra></extra>\",\"legendgroup\":\"\",\"marker\":{\"color\":\"#636efa\",\"pattern\":{\"shape\":\"\"}},\"name\":\"\",\"offsetgroup\":\"\",\"orientation\":\"v\",\"showlegend\":false,\"textposition\":\"auto\",\"x\":[1952,1957,1962,1967,1972,1977,1982,1987,1992,1997,2002,2007],\"xaxis\":\"x\",\"y\":[20947571,22611552,26420307,30131000,33505000,36436000,39326000,41622000,43805450,46173816,47969150,49044790],\"yaxis\":\"y\",\"type\":\"bar\"}],                        {\"template\":{\"data\":{\"bar\":[{\"error_x\":{\"color\":\"#f2f5fa\"},\"error_y\":{\"color\":\"#f2f5fa\"},\"marker\":{\"line\":{\"color\":\"rgb(17,17,17)\",\"width\":0.5},\"pattern\":{\"fillmode\":\"overlay\",\"size\":10,\"solidity\":0.2}},\"type\":\"bar\"}],\"barpolar\":[{\"marker\":{\"line\":{\"color\":\"rgb(17,17,17)\",\"width\":0.5},\"pattern\":{\"fillmode\":\"overlay\",\"size\":10,\"solidity\":0.2}},\"type\":\"barpolar\"}],\"carpet\":[{\"aaxis\":{\"endlinecolor\":\"#A2B1C6\",\"gridcolor\":\"#506784\",\"linecolor\":\"#506784\",\"minorgridcolor\":\"#506784\",\"startlinecolor\":\"#A2B1C6\"},\"baxis\":{\"endlinecolor\":\"#A2B1C6\",\"gridcolor\":\"#506784\",\"linecolor\":\"#506784\",\"minorgridcolor\":\"#506784\",\"startlinecolor\":\"#A2B1C6\"},\"type\":\"carpet\"}],\"choropleth\":[{\"colorbar\":{\"outlinewidth\":0,\"ticks\":\"\"},\"type\":\"choropleth\"}],\"contour\":[{\"colorbar\":{\"outlinewidth\":0,\"ticks\":\"\"},\"colorscale\":[[0.0,\"#0d0887\"],[0.1111111111111111,\"#46039f\"],[0.2222222222222222,\"#7201a8\"],[0.3333333333333333,\"#9c179e\"],[0.4444444444444444,\"#bd3786\"],[0.5555555555555556,\"#d8576b\"],[0.6666666666666666,\"#ed7953\"],[0.7777777777777778,\"#fb9f3a\"],[0.8888888888888888,\"#fdca26\"],[1.0,\"#f0f921\"]],\"type\":\"contour\"}],\"contourcarpet\":[{\"colorbar\":{\"outlinewidth\":0,\"ticks\":\"\"},\"type\":\"contourcarpet\"}],\"heatmap\":[{\"colorbar\":{\"outlinewidth\":0,\"ticks\":\"\"},\"colorscale\":[[0.0,\"#0d0887\"],[0.1111111111111111,\"#46039f\"],[0.2222222222222222,\"#7201a8\"],[0.3333333333333333,\"#9c179e\"],[0.4444444444444444,\"#bd3786\"],[0.5555555555555556,\"#d8576b\"],[0.6666666666666666,\"#ed7953\"],[0.7777777777777778,\"#fb9f3a\"],[0.8888888888888888,\"#fdca26\"],[1.0,\"#f0f921\"]],\"type\":\"heatmap\"}],\"heatmapgl\":[{\"colorbar\":{\"outlinewidth\":0,\"ticks\":\"\"},\"colorscale\":[[0.0,\"#0d0887\"],[0.1111111111111111,\"#46039f\"],[0.2222222222222222,\"#7201a8\"],[0.3333333333333333,\"#9c179e\"],[0.4444444444444444,\"#bd3786\"],[0.5555555555555556,\"#d8576b\"],[0.6666666666666666,\"#ed7953\"],[0.7777777777777778,\"#fb9f3a\"],[0.8888888888888888,\"#fdca26\"],[1.0,\"#f0f921\"]],\"type\":\"heatmapgl\"}],\"histogram\":[{\"marker\":{\"pattern\":{\"fillmode\":\"overlay\",\"size\":10,\"solidity\":0.2}},\"type\":\"histogram\"}],\"histogram2d\":[{\"colorbar\":{\"outlinewidth\":0,\"ticks\":\"\"},\"colorscale\":[[0.0,\"#0d0887\"],[0.1111111111111111,\"#46039f\"],[0.2222222222222222,\"#7201a8\"],[0.3333333333333333,\"#9c179e\"],[0.4444444444444444,\"#bd3786\"],[0.5555555555555556,\"#d8576b\"],[0.6666666666666666,\"#ed7953\"],[0.7777777777777778,\"#fb9f3a\"],[0.8888888888888888,\"#fdca26\"],[1.0,\"#f0f921\"]],\"type\":\"histogram2d\"}],\"histogram2dcontour\":[{\"colorbar\":{\"outlinewidth\":0,\"ticks\":\"\"},\"colorscale\":[[0.0,\"#0d0887\"],[0.1111111111111111,\"#46039f\"],[0.2222222222222222,\"#7201a8\"],[0.3333333333333333,\"#9c179e\"],[0.4444444444444444,\"#bd3786\"],[0.5555555555555556,\"#d8576b\"],[0.6666666666666666,\"#ed7953\"],[0.7777777777777778,\"#fb9f3a\"],[0.8888888888888888,\"#fdca26\"],[1.0,\"#f0f921\"]],\"type\":\"histogram2dcontour\"}],\"mesh3d\":[{\"colorbar\":{\"outlinewidth\":0,\"ticks\":\"\"},\"type\":\"mesh3d\"}],\"parcoords\":[{\"line\":{\"colorbar\":{\"outlinewidth\":0,\"ticks\":\"\"}},\"type\":\"parcoords\"}],\"pie\":[{\"automargin\":true,\"type\":\"pie\"}],\"scatter\":[{\"marker\":{\"line\":{\"color\":\"#283442\"}},\"type\":\"scatter\"}],\"scatter3d\":[{\"line\":{\"colorbar\":{\"outlinewidth\":0,\"ticks\":\"\"}},\"marker\":{\"colorbar\":{\"outlinewidth\":0,\"ticks\":\"\"}},\"type\":\"scatter3d\"}],\"scattercarpet\":[{\"marker\":{\"colorbar\":{\"outlinewidth\":0,\"ticks\":\"\"}},\"type\":\"scattercarpet\"}],\"scattergeo\":[{\"marker\":{\"colorbar\":{\"outlinewidth\":0,\"ticks\":\"\"}},\"type\":\"scattergeo\"}],\"scattergl\":[{\"marker\":{\"line\":{\"color\":\"#283442\"}},\"type\":\"scattergl\"}],\"scattermapbox\":[{\"marker\":{\"colorbar\":{\"outlinewidth\":0,\"ticks\":\"\"}},\"type\":\"scattermapbox\"}],\"scatterpolar\":[{\"marker\":{\"colorbar\":{\"outlinewidth\":0,\"ticks\":\"\"}},\"type\":\"scatterpolar\"}],\"scatterpolargl\":[{\"marker\":{\"colorbar\":{\"outlinewidth\":0,\"ticks\":\"\"}},\"type\":\"scatterpolargl\"}],\"scatterternary\":[{\"marker\":{\"colorbar\":{\"outlinewidth\":0,\"ticks\":\"\"}},\"type\":\"scatterternary\"}],\"surface\":[{\"colorbar\":{\"outlinewidth\":0,\"ticks\":\"\"},\"colorscale\":[[0.0,\"#0d0887\"],[0.1111111111111111,\"#46039f\"],[0.2222222222222222,\"#7201a8\"],[0.3333333333333333,\"#9c179e\"],[0.4444444444444444,\"#bd3786\"],[0.5555555555555556,\"#d8576b\"],[0.6666666666666666,\"#ed7953\"],[0.7777777777777778,\"#fb9f3a\"],[0.8888888888888888,\"#fdca26\"],[1.0,\"#f0f921\"]],\"type\":\"surface\"}],\"table\":[{\"cells\":{\"fill\":{\"color\":\"#506784\"},\"line\":{\"color\":\"rgb(17,17,17)\"}},\"header\":{\"fill\":{\"color\":\"#2a3f5f\"},\"line\":{\"color\":\"rgb(17,17,17)\"}},\"type\":\"table\"}]},\"layout\":{\"annotationdefaults\":{\"arrowcolor\":\"#f2f5fa\",\"arrowhead\":0,\"arrowwidth\":1},\"autotypenumbers\":\"strict\",\"coloraxis\":{\"colorbar\":{\"outlinewidth\":0,\"ticks\":\"\"}},\"colorscale\":{\"diverging\":[[0,\"#8e0152\"],[0.1,\"#c51b7d\"],[0.2,\"#de77ae\"],[0.3,\"#f1b6da\"],[0.4,\"#fde0ef\"],[0.5,\"#f7f7f7\"],[0.6,\"#e6f5d0\"],[0.7,\"#b8e186\"],[0.8,\"#7fbc41\"],[0.9,\"#4d9221\"],[1,\"#276419\"]],\"sequential\":[[0.0,\"#0d0887\"],[0.1111111111111111,\"#46039f\"],[0.2222222222222222,\"#7201a8\"],[0.3333333333333333,\"#9c179e\"],[0.4444444444444444,\"#bd3786\"],[0.5555555555555556,\"#d8576b\"],[0.6666666666666666,\"#ed7953\"],[0.7777777777777778,\"#fb9f3a\"],[0.8888888888888888,\"#fdca26\"],[1.0,\"#f0f921\"]],\"sequentialminus\":[[0.0,\"#0d0887\"],[0.1111111111111111,\"#46039f\"],[0.2222222222222222,\"#7201a8\"],[0.3333333333333333,\"#9c179e\"],[0.4444444444444444,\"#bd3786\"],[0.5555555555555556,\"#d8576b\"],[0.6666666666666666,\"#ed7953\"],[0.7777777777777778,\"#fb9f3a\"],[0.8888888888888888,\"#fdca26\"],[1.0,\"#f0f921\"]]},\"colorway\":[\"#636efa\",\"#EF553B\",\"#00cc96\",\"#ab63fa\",\"#FFA15A\",\"#19d3f3\",\"#FF6692\",\"#B6E880\",\"#FF97FF\",\"#FECB52\"],\"font\":{\"color\":\"#f2f5fa\"},\"geo\":{\"bgcolor\":\"rgb(17,17,17)\",\"lakecolor\":\"rgb(17,17,17)\",\"landcolor\":\"rgb(17,17,17)\",\"showlakes\":true,\"showland\":true,\"subunitcolor\":\"#506784\"},\"hoverlabel\":{\"align\":\"left\"},\"hovermode\":\"closest\",\"mapbox\":{\"style\":\"dark\"},\"paper_bgcolor\":\"rgb(17,17,17)\",\"plot_bgcolor\":\"rgb(17,17,17)\",\"polar\":{\"angularaxis\":{\"gridcolor\":\"#506784\",\"linecolor\":\"#506784\",\"ticks\":\"\"},\"bgcolor\":\"rgb(17,17,17)\",\"radialaxis\":{\"gridcolor\":\"#506784\",\"linecolor\":\"#506784\",\"ticks\":\"\"}},\"scene\":{\"xaxis\":{\"backgroundcolor\":\"rgb(17,17,17)\",\"gridcolor\":\"#506784\",\"gridwidth\":2,\"linecolor\":\"#506784\",\"showbackground\":true,\"ticks\":\"\",\"zerolinecolor\":\"#C8D4E3\"},\"yaxis\":{\"backgroundcolor\":\"rgb(17,17,17)\",\"gridcolor\":\"#506784\",\"gridwidth\":2,\"linecolor\":\"#506784\",\"showbackground\":true,\"ticks\":\"\",\"zerolinecolor\":\"#C8D4E3\"},\"zaxis\":{\"backgroundcolor\":\"rgb(17,17,17)\",\"gridcolor\":\"#506784\",\"gridwidth\":2,\"linecolor\":\"#506784\",\"showbackground\":true,\"ticks\":\"\",\"zerolinecolor\":\"#C8D4E3\"}},\"shapedefaults\":{\"line\":{\"color\":\"#f2f5fa\"}},\"sliderdefaults\":{\"bgcolor\":\"#C8D4E3\",\"bordercolor\":\"rgb(17,17,17)\",\"borderwidth\":1,\"tickwidth\":0},\"ternary\":{\"aaxis\":{\"gridcolor\":\"#506784\",\"linecolor\":\"#506784\",\"ticks\":\"\"},\"baxis\":{\"gridcolor\":\"#506784\",\"linecolor\":\"#506784\",\"ticks\":\"\"},\"bgcolor\":\"rgb(17,17,17)\",\"caxis\":{\"gridcolor\":\"#506784\",\"linecolor\":\"#506784\",\"ticks\":\"\"}},\"title\":{\"x\":0.05},\"updatemenudefaults\":{\"bgcolor\":\"#506784\",\"borderwidth\":0},\"xaxis\":{\"automargin\":true,\"gridcolor\":\"#283442\",\"linecolor\":\"#506784\",\"ticks\":\"\",\"title\":{\"standoff\":15},\"zerolinecolor\":\"#283442\",\"zerolinewidth\":2},\"yaxis\":{\"automargin\":true,\"gridcolor\":\"#283442\",\"linecolor\":\"#506784\",\"ticks\":\"\",\"title\":{\"standoff\":15},\"zerolinecolor\":\"#283442\",\"zerolinewidth\":2}}},\"xaxis\":{\"anchor\":\"y\",\"domain\":[0.0,1.0],\"title\":{\"text\":\"year\"}},\"yaxis\":{\"anchor\":\"x\",\"domain\":[0.0,1.0],\"title\":{\"text\":\"pop\"}},\"legend\":{\"tracegroupgap\":0},\"margin\":{\"t\":60},\"barmode\":\"relative\"},                        {\"responsive\": true}                    ).then(function(){\n                            \nvar gd = document.getElementById('0fa4019b-0d13-4f09-a71e-68f3fd48c64a');\nvar x = new MutationObserver(function (mutations, observer) {{\n        var display = window.getComputedStyle(gd).display;\n        if (!display || display === 'none') {{\n            console.log([gd, 'removed!']);\n            Plotly.purge(gd);\n            observer.disconnect();\n        }}\n}});\n\n// Listen for the removal of the full notebook cells\nvar notebookContainer = gd.closest('#notebook-container');\nif (notebookContainer) {{\n    x.observe(notebookContainer, {childList: true});\n}}\n\n// Listen for the clearing of the current output cell\nvar outputEl = gd.closest('.output');\nif (outputEl) {{\n    x.observe(outputEl, {childList: true});\n}}\n\n                        })                };                });            </script>        </div>"
     },
     "metadata": {},
     "output_type": "display_data"
    }
   ],
   "source": [
    "df_korea = px.data.gapminder().query(\"country == 'Korea, Rep.'\")\n",
    "fig = px.bar(df_korea, x='year', y='pop')\n",
    "fig.show()"
   ],
   "metadata": {
    "collapsed": false,
    "pycharm": {
     "name": "#%%\n"
    }
   }
  },
  {
   "cell_type": "code",
   "execution_count": 11,
   "outputs": [
    {
     "data": {
      "application/vnd.plotly.v1+json": {
       "data": [
        {
         "alignmentgroup": "True",
         "customdata": [
          [
           "Asia",
           1030.592226
          ],
          [
           "Asia",
           1487.593537
          ],
          [
           "Asia",
           1536.344387
          ],
          [
           "Asia",
           2029.228142
          ],
          [
           "Asia",
           3030.87665
          ],
          [
           "Asia",
           4657.22102
          ],
          [
           "Asia",
           5622.942464
          ],
          [
           "Asia",
           8533.088805
          ],
          [
           "Asia",
           12104.27872
          ],
          [
           "Asia",
           15993.52796
          ],
          [
           "Asia",
           19233.98818
          ],
          [
           "Asia",
           23348.139730000006
          ]
         ],
         "hovertemplate": "year=%{x}<br>pop=%{y}<br>continent=%{customdata[0]}<br>gdpPercap=%{customdata[1]}<br>lifeExp=%{marker.color}<extra></extra>",
         "legendgroup": "",
         "marker": {
          "color": [
           47.453,
           52.681,
           55.292,
           57.716,
           62.612,
           64.766,
           67.123,
           69.81,
           72.244,
           74.64699999999998,
           77.045,
           78.623
          ],
          "coloraxis": "coloraxis",
          "pattern": {
           "shape": ""
          }
         },
         "name": "",
         "offsetgroup": "",
         "orientation": "v",
         "showlegend": false,
         "textposition": "auto",
         "x": [
          1952,
          1957,
          1962,
          1967,
          1972,
          1977,
          1982,
          1987,
          1992,
          1997,
          2002,
          2007
         ],
         "xaxis": "x",
         "y": [
          20947571,
          22611552,
          26420307,
          30131000,
          33505000,
          36436000,
          39326000,
          41622000,
          43805450,
          46173816,
          47969150,
          49044790
         ],
         "yaxis": "y",
         "type": "bar"
        }
       ],
       "layout": {
        "template": {
         "data": {
          "bar": [
           {
            "error_x": {
             "color": "#f2f5fa"
            },
            "error_y": {
             "color": "#f2f5fa"
            },
            "marker": {
             "line": {
              "color": "rgb(17,17,17)",
              "width": 0.5
             },
             "pattern": {
              "fillmode": "overlay",
              "size": 10,
              "solidity": 0.2
             }
            },
            "type": "bar"
           }
          ],
          "barpolar": [
           {
            "marker": {
             "line": {
              "color": "rgb(17,17,17)",
              "width": 0.5
             },
             "pattern": {
              "fillmode": "overlay",
              "size": 10,
              "solidity": 0.2
             }
            },
            "type": "barpolar"
           }
          ],
          "carpet": [
           {
            "aaxis": {
             "endlinecolor": "#A2B1C6",
             "gridcolor": "#506784",
             "linecolor": "#506784",
             "minorgridcolor": "#506784",
             "startlinecolor": "#A2B1C6"
            },
            "baxis": {
             "endlinecolor": "#A2B1C6",
             "gridcolor": "#506784",
             "linecolor": "#506784",
             "minorgridcolor": "#506784",
             "startlinecolor": "#A2B1C6"
            },
            "type": "carpet"
           }
          ],
          "choropleth": [
           {
            "colorbar": {
             "outlinewidth": 0,
             "ticks": ""
            },
            "type": "choropleth"
           }
          ],
          "contour": [
           {
            "colorbar": {
             "outlinewidth": 0,
             "ticks": ""
            },
            "colorscale": [
             [
              0.0,
              "#0d0887"
             ],
             [
              0.1111111111111111,
              "#46039f"
             ],
             [
              0.2222222222222222,
              "#7201a8"
             ],
             [
              0.3333333333333333,
              "#9c179e"
             ],
             [
              0.4444444444444444,
              "#bd3786"
             ],
             [
              0.5555555555555556,
              "#d8576b"
             ],
             [
              0.6666666666666666,
              "#ed7953"
             ],
             [
              0.7777777777777778,
              "#fb9f3a"
             ],
             [
              0.8888888888888888,
              "#fdca26"
             ],
             [
              1.0,
              "#f0f921"
             ]
            ],
            "type": "contour"
           }
          ],
          "contourcarpet": [
           {
            "colorbar": {
             "outlinewidth": 0,
             "ticks": ""
            },
            "type": "contourcarpet"
           }
          ],
          "heatmap": [
           {
            "colorbar": {
             "outlinewidth": 0,
             "ticks": ""
            },
            "colorscale": [
             [
              0.0,
              "#0d0887"
             ],
             [
              0.1111111111111111,
              "#46039f"
             ],
             [
              0.2222222222222222,
              "#7201a8"
             ],
             [
              0.3333333333333333,
              "#9c179e"
             ],
             [
              0.4444444444444444,
              "#bd3786"
             ],
             [
              0.5555555555555556,
              "#d8576b"
             ],
             [
              0.6666666666666666,
              "#ed7953"
             ],
             [
              0.7777777777777778,
              "#fb9f3a"
             ],
             [
              0.8888888888888888,
              "#fdca26"
             ],
             [
              1.0,
              "#f0f921"
             ]
            ],
            "type": "heatmap"
           }
          ],
          "heatmapgl": [
           {
            "colorbar": {
             "outlinewidth": 0,
             "ticks": ""
            },
            "colorscale": [
             [
              0.0,
              "#0d0887"
             ],
             [
              0.1111111111111111,
              "#46039f"
             ],
             [
              0.2222222222222222,
              "#7201a8"
             ],
             [
              0.3333333333333333,
              "#9c179e"
             ],
             [
              0.4444444444444444,
              "#bd3786"
             ],
             [
              0.5555555555555556,
              "#d8576b"
             ],
             [
              0.6666666666666666,
              "#ed7953"
             ],
             [
              0.7777777777777778,
              "#fb9f3a"
             ],
             [
              0.8888888888888888,
              "#fdca26"
             ],
             [
              1.0,
              "#f0f921"
             ]
            ],
            "type": "heatmapgl"
           }
          ],
          "histogram": [
           {
            "marker": {
             "pattern": {
              "fillmode": "overlay",
              "size": 10,
              "solidity": 0.2
             }
            },
            "type": "histogram"
           }
          ],
          "histogram2d": [
           {
            "colorbar": {
             "outlinewidth": 0,
             "ticks": ""
            },
            "colorscale": [
             [
              0.0,
              "#0d0887"
             ],
             [
              0.1111111111111111,
              "#46039f"
             ],
             [
              0.2222222222222222,
              "#7201a8"
             ],
             [
              0.3333333333333333,
              "#9c179e"
             ],
             [
              0.4444444444444444,
              "#bd3786"
             ],
             [
              0.5555555555555556,
              "#d8576b"
             ],
             [
              0.6666666666666666,
              "#ed7953"
             ],
             [
              0.7777777777777778,
              "#fb9f3a"
             ],
             [
              0.8888888888888888,
              "#fdca26"
             ],
             [
              1.0,
              "#f0f921"
             ]
            ],
            "type": "histogram2d"
           }
          ],
          "histogram2dcontour": [
           {
            "colorbar": {
             "outlinewidth": 0,
             "ticks": ""
            },
            "colorscale": [
             [
              0.0,
              "#0d0887"
             ],
             [
              0.1111111111111111,
              "#46039f"
             ],
             [
              0.2222222222222222,
              "#7201a8"
             ],
             [
              0.3333333333333333,
              "#9c179e"
             ],
             [
              0.4444444444444444,
              "#bd3786"
             ],
             [
              0.5555555555555556,
              "#d8576b"
             ],
             [
              0.6666666666666666,
              "#ed7953"
             ],
             [
              0.7777777777777778,
              "#fb9f3a"
             ],
             [
              0.8888888888888888,
              "#fdca26"
             ],
             [
              1.0,
              "#f0f921"
             ]
            ],
            "type": "histogram2dcontour"
           }
          ],
          "mesh3d": [
           {
            "colorbar": {
             "outlinewidth": 0,
             "ticks": ""
            },
            "type": "mesh3d"
           }
          ],
          "parcoords": [
           {
            "line": {
             "colorbar": {
              "outlinewidth": 0,
              "ticks": ""
             }
            },
            "type": "parcoords"
           }
          ],
          "pie": [
           {
            "automargin": true,
            "type": "pie"
           }
          ],
          "scatter": [
           {
            "marker": {
             "line": {
              "color": "#283442"
             }
            },
            "type": "scatter"
           }
          ],
          "scatter3d": [
           {
            "line": {
             "colorbar": {
              "outlinewidth": 0,
              "ticks": ""
             }
            },
            "marker": {
             "colorbar": {
              "outlinewidth": 0,
              "ticks": ""
             }
            },
            "type": "scatter3d"
           }
          ],
          "scattercarpet": [
           {
            "marker": {
             "colorbar": {
              "outlinewidth": 0,
              "ticks": ""
             }
            },
            "type": "scattercarpet"
           }
          ],
          "scattergeo": [
           {
            "marker": {
             "colorbar": {
              "outlinewidth": 0,
              "ticks": ""
             }
            },
            "type": "scattergeo"
           }
          ],
          "scattergl": [
           {
            "marker": {
             "line": {
              "color": "#283442"
             }
            },
            "type": "scattergl"
           }
          ],
          "scattermapbox": [
           {
            "marker": {
             "colorbar": {
              "outlinewidth": 0,
              "ticks": ""
             }
            },
            "type": "scattermapbox"
           }
          ],
          "scatterpolar": [
           {
            "marker": {
             "colorbar": {
              "outlinewidth": 0,
              "ticks": ""
             }
            },
            "type": "scatterpolar"
           }
          ],
          "scatterpolargl": [
           {
            "marker": {
             "colorbar": {
              "outlinewidth": 0,
              "ticks": ""
             }
            },
            "type": "scatterpolargl"
           }
          ],
          "scatterternary": [
           {
            "marker": {
             "colorbar": {
              "outlinewidth": 0,
              "ticks": ""
             }
            },
            "type": "scatterternary"
           }
          ],
          "surface": [
           {
            "colorbar": {
             "outlinewidth": 0,
             "ticks": ""
            },
            "colorscale": [
             [
              0.0,
              "#0d0887"
             ],
             [
              0.1111111111111111,
              "#46039f"
             ],
             [
              0.2222222222222222,
              "#7201a8"
             ],
             [
              0.3333333333333333,
              "#9c179e"
             ],
             [
              0.4444444444444444,
              "#bd3786"
             ],
             [
              0.5555555555555556,
              "#d8576b"
             ],
             [
              0.6666666666666666,
              "#ed7953"
             ],
             [
              0.7777777777777778,
              "#fb9f3a"
             ],
             [
              0.8888888888888888,
              "#fdca26"
             ],
             [
              1.0,
              "#f0f921"
             ]
            ],
            "type": "surface"
           }
          ],
          "table": [
           {
            "cells": {
             "fill": {
              "color": "#506784"
             },
             "line": {
              "color": "rgb(17,17,17)"
             }
            },
            "header": {
             "fill": {
              "color": "#2a3f5f"
             },
             "line": {
              "color": "rgb(17,17,17)"
             }
            },
            "type": "table"
           }
          ]
         },
         "layout": {
          "annotationdefaults": {
           "arrowcolor": "#f2f5fa",
           "arrowhead": 0,
           "arrowwidth": 1
          },
          "autotypenumbers": "strict",
          "coloraxis": {
           "colorbar": {
            "outlinewidth": 0,
            "ticks": ""
           }
          },
          "colorscale": {
           "diverging": [
            [
             0,
             "#8e0152"
            ],
            [
             0.1,
             "#c51b7d"
            ],
            [
             0.2,
             "#de77ae"
            ],
            [
             0.3,
             "#f1b6da"
            ],
            [
             0.4,
             "#fde0ef"
            ],
            [
             0.5,
             "#f7f7f7"
            ],
            [
             0.6,
             "#e6f5d0"
            ],
            [
             0.7,
             "#b8e186"
            ],
            [
             0.8,
             "#7fbc41"
            ],
            [
             0.9,
             "#4d9221"
            ],
            [
             1,
             "#276419"
            ]
           ],
           "sequential": [
            [
             0.0,
             "#0d0887"
            ],
            [
             0.1111111111111111,
             "#46039f"
            ],
            [
             0.2222222222222222,
             "#7201a8"
            ],
            [
             0.3333333333333333,
             "#9c179e"
            ],
            [
             0.4444444444444444,
             "#bd3786"
            ],
            [
             0.5555555555555556,
             "#d8576b"
            ],
            [
             0.6666666666666666,
             "#ed7953"
            ],
            [
             0.7777777777777778,
             "#fb9f3a"
            ],
            [
             0.8888888888888888,
             "#fdca26"
            ],
            [
             1.0,
             "#f0f921"
            ]
           ],
           "sequentialminus": [
            [
             0.0,
             "#0d0887"
            ],
            [
             0.1111111111111111,
             "#46039f"
            ],
            [
             0.2222222222222222,
             "#7201a8"
            ],
            [
             0.3333333333333333,
             "#9c179e"
            ],
            [
             0.4444444444444444,
             "#bd3786"
            ],
            [
             0.5555555555555556,
             "#d8576b"
            ],
            [
             0.6666666666666666,
             "#ed7953"
            ],
            [
             0.7777777777777778,
             "#fb9f3a"
            ],
            [
             0.8888888888888888,
             "#fdca26"
            ],
            [
             1.0,
             "#f0f921"
            ]
           ]
          },
          "colorway": [
           "#636efa",
           "#EF553B",
           "#00cc96",
           "#ab63fa",
           "#FFA15A",
           "#19d3f3",
           "#FF6692",
           "#B6E880",
           "#FF97FF",
           "#FECB52"
          ],
          "font": {
           "color": "#f2f5fa"
          },
          "geo": {
           "bgcolor": "rgb(17,17,17)",
           "lakecolor": "rgb(17,17,17)",
           "landcolor": "rgb(17,17,17)",
           "showlakes": true,
           "showland": true,
           "subunitcolor": "#506784"
          },
          "hoverlabel": {
           "align": "left"
          },
          "hovermode": "closest",
          "mapbox": {
           "style": "dark"
          },
          "paper_bgcolor": "rgb(17,17,17)",
          "plot_bgcolor": "rgb(17,17,17)",
          "polar": {
           "angularaxis": {
            "gridcolor": "#506784",
            "linecolor": "#506784",
            "ticks": ""
           },
           "bgcolor": "rgb(17,17,17)",
           "radialaxis": {
            "gridcolor": "#506784",
            "linecolor": "#506784",
            "ticks": ""
           }
          },
          "scene": {
           "xaxis": {
            "backgroundcolor": "rgb(17,17,17)",
            "gridcolor": "#506784",
            "gridwidth": 2,
            "linecolor": "#506784",
            "showbackground": true,
            "ticks": "",
            "zerolinecolor": "#C8D4E3"
           },
           "yaxis": {
            "backgroundcolor": "rgb(17,17,17)",
            "gridcolor": "#506784",
            "gridwidth": 2,
            "linecolor": "#506784",
            "showbackground": true,
            "ticks": "",
            "zerolinecolor": "#C8D4E3"
           },
           "zaxis": {
            "backgroundcolor": "rgb(17,17,17)",
            "gridcolor": "#506784",
            "gridwidth": 2,
            "linecolor": "#506784",
            "showbackground": true,
            "ticks": "",
            "zerolinecolor": "#C8D4E3"
           }
          },
          "shapedefaults": {
           "line": {
            "color": "#f2f5fa"
           }
          },
          "sliderdefaults": {
           "bgcolor": "#C8D4E3",
           "bordercolor": "rgb(17,17,17)",
           "borderwidth": 1,
           "tickwidth": 0
          },
          "ternary": {
           "aaxis": {
            "gridcolor": "#506784",
            "linecolor": "#506784",
            "ticks": ""
           },
           "baxis": {
            "gridcolor": "#506784",
            "linecolor": "#506784",
            "ticks": ""
           },
           "bgcolor": "rgb(17,17,17)",
           "caxis": {
            "gridcolor": "#506784",
            "linecolor": "#506784",
            "ticks": ""
           }
          },
          "title": {
           "x": 0.05
          },
          "updatemenudefaults": {
           "bgcolor": "#506784",
           "borderwidth": 0
          },
          "xaxis": {
           "automargin": true,
           "gridcolor": "#283442",
           "linecolor": "#506784",
           "ticks": "",
           "title": {
            "standoff": 15
           },
           "zerolinecolor": "#283442",
           "zerolinewidth": 2
          },
          "yaxis": {
           "automargin": true,
           "gridcolor": "#283442",
           "linecolor": "#506784",
           "ticks": "",
           "title": {
            "standoff": 15
           },
           "zerolinecolor": "#283442",
           "zerolinewidth": 2
          }
         }
        },
        "xaxis": {
         "anchor": "y",
         "domain": [
          0.0,
          1.0
         ],
         "title": {
          "text": "year"
         }
        },
        "yaxis": {
         "anchor": "x",
         "domain": [
          0.0,
          1.0
         ],
         "title": {
          "text": "pop"
         }
        },
        "coloraxis": {
         "colorbar": {
          "title": {
           "text": "lifeExp"
          }
         },
         "colorscale": [
          [
           0.0,
           "#0d0887"
          ],
          [
           0.1111111111111111,
           "#46039f"
          ],
          [
           0.2222222222222222,
           "#7201a8"
          ],
          [
           0.3333333333333333,
           "#9c179e"
          ],
          [
           0.4444444444444444,
           "#bd3786"
          ],
          [
           0.5555555555555556,
           "#d8576b"
          ],
          [
           0.6666666666666666,
           "#ed7953"
          ],
          [
           0.7777777777777778,
           "#fb9f3a"
          ],
          [
           0.8888888888888888,
           "#fdca26"
          ],
          [
           1.0,
           "#f0f921"
          ]
         ]
        },
        "legend": {
         "tracegroupgap": 0
        },
        "margin": {
         "t": 60
        },
        "barmode": "relative",
        "height": 600
       },
       "config": {
        "plotlyServerURL": "https://plot.ly"
       }
      },
      "text/html": "<div>                            <div id=\"d6e68a75-88de-4f0b-8724-b320cb77b4da\" class=\"plotly-graph-div\" style=\"height:600px; width:100%;\"></div>            <script type=\"text/javascript\">                require([\"plotly\"], function(Plotly) {                    window.PLOTLYENV=window.PLOTLYENV || {};                                    if (document.getElementById(\"d6e68a75-88de-4f0b-8724-b320cb77b4da\")) {                    Plotly.newPlot(                        \"d6e68a75-88de-4f0b-8724-b320cb77b4da\",                        [{\"alignmentgroup\":\"True\",\"customdata\":[[\"Asia\",1030.592226],[\"Asia\",1487.593537],[\"Asia\",1536.344387],[\"Asia\",2029.228142],[\"Asia\",3030.87665],[\"Asia\",4657.22102],[\"Asia\",5622.942464],[\"Asia\",8533.088805],[\"Asia\",12104.27872],[\"Asia\",15993.52796],[\"Asia\",19233.98818],[\"Asia\",23348.139730000006]],\"hovertemplate\":\"year=%{x}<br>pop=%{y}<br>continent=%{customdata[0]}<br>gdpPercap=%{customdata[1]}<br>lifeExp=%{marker.color}<extra></extra>\",\"legendgroup\":\"\",\"marker\":{\"color\":[47.453,52.681,55.292,57.716,62.612,64.766,67.123,69.81,72.244,74.64699999999998,77.045,78.623],\"coloraxis\":\"coloraxis\",\"pattern\":{\"shape\":\"\"}},\"name\":\"\",\"offsetgroup\":\"\",\"orientation\":\"v\",\"showlegend\":false,\"textposition\":\"auto\",\"x\":[1952,1957,1962,1967,1972,1977,1982,1987,1992,1997,2002,2007],\"xaxis\":\"x\",\"y\":[20947571,22611552,26420307,30131000,33505000,36436000,39326000,41622000,43805450,46173816,47969150,49044790],\"yaxis\":\"y\",\"type\":\"bar\"}],                        {\"template\":{\"data\":{\"bar\":[{\"error_x\":{\"color\":\"#f2f5fa\"},\"error_y\":{\"color\":\"#f2f5fa\"},\"marker\":{\"line\":{\"color\":\"rgb(17,17,17)\",\"width\":0.5},\"pattern\":{\"fillmode\":\"overlay\",\"size\":10,\"solidity\":0.2}},\"type\":\"bar\"}],\"barpolar\":[{\"marker\":{\"line\":{\"color\":\"rgb(17,17,17)\",\"width\":0.5},\"pattern\":{\"fillmode\":\"overlay\",\"size\":10,\"solidity\":0.2}},\"type\":\"barpolar\"}],\"carpet\":[{\"aaxis\":{\"endlinecolor\":\"#A2B1C6\",\"gridcolor\":\"#506784\",\"linecolor\":\"#506784\",\"minorgridcolor\":\"#506784\",\"startlinecolor\":\"#A2B1C6\"},\"baxis\":{\"endlinecolor\":\"#A2B1C6\",\"gridcolor\":\"#506784\",\"linecolor\":\"#506784\",\"minorgridcolor\":\"#506784\",\"startlinecolor\":\"#A2B1C6\"},\"type\":\"carpet\"}],\"choropleth\":[{\"colorbar\":{\"outlinewidth\":0,\"ticks\":\"\"},\"type\":\"choropleth\"}],\"contour\":[{\"colorbar\":{\"outlinewidth\":0,\"ticks\":\"\"},\"colorscale\":[[0.0,\"#0d0887\"],[0.1111111111111111,\"#46039f\"],[0.2222222222222222,\"#7201a8\"],[0.3333333333333333,\"#9c179e\"],[0.4444444444444444,\"#bd3786\"],[0.5555555555555556,\"#d8576b\"],[0.6666666666666666,\"#ed7953\"],[0.7777777777777778,\"#fb9f3a\"],[0.8888888888888888,\"#fdca26\"],[1.0,\"#f0f921\"]],\"type\":\"contour\"}],\"contourcarpet\":[{\"colorbar\":{\"outlinewidth\":0,\"ticks\":\"\"},\"type\":\"contourcarpet\"}],\"heatmap\":[{\"colorbar\":{\"outlinewidth\":0,\"ticks\":\"\"},\"colorscale\":[[0.0,\"#0d0887\"],[0.1111111111111111,\"#46039f\"],[0.2222222222222222,\"#7201a8\"],[0.3333333333333333,\"#9c179e\"],[0.4444444444444444,\"#bd3786\"],[0.5555555555555556,\"#d8576b\"],[0.6666666666666666,\"#ed7953\"],[0.7777777777777778,\"#fb9f3a\"],[0.8888888888888888,\"#fdca26\"],[1.0,\"#f0f921\"]],\"type\":\"heatmap\"}],\"heatmapgl\":[{\"colorbar\":{\"outlinewidth\":0,\"ticks\":\"\"},\"colorscale\":[[0.0,\"#0d0887\"],[0.1111111111111111,\"#46039f\"],[0.2222222222222222,\"#7201a8\"],[0.3333333333333333,\"#9c179e\"],[0.4444444444444444,\"#bd3786\"],[0.5555555555555556,\"#d8576b\"],[0.6666666666666666,\"#ed7953\"],[0.7777777777777778,\"#fb9f3a\"],[0.8888888888888888,\"#fdca26\"],[1.0,\"#f0f921\"]],\"type\":\"heatmapgl\"}],\"histogram\":[{\"marker\":{\"pattern\":{\"fillmode\":\"overlay\",\"size\":10,\"solidity\":0.2}},\"type\":\"histogram\"}],\"histogram2d\":[{\"colorbar\":{\"outlinewidth\":0,\"ticks\":\"\"},\"colorscale\":[[0.0,\"#0d0887\"],[0.1111111111111111,\"#46039f\"],[0.2222222222222222,\"#7201a8\"],[0.3333333333333333,\"#9c179e\"],[0.4444444444444444,\"#bd3786\"],[0.5555555555555556,\"#d8576b\"],[0.6666666666666666,\"#ed7953\"],[0.7777777777777778,\"#fb9f3a\"],[0.8888888888888888,\"#fdca26\"],[1.0,\"#f0f921\"]],\"type\":\"histogram2d\"}],\"histogram2dcontour\":[{\"colorbar\":{\"outlinewidth\":0,\"ticks\":\"\"},\"colorscale\":[[0.0,\"#0d0887\"],[0.1111111111111111,\"#46039f\"],[0.2222222222222222,\"#7201a8\"],[0.3333333333333333,\"#9c179e\"],[0.4444444444444444,\"#bd3786\"],[0.5555555555555556,\"#d8576b\"],[0.6666666666666666,\"#ed7953\"],[0.7777777777777778,\"#fb9f3a\"],[0.8888888888888888,\"#fdca26\"],[1.0,\"#f0f921\"]],\"type\":\"histogram2dcontour\"}],\"mesh3d\":[{\"colorbar\":{\"outlinewidth\":0,\"ticks\":\"\"},\"type\":\"mesh3d\"}],\"parcoords\":[{\"line\":{\"colorbar\":{\"outlinewidth\":0,\"ticks\":\"\"}},\"type\":\"parcoords\"}],\"pie\":[{\"automargin\":true,\"type\":\"pie\"}],\"scatter\":[{\"marker\":{\"line\":{\"color\":\"#283442\"}},\"type\":\"scatter\"}],\"scatter3d\":[{\"line\":{\"colorbar\":{\"outlinewidth\":0,\"ticks\":\"\"}},\"marker\":{\"colorbar\":{\"outlinewidth\":0,\"ticks\":\"\"}},\"type\":\"scatter3d\"}],\"scattercarpet\":[{\"marker\":{\"colorbar\":{\"outlinewidth\":0,\"ticks\":\"\"}},\"type\":\"scattercarpet\"}],\"scattergeo\":[{\"marker\":{\"colorbar\":{\"outlinewidth\":0,\"ticks\":\"\"}},\"type\":\"scattergeo\"}],\"scattergl\":[{\"marker\":{\"line\":{\"color\":\"#283442\"}},\"type\":\"scattergl\"}],\"scattermapbox\":[{\"marker\":{\"colorbar\":{\"outlinewidth\":0,\"ticks\":\"\"}},\"type\":\"scattermapbox\"}],\"scatterpolar\":[{\"marker\":{\"colorbar\":{\"outlinewidth\":0,\"ticks\":\"\"}},\"type\":\"scatterpolar\"}],\"scatterpolargl\":[{\"marker\":{\"colorbar\":{\"outlinewidth\":0,\"ticks\":\"\"}},\"type\":\"scatterpolargl\"}],\"scatterternary\":[{\"marker\":{\"colorbar\":{\"outlinewidth\":0,\"ticks\":\"\"}},\"type\":\"scatterternary\"}],\"surface\":[{\"colorbar\":{\"outlinewidth\":0,\"ticks\":\"\"},\"colorscale\":[[0.0,\"#0d0887\"],[0.1111111111111111,\"#46039f\"],[0.2222222222222222,\"#7201a8\"],[0.3333333333333333,\"#9c179e\"],[0.4444444444444444,\"#bd3786\"],[0.5555555555555556,\"#d8576b\"],[0.6666666666666666,\"#ed7953\"],[0.7777777777777778,\"#fb9f3a\"],[0.8888888888888888,\"#fdca26\"],[1.0,\"#f0f921\"]],\"type\":\"surface\"}],\"table\":[{\"cells\":{\"fill\":{\"color\":\"#506784\"},\"line\":{\"color\":\"rgb(17,17,17)\"}},\"header\":{\"fill\":{\"color\":\"#2a3f5f\"},\"line\":{\"color\":\"rgb(17,17,17)\"}},\"type\":\"table\"}]},\"layout\":{\"annotationdefaults\":{\"arrowcolor\":\"#f2f5fa\",\"arrowhead\":0,\"arrowwidth\":1},\"autotypenumbers\":\"strict\",\"coloraxis\":{\"colorbar\":{\"outlinewidth\":0,\"ticks\":\"\"}},\"colorscale\":{\"diverging\":[[0,\"#8e0152\"],[0.1,\"#c51b7d\"],[0.2,\"#de77ae\"],[0.3,\"#f1b6da\"],[0.4,\"#fde0ef\"],[0.5,\"#f7f7f7\"],[0.6,\"#e6f5d0\"],[0.7,\"#b8e186\"],[0.8,\"#7fbc41\"],[0.9,\"#4d9221\"],[1,\"#276419\"]],\"sequential\":[[0.0,\"#0d0887\"],[0.1111111111111111,\"#46039f\"],[0.2222222222222222,\"#7201a8\"],[0.3333333333333333,\"#9c179e\"],[0.4444444444444444,\"#bd3786\"],[0.5555555555555556,\"#d8576b\"],[0.6666666666666666,\"#ed7953\"],[0.7777777777777778,\"#fb9f3a\"],[0.8888888888888888,\"#fdca26\"],[1.0,\"#f0f921\"]],\"sequentialminus\":[[0.0,\"#0d0887\"],[0.1111111111111111,\"#46039f\"],[0.2222222222222222,\"#7201a8\"],[0.3333333333333333,\"#9c179e\"],[0.4444444444444444,\"#bd3786\"],[0.5555555555555556,\"#d8576b\"],[0.6666666666666666,\"#ed7953\"],[0.7777777777777778,\"#fb9f3a\"],[0.8888888888888888,\"#fdca26\"],[1.0,\"#f0f921\"]]},\"colorway\":[\"#636efa\",\"#EF553B\",\"#00cc96\",\"#ab63fa\",\"#FFA15A\",\"#19d3f3\",\"#FF6692\",\"#B6E880\",\"#FF97FF\",\"#FECB52\"],\"font\":{\"color\":\"#f2f5fa\"},\"geo\":{\"bgcolor\":\"rgb(17,17,17)\",\"lakecolor\":\"rgb(17,17,17)\",\"landcolor\":\"rgb(17,17,17)\",\"showlakes\":true,\"showland\":true,\"subunitcolor\":\"#506784\"},\"hoverlabel\":{\"align\":\"left\"},\"hovermode\":\"closest\",\"mapbox\":{\"style\":\"dark\"},\"paper_bgcolor\":\"rgb(17,17,17)\",\"plot_bgcolor\":\"rgb(17,17,17)\",\"polar\":{\"angularaxis\":{\"gridcolor\":\"#506784\",\"linecolor\":\"#506784\",\"ticks\":\"\"},\"bgcolor\":\"rgb(17,17,17)\",\"radialaxis\":{\"gridcolor\":\"#506784\",\"linecolor\":\"#506784\",\"ticks\":\"\"}},\"scene\":{\"xaxis\":{\"backgroundcolor\":\"rgb(17,17,17)\",\"gridcolor\":\"#506784\",\"gridwidth\":2,\"linecolor\":\"#506784\",\"showbackground\":true,\"ticks\":\"\",\"zerolinecolor\":\"#C8D4E3\"},\"yaxis\":{\"backgroundcolor\":\"rgb(17,17,17)\",\"gridcolor\":\"#506784\",\"gridwidth\":2,\"linecolor\":\"#506784\",\"showbackground\":true,\"ticks\":\"\",\"zerolinecolor\":\"#C8D4E3\"},\"zaxis\":{\"backgroundcolor\":\"rgb(17,17,17)\",\"gridcolor\":\"#506784\",\"gridwidth\":2,\"linecolor\":\"#506784\",\"showbackground\":true,\"ticks\":\"\",\"zerolinecolor\":\"#C8D4E3\"}},\"shapedefaults\":{\"line\":{\"color\":\"#f2f5fa\"}},\"sliderdefaults\":{\"bgcolor\":\"#C8D4E3\",\"bordercolor\":\"rgb(17,17,17)\",\"borderwidth\":1,\"tickwidth\":0},\"ternary\":{\"aaxis\":{\"gridcolor\":\"#506784\",\"linecolor\":\"#506784\",\"ticks\":\"\"},\"baxis\":{\"gridcolor\":\"#506784\",\"linecolor\":\"#506784\",\"ticks\":\"\"},\"bgcolor\":\"rgb(17,17,17)\",\"caxis\":{\"gridcolor\":\"#506784\",\"linecolor\":\"#506784\",\"ticks\":\"\"}},\"title\":{\"x\":0.05},\"updatemenudefaults\":{\"bgcolor\":\"#506784\",\"borderwidth\":0},\"xaxis\":{\"automargin\":true,\"gridcolor\":\"#283442\",\"linecolor\":\"#506784\",\"ticks\":\"\",\"title\":{\"standoff\":15},\"zerolinecolor\":\"#283442\",\"zerolinewidth\":2},\"yaxis\":{\"automargin\":true,\"gridcolor\":\"#283442\",\"linecolor\":\"#506784\",\"ticks\":\"\",\"title\":{\"standoff\":15},\"zerolinecolor\":\"#283442\",\"zerolinewidth\":2}}},\"xaxis\":{\"anchor\":\"y\",\"domain\":[0.0,1.0],\"title\":{\"text\":\"year\"}},\"yaxis\":{\"anchor\":\"x\",\"domain\":[0.0,1.0],\"title\":{\"text\":\"pop\"}},\"coloraxis\":{\"colorbar\":{\"title\":{\"text\":\"lifeExp\"}},\"colorscale\":[[0.0,\"#0d0887\"],[0.1111111111111111,\"#46039f\"],[0.2222222222222222,\"#7201a8\"],[0.3333333333333333,\"#9c179e\"],[0.4444444444444444,\"#bd3786\"],[0.5555555555555556,\"#d8576b\"],[0.6666666666666666,\"#ed7953\"],[0.7777777777777778,\"#fb9f3a\"],[0.8888888888888888,\"#fdca26\"],[1.0,\"#f0f921\"]]},\"legend\":{\"tracegroupgap\":0},\"margin\":{\"t\":60},\"barmode\":\"relative\",\"height\":600},                        {\"responsive\": true}                    ).then(function(){\n                            \nvar gd = document.getElementById('d6e68a75-88de-4f0b-8724-b320cb77b4da');\nvar x = new MutationObserver(function (mutations, observer) {{\n        var display = window.getComputedStyle(gd).display;\n        if (!display || display === 'none') {{\n            console.log([gd, 'removed!']);\n            Plotly.purge(gd);\n            observer.disconnect();\n        }}\n}});\n\n// Listen for the removal of the full notebook cells\nvar notebookContainer = gd.closest('#notebook-container');\nif (notebookContainer) {{\n    x.observe(notebookContainer, {childList: true});\n}}\n\n// Listen for the clearing of the current output cell\nvar outputEl = gd.closest('.output');\nif (outputEl) {{\n    x.observe(outputEl, {childList: true});\n}}\n\n                        })                };                });            </script>        </div>"
     },
     "metadata": {},
     "output_type": "display_data"
    }
   ],
   "source": [
    "df_korea = px.data.gapminder().query(\"country == 'Korea, Rep.'\")\n",
    "fig = px.bar(df_korea, x='year', y='pop', hover_data=['continent','gdpPercap'], color='lifeExp', labels={'Population/Life Exp if Italy'}, height=600)\n",
    "fig.show()"
   ],
   "metadata": {
    "collapsed": false,
    "pycharm": {
     "name": "#%%\n"
    }
   }
  },
  {
   "cell_type": "code",
   "execution_count": 13,
   "outputs": [
    {
     "data": {
      "text/plain": "     Pregnancies  Glucose  BloodPressure  SkinThickness  Insulin   BMI  \\\n0              6      148             72             35        0  33.6   \n1              1       85             66             29        0  26.6   \n2              8      183             64              0        0  23.3   \n3              1       89             66             23       94  28.1   \n4              0      137             40             35      168  43.1   \n..           ...      ...            ...            ...      ...   ...   \n763           10      101             76             48      180  32.9   \n764            2      122             70             27        0  36.8   \n765            5      121             72             23      112  26.2   \n766            1      126             60              0        0  30.1   \n767            1       93             70             31        0  30.4   \n\n     DiabetesPedigreeFunction  Age  Outcome  \n0                       0.627   50        1  \n1                       0.351   31        0  \n2                       0.672   32        1  \n3                       0.167   21        0  \n4                       2.288   33        1  \n..                        ...  ...      ...  \n763                     0.171   63        0  \n764                     0.340   27        0  \n765                     0.245   30        0  \n766                     0.349   47        1  \n767                     0.315   23        0  \n\n[768 rows x 9 columns]",
      "text/html": "<div>\n<style scoped>\n    .dataframe tbody tr th:only-of-type {\n        vertical-align: middle;\n    }\n\n    .dataframe tbody tr th {\n        vertical-align: top;\n    }\n\n    .dataframe thead th {\n        text-align: right;\n    }\n</style>\n<table border=\"1\" class=\"dataframe\">\n  <thead>\n    <tr style=\"text-align: right;\">\n      <th></th>\n      <th>Pregnancies</th>\n      <th>Glucose</th>\n      <th>BloodPressure</th>\n      <th>SkinThickness</th>\n      <th>Insulin</th>\n      <th>BMI</th>\n      <th>DiabetesPedigreeFunction</th>\n      <th>Age</th>\n      <th>Outcome</th>\n    </tr>\n  </thead>\n  <tbody>\n    <tr>\n      <th>0</th>\n      <td>6</td>\n      <td>148</td>\n      <td>72</td>\n      <td>35</td>\n      <td>0</td>\n      <td>33.6</td>\n      <td>0.627</td>\n      <td>50</td>\n      <td>1</td>\n    </tr>\n    <tr>\n      <th>1</th>\n      <td>1</td>\n      <td>85</td>\n      <td>66</td>\n      <td>29</td>\n      <td>0</td>\n      <td>26.6</td>\n      <td>0.351</td>\n      <td>31</td>\n      <td>0</td>\n    </tr>\n    <tr>\n      <th>2</th>\n      <td>8</td>\n      <td>183</td>\n      <td>64</td>\n      <td>0</td>\n      <td>0</td>\n      <td>23.3</td>\n      <td>0.672</td>\n      <td>32</td>\n      <td>1</td>\n    </tr>\n    <tr>\n      <th>3</th>\n      <td>1</td>\n      <td>89</td>\n      <td>66</td>\n      <td>23</td>\n      <td>94</td>\n      <td>28.1</td>\n      <td>0.167</td>\n      <td>21</td>\n      <td>0</td>\n    </tr>\n    <tr>\n      <th>4</th>\n      <td>0</td>\n      <td>137</td>\n      <td>40</td>\n      <td>35</td>\n      <td>168</td>\n      <td>43.1</td>\n      <td>2.288</td>\n      <td>33</td>\n      <td>1</td>\n    </tr>\n    <tr>\n      <th>...</th>\n      <td>...</td>\n      <td>...</td>\n      <td>...</td>\n      <td>...</td>\n      <td>...</td>\n      <td>...</td>\n      <td>...</td>\n      <td>...</td>\n      <td>...</td>\n    </tr>\n    <tr>\n      <th>763</th>\n      <td>10</td>\n      <td>101</td>\n      <td>76</td>\n      <td>48</td>\n      <td>180</td>\n      <td>32.9</td>\n      <td>0.171</td>\n      <td>63</td>\n      <td>0</td>\n    </tr>\n    <tr>\n      <th>764</th>\n      <td>2</td>\n      <td>122</td>\n      <td>70</td>\n      <td>27</td>\n      <td>0</td>\n      <td>36.8</td>\n      <td>0.340</td>\n      <td>27</td>\n      <td>0</td>\n    </tr>\n    <tr>\n      <th>765</th>\n      <td>5</td>\n      <td>121</td>\n      <td>72</td>\n      <td>23</td>\n      <td>112</td>\n      <td>26.2</td>\n      <td>0.245</td>\n      <td>30</td>\n      <td>0</td>\n    </tr>\n    <tr>\n      <th>766</th>\n      <td>1</td>\n      <td>126</td>\n      <td>60</td>\n      <td>0</td>\n      <td>0</td>\n      <td>30.1</td>\n      <td>0.349</td>\n      <td>47</td>\n      <td>1</td>\n    </tr>\n    <tr>\n      <th>767</th>\n      <td>1</td>\n      <td>93</td>\n      <td>70</td>\n      <td>31</td>\n      <td>0</td>\n      <td>30.4</td>\n      <td>0.315</td>\n      <td>23</td>\n      <td>0</td>\n    </tr>\n  </tbody>\n</table>\n<p>768 rows × 9 columns</p>\n</div>"
     },
     "execution_count": 13,
     "metadata": {},
     "output_type": "execute_result"
    }
   ],
   "source": [
    "df = pd.read_csv('https://raw.githubusercontent.com/plotly/datasets/master/diabetes.csv')\n",
    "df"
   ],
   "metadata": {
    "collapsed": false,
    "pycharm": {
     "name": "#%%\n"
    }
   }
  },
  {
   "cell_type": "code",
   "execution_count": 14,
   "outputs": [
    {
     "data": {
      "text/plain": "33.240885416666664"
     },
     "execution_count": 14,
     "metadata": {},
     "output_type": "execute_result"
    }
   ],
   "source": [
    "df['Age'].mean()"
   ],
   "metadata": {
    "collapsed": false,
    "pycharm": {
     "name": "#%%\n"
    }
   }
  },
  {
   "cell_type": "code",
   "execution_count": 15,
   "outputs": [
    {
     "data": {
      "application/vnd.plotly.v1+json": {
       "data": [
        {
         "hovertemplate": "Age=%{x}<br>BMI=%{y}<br>Outcome=%{marker.color}<extra></extra>",
         "legendgroup": "",
         "marker": {
          "color": [
           1,
           0,
           1,
           0,
           1,
           0,
           1,
           0,
           1,
           1,
           0,
           1,
           0,
           1,
           1,
           1,
           1,
           1,
           0,
           1,
           0,
           0,
           1,
           1,
           1,
           1,
           1,
           0,
           0,
           0,
           0,
           1,
           0,
           0,
           0,
           0,
           0,
           1,
           1,
           1,
           0,
           0,
           0,
           1,
           0,
           1,
           0,
           0,
           1,
           0,
           0,
           0,
           0,
           1,
           0,
           0,
           1,
           0,
           0,
           0,
           0,
           1,
           0,
           0,
           1,
           0,
           1,
           0,
           0,
           0,
           1,
           0,
           1,
           0,
           0,
           0,
           0,
           0,
           1,
           0,
           0,
           0,
           0,
           0,
           1,
           0,
           0,
           0,
           1,
           0,
           0,
           0,
           0,
           1,
           0,
           0,
           0,
           0,
           0,
           1,
           1,
           0,
           0,
           0,
           0,
           0,
           0,
           0,
           0,
           1,
           1,
           1,
           0,
           0,
           1,
           1,
           1,
           0,
           0,
           0,
           1,
           0,
           0,
           0,
           1,
           1,
           0,
           0,
           1,
           1,
           1,
           1,
           1,
           0,
           0,
           0,
           0,
           0,
           0,
           0,
           0,
           0,
           0,
           1,
           0,
           0,
           0,
           0,
           0,
           0,
           0,
           0,
           1,
           0,
           1,
           1,
           0,
           0,
           0,
           1,
           0,
           0,
           0,
           0,
           1,
           1,
           0,
           0,
           0,
           0,
           1,
           1,
           0,
           0,
           0,
           1,
           0,
           1,
           0,
           1,
           0,
           0,
           0,
           0,
           0,
           1,
           1,
           1,
           1,
           1,
           0,
           0,
           1,
           1,
           0,
           1,
           0,
           1,
           1,
           1,
           0,
           0,
           0,
           0,
           0,
           0,
           1,
           1,
           0,
           1,
           0,
           0,
           0,
           1,
           1,
           1,
           1,
           0,
           1,
           1,
           1,
           1,
           0,
           0,
           0,
           0,
           0,
           1,
           0,
           0,
           1,
           1,
           0,
           0,
           0,
           1,
           1,
           1,
           1,
           0,
           0,
           0,
           1,
           1,
           0,
           1,
           0,
           0,
           0,
           0,
           0,
           0,
           0,
           0,
           1,
           1,
           0,
           0,
           0,
           1,
           0,
           1,
           0,
           0,
           1,
           0,
           1,
           0,
           0,
           1,
           1,
           0,
           0,
           0,
           0,
           0,
           1,
           0,
           0,
           0,
           1,
           0,
           0,
           1,
           1,
           0,
           0,
           1,
           0,
           0,
           0,
           1,
           1,
           1,
           0,
           0,
           1,
           0,
           1,
           0,
           1,
           1,
           0,
           1,
           0,
           0,
           1,
           0,
           1,
           1,
           0,
           0,
           1,
           0,
           1,
           0,
           0,
           1,
           0,
           1,
           0,
           1,
           1,
           1,
           0,
           0,
           1,
           0,
           1,
           0,
           0,
           0,
           1,
           0,
           0,
           0,
           0,
           1,
           1,
           1,
           0,
           0,
           0,
           0,
           0,
           0,
           0,
           0,
           0,
           1,
           0,
           0,
           0,
           0,
           0,
           1,
           1,
           1,
           0,
           1,
           1,
           0,
           0,
           1,
           0,
           0,
           1,
           0,
           0,
           1,
           1,
           0,
           0,
           0,
           0,
           1,
           0,
           0,
           1,
           0,
           0,
           0,
           0,
           0,
           0,
           0,
           1,
           1,
           1,
           0,
           0,
           1,
           0,
           0,
           1,
           0,
           0,
           1,
           0,
           1,
           1,
           0,
           1,
           0,
           1,
           0,
           1,
           0,
           1,
           1,
           0,
           0,
           0,
           0,
           1,
           1,
           0,
           1,
           0,
           1,
           0,
           0,
           0,
           0,
           1,
           1,
           0,
           1,
           0,
           1,
           0,
           0,
           0,
           0,
           0,
           1,
           0,
           0,
           0,
           0,
           1,
           0,
           0,
           1,
           1,
           1,
           0,
           0,
           1,
           0,
           0,
           1,
           0,
           0,
           0,
           1,
           0,
           0,
           1,
           0,
           0,
           0,
           0,
           0,
           0,
           0,
           0,
           0,
           1,
           0,
           0,
           0,
           0,
           0,
           0,
           0,
           1,
           0,
           0,
           0,
           1,
           0,
           0,
           0,
           1,
           1,
           0,
           0,
           0,
           0,
           0,
           0,
           0,
           1,
           0,
           0,
           0,
           0,
           1,
           0,
           0,
           0,
           1,
           0,
           0,
           0,
           1,
           0,
           0,
           0,
           1,
           0,
           0,
           0,
           0,
           1,
           1,
           0,
           0,
           0,
           0,
           0,
           0,
           1,
           0,
           0,
           0,
           0,
           0,
           0,
           0,
           0,
           0,
           0,
           0,
           1,
           0,
           0,
           0,
           1,
           1,
           1,
           1,
           0,
           0,
           1,
           1,
           0,
           0,
           0,
           0,
           0,
           0,
           0,
           0,
           0,
           0,
           0,
           0,
           0,
           1,
           1,
           0,
           0,
           0,
           0,
           0,
           0,
           0,
           1,
           0,
           0,
           0,
           0,
           0,
           0,
           0,
           1,
           0,
           1,
           1,
           0,
           0,
           0,
           1,
           0,
           1,
           0,
           1,
           0,
           1,
           0,
           1,
           0,
           0,
           1,
           0,
           0,
           1,
           0,
           0,
           0,
           0,
           1,
           1,
           0,
           1,
           0,
           0,
           0,
           0,
           1,
           1,
           0,
           1,
           0,
           0,
           0,
           1,
           1,
           0,
           0,
           0,
           0,
           0,
           0,
           0,
           0,
           0,
           0,
           1,
           0,
           0,
           0,
           0,
           1,
           0,
           0,
           1,
           0,
           0,
           0,
           1,
           0,
           0,
           0,
           1,
           1,
           1,
           0,
           0,
           0,
           0,
           0,
           0,
           1,
           0,
           0,
           0,
           1,
           0,
           1,
           1,
           1,
           1,
           0,
           1,
           1,
           0,
           0,
           0,
           0,
           0,
           0,
           0,
           1,
           1,
           0,
           1,
           0,
           0,
           1,
           0,
           1,
           0,
           0,
           0,
           0,
           0,
           1,
           0,
           1,
           0,
           1,
           0,
           1,
           1,
           0,
           0,
           0,
           0,
           1,
           1,
           0,
           0,
           0,
           1,
           0,
           1,
           1,
           0,
           0,
           1,
           0,
           0,
           1,
           1,
           0,
           0,
           1,
           0,
           0,
           1,
           0,
           0,
           0,
           0,
           0,
           0,
           0,
           1,
           1,
           1,
           0,
           0,
           0,
           0,
           0,
           0,
           1,
           1,
           0,
           0,
           1,
           0,
           0,
           1,
           0,
           1,
           1,
           1,
           0,
           0,
           1,
           1,
           1,
           0,
           1,
           0,
           1,
           0,
           1,
           0,
           0,
           0,
           0,
           1,
           0
          ],
          "coloraxis": "coloraxis",
          "symbol": "circle"
         },
         "mode": "markers",
         "name": "",
         "orientation": "v",
         "showlegend": false,
         "x": [
          50,
          31,
          32,
          21,
          33,
          30,
          26,
          29,
          53,
          54,
          30,
          34,
          57,
          59,
          51,
          32,
          31,
          31,
          33,
          32,
          27,
          50,
          41,
          29,
          51,
          41,
          43,
          22,
          57,
          38,
          60,
          28,
          22,
          28,
          45,
          33,
          35,
          46,
          27,
          56,
          26,
          37,
          48,
          54,
          40,
          25,
          29,
          22,
          31,
          24,
          22,
          26,
          30,
          58,
          42,
          21,
          41,
          31,
          44,
          22,
          21,
          39,
          36,
          24,
          42,
          32,
          38,
          54,
          25,
          27,
          28,
          26,
          42,
          23,
          22,
          22,
          41,
          27,
          26,
          24,
          22,
          22,
          36,
          22,
          37,
          27,
          45,
          26,
          43,
          24,
          21,
          34,
          42,
          60,
          21,
          40,
          24,
          22,
          23,
          31,
          33,
          22,
          21,
          24,
          27,
          21,
          27,
          37,
          25,
          24,
          24,
          46,
          23,
          25,
          39,
          61,
          38,
          25,
          22,
          21,
          25,
          24,
          23,
          69,
          23,
          26,
          30,
          23,
          40,
          62,
          33,
          33,
          30,
          39,
          26,
          31,
          21,
          22,
          29,
          28,
          55,
          38,
          22,
          42,
          23,
          21,
          41,
          34,
          65,
          22,
          24,
          37,
          42,
          23,
          43,
          36,
          21,
          23,
          22,
          47,
          36,
          45,
          27,
          21,
          32,
          41,
          22,
          34,
          29,
          29,
          36,
          29,
          25,
          23,
          33,
          36,
          42,
          26,
          47,
          37,
          32,
          23,
          21,
          27,
          40,
          41,
          60,
          33,
          31,
          25,
          21,
          40,
          36,
          40,
          42,
          29,
          21,
          23,
          26,
          29,
          21,
          28,
          32,
          27,
          55,
          27,
          57,
          52,
          21,
          41,
          25,
          24,
          60,
          24,
          36,
          38,
          25,
          32,
          32,
          41,
          21,
          66,
          37,
          61,
          26,
          22,
          26,
          24,
          31,
          24,
          22,
          46,
          22,
          29,
          23,
          26,
          51,
          23,
          32,
          27,
          21,
          22,
          22,
          33,
          29,
          49,
          41,
          23,
          34,
          23,
          42,
          27,
          24,
          25,
          44,
          21,
          30,
          25,
          24,
          51,
          34,
          27,
          24,
          63,
          35,
          43,
          25,
          24,
          21,
          28,
          38,
          21,
          40,
          21,
          52,
          25,
          29,
          23,
          57,
          22,
          28,
          39,
          37,
          47,
          52,
          51,
          34,
          29,
          26,
          33,
          21,
          25,
          31,
          24,
          65,
          28,
          29,
          24,
          46,
          58,
          30,
          25,
          35,
          28,
          37,
          29,
          47,
          21,
          25,
          30,
          41,
          22,
          27,
          25,
          43,
          26,
          30,
          29,
          28,
          59,
          31,
          25,
          36,
          43,
          21,
          24,
          30,
          37,
          23,
          37,
          46,
          25,
          41,
          44,
          22,
          26,
          44,
          44,
          33,
          41,
          22,
          36,
          22,
          33,
          57,
          49,
          22,
          23,
          26,
          37,
          29,
          30,
          46,
          24,
          21,
          49,
          28,
          44,
          48,
          29,
          29,
          63,
          65,
          67,
          30,
          30,
          29,
          21,
          22,
          45,
          25,
          21,
          21,
          25,
          28,
          58,
          22,
          22,
          32,
          35,
          24,
          22,
          21,
          25,
          25,
          24,
          35,
          45,
          58,
          28,
          42,
          27,
          21,
          37,
          31,
          25,
          39,
          22,
          25,
          25,
          31,
          55,
          35,
          38,
          41,
          26,
          46,
          25,
          39,
          28,
          28,
          25,
          22,
          21,
          21,
          22,
          22,
          37,
          27,
          28,
          26,
          21,
          21,
          21,
          36,
          31,
          25,
          38,
          26,
          43,
          23,
          38,
          22,
          29,
          36,
          29,
          41,
          28,
          21,
          31,
          41,
          22,
          24,
          33,
          30,
          25,
          28,
          26,
          22,
          26,
          23,
          23,
          25,
          72,
          24,
          38,
          62,
          24,
          51,
          81,
          48,
          26,
          39,
          37,
          34,
          21,
          22,
          25,
          38,
          27,
          28,
          22,
          22,
          50,
          24,
          59,
          29,
          31,
          39,
          63,
          35,
          29,
          28,
          23,
          31,
          24,
          21,
          58,
          28,
          67,
          24,
          42,
          33,
          45,
          22,
          66,
          30,
          25,
          55,
          39,
          21,
          28,
          41,
          41,
          40,
          38,
          35,
          21,
          21,
          64,
          46,
          21,
          58,
          22,
          24,
          28,
          53,
          51,
          41,
          60,
          25,
          26,
          26,
          45,
          24,
          21,
          21,
          24,
          22,
          31,
          22,
          24,
          29,
          31,
          24,
          23,
          46,
          67,
          23,
          32,
          43,
          27,
          56,
          25,
          29,
          37,
          53,
          28,
          50,
          37,
          21,
          25,
          66,
          23,
          28,
          37,
          30,
          58,
          42,
          35,
          54,
          28,
          24,
          32,
          27,
          22,
          21,
          46,
          37,
          33,
          39,
          21,
          22,
          22,
          23,
          25,
          35,
          21,
          36,
          62,
          21,
          27,
          62,
          42,
          52,
          22,
          41,
          29,
          52,
          25,
          45,
          24,
          44,
          25,
          34,
          22,
          46,
          21,
          38,
          26,
          24,
          28,
          30,
          54,
          36,
          21,
          22,
          25,
          27,
          23,
          24,
          36,
          40,
          26,
          50,
          27,
          30,
          23,
          50,
          24,
          28,
          28,
          45,
          21,
          21,
          29,
          21,
          21,
          45,
          21,
          34,
          24,
          23,
          22,
          31,
          38,
          48,
          23,
          32,
          28,
          27,
          24,
          50,
          31,
          27,
          30,
          33,
          22,
          42,
          23,
          23,
          27,
          28,
          27,
          22,
          25,
          22,
          41,
          51,
          27,
          54,
          22,
          43,
          40,
          40,
          24,
          70,
          40,
          43,
          45,
          49,
          21,
          47,
          22,
          68,
          31,
          53,
          25,
          25,
          23,
          22,
          26,
          22,
          27,
          69,
          25,
          22,
          29,
          23,
          46,
          34,
          44,
          23,
          43,
          25,
          43,
          31,
          22,
          28,
          26,
          26,
          49,
          52,
          41,
          27,
          28,
          30,
          22,
          45,
          23,
          24,
          40,
          38,
          21,
          32,
          34,
          31,
          56,
          24,
          52,
          34,
          21,
          42,
          42,
          45,
          38,
          25,
          22,
          22,
          22,
          34,
          22,
          24,
          22,
          53,
          28,
          21,
          42,
          21,
          42,
          48,
          26,
          22,
          45,
          39,
          46,
          27,
          32,
          36,
          50,
          22,
          28,
          25,
          26,
          45,
          37,
          39,
          52,
          26,
          66,
          22,
          43,
          33,
          63,
          27,
          30,
          47,
          23
         ],
         "xaxis": "x",
         "y": [
          33.6,
          26.6,
          23.3,
          28.1,
          43.1,
          25.6,
          31.0,
          35.3,
          30.5,
          0.0,
          37.6,
          38.0,
          27.1,
          30.1,
          25.8,
          30.0,
          45.8,
          29.6,
          43.3,
          34.6,
          39.3,
          35.4,
          39.8,
          29.0,
          36.6,
          31.1,
          39.4,
          23.2,
          22.2,
          34.1,
          36.0,
          31.6,
          24.8,
          19.9,
          27.6,
          24.0,
          33.2,
          32.9,
          38.2,
          37.1,
          34.0,
          40.2,
          22.7,
          45.4,
          27.4,
          42.0,
          29.7,
          28.0,
          39.1,
          0.0,
          19.4,
          24.2,
          24.4,
          33.7,
          34.7,
          23.0,
          37.7,
          46.8,
          40.5,
          41.5,
          0.0,
          32.9,
          25.0,
          25.4,
          32.8,
          29.0,
          32.5,
          42.7,
          19.6,
          28.9,
          32.9,
          28.6,
          43.4,
          35.1,
          32.0,
          24.7,
          32.6,
          37.7,
          43.2,
          25.0,
          22.4,
          0.0,
          29.3,
          24.6,
          48.8,
          32.4,
          36.6,
          38.5,
          37.1,
          26.5,
          19.1,
          32.0,
          46.7,
          23.8,
          24.7,
          33.9,
          31.6,
          20.4,
          28.7,
          49.7,
          39.0,
          26.1,
          22.5,
          26.6,
          39.6,
          28.7,
          22.4,
          29.5,
          34.3,
          37.4,
          33.3,
          34.0,
          31.2,
          34.0,
          30.5,
          31.2,
          34.0,
          33.7,
          28.2,
          23.2,
          53.2,
          34.2,
          33.6,
          26.8,
          33.3,
          55.0,
          42.9,
          33.3,
          34.5,
          27.9,
          29.7,
          33.3,
          34.5,
          38.3,
          21.1,
          33.8,
          30.8,
          28.7,
          31.2,
          36.9,
          21.1,
          39.5,
          32.5,
          32.4,
          32.8,
          0.0,
          32.8,
          30.5,
          33.7,
          27.3,
          37.4,
          21.9,
          34.3,
          40.6,
          47.9,
          50.0,
          24.6,
          25.2,
          29.0,
          40.9,
          29.7,
          37.2,
          44.2,
          29.7,
          31.6,
          29.9,
          32.5,
          29.6,
          31.9,
          28.4,
          30.8,
          35.4,
          28.9,
          43.5,
          29.7,
          32.7,
          31.2,
          67.1,
          45.0,
          39.1,
          23.2,
          34.9,
          27.7,
          26.8,
          27.6,
          35.9,
          30.1,
          32.0,
          27.9,
          31.6,
          22.6,
          33.1,
          30.4,
          52.3,
          24.4,
          39.4,
          24.3,
          22.9,
          34.8,
          30.9,
          31.0,
          40.1,
          27.3,
          20.4,
          37.7,
          23.9,
          37.5,
          37.7,
          33.2,
          35.5,
          27.7,
          42.8,
          34.2,
          42.6,
          34.2,
          41.8,
          35.8,
          30.0,
          29.0,
          37.8,
          34.6,
          31.6,
          25.2,
          28.8,
          23.6,
          34.6,
          35.7,
          37.2,
          36.7,
          45.2,
          44.0,
          46.2,
          25.4,
          35.0,
          29.7,
          43.6,
          35.9,
          44.1,
          30.8,
          18.4,
          29.2,
          33.1,
          25.6,
          27.1,
          38.2,
          30.0,
          31.2,
          52.3,
          35.4,
          30.1,
          31.2,
          28.0,
          24.4,
          35.8,
          27.6,
          33.6,
          30.1,
          28.7,
          25.9,
          33.3,
          30.9,
          30.0,
          32.1,
          32.4,
          32.0,
          33.6,
          36.3,
          40.0,
          25.1,
          27.5,
          45.6,
          25.2,
          23.0,
          33.2,
          34.2,
          40.5,
          26.5,
          27.8,
          24.9,
          25.3,
          37.9,
          35.9,
          32.4,
          30.4,
          27.0,
          26.0,
          38.7,
          45.6,
          20.8,
          36.1,
          36.9,
          36.6,
          43.3,
          40.5,
          21.9,
          35.5,
          28.0,
          30.7,
          36.6,
          23.6,
          32.3,
          31.6,
          35.8,
          52.9,
          21.0,
          39.7,
          25.5,
          24.8,
          30.5,
          32.9,
          26.2,
          39.4,
          26.6,
          29.5,
          35.9,
          34.1,
          19.3,
          30.5,
          38.1,
          23.5,
          27.5,
          31.6,
          27.4,
          26.8,
          35.7,
          25.6,
          35.1,
          35.1,
          45.5,
          30.8,
          23.1,
          32.7,
          43.3,
          23.6,
          23.9,
          47.9,
          33.8,
          31.2,
          34.2,
          39.9,
          25.9,
          25.9,
          32.0,
          34.7,
          36.8,
          38.5,
          28.7,
          23.5,
          21.8,
          41.0,
          42.2,
          31.2,
          34.4,
          27.2,
          42.7,
          30.4,
          33.3,
          39.9,
          35.3,
          36.5,
          31.2,
          29.8,
          39.2,
          38.5,
          34.9,
          34.0,
          27.6,
          21.0,
          27.5,
          32.8,
          38.4,
          0.0,
          35.8,
          34.9,
          36.2,
          39.2,
          25.2,
          37.2,
          48.3,
          43.4,
          30.8,
          20.0,
          25.4,
          25.1,
          24.3,
          22.3,
          32.3,
          43.3,
          32.0,
          31.6,
          32.0,
          45.7,
          23.7,
          22.1,
          32.9,
          27.7,
          24.7,
          34.3,
          21.1,
          34.9,
          32.0,
          24.2,
          35.0,
          31.6,
          32.9,
          42.1,
          28.9,
          21.9,
          25.9,
          42.4,
          35.7,
          34.4,
          42.4,
          26.2,
          34.6,
          35.7,
          27.2,
          38.5,
          18.2,
          26.4,
          45.3,
          26.0,
          40.6,
          30.8,
          42.9,
          37.0,
          0.0,
          34.1,
          40.6,
          35.0,
          22.2,
          30.4,
          30.0,
          25.6,
          24.5,
          42.4,
          37.4,
          29.9,
          18.2,
          36.8,
          34.3,
          32.2,
          33.2,
          30.5,
          29.7,
          59.4,
          25.3,
          36.5,
          33.6,
          30.5,
          21.2,
          28.9,
          39.9,
          19.6,
          37.8,
          33.6,
          26.7,
          30.2,
          37.6,
          25.9,
          20.8,
          21.8,
          35.3,
          27.6,
          24.0,
          21.8,
          27.8,
          36.8,
          30.0,
          46.1,
          41.3,
          33.2,
          38.8,
          29.9,
          28.9,
          27.3,
          33.7,
          23.8,
          25.9,
          28.0,
          35.5,
          35.2,
          27.8,
          38.2,
          44.2,
          42.3,
          40.7,
          46.5,
          25.6,
          26.1,
          36.8,
          33.5,
          32.8,
          28.9,
          0.0,
          26.6,
          26.0,
          30.1,
          25.1,
          29.3,
          25.2,
          37.2,
          39.0,
          33.3,
          37.3,
          33.3,
          36.5,
          28.6,
          30.4,
          25.0,
          29.7,
          22.1,
          24.2,
          27.3,
          25.6,
          31.6,
          30.3,
          37.6,
          32.8,
          19.6,
          25.0,
          33.2,
          0.0,
          34.2,
          31.6,
          21.8,
          18.2,
          26.3,
          30.8,
          24.6,
          29.8,
          45.3,
          41.3,
          29.8,
          33.3,
          32.9,
          29.6,
          21.7,
          36.3,
          36.4,
          39.4,
          32.4,
          34.9,
          39.5,
          32.0,
          34.5,
          43.6,
          33.1,
          32.8,
          28.5,
          27.4,
          31.9,
          27.8,
          29.9,
          36.9,
          25.5,
          38.1,
          27.8,
          46.2,
          30.1,
          33.8,
          41.3,
          37.6,
          26.9,
          32.4,
          26.1,
          38.6,
          32.0,
          31.3,
          34.3,
          32.5,
          22.6,
          29.5,
          34.7,
          30.1,
          35.5,
          24.0,
          42.9,
          27.0,
          34.7,
          42.1,
          25.0,
          26.5,
          38.7,
          28.7,
          22.5,
          34.9,
          24.3,
          33.3,
          21.1,
          46.8,
          39.4,
          34.4,
          28.5,
          33.6,
          32.0,
          45.3,
          27.8,
          36.8,
          23.1,
          27.1,
          23.7,
          27.8,
          35.2,
          28.4,
          35.8,
          40.0,
          19.5,
          41.5,
          24.0,
          30.9,
          32.9,
          38.2,
          32.5,
          36.1,
          25.8,
          28.7,
          20.1,
          28.2,
          32.4,
          38.4,
          24.2,
          40.8,
          43.5,
          30.8,
          37.7,
          24.7,
          32.4,
          34.6,
          24.7,
          27.4,
          34.5,
          26.2,
          27.5,
          25.9,
          31.2,
          28.8,
          31.6,
          40.9,
          19.5,
          29.3,
          34.3,
          29.5,
          28.0,
          27.6,
          39.4,
          23.4,
          37.8,
          28.3,
          26.4,
          25.2,
          33.8,
          34.1,
          26.8,
          34.2,
          38.7,
          21.8,
          38.9,
          39.0,
          34.2,
          27.7,
          42.9,
          37.6,
          37.9,
          33.7,
          34.8,
          32.5,
          27.5,
          34.0,
          30.9,
          33.6,
          25.4,
          35.5,
          57.3,
          35.6,
          30.9,
          24.8,
          35.3,
          36.0,
          24.2,
          24.2,
          49.6,
          44.6,
          32.3,
          0.0,
          33.2,
          23.1,
          28.3,
          24.1,
          46.1,
          24.6,
          42.3,
          39.1,
          38.5,
          23.5,
          30.4,
          29.9,
          25.0,
          34.5,
          44.5,
          35.9,
          27.6,
          35.0,
          38.5,
          28.4,
          39.8,
          0.0,
          34.4,
          32.8,
          38.0,
          31.2,
          29.6,
          41.2,
          26.4,
          29.5,
          33.9,
          33.8,
          23.1,
          35.5,
          35.6,
          29.3,
          38.1,
          29.3,
          39.1,
          32.8,
          39.4,
          36.1,
          32.4,
          22.9,
          30.1,
          28.4,
          28.4,
          44.5,
          29.0,
          23.3,
          35.4,
          27.4,
          32.0,
          36.6,
          39.5,
          42.3,
          30.8,
          28.5,
          32.7,
          40.6,
          30.0,
          49.3,
          46.3,
          36.4,
          24.3,
          31.2,
          39.0,
          26.0,
          43.3,
          32.4,
          36.5,
          32.0,
          36.3,
          37.5,
          35.5,
          28.4,
          44.0,
          22.5,
          32.9,
          36.8,
          26.2,
          30.1,
          30.4
         ],
         "yaxis": "y",
         "type": "scatter"
        }
       ],
       "layout": {
        "template": {
         "data": {
          "bar": [
           {
            "error_x": {
             "color": "#f2f5fa"
            },
            "error_y": {
             "color": "#f2f5fa"
            },
            "marker": {
             "line": {
              "color": "rgb(17,17,17)",
              "width": 0.5
             },
             "pattern": {
              "fillmode": "overlay",
              "size": 10,
              "solidity": 0.2
             }
            },
            "type": "bar"
           }
          ],
          "barpolar": [
           {
            "marker": {
             "line": {
              "color": "rgb(17,17,17)",
              "width": 0.5
             },
             "pattern": {
              "fillmode": "overlay",
              "size": 10,
              "solidity": 0.2
             }
            },
            "type": "barpolar"
           }
          ],
          "carpet": [
           {
            "aaxis": {
             "endlinecolor": "#A2B1C6",
             "gridcolor": "#506784",
             "linecolor": "#506784",
             "minorgridcolor": "#506784",
             "startlinecolor": "#A2B1C6"
            },
            "baxis": {
             "endlinecolor": "#A2B1C6",
             "gridcolor": "#506784",
             "linecolor": "#506784",
             "minorgridcolor": "#506784",
             "startlinecolor": "#A2B1C6"
            },
            "type": "carpet"
           }
          ],
          "choropleth": [
           {
            "colorbar": {
             "outlinewidth": 0,
             "ticks": ""
            },
            "type": "choropleth"
           }
          ],
          "contour": [
           {
            "colorbar": {
             "outlinewidth": 0,
             "ticks": ""
            },
            "colorscale": [
             [
              0.0,
              "#0d0887"
             ],
             [
              0.1111111111111111,
              "#46039f"
             ],
             [
              0.2222222222222222,
              "#7201a8"
             ],
             [
              0.3333333333333333,
              "#9c179e"
             ],
             [
              0.4444444444444444,
              "#bd3786"
             ],
             [
              0.5555555555555556,
              "#d8576b"
             ],
             [
              0.6666666666666666,
              "#ed7953"
             ],
             [
              0.7777777777777778,
              "#fb9f3a"
             ],
             [
              0.8888888888888888,
              "#fdca26"
             ],
             [
              1.0,
              "#f0f921"
             ]
            ],
            "type": "contour"
           }
          ],
          "contourcarpet": [
           {
            "colorbar": {
             "outlinewidth": 0,
             "ticks": ""
            },
            "type": "contourcarpet"
           }
          ],
          "heatmap": [
           {
            "colorbar": {
             "outlinewidth": 0,
             "ticks": ""
            },
            "colorscale": [
             [
              0.0,
              "#0d0887"
             ],
             [
              0.1111111111111111,
              "#46039f"
             ],
             [
              0.2222222222222222,
              "#7201a8"
             ],
             [
              0.3333333333333333,
              "#9c179e"
             ],
             [
              0.4444444444444444,
              "#bd3786"
             ],
             [
              0.5555555555555556,
              "#d8576b"
             ],
             [
              0.6666666666666666,
              "#ed7953"
             ],
             [
              0.7777777777777778,
              "#fb9f3a"
             ],
             [
              0.8888888888888888,
              "#fdca26"
             ],
             [
              1.0,
              "#f0f921"
             ]
            ],
            "type": "heatmap"
           }
          ],
          "heatmapgl": [
           {
            "colorbar": {
             "outlinewidth": 0,
             "ticks": ""
            },
            "colorscale": [
             [
              0.0,
              "#0d0887"
             ],
             [
              0.1111111111111111,
              "#46039f"
             ],
             [
              0.2222222222222222,
              "#7201a8"
             ],
             [
              0.3333333333333333,
              "#9c179e"
             ],
             [
              0.4444444444444444,
              "#bd3786"
             ],
             [
              0.5555555555555556,
              "#d8576b"
             ],
             [
              0.6666666666666666,
              "#ed7953"
             ],
             [
              0.7777777777777778,
              "#fb9f3a"
             ],
             [
              0.8888888888888888,
              "#fdca26"
             ],
             [
              1.0,
              "#f0f921"
             ]
            ],
            "type": "heatmapgl"
           }
          ],
          "histogram": [
           {
            "marker": {
             "pattern": {
              "fillmode": "overlay",
              "size": 10,
              "solidity": 0.2
             }
            },
            "type": "histogram"
           }
          ],
          "histogram2d": [
           {
            "colorbar": {
             "outlinewidth": 0,
             "ticks": ""
            },
            "colorscale": [
             [
              0.0,
              "#0d0887"
             ],
             [
              0.1111111111111111,
              "#46039f"
             ],
             [
              0.2222222222222222,
              "#7201a8"
             ],
             [
              0.3333333333333333,
              "#9c179e"
             ],
             [
              0.4444444444444444,
              "#bd3786"
             ],
             [
              0.5555555555555556,
              "#d8576b"
             ],
             [
              0.6666666666666666,
              "#ed7953"
             ],
             [
              0.7777777777777778,
              "#fb9f3a"
             ],
             [
              0.8888888888888888,
              "#fdca26"
             ],
             [
              1.0,
              "#f0f921"
             ]
            ],
            "type": "histogram2d"
           }
          ],
          "histogram2dcontour": [
           {
            "colorbar": {
             "outlinewidth": 0,
             "ticks": ""
            },
            "colorscale": [
             [
              0.0,
              "#0d0887"
             ],
             [
              0.1111111111111111,
              "#46039f"
             ],
             [
              0.2222222222222222,
              "#7201a8"
             ],
             [
              0.3333333333333333,
              "#9c179e"
             ],
             [
              0.4444444444444444,
              "#bd3786"
             ],
             [
              0.5555555555555556,
              "#d8576b"
             ],
             [
              0.6666666666666666,
              "#ed7953"
             ],
             [
              0.7777777777777778,
              "#fb9f3a"
             ],
             [
              0.8888888888888888,
              "#fdca26"
             ],
             [
              1.0,
              "#f0f921"
             ]
            ],
            "type": "histogram2dcontour"
           }
          ],
          "mesh3d": [
           {
            "colorbar": {
             "outlinewidth": 0,
             "ticks": ""
            },
            "type": "mesh3d"
           }
          ],
          "parcoords": [
           {
            "line": {
             "colorbar": {
              "outlinewidth": 0,
              "ticks": ""
             }
            },
            "type": "parcoords"
           }
          ],
          "pie": [
           {
            "automargin": true,
            "type": "pie"
           }
          ],
          "scatter": [
           {
            "marker": {
             "line": {
              "color": "#283442"
             }
            },
            "type": "scatter"
           }
          ],
          "scatter3d": [
           {
            "line": {
             "colorbar": {
              "outlinewidth": 0,
              "ticks": ""
             }
            },
            "marker": {
             "colorbar": {
              "outlinewidth": 0,
              "ticks": ""
             }
            },
            "type": "scatter3d"
           }
          ],
          "scattercarpet": [
           {
            "marker": {
             "colorbar": {
              "outlinewidth": 0,
              "ticks": ""
             }
            },
            "type": "scattercarpet"
           }
          ],
          "scattergeo": [
           {
            "marker": {
             "colorbar": {
              "outlinewidth": 0,
              "ticks": ""
             }
            },
            "type": "scattergeo"
           }
          ],
          "scattergl": [
           {
            "marker": {
             "line": {
              "color": "#283442"
             }
            },
            "type": "scattergl"
           }
          ],
          "scattermapbox": [
           {
            "marker": {
             "colorbar": {
              "outlinewidth": 0,
              "ticks": ""
             }
            },
            "type": "scattermapbox"
           }
          ],
          "scatterpolar": [
           {
            "marker": {
             "colorbar": {
              "outlinewidth": 0,
              "ticks": ""
             }
            },
            "type": "scatterpolar"
           }
          ],
          "scatterpolargl": [
           {
            "marker": {
             "colorbar": {
              "outlinewidth": 0,
              "ticks": ""
             }
            },
            "type": "scatterpolargl"
           }
          ],
          "scatterternary": [
           {
            "marker": {
             "colorbar": {
              "outlinewidth": 0,
              "ticks": ""
             }
            },
            "type": "scatterternary"
           }
          ],
          "surface": [
           {
            "colorbar": {
             "outlinewidth": 0,
             "ticks": ""
            },
            "colorscale": [
             [
              0.0,
              "#0d0887"
             ],
             [
              0.1111111111111111,
              "#46039f"
             ],
             [
              0.2222222222222222,
              "#7201a8"
             ],
             [
              0.3333333333333333,
              "#9c179e"
             ],
             [
              0.4444444444444444,
              "#bd3786"
             ],
             [
              0.5555555555555556,
              "#d8576b"
             ],
             [
              0.6666666666666666,
              "#ed7953"
             ],
             [
              0.7777777777777778,
              "#fb9f3a"
             ],
             [
              0.8888888888888888,
              "#fdca26"
             ],
             [
              1.0,
              "#f0f921"
             ]
            ],
            "type": "surface"
           }
          ],
          "table": [
           {
            "cells": {
             "fill": {
              "color": "#506784"
             },
             "line": {
              "color": "rgb(17,17,17)"
             }
            },
            "header": {
             "fill": {
              "color": "#2a3f5f"
             },
             "line": {
              "color": "rgb(17,17,17)"
             }
            },
            "type": "table"
           }
          ]
         },
         "layout": {
          "annotationdefaults": {
           "arrowcolor": "#f2f5fa",
           "arrowhead": 0,
           "arrowwidth": 1
          },
          "autotypenumbers": "strict",
          "coloraxis": {
           "colorbar": {
            "outlinewidth": 0,
            "ticks": ""
           }
          },
          "colorscale": {
           "diverging": [
            [
             0,
             "#8e0152"
            ],
            [
             0.1,
             "#c51b7d"
            ],
            [
             0.2,
             "#de77ae"
            ],
            [
             0.3,
             "#f1b6da"
            ],
            [
             0.4,
             "#fde0ef"
            ],
            [
             0.5,
             "#f7f7f7"
            ],
            [
             0.6,
             "#e6f5d0"
            ],
            [
             0.7,
             "#b8e186"
            ],
            [
             0.8,
             "#7fbc41"
            ],
            [
             0.9,
             "#4d9221"
            ],
            [
             1,
             "#276419"
            ]
           ],
           "sequential": [
            [
             0.0,
             "#0d0887"
            ],
            [
             0.1111111111111111,
             "#46039f"
            ],
            [
             0.2222222222222222,
             "#7201a8"
            ],
            [
             0.3333333333333333,
             "#9c179e"
            ],
            [
             0.4444444444444444,
             "#bd3786"
            ],
            [
             0.5555555555555556,
             "#d8576b"
            ],
            [
             0.6666666666666666,
             "#ed7953"
            ],
            [
             0.7777777777777778,
             "#fb9f3a"
            ],
            [
             0.8888888888888888,
             "#fdca26"
            ],
            [
             1.0,
             "#f0f921"
            ]
           ],
           "sequentialminus": [
            [
             0.0,
             "#0d0887"
            ],
            [
             0.1111111111111111,
             "#46039f"
            ],
            [
             0.2222222222222222,
             "#7201a8"
            ],
            [
             0.3333333333333333,
             "#9c179e"
            ],
            [
             0.4444444444444444,
             "#bd3786"
            ],
            [
             0.5555555555555556,
             "#d8576b"
            ],
            [
             0.6666666666666666,
             "#ed7953"
            ],
            [
             0.7777777777777778,
             "#fb9f3a"
            ],
            [
             0.8888888888888888,
             "#fdca26"
            ],
            [
             1.0,
             "#f0f921"
            ]
           ]
          },
          "colorway": [
           "#636efa",
           "#EF553B",
           "#00cc96",
           "#ab63fa",
           "#FFA15A",
           "#19d3f3",
           "#FF6692",
           "#B6E880",
           "#FF97FF",
           "#FECB52"
          ],
          "font": {
           "color": "#f2f5fa"
          },
          "geo": {
           "bgcolor": "rgb(17,17,17)",
           "lakecolor": "rgb(17,17,17)",
           "landcolor": "rgb(17,17,17)",
           "showlakes": true,
           "showland": true,
           "subunitcolor": "#506784"
          },
          "hoverlabel": {
           "align": "left"
          },
          "hovermode": "closest",
          "mapbox": {
           "style": "dark"
          },
          "paper_bgcolor": "rgb(17,17,17)",
          "plot_bgcolor": "rgb(17,17,17)",
          "polar": {
           "angularaxis": {
            "gridcolor": "#506784",
            "linecolor": "#506784",
            "ticks": ""
           },
           "bgcolor": "rgb(17,17,17)",
           "radialaxis": {
            "gridcolor": "#506784",
            "linecolor": "#506784",
            "ticks": ""
           }
          },
          "scene": {
           "xaxis": {
            "backgroundcolor": "rgb(17,17,17)",
            "gridcolor": "#506784",
            "gridwidth": 2,
            "linecolor": "#506784",
            "showbackground": true,
            "ticks": "",
            "zerolinecolor": "#C8D4E3"
           },
           "yaxis": {
            "backgroundcolor": "rgb(17,17,17)",
            "gridcolor": "#506784",
            "gridwidth": 2,
            "linecolor": "#506784",
            "showbackground": true,
            "ticks": "",
            "zerolinecolor": "#C8D4E3"
           },
           "zaxis": {
            "backgroundcolor": "rgb(17,17,17)",
            "gridcolor": "#506784",
            "gridwidth": 2,
            "linecolor": "#506784",
            "showbackground": true,
            "ticks": "",
            "zerolinecolor": "#C8D4E3"
           }
          },
          "shapedefaults": {
           "line": {
            "color": "#f2f5fa"
           }
          },
          "sliderdefaults": {
           "bgcolor": "#C8D4E3",
           "bordercolor": "rgb(17,17,17)",
           "borderwidth": 1,
           "tickwidth": 0
          },
          "ternary": {
           "aaxis": {
            "gridcolor": "#506784",
            "linecolor": "#506784",
            "ticks": ""
           },
           "baxis": {
            "gridcolor": "#506784",
            "linecolor": "#506784",
            "ticks": ""
           },
           "bgcolor": "rgb(17,17,17)",
           "caxis": {
            "gridcolor": "#506784",
            "linecolor": "#506784",
            "ticks": ""
           }
          },
          "title": {
           "x": 0.05
          },
          "updatemenudefaults": {
           "bgcolor": "#506784",
           "borderwidth": 0
          },
          "xaxis": {
           "automargin": true,
           "gridcolor": "#283442",
           "linecolor": "#506784",
           "ticks": "",
           "title": {
            "standoff": 15
           },
           "zerolinecolor": "#283442",
           "zerolinewidth": 2
          },
          "yaxis": {
           "automargin": true,
           "gridcolor": "#283442",
           "linecolor": "#506784",
           "ticks": "",
           "title": {
            "standoff": 15
           },
           "zerolinecolor": "#283442",
           "zerolinewidth": 2
          }
         }
        },
        "xaxis": {
         "anchor": "y",
         "domain": [
          0.0,
          1.0
         ],
         "title": {
          "text": "Age"
         }
        },
        "yaxis": {
         "anchor": "x",
         "domain": [
          0.0,
          1.0
         ],
         "title": {
          "text": "BMI"
         }
        },
        "coloraxis": {
         "colorbar": {
          "title": {
           "text": "Outcome"
          }
         },
         "colorscale": [
          [
           0.0,
           "#0d0887"
          ],
          [
           0.1111111111111111,
           "#46039f"
          ],
          [
           0.2222222222222222,
           "#7201a8"
          ],
          [
           0.3333333333333333,
           "#9c179e"
          ],
          [
           0.4444444444444444,
           "#bd3786"
          ],
          [
           0.5555555555555556,
           "#d8576b"
          ],
          [
           0.6666666666666666,
           "#ed7953"
          ],
          [
           0.7777777777777778,
           "#fb9f3a"
          ],
          [
           0.8888888888888888,
           "#fdca26"
          ],
          [
           1.0,
           "#f0f921"
          ]
         ]
        },
        "legend": {
         "tracegroupgap": 0
        },
        "margin": {
         "t": 60
        }
       },
       "config": {
        "plotlyServerURL": "https://plot.ly"
       }
      },
      "text/html": "<div>                            <div id=\"63c5cc23-fa49-45c4-a5ad-cdf1a9720658\" class=\"plotly-graph-div\" style=\"height:525px; width:100%;\"></div>            <script type=\"text/javascript\">                require([\"plotly\"], function(Plotly) {                    window.PLOTLYENV=window.PLOTLYENV || {};                                    if (document.getElementById(\"63c5cc23-fa49-45c4-a5ad-cdf1a9720658\")) {                    Plotly.newPlot(                        \"63c5cc23-fa49-45c4-a5ad-cdf1a9720658\",                        [{\"hovertemplate\":\"Age=%{x}<br>BMI=%{y}<br>Outcome=%{marker.color}<extra></extra>\",\"legendgroup\":\"\",\"marker\":{\"color\":[1,0,1,0,1,0,1,0,1,1,0,1,0,1,1,1,1,1,0,1,0,0,1,1,1,1,1,0,0,0,0,1,0,0,0,0,0,1,1,1,0,0,0,1,0,1,0,0,1,0,0,0,0,1,0,0,1,0,0,0,0,1,0,0,1,0,1,0,0,0,1,0,1,0,0,0,0,0,1,0,0,0,0,0,1,0,0,0,1,0,0,0,0,1,0,0,0,0,0,1,1,0,0,0,0,0,0,0,0,1,1,1,0,0,1,1,1,0,0,0,1,0,0,0,1,1,0,0,1,1,1,1,1,0,0,0,0,0,0,0,0,0,0,1,0,0,0,0,0,0,0,0,1,0,1,1,0,0,0,1,0,0,0,0,1,1,0,0,0,0,1,1,0,0,0,1,0,1,0,1,0,0,0,0,0,1,1,1,1,1,0,0,1,1,0,1,0,1,1,1,0,0,0,0,0,0,1,1,0,1,0,0,0,1,1,1,1,0,1,1,1,1,0,0,0,0,0,1,0,0,1,1,0,0,0,1,1,1,1,0,0,0,1,1,0,1,0,0,0,0,0,0,0,0,1,1,0,0,0,1,0,1,0,0,1,0,1,0,0,1,1,0,0,0,0,0,1,0,0,0,1,0,0,1,1,0,0,1,0,0,0,1,1,1,0,0,1,0,1,0,1,1,0,1,0,0,1,0,1,1,0,0,1,0,1,0,0,1,0,1,0,1,1,1,0,0,1,0,1,0,0,0,1,0,0,0,0,1,1,1,0,0,0,0,0,0,0,0,0,1,0,0,0,0,0,1,1,1,0,1,1,0,0,1,0,0,1,0,0,1,1,0,0,0,0,1,0,0,1,0,0,0,0,0,0,0,1,1,1,0,0,1,0,0,1,0,0,1,0,1,1,0,1,0,1,0,1,0,1,1,0,0,0,0,1,1,0,1,0,1,0,0,0,0,1,1,0,1,0,1,0,0,0,0,0,1,0,0,0,0,1,0,0,1,1,1,0,0,1,0,0,1,0,0,0,1,0,0,1,0,0,0,0,0,0,0,0,0,1,0,0,0,0,0,0,0,1,0,0,0,1,0,0,0,1,1,0,0,0,0,0,0,0,1,0,0,0,0,1,0,0,0,1,0,0,0,1,0,0,0,1,0,0,0,0,1,1,0,0,0,0,0,0,1,0,0,0,0,0,0,0,0,0,0,0,1,0,0,0,1,1,1,1,0,0,1,1,0,0,0,0,0,0,0,0,0,0,0,0,0,1,1,0,0,0,0,0,0,0,1,0,0,0,0,0,0,0,1,0,1,1,0,0,0,1,0,1,0,1,0,1,0,1,0,0,1,0,0,1,0,0,0,0,1,1,0,1,0,0,0,0,1,1,0,1,0,0,0,1,1,0,0,0,0,0,0,0,0,0,0,1,0,0,0,0,1,0,0,1,0,0,0,1,0,0,0,1,1,1,0,0,0,0,0,0,1,0,0,0,1,0,1,1,1,1,0,1,1,0,0,0,0,0,0,0,1,1,0,1,0,0,1,0,1,0,0,0,0,0,1,0,1,0,1,0,1,1,0,0,0,0,1,1,0,0,0,1,0,1,1,0,0,1,0,0,1,1,0,0,1,0,0,1,0,0,0,0,0,0,0,1,1,1,0,0,0,0,0,0,1,1,0,0,1,0,0,1,0,1,1,1,0,0,1,1,1,0,1,0,1,0,1,0,0,0,0,1,0],\"coloraxis\":\"coloraxis\",\"symbol\":\"circle\"},\"mode\":\"markers\",\"name\":\"\",\"orientation\":\"v\",\"showlegend\":false,\"x\":[50,31,32,21,33,30,26,29,53,54,30,34,57,59,51,32,31,31,33,32,27,50,41,29,51,41,43,22,57,38,60,28,22,28,45,33,35,46,27,56,26,37,48,54,40,25,29,22,31,24,22,26,30,58,42,21,41,31,44,22,21,39,36,24,42,32,38,54,25,27,28,26,42,23,22,22,41,27,26,24,22,22,36,22,37,27,45,26,43,24,21,34,42,60,21,40,24,22,23,31,33,22,21,24,27,21,27,37,25,24,24,46,23,25,39,61,38,25,22,21,25,24,23,69,23,26,30,23,40,62,33,33,30,39,26,31,21,22,29,28,55,38,22,42,23,21,41,34,65,22,24,37,42,23,43,36,21,23,22,47,36,45,27,21,32,41,22,34,29,29,36,29,25,23,33,36,42,26,47,37,32,23,21,27,40,41,60,33,31,25,21,40,36,40,42,29,21,23,26,29,21,28,32,27,55,27,57,52,21,41,25,24,60,24,36,38,25,32,32,41,21,66,37,61,26,22,26,24,31,24,22,46,22,29,23,26,51,23,32,27,21,22,22,33,29,49,41,23,34,23,42,27,24,25,44,21,30,25,24,51,34,27,24,63,35,43,25,24,21,28,38,21,40,21,52,25,29,23,57,22,28,39,37,47,52,51,34,29,26,33,21,25,31,24,65,28,29,24,46,58,30,25,35,28,37,29,47,21,25,30,41,22,27,25,43,26,30,29,28,59,31,25,36,43,21,24,30,37,23,37,46,25,41,44,22,26,44,44,33,41,22,36,22,33,57,49,22,23,26,37,29,30,46,24,21,49,28,44,48,29,29,63,65,67,30,30,29,21,22,45,25,21,21,25,28,58,22,22,32,35,24,22,21,25,25,24,35,45,58,28,42,27,21,37,31,25,39,22,25,25,31,55,35,38,41,26,46,25,39,28,28,25,22,21,21,22,22,37,27,28,26,21,21,21,36,31,25,38,26,43,23,38,22,29,36,29,41,28,21,31,41,22,24,33,30,25,28,26,22,26,23,23,25,72,24,38,62,24,51,81,48,26,39,37,34,21,22,25,38,27,28,22,22,50,24,59,29,31,39,63,35,29,28,23,31,24,21,58,28,67,24,42,33,45,22,66,30,25,55,39,21,28,41,41,40,38,35,21,21,64,46,21,58,22,24,28,53,51,41,60,25,26,26,45,24,21,21,24,22,31,22,24,29,31,24,23,46,67,23,32,43,27,56,25,29,37,53,28,50,37,21,25,66,23,28,37,30,58,42,35,54,28,24,32,27,22,21,46,37,33,39,21,22,22,23,25,35,21,36,62,21,27,62,42,52,22,41,29,52,25,45,24,44,25,34,22,46,21,38,26,24,28,30,54,36,21,22,25,27,23,24,36,40,26,50,27,30,23,50,24,28,28,45,21,21,29,21,21,45,21,34,24,23,22,31,38,48,23,32,28,27,24,50,31,27,30,33,22,42,23,23,27,28,27,22,25,22,41,51,27,54,22,43,40,40,24,70,40,43,45,49,21,47,22,68,31,53,25,25,23,22,26,22,27,69,25,22,29,23,46,34,44,23,43,25,43,31,22,28,26,26,49,52,41,27,28,30,22,45,23,24,40,38,21,32,34,31,56,24,52,34,21,42,42,45,38,25,22,22,22,34,22,24,22,53,28,21,42,21,42,48,26,22,45,39,46,27,32,36,50,22,28,25,26,45,37,39,52,26,66,22,43,33,63,27,30,47,23],\"xaxis\":\"x\",\"y\":[33.6,26.6,23.3,28.1,43.1,25.6,31.0,35.3,30.5,0.0,37.6,38.0,27.1,30.1,25.8,30.0,45.8,29.6,43.3,34.6,39.3,35.4,39.8,29.0,36.6,31.1,39.4,23.2,22.2,34.1,36.0,31.6,24.8,19.9,27.6,24.0,33.2,32.9,38.2,37.1,34.0,40.2,22.7,45.4,27.4,42.0,29.7,28.0,39.1,0.0,19.4,24.2,24.4,33.7,34.7,23.0,37.7,46.8,40.5,41.5,0.0,32.9,25.0,25.4,32.8,29.0,32.5,42.7,19.6,28.9,32.9,28.6,43.4,35.1,32.0,24.7,32.6,37.7,43.2,25.0,22.4,0.0,29.3,24.6,48.8,32.4,36.6,38.5,37.1,26.5,19.1,32.0,46.7,23.8,24.7,33.9,31.6,20.4,28.7,49.7,39.0,26.1,22.5,26.6,39.6,28.7,22.4,29.5,34.3,37.4,33.3,34.0,31.2,34.0,30.5,31.2,34.0,33.7,28.2,23.2,53.2,34.2,33.6,26.8,33.3,55.0,42.9,33.3,34.5,27.9,29.7,33.3,34.5,38.3,21.1,33.8,30.8,28.7,31.2,36.9,21.1,39.5,32.5,32.4,32.8,0.0,32.8,30.5,33.7,27.3,37.4,21.9,34.3,40.6,47.9,50.0,24.6,25.2,29.0,40.9,29.7,37.2,44.2,29.7,31.6,29.9,32.5,29.6,31.9,28.4,30.8,35.4,28.9,43.5,29.7,32.7,31.2,67.1,45.0,39.1,23.2,34.9,27.7,26.8,27.6,35.9,30.1,32.0,27.9,31.6,22.6,33.1,30.4,52.3,24.4,39.4,24.3,22.9,34.8,30.9,31.0,40.1,27.3,20.4,37.7,23.9,37.5,37.7,33.2,35.5,27.7,42.8,34.2,42.6,34.2,41.8,35.8,30.0,29.0,37.8,34.6,31.6,25.2,28.8,23.6,34.6,35.7,37.2,36.7,45.2,44.0,46.2,25.4,35.0,29.7,43.6,35.9,44.1,30.8,18.4,29.2,33.1,25.6,27.1,38.2,30.0,31.2,52.3,35.4,30.1,31.2,28.0,24.4,35.8,27.6,33.6,30.1,28.7,25.9,33.3,30.9,30.0,32.1,32.4,32.0,33.6,36.3,40.0,25.1,27.5,45.6,25.2,23.0,33.2,34.2,40.5,26.5,27.8,24.9,25.3,37.9,35.9,32.4,30.4,27.0,26.0,38.7,45.6,20.8,36.1,36.9,36.6,43.3,40.5,21.9,35.5,28.0,30.7,36.6,23.6,32.3,31.6,35.8,52.9,21.0,39.7,25.5,24.8,30.5,32.9,26.2,39.4,26.6,29.5,35.9,34.1,19.3,30.5,38.1,23.5,27.5,31.6,27.4,26.8,35.7,25.6,35.1,35.1,45.5,30.8,23.1,32.7,43.3,23.6,23.9,47.9,33.8,31.2,34.2,39.9,25.9,25.9,32.0,34.7,36.8,38.5,28.7,23.5,21.8,41.0,42.2,31.2,34.4,27.2,42.7,30.4,33.3,39.9,35.3,36.5,31.2,29.8,39.2,38.5,34.9,34.0,27.6,21.0,27.5,32.8,38.4,0.0,35.8,34.9,36.2,39.2,25.2,37.2,48.3,43.4,30.8,20.0,25.4,25.1,24.3,22.3,32.3,43.3,32.0,31.6,32.0,45.7,23.7,22.1,32.9,27.7,24.7,34.3,21.1,34.9,32.0,24.2,35.0,31.6,32.9,42.1,28.9,21.9,25.9,42.4,35.7,34.4,42.4,26.2,34.6,35.7,27.2,38.5,18.2,26.4,45.3,26.0,40.6,30.8,42.9,37.0,0.0,34.1,40.6,35.0,22.2,30.4,30.0,25.6,24.5,42.4,37.4,29.9,18.2,36.8,34.3,32.2,33.2,30.5,29.7,59.4,25.3,36.5,33.6,30.5,21.2,28.9,39.9,19.6,37.8,33.6,26.7,30.2,37.6,25.9,20.8,21.8,35.3,27.6,24.0,21.8,27.8,36.8,30.0,46.1,41.3,33.2,38.8,29.9,28.9,27.3,33.7,23.8,25.9,28.0,35.5,35.2,27.8,38.2,44.2,42.3,40.7,46.5,25.6,26.1,36.8,33.5,32.8,28.9,0.0,26.6,26.0,30.1,25.1,29.3,25.2,37.2,39.0,33.3,37.3,33.3,36.5,28.6,30.4,25.0,29.7,22.1,24.2,27.3,25.6,31.6,30.3,37.6,32.8,19.6,25.0,33.2,0.0,34.2,31.6,21.8,18.2,26.3,30.8,24.6,29.8,45.3,41.3,29.8,33.3,32.9,29.6,21.7,36.3,36.4,39.4,32.4,34.9,39.5,32.0,34.5,43.6,33.1,32.8,28.5,27.4,31.9,27.8,29.9,36.9,25.5,38.1,27.8,46.2,30.1,33.8,41.3,37.6,26.9,32.4,26.1,38.6,32.0,31.3,34.3,32.5,22.6,29.5,34.7,30.1,35.5,24.0,42.9,27.0,34.7,42.1,25.0,26.5,38.7,28.7,22.5,34.9,24.3,33.3,21.1,46.8,39.4,34.4,28.5,33.6,32.0,45.3,27.8,36.8,23.1,27.1,23.7,27.8,35.2,28.4,35.8,40.0,19.5,41.5,24.0,30.9,32.9,38.2,32.5,36.1,25.8,28.7,20.1,28.2,32.4,38.4,24.2,40.8,43.5,30.8,37.7,24.7,32.4,34.6,24.7,27.4,34.5,26.2,27.5,25.9,31.2,28.8,31.6,40.9,19.5,29.3,34.3,29.5,28.0,27.6,39.4,23.4,37.8,28.3,26.4,25.2,33.8,34.1,26.8,34.2,38.7,21.8,38.9,39.0,34.2,27.7,42.9,37.6,37.9,33.7,34.8,32.5,27.5,34.0,30.9,33.6,25.4,35.5,57.3,35.6,30.9,24.8,35.3,36.0,24.2,24.2,49.6,44.6,32.3,0.0,33.2,23.1,28.3,24.1,46.1,24.6,42.3,39.1,38.5,23.5,30.4,29.9,25.0,34.5,44.5,35.9,27.6,35.0,38.5,28.4,39.8,0.0,34.4,32.8,38.0,31.2,29.6,41.2,26.4,29.5,33.9,33.8,23.1,35.5,35.6,29.3,38.1,29.3,39.1,32.8,39.4,36.1,32.4,22.9,30.1,28.4,28.4,44.5,29.0,23.3,35.4,27.4,32.0,36.6,39.5,42.3,30.8,28.5,32.7,40.6,30.0,49.3,46.3,36.4,24.3,31.2,39.0,26.0,43.3,32.4,36.5,32.0,36.3,37.5,35.5,28.4,44.0,22.5,32.9,36.8,26.2,30.1,30.4],\"yaxis\":\"y\",\"type\":\"scatter\"}],                        {\"template\":{\"data\":{\"bar\":[{\"error_x\":{\"color\":\"#f2f5fa\"},\"error_y\":{\"color\":\"#f2f5fa\"},\"marker\":{\"line\":{\"color\":\"rgb(17,17,17)\",\"width\":0.5},\"pattern\":{\"fillmode\":\"overlay\",\"size\":10,\"solidity\":0.2}},\"type\":\"bar\"}],\"barpolar\":[{\"marker\":{\"line\":{\"color\":\"rgb(17,17,17)\",\"width\":0.5},\"pattern\":{\"fillmode\":\"overlay\",\"size\":10,\"solidity\":0.2}},\"type\":\"barpolar\"}],\"carpet\":[{\"aaxis\":{\"endlinecolor\":\"#A2B1C6\",\"gridcolor\":\"#506784\",\"linecolor\":\"#506784\",\"minorgridcolor\":\"#506784\",\"startlinecolor\":\"#A2B1C6\"},\"baxis\":{\"endlinecolor\":\"#A2B1C6\",\"gridcolor\":\"#506784\",\"linecolor\":\"#506784\",\"minorgridcolor\":\"#506784\",\"startlinecolor\":\"#A2B1C6\"},\"type\":\"carpet\"}],\"choropleth\":[{\"colorbar\":{\"outlinewidth\":0,\"ticks\":\"\"},\"type\":\"choropleth\"}],\"contour\":[{\"colorbar\":{\"outlinewidth\":0,\"ticks\":\"\"},\"colorscale\":[[0.0,\"#0d0887\"],[0.1111111111111111,\"#46039f\"],[0.2222222222222222,\"#7201a8\"],[0.3333333333333333,\"#9c179e\"],[0.4444444444444444,\"#bd3786\"],[0.5555555555555556,\"#d8576b\"],[0.6666666666666666,\"#ed7953\"],[0.7777777777777778,\"#fb9f3a\"],[0.8888888888888888,\"#fdca26\"],[1.0,\"#f0f921\"]],\"type\":\"contour\"}],\"contourcarpet\":[{\"colorbar\":{\"outlinewidth\":0,\"ticks\":\"\"},\"type\":\"contourcarpet\"}],\"heatmap\":[{\"colorbar\":{\"outlinewidth\":0,\"ticks\":\"\"},\"colorscale\":[[0.0,\"#0d0887\"],[0.1111111111111111,\"#46039f\"],[0.2222222222222222,\"#7201a8\"],[0.3333333333333333,\"#9c179e\"],[0.4444444444444444,\"#bd3786\"],[0.5555555555555556,\"#d8576b\"],[0.6666666666666666,\"#ed7953\"],[0.7777777777777778,\"#fb9f3a\"],[0.8888888888888888,\"#fdca26\"],[1.0,\"#f0f921\"]],\"type\":\"heatmap\"}],\"heatmapgl\":[{\"colorbar\":{\"outlinewidth\":0,\"ticks\":\"\"},\"colorscale\":[[0.0,\"#0d0887\"],[0.1111111111111111,\"#46039f\"],[0.2222222222222222,\"#7201a8\"],[0.3333333333333333,\"#9c179e\"],[0.4444444444444444,\"#bd3786\"],[0.5555555555555556,\"#d8576b\"],[0.6666666666666666,\"#ed7953\"],[0.7777777777777778,\"#fb9f3a\"],[0.8888888888888888,\"#fdca26\"],[1.0,\"#f0f921\"]],\"type\":\"heatmapgl\"}],\"histogram\":[{\"marker\":{\"pattern\":{\"fillmode\":\"overlay\",\"size\":10,\"solidity\":0.2}},\"type\":\"histogram\"}],\"histogram2d\":[{\"colorbar\":{\"outlinewidth\":0,\"ticks\":\"\"},\"colorscale\":[[0.0,\"#0d0887\"],[0.1111111111111111,\"#46039f\"],[0.2222222222222222,\"#7201a8\"],[0.3333333333333333,\"#9c179e\"],[0.4444444444444444,\"#bd3786\"],[0.5555555555555556,\"#d8576b\"],[0.6666666666666666,\"#ed7953\"],[0.7777777777777778,\"#fb9f3a\"],[0.8888888888888888,\"#fdca26\"],[1.0,\"#f0f921\"]],\"type\":\"histogram2d\"}],\"histogram2dcontour\":[{\"colorbar\":{\"outlinewidth\":0,\"ticks\":\"\"},\"colorscale\":[[0.0,\"#0d0887\"],[0.1111111111111111,\"#46039f\"],[0.2222222222222222,\"#7201a8\"],[0.3333333333333333,\"#9c179e\"],[0.4444444444444444,\"#bd3786\"],[0.5555555555555556,\"#d8576b\"],[0.6666666666666666,\"#ed7953\"],[0.7777777777777778,\"#fb9f3a\"],[0.8888888888888888,\"#fdca26\"],[1.0,\"#f0f921\"]],\"type\":\"histogram2dcontour\"}],\"mesh3d\":[{\"colorbar\":{\"outlinewidth\":0,\"ticks\":\"\"},\"type\":\"mesh3d\"}],\"parcoords\":[{\"line\":{\"colorbar\":{\"outlinewidth\":0,\"ticks\":\"\"}},\"type\":\"parcoords\"}],\"pie\":[{\"automargin\":true,\"type\":\"pie\"}],\"scatter\":[{\"marker\":{\"line\":{\"color\":\"#283442\"}},\"type\":\"scatter\"}],\"scatter3d\":[{\"line\":{\"colorbar\":{\"outlinewidth\":0,\"ticks\":\"\"}},\"marker\":{\"colorbar\":{\"outlinewidth\":0,\"ticks\":\"\"}},\"type\":\"scatter3d\"}],\"scattercarpet\":[{\"marker\":{\"colorbar\":{\"outlinewidth\":0,\"ticks\":\"\"}},\"type\":\"scattercarpet\"}],\"scattergeo\":[{\"marker\":{\"colorbar\":{\"outlinewidth\":0,\"ticks\":\"\"}},\"type\":\"scattergeo\"}],\"scattergl\":[{\"marker\":{\"line\":{\"color\":\"#283442\"}},\"type\":\"scattergl\"}],\"scattermapbox\":[{\"marker\":{\"colorbar\":{\"outlinewidth\":0,\"ticks\":\"\"}},\"type\":\"scattermapbox\"}],\"scatterpolar\":[{\"marker\":{\"colorbar\":{\"outlinewidth\":0,\"ticks\":\"\"}},\"type\":\"scatterpolar\"}],\"scatterpolargl\":[{\"marker\":{\"colorbar\":{\"outlinewidth\":0,\"ticks\":\"\"}},\"type\":\"scatterpolargl\"}],\"scatterternary\":[{\"marker\":{\"colorbar\":{\"outlinewidth\":0,\"ticks\":\"\"}},\"type\":\"scatterternary\"}],\"surface\":[{\"colorbar\":{\"outlinewidth\":0,\"ticks\":\"\"},\"colorscale\":[[0.0,\"#0d0887\"],[0.1111111111111111,\"#46039f\"],[0.2222222222222222,\"#7201a8\"],[0.3333333333333333,\"#9c179e\"],[0.4444444444444444,\"#bd3786\"],[0.5555555555555556,\"#d8576b\"],[0.6666666666666666,\"#ed7953\"],[0.7777777777777778,\"#fb9f3a\"],[0.8888888888888888,\"#fdca26\"],[1.0,\"#f0f921\"]],\"type\":\"surface\"}],\"table\":[{\"cells\":{\"fill\":{\"color\":\"#506784\"},\"line\":{\"color\":\"rgb(17,17,17)\"}},\"header\":{\"fill\":{\"color\":\"#2a3f5f\"},\"line\":{\"color\":\"rgb(17,17,17)\"}},\"type\":\"table\"}]},\"layout\":{\"annotationdefaults\":{\"arrowcolor\":\"#f2f5fa\",\"arrowhead\":0,\"arrowwidth\":1},\"autotypenumbers\":\"strict\",\"coloraxis\":{\"colorbar\":{\"outlinewidth\":0,\"ticks\":\"\"}},\"colorscale\":{\"diverging\":[[0,\"#8e0152\"],[0.1,\"#c51b7d\"],[0.2,\"#de77ae\"],[0.3,\"#f1b6da\"],[0.4,\"#fde0ef\"],[0.5,\"#f7f7f7\"],[0.6,\"#e6f5d0\"],[0.7,\"#b8e186\"],[0.8,\"#7fbc41\"],[0.9,\"#4d9221\"],[1,\"#276419\"]],\"sequential\":[[0.0,\"#0d0887\"],[0.1111111111111111,\"#46039f\"],[0.2222222222222222,\"#7201a8\"],[0.3333333333333333,\"#9c179e\"],[0.4444444444444444,\"#bd3786\"],[0.5555555555555556,\"#d8576b\"],[0.6666666666666666,\"#ed7953\"],[0.7777777777777778,\"#fb9f3a\"],[0.8888888888888888,\"#fdca26\"],[1.0,\"#f0f921\"]],\"sequentialminus\":[[0.0,\"#0d0887\"],[0.1111111111111111,\"#46039f\"],[0.2222222222222222,\"#7201a8\"],[0.3333333333333333,\"#9c179e\"],[0.4444444444444444,\"#bd3786\"],[0.5555555555555556,\"#d8576b\"],[0.6666666666666666,\"#ed7953\"],[0.7777777777777778,\"#fb9f3a\"],[0.8888888888888888,\"#fdca26\"],[1.0,\"#f0f921\"]]},\"colorway\":[\"#636efa\",\"#EF553B\",\"#00cc96\",\"#ab63fa\",\"#FFA15A\",\"#19d3f3\",\"#FF6692\",\"#B6E880\",\"#FF97FF\",\"#FECB52\"],\"font\":{\"color\":\"#f2f5fa\"},\"geo\":{\"bgcolor\":\"rgb(17,17,17)\",\"lakecolor\":\"rgb(17,17,17)\",\"landcolor\":\"rgb(17,17,17)\",\"showlakes\":true,\"showland\":true,\"subunitcolor\":\"#506784\"},\"hoverlabel\":{\"align\":\"left\"},\"hovermode\":\"closest\",\"mapbox\":{\"style\":\"dark\"},\"paper_bgcolor\":\"rgb(17,17,17)\",\"plot_bgcolor\":\"rgb(17,17,17)\",\"polar\":{\"angularaxis\":{\"gridcolor\":\"#506784\",\"linecolor\":\"#506784\",\"ticks\":\"\"},\"bgcolor\":\"rgb(17,17,17)\",\"radialaxis\":{\"gridcolor\":\"#506784\",\"linecolor\":\"#506784\",\"ticks\":\"\"}},\"scene\":{\"xaxis\":{\"backgroundcolor\":\"rgb(17,17,17)\",\"gridcolor\":\"#506784\",\"gridwidth\":2,\"linecolor\":\"#506784\",\"showbackground\":true,\"ticks\":\"\",\"zerolinecolor\":\"#C8D4E3\"},\"yaxis\":{\"backgroundcolor\":\"rgb(17,17,17)\",\"gridcolor\":\"#506784\",\"gridwidth\":2,\"linecolor\":\"#506784\",\"showbackground\":true,\"ticks\":\"\",\"zerolinecolor\":\"#C8D4E3\"},\"zaxis\":{\"backgroundcolor\":\"rgb(17,17,17)\",\"gridcolor\":\"#506784\",\"gridwidth\":2,\"linecolor\":\"#506784\",\"showbackground\":true,\"ticks\":\"\",\"zerolinecolor\":\"#C8D4E3\"}},\"shapedefaults\":{\"line\":{\"color\":\"#f2f5fa\"}},\"sliderdefaults\":{\"bgcolor\":\"#C8D4E3\",\"bordercolor\":\"rgb(17,17,17)\",\"borderwidth\":1,\"tickwidth\":0},\"ternary\":{\"aaxis\":{\"gridcolor\":\"#506784\",\"linecolor\":\"#506784\",\"ticks\":\"\"},\"baxis\":{\"gridcolor\":\"#506784\",\"linecolor\":\"#506784\",\"ticks\":\"\"},\"bgcolor\":\"rgb(17,17,17)\",\"caxis\":{\"gridcolor\":\"#506784\",\"linecolor\":\"#506784\",\"ticks\":\"\"}},\"title\":{\"x\":0.05},\"updatemenudefaults\":{\"bgcolor\":\"#506784\",\"borderwidth\":0},\"xaxis\":{\"automargin\":true,\"gridcolor\":\"#283442\",\"linecolor\":\"#506784\",\"ticks\":\"\",\"title\":{\"standoff\":15},\"zerolinecolor\":\"#283442\",\"zerolinewidth\":2},\"yaxis\":{\"automargin\":true,\"gridcolor\":\"#283442\",\"linecolor\":\"#506784\",\"ticks\":\"\",\"title\":{\"standoff\":15},\"zerolinecolor\":\"#283442\",\"zerolinewidth\":2}}},\"xaxis\":{\"anchor\":\"y\",\"domain\":[0.0,1.0],\"title\":{\"text\":\"Age\"}},\"yaxis\":{\"anchor\":\"x\",\"domain\":[0.0,1.0],\"title\":{\"text\":\"BMI\"}},\"coloraxis\":{\"colorbar\":{\"title\":{\"text\":\"Outcome\"}},\"colorscale\":[[0.0,\"#0d0887\"],[0.1111111111111111,\"#46039f\"],[0.2222222222222222,\"#7201a8\"],[0.3333333333333333,\"#9c179e\"],[0.4444444444444444,\"#bd3786\"],[0.5555555555555556,\"#d8576b\"],[0.6666666666666666,\"#ed7953\"],[0.7777777777777778,\"#fb9f3a\"],[0.8888888888888888,\"#fdca26\"],[1.0,\"#f0f921\"]]},\"legend\":{\"tracegroupgap\":0},\"margin\":{\"t\":60}},                        {\"responsive\": true}                    ).then(function(){\n                            \nvar gd = document.getElementById('63c5cc23-fa49-45c4-a5ad-cdf1a9720658');\nvar x = new MutationObserver(function (mutations, observer) {{\n        var display = window.getComputedStyle(gd).display;\n        if (!display || display === 'none') {{\n            console.log([gd, 'removed!']);\n            Plotly.purge(gd);\n            observer.disconnect();\n        }}\n}});\n\n// Listen for the removal of the full notebook cells\nvar notebookContainer = gd.closest('#notebook-container');\nif (notebookContainer) {{\n    x.observe(notebookContainer, {childList: true});\n}}\n\n// Listen for the clearing of the current output cell\nvar outputEl = gd.closest('.output');\nif (outputEl) {{\n    x.observe(outputEl, {childList: true});\n}}\n\n                        })                };                });            </script>        </div>"
     },
     "metadata": {},
     "output_type": "display_data"
    }
   ],
   "source": [
    "fig  = px.scatter(df, x='Age', y='BMI', color='Outcome',)\n",
    "fig.show()"
   ],
   "metadata": {
    "collapsed": false,
    "pycharm": {
     "name": "#%%\n"
    }
   }
  },
  {
   "cell_type": "code",
   "execution_count": 19,
   "outputs": [
    {
     "data": {
      "text/plain": "           Date   AAPL.Open   AAPL.High    AAPL.Low  AAPL.Close  AAPL.Volume  \\\n0    2015-02-17  127.489998  128.880005  126.919998  127.830002     63152400   \n1    2015-02-18  127.629997  128.779999  127.449997  128.720001     44891700   \n2    2015-02-19  128.479996  129.029999  128.330002  128.449997     37362400   \n3    2015-02-20  128.619995  129.500000  128.050003  129.500000     48948400   \n4    2015-02-23  130.020004  133.000000  129.660004  133.000000     70974100   \n..          ...         ...         ...         ...         ...          ...   \n501  2017-02-10  132.460007  132.940002  132.050003  132.119995     20065500   \n502  2017-02-13  133.080002  133.820007  132.750000  133.289993     23035400   \n503  2017-02-14  133.470001  135.089996  133.250000  135.020004     32815500   \n504  2017-02-15  135.520004  136.270004  134.619995  135.509995     35501600   \n505  2017-02-16  135.669998  135.899994  134.839996  135.350006     22118000   \n\n     AAPL.Adjusted          dn        mavg          up   direction  \n0       122.905254  106.741052  117.927667  129.114281  Increasing  \n1       123.760965  107.842423  118.940333  130.038244  Increasing  \n2       123.501363  108.894245  119.889167  130.884089  Decreasing  \n3       124.510914  109.785449  120.763500  131.741551  Increasing  \n4       127.876074  110.372516  121.720167  133.067817  Increasing  \n..             ...         ...         ...         ...         ...  \n501     132.119995  114.494004  124.498666  134.503328  Decreasing  \n502     133.289993  114.820798  125.205166  135.589534  Increasing  \n503     135.020004  115.175718  125.953499  136.731280  Increasing  \n504     135.509995  115.545035  126.723499  137.901963  Decreasing  \n505     135.350006  116.203299  127.504333  138.805366  Decreasing  \n\n[506 rows x 11 columns]",
      "text/html": "<div>\n<style scoped>\n    .dataframe tbody tr th:only-of-type {\n        vertical-align: middle;\n    }\n\n    .dataframe tbody tr th {\n        vertical-align: top;\n    }\n\n    .dataframe thead th {\n        text-align: right;\n    }\n</style>\n<table border=\"1\" class=\"dataframe\">\n  <thead>\n    <tr style=\"text-align: right;\">\n      <th></th>\n      <th>Date</th>\n      <th>AAPL.Open</th>\n      <th>AAPL.High</th>\n      <th>AAPL.Low</th>\n      <th>AAPL.Close</th>\n      <th>AAPL.Volume</th>\n      <th>AAPL.Adjusted</th>\n      <th>dn</th>\n      <th>mavg</th>\n      <th>up</th>\n      <th>direction</th>\n    </tr>\n  </thead>\n  <tbody>\n    <tr>\n      <th>0</th>\n      <td>2015-02-17</td>\n      <td>127.489998</td>\n      <td>128.880005</td>\n      <td>126.919998</td>\n      <td>127.830002</td>\n      <td>63152400</td>\n      <td>122.905254</td>\n      <td>106.741052</td>\n      <td>117.927667</td>\n      <td>129.114281</td>\n      <td>Increasing</td>\n    </tr>\n    <tr>\n      <th>1</th>\n      <td>2015-02-18</td>\n      <td>127.629997</td>\n      <td>128.779999</td>\n      <td>127.449997</td>\n      <td>128.720001</td>\n      <td>44891700</td>\n      <td>123.760965</td>\n      <td>107.842423</td>\n      <td>118.940333</td>\n      <td>130.038244</td>\n      <td>Increasing</td>\n    </tr>\n    <tr>\n      <th>2</th>\n      <td>2015-02-19</td>\n      <td>128.479996</td>\n      <td>129.029999</td>\n      <td>128.330002</td>\n      <td>128.449997</td>\n      <td>37362400</td>\n      <td>123.501363</td>\n      <td>108.894245</td>\n      <td>119.889167</td>\n      <td>130.884089</td>\n      <td>Decreasing</td>\n    </tr>\n    <tr>\n      <th>3</th>\n      <td>2015-02-20</td>\n      <td>128.619995</td>\n      <td>129.500000</td>\n      <td>128.050003</td>\n      <td>129.500000</td>\n      <td>48948400</td>\n      <td>124.510914</td>\n      <td>109.785449</td>\n      <td>120.763500</td>\n      <td>131.741551</td>\n      <td>Increasing</td>\n    </tr>\n    <tr>\n      <th>4</th>\n      <td>2015-02-23</td>\n      <td>130.020004</td>\n      <td>133.000000</td>\n      <td>129.660004</td>\n      <td>133.000000</td>\n      <td>70974100</td>\n      <td>127.876074</td>\n      <td>110.372516</td>\n      <td>121.720167</td>\n      <td>133.067817</td>\n      <td>Increasing</td>\n    </tr>\n    <tr>\n      <th>...</th>\n      <td>...</td>\n      <td>...</td>\n      <td>...</td>\n      <td>...</td>\n      <td>...</td>\n      <td>...</td>\n      <td>...</td>\n      <td>...</td>\n      <td>...</td>\n      <td>...</td>\n      <td>...</td>\n    </tr>\n    <tr>\n      <th>501</th>\n      <td>2017-02-10</td>\n      <td>132.460007</td>\n      <td>132.940002</td>\n      <td>132.050003</td>\n      <td>132.119995</td>\n      <td>20065500</td>\n      <td>132.119995</td>\n      <td>114.494004</td>\n      <td>124.498666</td>\n      <td>134.503328</td>\n      <td>Decreasing</td>\n    </tr>\n    <tr>\n      <th>502</th>\n      <td>2017-02-13</td>\n      <td>133.080002</td>\n      <td>133.820007</td>\n      <td>132.750000</td>\n      <td>133.289993</td>\n      <td>23035400</td>\n      <td>133.289993</td>\n      <td>114.820798</td>\n      <td>125.205166</td>\n      <td>135.589534</td>\n      <td>Increasing</td>\n    </tr>\n    <tr>\n      <th>503</th>\n      <td>2017-02-14</td>\n      <td>133.470001</td>\n      <td>135.089996</td>\n      <td>133.250000</td>\n      <td>135.020004</td>\n      <td>32815500</td>\n      <td>135.020004</td>\n      <td>115.175718</td>\n      <td>125.953499</td>\n      <td>136.731280</td>\n      <td>Increasing</td>\n    </tr>\n    <tr>\n      <th>504</th>\n      <td>2017-02-15</td>\n      <td>135.520004</td>\n      <td>136.270004</td>\n      <td>134.619995</td>\n      <td>135.509995</td>\n      <td>35501600</td>\n      <td>135.509995</td>\n      <td>115.545035</td>\n      <td>126.723499</td>\n      <td>137.901963</td>\n      <td>Decreasing</td>\n    </tr>\n    <tr>\n      <th>505</th>\n      <td>2017-02-16</td>\n      <td>135.669998</td>\n      <td>135.899994</td>\n      <td>134.839996</td>\n      <td>135.350006</td>\n      <td>22118000</td>\n      <td>135.350006</td>\n      <td>116.203299</td>\n      <td>127.504333</td>\n      <td>138.805366</td>\n      <td>Decreasing</td>\n    </tr>\n  </tbody>\n</table>\n<p>506 rows × 11 columns</p>\n</div>"
     },
     "execution_count": 19,
     "metadata": {},
     "output_type": "execute_result"
    }
   ],
   "source": [
    "df = pd.read_csv('https://raw.githubusercontent.com/plotly/datasets/master/finance-charts-apple.csv')\n",
    "df"
   ],
   "metadata": {
    "collapsed": false,
    "pycharm": {
     "name": "#%%\n"
    }
   }
  },
  {
   "cell_type": "code",
   "execution_count": 21,
   "outputs": [
    {
     "data": {
      "application/vnd.plotly.v1+json": {
       "data": [
        {
         "x": [
          "2015-02-17",
          "2015-02-18",
          "2015-02-19",
          "2015-02-20",
          "2015-02-23",
          "2015-02-24",
          "2015-02-25",
          "2015-02-26",
          "2015-02-27",
          "2015-03-02",
          "2015-03-03",
          "2015-03-04",
          "2015-03-05",
          "2015-03-06",
          "2015-03-09",
          "2015-03-10",
          "2015-03-11",
          "2015-03-12",
          "2015-03-13",
          "2015-03-16",
          "2015-03-17",
          "2015-03-18",
          "2015-03-19",
          "2015-03-20",
          "2015-03-23",
          "2015-03-24",
          "2015-03-25",
          "2015-03-26",
          "2015-03-27",
          "2015-03-30",
          "2015-03-31",
          "2015-04-01",
          "2015-04-02",
          "2015-04-06",
          "2015-04-07",
          "2015-04-08",
          "2015-04-09",
          "2015-04-10",
          "2015-04-13",
          "2015-04-14",
          "2015-04-15",
          "2015-04-16",
          "2015-04-17",
          "2015-04-20",
          "2015-04-21",
          "2015-04-22",
          "2015-04-23",
          "2015-04-24",
          "2015-04-27",
          "2015-04-28",
          "2015-04-29",
          "2015-04-30",
          "2015-05-01",
          "2015-05-04",
          "2015-05-05",
          "2015-05-06",
          "2015-05-07",
          "2015-05-08",
          "2015-05-11",
          "2015-05-12",
          "2015-05-13",
          "2015-05-14",
          "2015-05-15",
          "2015-05-18",
          "2015-05-19",
          "2015-05-20",
          "2015-05-21",
          "2015-05-22",
          "2015-05-26",
          "2015-05-27",
          "2015-05-28",
          "2015-05-29",
          "2015-06-01",
          "2015-06-02",
          "2015-06-03",
          "2015-06-04",
          "2015-06-05",
          "2015-06-08",
          "2015-06-09",
          "2015-06-10",
          "2015-06-11",
          "2015-06-12",
          "2015-06-15",
          "2015-06-16",
          "2015-06-17",
          "2015-06-18",
          "2015-06-19",
          "2015-06-22",
          "2015-06-23",
          "2015-06-24",
          "2015-06-25",
          "2015-06-26",
          "2015-06-29",
          "2015-06-30",
          "2015-07-01",
          "2015-07-02",
          "2015-07-06",
          "2015-07-07",
          "2015-07-08",
          "2015-07-09",
          "2015-07-10",
          "2015-07-13",
          "2015-07-14",
          "2015-07-15",
          "2015-07-16",
          "2015-07-17",
          "2015-07-20",
          "2015-07-21",
          "2015-07-22",
          "2015-07-23",
          "2015-07-24",
          "2015-07-27",
          "2015-07-28",
          "2015-07-29",
          "2015-07-30",
          "2015-07-31",
          "2015-08-03",
          "2015-08-04",
          "2015-08-05",
          "2015-08-06",
          "2015-08-07",
          "2015-08-10",
          "2015-08-11",
          "2015-08-12",
          "2015-08-13",
          "2015-08-14",
          "2015-08-17",
          "2015-08-18",
          "2015-08-19",
          "2015-08-20",
          "2015-08-21",
          "2015-08-24",
          "2015-08-25",
          "2015-08-26",
          "2015-08-27",
          "2015-08-28",
          "2015-08-31",
          "2015-09-01",
          "2015-09-02",
          "2015-09-03",
          "2015-09-04",
          "2015-09-08",
          "2015-09-09",
          "2015-09-10",
          "2015-09-11",
          "2015-09-14",
          "2015-09-15",
          "2015-09-16",
          "2015-09-17",
          "2015-09-18",
          "2015-09-21",
          "2015-09-22",
          "2015-09-23",
          "2015-09-24",
          "2015-09-25",
          "2015-09-28",
          "2015-09-29",
          "2015-09-30",
          "2015-10-01",
          "2015-10-02",
          "2015-10-05",
          "2015-10-06",
          "2015-10-07",
          "2015-10-08",
          "2015-10-09",
          "2015-10-12",
          "2015-10-13",
          "2015-10-14",
          "2015-10-15",
          "2015-10-16",
          "2015-10-19",
          "2015-10-20",
          "2015-10-21",
          "2015-10-22",
          "2015-10-23",
          "2015-10-26",
          "2015-10-27",
          "2015-10-28",
          "2015-10-29",
          "2015-10-30",
          "2015-11-02",
          "2015-11-03",
          "2015-11-04",
          "2015-11-05",
          "2015-11-06",
          "2015-11-09",
          "2015-11-10",
          "2015-11-11",
          "2015-11-12",
          "2015-11-13",
          "2015-11-16",
          "2015-11-17",
          "2015-11-18",
          "2015-11-19",
          "2015-11-20",
          "2015-11-23",
          "2015-11-24",
          "2015-11-25",
          "2015-11-27",
          "2015-11-30",
          "2015-12-01",
          "2015-12-02",
          "2015-12-03",
          "2015-12-04",
          "2015-12-07",
          "2015-12-08",
          "2015-12-09",
          "2015-12-10",
          "2015-12-11",
          "2015-12-14",
          "2015-12-15",
          "2015-12-16",
          "2015-12-17",
          "2015-12-18",
          "2015-12-21",
          "2015-12-22",
          "2015-12-23",
          "2015-12-24",
          "2015-12-28",
          "2015-12-29",
          "2015-12-30",
          "2015-12-31",
          "2016-01-04",
          "2016-01-05",
          "2016-01-06",
          "2016-01-07",
          "2016-01-08",
          "2016-01-11",
          "2016-01-12",
          "2016-01-13",
          "2016-01-14",
          "2016-01-15",
          "2016-01-19",
          "2016-01-20",
          "2016-01-21",
          "2016-01-22",
          "2016-01-25",
          "2016-01-26",
          "2016-01-27",
          "2016-01-28",
          "2016-01-29",
          "2016-02-01",
          "2016-02-02",
          "2016-02-03",
          "2016-02-04",
          "2016-02-05",
          "2016-02-08",
          "2016-02-09",
          "2016-02-10",
          "2016-02-11",
          "2016-02-12",
          "2016-02-16",
          "2016-02-17",
          "2016-02-18",
          "2016-02-19",
          "2016-02-22",
          "2016-02-23",
          "2016-02-24",
          "2016-02-25",
          "2016-02-26",
          "2016-02-29",
          "2016-03-01",
          "2016-03-02",
          "2016-03-03",
          "2016-03-04",
          "2016-03-07",
          "2016-03-08",
          "2016-03-09",
          "2016-03-10",
          "2016-03-11",
          "2016-03-14",
          "2016-03-15",
          "2016-03-16",
          "2016-03-17",
          "2016-03-18",
          "2016-03-21",
          "2016-03-22",
          "2016-03-23",
          "2016-03-24",
          "2016-03-28",
          "2016-03-29",
          "2016-03-30",
          "2016-03-31",
          "2016-04-01",
          "2016-04-04",
          "2016-04-05",
          "2016-04-06",
          "2016-04-07",
          "2016-04-08",
          "2016-04-11",
          "2016-04-12",
          "2016-04-13",
          "2016-04-14",
          "2016-04-15",
          "2016-04-18",
          "2016-04-19",
          "2016-04-20",
          "2016-04-21",
          "2016-04-22",
          "2016-04-25",
          "2016-04-26",
          "2016-04-27",
          "2016-04-28",
          "2016-04-29",
          "2016-05-02",
          "2016-05-03",
          "2016-05-04",
          "2016-05-05",
          "2016-05-06",
          "2016-05-09",
          "2016-05-10",
          "2016-05-11",
          "2016-05-12",
          "2016-05-13",
          "2016-05-16",
          "2016-05-17",
          "2016-05-18",
          "2016-05-19",
          "2016-05-20",
          "2016-05-23",
          "2016-05-24",
          "2016-05-25",
          "2016-05-26",
          "2016-05-27",
          "2016-05-31",
          "2016-06-01",
          "2016-06-02",
          "2016-06-03",
          "2016-06-06",
          "2016-06-07",
          "2016-06-08",
          "2016-06-09",
          "2016-06-10",
          "2016-06-13",
          "2016-06-14",
          "2016-06-15",
          "2016-06-16",
          "2016-06-17",
          "2016-06-20",
          "2016-06-21",
          "2016-06-22",
          "2016-06-23",
          "2016-06-24",
          "2016-06-27",
          "2016-06-28",
          "2016-06-29",
          "2016-06-30",
          "2016-07-01",
          "2016-07-05",
          "2016-07-06",
          "2016-07-07",
          "2016-07-08",
          "2016-07-11",
          "2016-07-12",
          "2016-07-13",
          "2016-07-14",
          "2016-07-15",
          "2016-07-18",
          "2016-07-19",
          "2016-07-20",
          "2016-07-21",
          "2016-07-22",
          "2016-07-25",
          "2016-07-26",
          "2016-07-27",
          "2016-07-28",
          "2016-07-29",
          "2016-08-01",
          "2016-08-02",
          "2016-08-03",
          "2016-08-04",
          "2016-08-05",
          "2016-08-08",
          "2016-08-09",
          "2016-08-10",
          "2016-08-11",
          "2016-08-12",
          "2016-08-15",
          "2016-08-16",
          "2016-08-17",
          "2016-08-18",
          "2016-08-19",
          "2016-08-22",
          "2016-08-23",
          "2016-08-24",
          "2016-08-25",
          "2016-08-26",
          "2016-08-29",
          "2016-08-30",
          "2016-08-31",
          "2016-09-01",
          "2016-09-02",
          "2016-09-06",
          "2016-09-07",
          "2016-09-08",
          "2016-09-09",
          "2016-09-12",
          "2016-09-13",
          "2016-09-14",
          "2016-09-15",
          "2016-09-16",
          "2016-09-19",
          "2016-09-20",
          "2016-09-21",
          "2016-09-22",
          "2016-09-23",
          "2016-09-26",
          "2016-09-27",
          "2016-09-28",
          "2016-09-29",
          "2016-09-30",
          "2016-10-03",
          "2016-10-04",
          "2016-10-05",
          "2016-10-06",
          "2016-10-07",
          "2016-10-10",
          "2016-10-11",
          "2016-10-12",
          "2016-10-13",
          "2016-10-14",
          "2016-10-17",
          "2016-10-18",
          "2016-10-19",
          "2016-10-20",
          "2016-10-21",
          "2016-10-24",
          "2016-10-25",
          "2016-10-26",
          "2016-10-27",
          "2016-10-28",
          "2016-10-31",
          "2016-11-01",
          "2016-11-02",
          "2016-11-03",
          "2016-11-04",
          "2016-11-07",
          "2016-11-08",
          "2016-11-09",
          "2016-11-10",
          "2016-11-11",
          "2016-11-14",
          "2016-11-15",
          "2016-11-16",
          "2016-11-17",
          "2016-11-18",
          "2016-11-21",
          "2016-11-22",
          "2016-11-23",
          "2016-11-25",
          "2016-11-28",
          "2016-11-29",
          "2016-11-30",
          "2016-12-01",
          "2016-12-02",
          "2016-12-05",
          "2016-12-06",
          "2016-12-07",
          "2016-12-08",
          "2016-12-09",
          "2016-12-12",
          "2016-12-13",
          "2016-12-14",
          "2016-12-15",
          "2016-12-16",
          "2016-12-19",
          "2016-12-20",
          "2016-12-21",
          "2016-12-22",
          "2016-12-23",
          "2016-12-27",
          "2016-12-28",
          "2016-12-29",
          "2016-12-30",
          "2017-01-03",
          "2017-01-04",
          "2017-01-05",
          "2017-01-06",
          "2017-01-09",
          "2017-01-10",
          "2017-01-11",
          "2017-01-12",
          "2017-01-13",
          "2017-01-17",
          "2017-01-18",
          "2017-01-19",
          "2017-01-20",
          "2017-01-23",
          "2017-01-24",
          "2017-01-25",
          "2017-01-26",
          "2017-01-27",
          "2017-01-30",
          "2017-01-31",
          "2017-02-01",
          "2017-02-02",
          "2017-02-03",
          "2017-02-06",
          "2017-02-07",
          "2017-02-08",
          "2017-02-09",
          "2017-02-10",
          "2017-02-13",
          "2017-02-14",
          "2017-02-15",
          "2017-02-16"
         ],
         "y": [
          127.489998,
          127.629997,
          128.479996,
          128.619995,
          130.020004,
          132.940002,
          131.559998,
          128.789993,
          130.0,
          129.25,
          128.960007,
          129.100006,
          128.580002,
          128.399994,
          127.959999,
          126.410004,
          124.75,
          122.309998,
          124.400002,
          123.879997,
          125.900002,
          127.0,
          128.75,
          128.25,
          127.120003,
          127.230003,
          126.540001,
          122.760002,
          124.57,
          124.050003,
          126.089996,
          124.82,
          125.029999,
          124.470001,
          127.639999,
          125.849998,
          125.849998,
          125.949997,
          128.369995,
          127.0,
          126.410004,
          126.279999,
          125.550003,
          125.57,
          128.100006,
          126.989998,
          128.300003,
          130.490005,
          132.309998,
          134.460007,
          130.160004,
          128.639999,
          126.099998,
          129.5,
          128.149994,
          126.559998,
          124.769997,
          126.68,
          127.389999,
          125.599998,
          126.150002,
          127.410004,
          129.070007,
          128.380005,
          130.690002,
          130.0,
          130.070007,
          131.600006,
          132.600006,
          130.339996,
          131.860001,
          131.229996,
          130.279999,
          129.860001,
          130.660004,
          129.580002,
          129.5,
          128.899994,
          126.699997,
          127.919998,
          129.179993,
          128.190002,
          126.099998,
          127.029999,
          127.720001,
          127.230003,
          127.709999,
          127.489998,
          127.480003,
          127.209999,
          128.860001,
          127.669998,
          125.459999,
          125.57,
          126.900002,
          126.43,
          124.940002,
          125.889999,
          124.480003,
          123.849998,
          121.940002,
          125.029999,
          126.040001,
          125.720001,
          127.739998,
          129.080002,
          130.970001,
          132.850006,
          121.989998,
          126.199997,
          125.32,
          123.089996,
          123.379997,
          123.150002,
          122.32,
          122.599998,
          121.5,
          117.419998,
          112.949997,
          115.970001,
          114.580002,
          116.529999,
          117.809998,
          112.529999,
          116.040001,
          114.32,
          116.040001,
          116.43,
          116.099998,
          114.080002,
          110.43,
          94.870003,
          111.110001,
          107.089996,
          112.230003,
          112.169998,
          112.029999,
          110.150002,
          110.230003,
          112.489998,
          108.970001,
          111.75,
          113.760002,
          110.269997,
          111.790001,
          116.580002,
          115.93,
          116.25,
          115.660004,
          112.209999,
          113.669998,
          113.379997,
          113.629997,
          113.25,
          116.440002,
          113.849998,
          112.830002,
          110.169998,
          109.07,
          108.010002,
          109.879997,
          110.629997,
          111.739998,
          110.190002,
          110.0,
          112.730003,
          110.82,
          111.290001,
          110.93,
          111.779999,
          110.800003,
          111.339996,
          114.0,
          114.330002,
          116.699997,
          118.080002,
          115.400002,
          116.93,
          118.699997,
          120.989998,
          120.800003,
          120.790001,
          123.129997,
          121.849998,
          121.110001,
          120.959999,
          116.900002,
          116.370003,
          116.260002,
          115.199997,
          111.379997,
          114.919998,
          115.760002,
          117.639999,
          119.199997,
          119.269997,
          117.330002,
          119.209999,
          118.290001,
          117.989998,
          118.75,
          117.339996,
          116.550003,
          115.290001,
          118.980003,
          117.519997,
          117.639999,
          116.040001,
          115.190002,
          112.18,
          111.940002,
          111.07,
          112.019997,
          108.910004,
          107.279999,
          107.400002,
          107.269997,
          109.0,
          107.589996,
          106.959999,
          108.580002,
          107.010002,
          102.610001,
          105.75,
          100.559998,
          98.68,
          98.550003,
          98.970001,
          100.550003,
          100.32,
          97.959999,
          96.199997,
          98.410004,
          95.099998,
          97.059998,
          98.629997,
          101.519997,
          99.93,
          96.040001,
          93.790001,
          94.790001,
          96.470001,
          95.419998,
          95.0,
          95.860001,
          96.519997,
          93.129997,
          94.290001,
          95.919998,
          93.790001,
          94.190002,
          95.019997,
          96.669998,
          98.839996,
          96.0,
          96.309998,
          96.400002,
          93.980003,
          96.050003,
          97.199997,
          96.860001,
          97.650002,
          100.510002,
          100.580002,
          102.370003,
          102.389999,
          100.779999,
          101.309998,
          101.410004,
          102.239998,
          101.910004,
          103.959999,
          104.610001,
          105.519997,
          106.339996,
          105.93,
          105.25,
          106.480003,
          105.470001,
          106.0,
          104.889999,
          108.650002,
          109.720001,
          108.779999,
          110.419998,
          109.510002,
          110.230003,
          109.949997,
          108.910004,
          108.970001,
          109.339996,
          110.800003,
          111.620003,
          112.110001,
          108.889999,
          107.879997,
          106.639999,
          106.93,
          105.010002,
          105.0,
          103.910004,
          96.0,
          97.610001,
          93.989998,
          93.970001,
          94.199997,
          95.199997,
          94.0,
          93.370003,
          93.0,
          93.330002,
          93.480003,
          92.720001,
          90.0,
          92.389999,
          94.550003,
          94.160004,
          94.639999,
          94.639999,
          95.870003,
          97.220001,
          98.669998,
          99.68,
          99.440002,
          99.599998,
          99.019997,
          97.599998,
          97.790001,
          97.989998,
          99.25,
          99.019997,
          98.5,
          98.529999,
          98.690002,
          97.32,
          97.82,
          96.449997,
          96.620003,
          96.0,
          94.940002,
          96.25,
          95.940002,
          92.910004,
          93.0,
          92.900002,
          93.970001,
          94.440002,
          95.489998,
          95.389999,
          94.599998,
          95.699997,
          96.489998,
          96.75,
          97.169998,
          97.410004,
          97.389999,
          98.919998,
          98.699997,
          99.559998,
          100.0,
          99.830002,
          99.260002,
          98.25,
          96.82,
          104.269997,
          102.830002,
          104.190002,
          104.410004,
          106.050003,
          104.809998,
          105.580002,
          106.269997,
          107.519997,
          108.230003,
          108.709999,
          108.519997,
          107.779999,
          108.139999,
          109.629997,
          109.099998,
          109.230003,
          108.769997,
          108.860001,
          108.589996,
          108.57,
          107.389999,
          107.410004,
          106.620003,
          105.800003,
          105.660004,
          106.139999,
          107.699997,
          107.900002,
          107.830002,
          107.25,
          104.639999,
          102.650002,
          107.510002,
          108.730003,
          113.860001,
          115.120003,
          115.190002,
          113.050003,
          113.849998,
          114.349998,
          114.419998,
          111.639999,
          113.0,
          113.690002,
          113.160004,
          112.459999,
          112.709999,
          113.059998,
          113.400002,
          113.699997,
          114.309998,
          115.019997,
          117.699997,
          117.349998,
          116.790001,
          117.879997,
          117.330002,
          118.18,
          117.25,
          116.860001,
          116.809998,
          117.099998,
          117.949997,
          114.309998,
          115.389999,
          113.870003,
          113.650002,
          113.459999,
          111.400002,
          110.980003,
          108.529999,
          110.080002,
          110.309998,
          109.879997,
          111.089996,
          107.120003,
          107.709999,
          106.57,
          106.699997,
          109.809998,
          109.720001,
          110.120003,
          111.949997,
          111.360001,
          111.129997,
          111.43,
          110.779999,
          111.599998,
          110.370003,
          109.169998,
          110.0,
          109.5,
          109.260002,
          110.860001,
          112.309998,
          113.290001,
          113.839996,
          115.040001,
          115.379997,
          116.470001,
          115.800003,
          116.739998,
          116.800003,
          116.349998,
          115.589996,
          116.519997,
          117.519997,
          116.449997,
          116.650002,
          115.800003,
          115.849998,
          115.919998,
          116.779999,
          117.949997,
          118.769997,
          118.739998,
          118.900002,
          119.110001,
          118.339996,
          120.0,
          119.400002,
          120.449997,
          120.0,
          119.550003,
          120.419998,
          121.669998,
          122.139999,
          120.93,
          121.150002,
          127.029999,
          127.980003,
          128.309998,
          129.130005,
          130.539993,
          131.350006,
          131.649994,
          132.460007,
          133.080002,
          133.470001,
          135.520004,
          135.669998
         ],
         "type": "scatter"
        }
       ],
       "layout": {
        "template": {
         "data": {
          "bar": [
           {
            "error_x": {
             "color": "#f2f5fa"
            },
            "error_y": {
             "color": "#f2f5fa"
            },
            "marker": {
             "line": {
              "color": "rgb(17,17,17)",
              "width": 0.5
             },
             "pattern": {
              "fillmode": "overlay",
              "size": 10,
              "solidity": 0.2
             }
            },
            "type": "bar"
           }
          ],
          "barpolar": [
           {
            "marker": {
             "line": {
              "color": "rgb(17,17,17)",
              "width": 0.5
             },
             "pattern": {
              "fillmode": "overlay",
              "size": 10,
              "solidity": 0.2
             }
            },
            "type": "barpolar"
           }
          ],
          "carpet": [
           {
            "aaxis": {
             "endlinecolor": "#A2B1C6",
             "gridcolor": "#506784",
             "linecolor": "#506784",
             "minorgridcolor": "#506784",
             "startlinecolor": "#A2B1C6"
            },
            "baxis": {
             "endlinecolor": "#A2B1C6",
             "gridcolor": "#506784",
             "linecolor": "#506784",
             "minorgridcolor": "#506784",
             "startlinecolor": "#A2B1C6"
            },
            "type": "carpet"
           }
          ],
          "choropleth": [
           {
            "colorbar": {
             "outlinewidth": 0,
             "ticks": ""
            },
            "type": "choropleth"
           }
          ],
          "contour": [
           {
            "colorbar": {
             "outlinewidth": 0,
             "ticks": ""
            },
            "colorscale": [
             [
              0.0,
              "#0d0887"
             ],
             [
              0.1111111111111111,
              "#46039f"
             ],
             [
              0.2222222222222222,
              "#7201a8"
             ],
             [
              0.3333333333333333,
              "#9c179e"
             ],
             [
              0.4444444444444444,
              "#bd3786"
             ],
             [
              0.5555555555555556,
              "#d8576b"
             ],
             [
              0.6666666666666666,
              "#ed7953"
             ],
             [
              0.7777777777777778,
              "#fb9f3a"
             ],
             [
              0.8888888888888888,
              "#fdca26"
             ],
             [
              1.0,
              "#f0f921"
             ]
            ],
            "type": "contour"
           }
          ],
          "contourcarpet": [
           {
            "colorbar": {
             "outlinewidth": 0,
             "ticks": ""
            },
            "type": "contourcarpet"
           }
          ],
          "heatmap": [
           {
            "colorbar": {
             "outlinewidth": 0,
             "ticks": ""
            },
            "colorscale": [
             [
              0.0,
              "#0d0887"
             ],
             [
              0.1111111111111111,
              "#46039f"
             ],
             [
              0.2222222222222222,
              "#7201a8"
             ],
             [
              0.3333333333333333,
              "#9c179e"
             ],
             [
              0.4444444444444444,
              "#bd3786"
             ],
             [
              0.5555555555555556,
              "#d8576b"
             ],
             [
              0.6666666666666666,
              "#ed7953"
             ],
             [
              0.7777777777777778,
              "#fb9f3a"
             ],
             [
              0.8888888888888888,
              "#fdca26"
             ],
             [
              1.0,
              "#f0f921"
             ]
            ],
            "type": "heatmap"
           }
          ],
          "heatmapgl": [
           {
            "colorbar": {
             "outlinewidth": 0,
             "ticks": ""
            },
            "colorscale": [
             [
              0.0,
              "#0d0887"
             ],
             [
              0.1111111111111111,
              "#46039f"
             ],
             [
              0.2222222222222222,
              "#7201a8"
             ],
             [
              0.3333333333333333,
              "#9c179e"
             ],
             [
              0.4444444444444444,
              "#bd3786"
             ],
             [
              0.5555555555555556,
              "#d8576b"
             ],
             [
              0.6666666666666666,
              "#ed7953"
             ],
             [
              0.7777777777777778,
              "#fb9f3a"
             ],
             [
              0.8888888888888888,
              "#fdca26"
             ],
             [
              1.0,
              "#f0f921"
             ]
            ],
            "type": "heatmapgl"
           }
          ],
          "histogram": [
           {
            "marker": {
             "pattern": {
              "fillmode": "overlay",
              "size": 10,
              "solidity": 0.2
             }
            },
            "type": "histogram"
           }
          ],
          "histogram2d": [
           {
            "colorbar": {
             "outlinewidth": 0,
             "ticks": ""
            },
            "colorscale": [
             [
              0.0,
              "#0d0887"
             ],
             [
              0.1111111111111111,
              "#46039f"
             ],
             [
              0.2222222222222222,
              "#7201a8"
             ],
             [
              0.3333333333333333,
              "#9c179e"
             ],
             [
              0.4444444444444444,
              "#bd3786"
             ],
             [
              0.5555555555555556,
              "#d8576b"
             ],
             [
              0.6666666666666666,
              "#ed7953"
             ],
             [
              0.7777777777777778,
              "#fb9f3a"
             ],
             [
              0.8888888888888888,
              "#fdca26"
             ],
             [
              1.0,
              "#f0f921"
             ]
            ],
            "type": "histogram2d"
           }
          ],
          "histogram2dcontour": [
           {
            "colorbar": {
             "outlinewidth": 0,
             "ticks": ""
            },
            "colorscale": [
             [
              0.0,
              "#0d0887"
             ],
             [
              0.1111111111111111,
              "#46039f"
             ],
             [
              0.2222222222222222,
              "#7201a8"
             ],
             [
              0.3333333333333333,
              "#9c179e"
             ],
             [
              0.4444444444444444,
              "#bd3786"
             ],
             [
              0.5555555555555556,
              "#d8576b"
             ],
             [
              0.6666666666666666,
              "#ed7953"
             ],
             [
              0.7777777777777778,
              "#fb9f3a"
             ],
             [
              0.8888888888888888,
              "#fdca26"
             ],
             [
              1.0,
              "#f0f921"
             ]
            ],
            "type": "histogram2dcontour"
           }
          ],
          "mesh3d": [
           {
            "colorbar": {
             "outlinewidth": 0,
             "ticks": ""
            },
            "type": "mesh3d"
           }
          ],
          "parcoords": [
           {
            "line": {
             "colorbar": {
              "outlinewidth": 0,
              "ticks": ""
             }
            },
            "type": "parcoords"
           }
          ],
          "pie": [
           {
            "automargin": true,
            "type": "pie"
           }
          ],
          "scatter": [
           {
            "marker": {
             "line": {
              "color": "#283442"
             }
            },
            "type": "scatter"
           }
          ],
          "scatter3d": [
           {
            "line": {
             "colorbar": {
              "outlinewidth": 0,
              "ticks": ""
             }
            },
            "marker": {
             "colorbar": {
              "outlinewidth": 0,
              "ticks": ""
             }
            },
            "type": "scatter3d"
           }
          ],
          "scattercarpet": [
           {
            "marker": {
             "colorbar": {
              "outlinewidth": 0,
              "ticks": ""
             }
            },
            "type": "scattercarpet"
           }
          ],
          "scattergeo": [
           {
            "marker": {
             "colorbar": {
              "outlinewidth": 0,
              "ticks": ""
             }
            },
            "type": "scattergeo"
           }
          ],
          "scattergl": [
           {
            "marker": {
             "line": {
              "color": "#283442"
             }
            },
            "type": "scattergl"
           }
          ],
          "scattermapbox": [
           {
            "marker": {
             "colorbar": {
              "outlinewidth": 0,
              "ticks": ""
             }
            },
            "type": "scattermapbox"
           }
          ],
          "scatterpolar": [
           {
            "marker": {
             "colorbar": {
              "outlinewidth": 0,
              "ticks": ""
             }
            },
            "type": "scatterpolar"
           }
          ],
          "scatterpolargl": [
           {
            "marker": {
             "colorbar": {
              "outlinewidth": 0,
              "ticks": ""
             }
            },
            "type": "scatterpolargl"
           }
          ],
          "scatterternary": [
           {
            "marker": {
             "colorbar": {
              "outlinewidth": 0,
              "ticks": ""
             }
            },
            "type": "scatterternary"
           }
          ],
          "surface": [
           {
            "colorbar": {
             "outlinewidth": 0,
             "ticks": ""
            },
            "colorscale": [
             [
              0.0,
              "#0d0887"
             ],
             [
              0.1111111111111111,
              "#46039f"
             ],
             [
              0.2222222222222222,
              "#7201a8"
             ],
             [
              0.3333333333333333,
              "#9c179e"
             ],
             [
              0.4444444444444444,
              "#bd3786"
             ],
             [
              0.5555555555555556,
              "#d8576b"
             ],
             [
              0.6666666666666666,
              "#ed7953"
             ],
             [
              0.7777777777777778,
              "#fb9f3a"
             ],
             [
              0.8888888888888888,
              "#fdca26"
             ],
             [
              1.0,
              "#f0f921"
             ]
            ],
            "type": "surface"
           }
          ],
          "table": [
           {
            "cells": {
             "fill": {
              "color": "#506784"
             },
             "line": {
              "color": "rgb(17,17,17)"
             }
            },
            "header": {
             "fill": {
              "color": "#2a3f5f"
             },
             "line": {
              "color": "rgb(17,17,17)"
             }
            },
            "type": "table"
           }
          ]
         },
         "layout": {
          "annotationdefaults": {
           "arrowcolor": "#f2f5fa",
           "arrowhead": 0,
           "arrowwidth": 1
          },
          "autotypenumbers": "strict",
          "coloraxis": {
           "colorbar": {
            "outlinewidth": 0,
            "ticks": ""
           }
          },
          "colorscale": {
           "diverging": [
            [
             0,
             "#8e0152"
            ],
            [
             0.1,
             "#c51b7d"
            ],
            [
             0.2,
             "#de77ae"
            ],
            [
             0.3,
             "#f1b6da"
            ],
            [
             0.4,
             "#fde0ef"
            ],
            [
             0.5,
             "#f7f7f7"
            ],
            [
             0.6,
             "#e6f5d0"
            ],
            [
             0.7,
             "#b8e186"
            ],
            [
             0.8,
             "#7fbc41"
            ],
            [
             0.9,
             "#4d9221"
            ],
            [
             1,
             "#276419"
            ]
           ],
           "sequential": [
            [
             0.0,
             "#0d0887"
            ],
            [
             0.1111111111111111,
             "#46039f"
            ],
            [
             0.2222222222222222,
             "#7201a8"
            ],
            [
             0.3333333333333333,
             "#9c179e"
            ],
            [
             0.4444444444444444,
             "#bd3786"
            ],
            [
             0.5555555555555556,
             "#d8576b"
            ],
            [
             0.6666666666666666,
             "#ed7953"
            ],
            [
             0.7777777777777778,
             "#fb9f3a"
            ],
            [
             0.8888888888888888,
             "#fdca26"
            ],
            [
             1.0,
             "#f0f921"
            ]
           ],
           "sequentialminus": [
            [
             0.0,
             "#0d0887"
            ],
            [
             0.1111111111111111,
             "#46039f"
            ],
            [
             0.2222222222222222,
             "#7201a8"
            ],
            [
             0.3333333333333333,
             "#9c179e"
            ],
            [
             0.4444444444444444,
             "#bd3786"
            ],
            [
             0.5555555555555556,
             "#d8576b"
            ],
            [
             0.6666666666666666,
             "#ed7953"
            ],
            [
             0.7777777777777778,
             "#fb9f3a"
            ],
            [
             0.8888888888888888,
             "#fdca26"
            ],
            [
             1.0,
             "#f0f921"
            ]
           ]
          },
          "colorway": [
           "#636efa",
           "#EF553B",
           "#00cc96",
           "#ab63fa",
           "#FFA15A",
           "#19d3f3",
           "#FF6692",
           "#B6E880",
           "#FF97FF",
           "#FECB52"
          ],
          "font": {
           "color": "#f2f5fa"
          },
          "geo": {
           "bgcolor": "rgb(17,17,17)",
           "lakecolor": "rgb(17,17,17)",
           "landcolor": "rgb(17,17,17)",
           "showlakes": true,
           "showland": true,
           "subunitcolor": "#506784"
          },
          "hoverlabel": {
           "align": "left"
          },
          "hovermode": "closest",
          "mapbox": {
           "style": "dark"
          },
          "paper_bgcolor": "rgb(17,17,17)",
          "plot_bgcolor": "rgb(17,17,17)",
          "polar": {
           "angularaxis": {
            "gridcolor": "#506784",
            "linecolor": "#506784",
            "ticks": ""
           },
           "bgcolor": "rgb(17,17,17)",
           "radialaxis": {
            "gridcolor": "#506784",
            "linecolor": "#506784",
            "ticks": ""
           }
          },
          "scene": {
           "xaxis": {
            "backgroundcolor": "rgb(17,17,17)",
            "gridcolor": "#506784",
            "gridwidth": 2,
            "linecolor": "#506784",
            "showbackground": true,
            "ticks": "",
            "zerolinecolor": "#C8D4E3"
           },
           "yaxis": {
            "backgroundcolor": "rgb(17,17,17)",
            "gridcolor": "#506784",
            "gridwidth": 2,
            "linecolor": "#506784",
            "showbackground": true,
            "ticks": "",
            "zerolinecolor": "#C8D4E3"
           },
           "zaxis": {
            "backgroundcolor": "rgb(17,17,17)",
            "gridcolor": "#506784",
            "gridwidth": 2,
            "linecolor": "#506784",
            "showbackground": true,
            "ticks": "",
            "zerolinecolor": "#C8D4E3"
           }
          },
          "shapedefaults": {
           "line": {
            "color": "#f2f5fa"
           }
          },
          "sliderdefaults": {
           "bgcolor": "#C8D4E3",
           "bordercolor": "rgb(17,17,17)",
           "borderwidth": 1,
           "tickwidth": 0
          },
          "ternary": {
           "aaxis": {
            "gridcolor": "#506784",
            "linecolor": "#506784",
            "ticks": ""
           },
           "baxis": {
            "gridcolor": "#506784",
            "linecolor": "#506784",
            "ticks": ""
           },
           "bgcolor": "rgb(17,17,17)",
           "caxis": {
            "gridcolor": "#506784",
            "linecolor": "#506784",
            "ticks": ""
           }
          },
          "title": {
           "x": 0.05
          },
          "updatemenudefaults": {
           "bgcolor": "#506784",
           "borderwidth": 0
          },
          "xaxis": {
           "automargin": true,
           "gridcolor": "#283442",
           "linecolor": "#506784",
           "ticks": "",
           "title": {
            "standoff": 15
           },
           "zerolinecolor": "#283442",
           "zerolinewidth": 2
          },
          "yaxis": {
           "automargin": true,
           "gridcolor": "#283442",
           "linecolor": "#506784",
           "ticks": "",
           "title": {
            "standoff": 15
           },
           "zerolinecolor": "#283442",
           "zerolinewidth": 2
          }
         }
        }
       },
       "config": {
        "plotlyServerURL": "https://plot.ly"
       }
      },
      "text/html": "<div>                            <div id=\"30acb1dd-a08a-4244-8184-f630fcfbb7b7\" class=\"plotly-graph-div\" style=\"height:525px; width:100%;\"></div>            <script type=\"text/javascript\">                require([\"plotly\"], function(Plotly) {                    window.PLOTLYENV=window.PLOTLYENV || {};                                    if (document.getElementById(\"30acb1dd-a08a-4244-8184-f630fcfbb7b7\")) {                    Plotly.newPlot(                        \"30acb1dd-a08a-4244-8184-f630fcfbb7b7\",                        [{\"x\":[\"2015-02-17\",\"2015-02-18\",\"2015-02-19\",\"2015-02-20\",\"2015-02-23\",\"2015-02-24\",\"2015-02-25\",\"2015-02-26\",\"2015-02-27\",\"2015-03-02\",\"2015-03-03\",\"2015-03-04\",\"2015-03-05\",\"2015-03-06\",\"2015-03-09\",\"2015-03-10\",\"2015-03-11\",\"2015-03-12\",\"2015-03-13\",\"2015-03-16\",\"2015-03-17\",\"2015-03-18\",\"2015-03-19\",\"2015-03-20\",\"2015-03-23\",\"2015-03-24\",\"2015-03-25\",\"2015-03-26\",\"2015-03-27\",\"2015-03-30\",\"2015-03-31\",\"2015-04-01\",\"2015-04-02\",\"2015-04-06\",\"2015-04-07\",\"2015-04-08\",\"2015-04-09\",\"2015-04-10\",\"2015-04-13\",\"2015-04-14\",\"2015-04-15\",\"2015-04-16\",\"2015-04-17\",\"2015-04-20\",\"2015-04-21\",\"2015-04-22\",\"2015-04-23\",\"2015-04-24\",\"2015-04-27\",\"2015-04-28\",\"2015-04-29\",\"2015-04-30\",\"2015-05-01\",\"2015-05-04\",\"2015-05-05\",\"2015-05-06\",\"2015-05-07\",\"2015-05-08\",\"2015-05-11\",\"2015-05-12\",\"2015-05-13\",\"2015-05-14\",\"2015-05-15\",\"2015-05-18\",\"2015-05-19\",\"2015-05-20\",\"2015-05-21\",\"2015-05-22\",\"2015-05-26\",\"2015-05-27\",\"2015-05-28\",\"2015-05-29\",\"2015-06-01\",\"2015-06-02\",\"2015-06-03\",\"2015-06-04\",\"2015-06-05\",\"2015-06-08\",\"2015-06-09\",\"2015-06-10\",\"2015-06-11\",\"2015-06-12\",\"2015-06-15\",\"2015-06-16\",\"2015-06-17\",\"2015-06-18\",\"2015-06-19\",\"2015-06-22\",\"2015-06-23\",\"2015-06-24\",\"2015-06-25\",\"2015-06-26\",\"2015-06-29\",\"2015-06-30\",\"2015-07-01\",\"2015-07-02\",\"2015-07-06\",\"2015-07-07\",\"2015-07-08\",\"2015-07-09\",\"2015-07-10\",\"2015-07-13\",\"2015-07-14\",\"2015-07-15\",\"2015-07-16\",\"2015-07-17\",\"2015-07-20\",\"2015-07-21\",\"2015-07-22\",\"2015-07-23\",\"2015-07-24\",\"2015-07-27\",\"2015-07-28\",\"2015-07-29\",\"2015-07-30\",\"2015-07-31\",\"2015-08-03\",\"2015-08-04\",\"2015-08-05\",\"2015-08-06\",\"2015-08-07\",\"2015-08-10\",\"2015-08-11\",\"2015-08-12\",\"2015-08-13\",\"2015-08-14\",\"2015-08-17\",\"2015-08-18\",\"2015-08-19\",\"2015-08-20\",\"2015-08-21\",\"2015-08-24\",\"2015-08-25\",\"2015-08-26\",\"2015-08-27\",\"2015-08-28\",\"2015-08-31\",\"2015-09-01\",\"2015-09-02\",\"2015-09-03\",\"2015-09-04\",\"2015-09-08\",\"2015-09-09\",\"2015-09-10\",\"2015-09-11\",\"2015-09-14\",\"2015-09-15\",\"2015-09-16\",\"2015-09-17\",\"2015-09-18\",\"2015-09-21\",\"2015-09-22\",\"2015-09-23\",\"2015-09-24\",\"2015-09-25\",\"2015-09-28\",\"2015-09-29\",\"2015-09-30\",\"2015-10-01\",\"2015-10-02\",\"2015-10-05\",\"2015-10-06\",\"2015-10-07\",\"2015-10-08\",\"2015-10-09\",\"2015-10-12\",\"2015-10-13\",\"2015-10-14\",\"2015-10-15\",\"2015-10-16\",\"2015-10-19\",\"2015-10-20\",\"2015-10-21\",\"2015-10-22\",\"2015-10-23\",\"2015-10-26\",\"2015-10-27\",\"2015-10-28\",\"2015-10-29\",\"2015-10-30\",\"2015-11-02\",\"2015-11-03\",\"2015-11-04\",\"2015-11-05\",\"2015-11-06\",\"2015-11-09\",\"2015-11-10\",\"2015-11-11\",\"2015-11-12\",\"2015-11-13\",\"2015-11-16\",\"2015-11-17\",\"2015-11-18\",\"2015-11-19\",\"2015-11-20\",\"2015-11-23\",\"2015-11-24\",\"2015-11-25\",\"2015-11-27\",\"2015-11-30\",\"2015-12-01\",\"2015-12-02\",\"2015-12-03\",\"2015-12-04\",\"2015-12-07\",\"2015-12-08\",\"2015-12-09\",\"2015-12-10\",\"2015-12-11\",\"2015-12-14\",\"2015-12-15\",\"2015-12-16\",\"2015-12-17\",\"2015-12-18\",\"2015-12-21\",\"2015-12-22\",\"2015-12-23\",\"2015-12-24\",\"2015-12-28\",\"2015-12-29\",\"2015-12-30\",\"2015-12-31\",\"2016-01-04\",\"2016-01-05\",\"2016-01-06\",\"2016-01-07\",\"2016-01-08\",\"2016-01-11\",\"2016-01-12\",\"2016-01-13\",\"2016-01-14\",\"2016-01-15\",\"2016-01-19\",\"2016-01-20\",\"2016-01-21\",\"2016-01-22\",\"2016-01-25\",\"2016-01-26\",\"2016-01-27\",\"2016-01-28\",\"2016-01-29\",\"2016-02-01\",\"2016-02-02\",\"2016-02-03\",\"2016-02-04\",\"2016-02-05\",\"2016-02-08\",\"2016-02-09\",\"2016-02-10\",\"2016-02-11\",\"2016-02-12\",\"2016-02-16\",\"2016-02-17\",\"2016-02-18\",\"2016-02-19\",\"2016-02-22\",\"2016-02-23\",\"2016-02-24\",\"2016-02-25\",\"2016-02-26\",\"2016-02-29\",\"2016-03-01\",\"2016-03-02\",\"2016-03-03\",\"2016-03-04\",\"2016-03-07\",\"2016-03-08\",\"2016-03-09\",\"2016-03-10\",\"2016-03-11\",\"2016-03-14\",\"2016-03-15\",\"2016-03-16\",\"2016-03-17\",\"2016-03-18\",\"2016-03-21\",\"2016-03-22\",\"2016-03-23\",\"2016-03-24\",\"2016-03-28\",\"2016-03-29\",\"2016-03-30\",\"2016-03-31\",\"2016-04-01\",\"2016-04-04\",\"2016-04-05\",\"2016-04-06\",\"2016-04-07\",\"2016-04-08\",\"2016-04-11\",\"2016-04-12\",\"2016-04-13\",\"2016-04-14\",\"2016-04-15\",\"2016-04-18\",\"2016-04-19\",\"2016-04-20\",\"2016-04-21\",\"2016-04-22\",\"2016-04-25\",\"2016-04-26\",\"2016-04-27\",\"2016-04-28\",\"2016-04-29\",\"2016-05-02\",\"2016-05-03\",\"2016-05-04\",\"2016-05-05\",\"2016-05-06\",\"2016-05-09\",\"2016-05-10\",\"2016-05-11\",\"2016-05-12\",\"2016-05-13\",\"2016-05-16\",\"2016-05-17\",\"2016-05-18\",\"2016-05-19\",\"2016-05-20\",\"2016-05-23\",\"2016-05-24\",\"2016-05-25\",\"2016-05-26\",\"2016-05-27\",\"2016-05-31\",\"2016-06-01\",\"2016-06-02\",\"2016-06-03\",\"2016-06-06\",\"2016-06-07\",\"2016-06-08\",\"2016-06-09\",\"2016-06-10\",\"2016-06-13\",\"2016-06-14\",\"2016-06-15\",\"2016-06-16\",\"2016-06-17\",\"2016-06-20\",\"2016-06-21\",\"2016-06-22\",\"2016-06-23\",\"2016-06-24\",\"2016-06-27\",\"2016-06-28\",\"2016-06-29\",\"2016-06-30\",\"2016-07-01\",\"2016-07-05\",\"2016-07-06\",\"2016-07-07\",\"2016-07-08\",\"2016-07-11\",\"2016-07-12\",\"2016-07-13\",\"2016-07-14\",\"2016-07-15\",\"2016-07-18\",\"2016-07-19\",\"2016-07-20\",\"2016-07-21\",\"2016-07-22\",\"2016-07-25\",\"2016-07-26\",\"2016-07-27\",\"2016-07-28\",\"2016-07-29\",\"2016-08-01\",\"2016-08-02\",\"2016-08-03\",\"2016-08-04\",\"2016-08-05\",\"2016-08-08\",\"2016-08-09\",\"2016-08-10\",\"2016-08-11\",\"2016-08-12\",\"2016-08-15\",\"2016-08-16\",\"2016-08-17\",\"2016-08-18\",\"2016-08-19\",\"2016-08-22\",\"2016-08-23\",\"2016-08-24\",\"2016-08-25\",\"2016-08-26\",\"2016-08-29\",\"2016-08-30\",\"2016-08-31\",\"2016-09-01\",\"2016-09-02\",\"2016-09-06\",\"2016-09-07\",\"2016-09-08\",\"2016-09-09\",\"2016-09-12\",\"2016-09-13\",\"2016-09-14\",\"2016-09-15\",\"2016-09-16\",\"2016-09-19\",\"2016-09-20\",\"2016-09-21\",\"2016-09-22\",\"2016-09-23\",\"2016-09-26\",\"2016-09-27\",\"2016-09-28\",\"2016-09-29\",\"2016-09-30\",\"2016-10-03\",\"2016-10-04\",\"2016-10-05\",\"2016-10-06\",\"2016-10-07\",\"2016-10-10\",\"2016-10-11\",\"2016-10-12\",\"2016-10-13\",\"2016-10-14\",\"2016-10-17\",\"2016-10-18\",\"2016-10-19\",\"2016-10-20\",\"2016-10-21\",\"2016-10-24\",\"2016-10-25\",\"2016-10-26\",\"2016-10-27\",\"2016-10-28\",\"2016-10-31\",\"2016-11-01\",\"2016-11-02\",\"2016-11-03\",\"2016-11-04\",\"2016-11-07\",\"2016-11-08\",\"2016-11-09\",\"2016-11-10\",\"2016-11-11\",\"2016-11-14\",\"2016-11-15\",\"2016-11-16\",\"2016-11-17\",\"2016-11-18\",\"2016-11-21\",\"2016-11-22\",\"2016-11-23\",\"2016-11-25\",\"2016-11-28\",\"2016-11-29\",\"2016-11-30\",\"2016-12-01\",\"2016-12-02\",\"2016-12-05\",\"2016-12-06\",\"2016-12-07\",\"2016-12-08\",\"2016-12-09\",\"2016-12-12\",\"2016-12-13\",\"2016-12-14\",\"2016-12-15\",\"2016-12-16\",\"2016-12-19\",\"2016-12-20\",\"2016-12-21\",\"2016-12-22\",\"2016-12-23\",\"2016-12-27\",\"2016-12-28\",\"2016-12-29\",\"2016-12-30\",\"2017-01-03\",\"2017-01-04\",\"2017-01-05\",\"2017-01-06\",\"2017-01-09\",\"2017-01-10\",\"2017-01-11\",\"2017-01-12\",\"2017-01-13\",\"2017-01-17\",\"2017-01-18\",\"2017-01-19\",\"2017-01-20\",\"2017-01-23\",\"2017-01-24\",\"2017-01-25\",\"2017-01-26\",\"2017-01-27\",\"2017-01-30\",\"2017-01-31\",\"2017-02-01\",\"2017-02-02\",\"2017-02-03\",\"2017-02-06\",\"2017-02-07\",\"2017-02-08\",\"2017-02-09\",\"2017-02-10\",\"2017-02-13\",\"2017-02-14\",\"2017-02-15\",\"2017-02-16\"],\"y\":[127.489998,127.629997,128.479996,128.619995,130.020004,132.940002,131.559998,128.789993,130.0,129.25,128.960007,129.100006,128.580002,128.399994,127.959999,126.410004,124.75,122.309998,124.400002,123.879997,125.900002,127.0,128.75,128.25,127.120003,127.230003,126.540001,122.760002,124.57,124.050003,126.089996,124.82,125.029999,124.470001,127.639999,125.849998,125.849998,125.949997,128.369995,127.0,126.410004,126.279999,125.550003,125.57,128.100006,126.989998,128.300003,130.490005,132.309998,134.460007,130.160004,128.639999,126.099998,129.5,128.149994,126.559998,124.769997,126.68,127.389999,125.599998,126.150002,127.410004,129.070007,128.380005,130.690002,130.0,130.070007,131.600006,132.600006,130.339996,131.860001,131.229996,130.279999,129.860001,130.660004,129.580002,129.5,128.899994,126.699997,127.919998,129.179993,128.190002,126.099998,127.029999,127.720001,127.230003,127.709999,127.489998,127.480003,127.209999,128.860001,127.669998,125.459999,125.57,126.900002,126.43,124.940002,125.889999,124.480003,123.849998,121.940002,125.029999,126.040001,125.720001,127.739998,129.080002,130.970001,132.850006,121.989998,126.199997,125.32,123.089996,123.379997,123.150002,122.32,122.599998,121.5,117.419998,112.949997,115.970001,114.580002,116.529999,117.809998,112.529999,116.040001,114.32,116.040001,116.43,116.099998,114.080002,110.43,94.870003,111.110001,107.089996,112.230003,112.169998,112.029999,110.150002,110.230003,112.489998,108.970001,111.75,113.760002,110.269997,111.790001,116.580002,115.93,116.25,115.660004,112.209999,113.669998,113.379997,113.629997,113.25,116.440002,113.849998,112.830002,110.169998,109.07,108.010002,109.879997,110.629997,111.739998,110.190002,110.0,112.730003,110.82,111.290001,110.93,111.779999,110.800003,111.339996,114.0,114.330002,116.699997,118.080002,115.400002,116.93,118.699997,120.989998,120.800003,120.790001,123.129997,121.849998,121.110001,120.959999,116.900002,116.370003,116.260002,115.199997,111.379997,114.919998,115.760002,117.639999,119.199997,119.269997,117.330002,119.209999,118.290001,117.989998,118.75,117.339996,116.550003,115.290001,118.980003,117.519997,117.639999,116.040001,115.190002,112.18,111.940002,111.07,112.019997,108.910004,107.279999,107.400002,107.269997,109.0,107.589996,106.959999,108.580002,107.010002,102.610001,105.75,100.559998,98.68,98.550003,98.970001,100.550003,100.32,97.959999,96.199997,98.410004,95.099998,97.059998,98.629997,101.519997,99.93,96.040001,93.790001,94.790001,96.470001,95.419998,95.0,95.860001,96.519997,93.129997,94.290001,95.919998,93.790001,94.190002,95.019997,96.669998,98.839996,96.0,96.309998,96.400002,93.980003,96.050003,97.199997,96.860001,97.650002,100.510002,100.580002,102.370003,102.389999,100.779999,101.309998,101.410004,102.239998,101.910004,103.959999,104.610001,105.519997,106.339996,105.93,105.25,106.480003,105.470001,106.0,104.889999,108.650002,109.720001,108.779999,110.419998,109.510002,110.230003,109.949997,108.910004,108.970001,109.339996,110.800003,111.620003,112.110001,108.889999,107.879997,106.639999,106.93,105.010002,105.0,103.910004,96.0,97.610001,93.989998,93.970001,94.199997,95.199997,94.0,93.370003,93.0,93.330002,93.480003,92.720001,90.0,92.389999,94.550003,94.160004,94.639999,94.639999,95.870003,97.220001,98.669998,99.68,99.440002,99.599998,99.019997,97.599998,97.790001,97.989998,99.25,99.019997,98.5,98.529999,98.690002,97.32,97.82,96.449997,96.620003,96.0,94.940002,96.25,95.940002,92.910004,93.0,92.900002,93.970001,94.440002,95.489998,95.389999,94.599998,95.699997,96.489998,96.75,97.169998,97.410004,97.389999,98.919998,98.699997,99.559998,100.0,99.830002,99.260002,98.25,96.82,104.269997,102.830002,104.190002,104.410004,106.050003,104.809998,105.580002,106.269997,107.519997,108.230003,108.709999,108.519997,107.779999,108.139999,109.629997,109.099998,109.230003,108.769997,108.860001,108.589996,108.57,107.389999,107.410004,106.620003,105.800003,105.660004,106.139999,107.699997,107.900002,107.830002,107.25,104.639999,102.650002,107.510002,108.730003,113.860001,115.120003,115.190002,113.050003,113.849998,114.349998,114.419998,111.639999,113.0,113.690002,113.160004,112.459999,112.709999,113.059998,113.400002,113.699997,114.309998,115.019997,117.699997,117.349998,116.790001,117.879997,117.330002,118.18,117.25,116.860001,116.809998,117.099998,117.949997,114.309998,115.389999,113.870003,113.650002,113.459999,111.400002,110.980003,108.529999,110.080002,110.309998,109.879997,111.089996,107.120003,107.709999,106.57,106.699997,109.809998,109.720001,110.120003,111.949997,111.360001,111.129997,111.43,110.779999,111.599998,110.370003,109.169998,110.0,109.5,109.260002,110.860001,112.309998,113.290001,113.839996,115.040001,115.379997,116.470001,115.800003,116.739998,116.800003,116.349998,115.589996,116.519997,117.519997,116.449997,116.650002,115.800003,115.849998,115.919998,116.779999,117.949997,118.769997,118.739998,118.900002,119.110001,118.339996,120.0,119.400002,120.449997,120.0,119.550003,120.419998,121.669998,122.139999,120.93,121.150002,127.029999,127.980003,128.309998,129.130005,130.539993,131.350006,131.649994,132.460007,133.080002,133.470001,135.520004,135.669998],\"type\":\"scatter\"}],                        {\"template\":{\"data\":{\"bar\":[{\"error_x\":{\"color\":\"#f2f5fa\"},\"error_y\":{\"color\":\"#f2f5fa\"},\"marker\":{\"line\":{\"color\":\"rgb(17,17,17)\",\"width\":0.5},\"pattern\":{\"fillmode\":\"overlay\",\"size\":10,\"solidity\":0.2}},\"type\":\"bar\"}],\"barpolar\":[{\"marker\":{\"line\":{\"color\":\"rgb(17,17,17)\",\"width\":0.5},\"pattern\":{\"fillmode\":\"overlay\",\"size\":10,\"solidity\":0.2}},\"type\":\"barpolar\"}],\"carpet\":[{\"aaxis\":{\"endlinecolor\":\"#A2B1C6\",\"gridcolor\":\"#506784\",\"linecolor\":\"#506784\",\"minorgridcolor\":\"#506784\",\"startlinecolor\":\"#A2B1C6\"},\"baxis\":{\"endlinecolor\":\"#A2B1C6\",\"gridcolor\":\"#506784\",\"linecolor\":\"#506784\",\"minorgridcolor\":\"#506784\",\"startlinecolor\":\"#A2B1C6\"},\"type\":\"carpet\"}],\"choropleth\":[{\"colorbar\":{\"outlinewidth\":0,\"ticks\":\"\"},\"type\":\"choropleth\"}],\"contour\":[{\"colorbar\":{\"outlinewidth\":0,\"ticks\":\"\"},\"colorscale\":[[0.0,\"#0d0887\"],[0.1111111111111111,\"#46039f\"],[0.2222222222222222,\"#7201a8\"],[0.3333333333333333,\"#9c179e\"],[0.4444444444444444,\"#bd3786\"],[0.5555555555555556,\"#d8576b\"],[0.6666666666666666,\"#ed7953\"],[0.7777777777777778,\"#fb9f3a\"],[0.8888888888888888,\"#fdca26\"],[1.0,\"#f0f921\"]],\"type\":\"contour\"}],\"contourcarpet\":[{\"colorbar\":{\"outlinewidth\":0,\"ticks\":\"\"},\"type\":\"contourcarpet\"}],\"heatmap\":[{\"colorbar\":{\"outlinewidth\":0,\"ticks\":\"\"},\"colorscale\":[[0.0,\"#0d0887\"],[0.1111111111111111,\"#46039f\"],[0.2222222222222222,\"#7201a8\"],[0.3333333333333333,\"#9c179e\"],[0.4444444444444444,\"#bd3786\"],[0.5555555555555556,\"#d8576b\"],[0.6666666666666666,\"#ed7953\"],[0.7777777777777778,\"#fb9f3a\"],[0.8888888888888888,\"#fdca26\"],[1.0,\"#f0f921\"]],\"type\":\"heatmap\"}],\"heatmapgl\":[{\"colorbar\":{\"outlinewidth\":0,\"ticks\":\"\"},\"colorscale\":[[0.0,\"#0d0887\"],[0.1111111111111111,\"#46039f\"],[0.2222222222222222,\"#7201a8\"],[0.3333333333333333,\"#9c179e\"],[0.4444444444444444,\"#bd3786\"],[0.5555555555555556,\"#d8576b\"],[0.6666666666666666,\"#ed7953\"],[0.7777777777777778,\"#fb9f3a\"],[0.8888888888888888,\"#fdca26\"],[1.0,\"#f0f921\"]],\"type\":\"heatmapgl\"}],\"histogram\":[{\"marker\":{\"pattern\":{\"fillmode\":\"overlay\",\"size\":10,\"solidity\":0.2}},\"type\":\"histogram\"}],\"histogram2d\":[{\"colorbar\":{\"outlinewidth\":0,\"ticks\":\"\"},\"colorscale\":[[0.0,\"#0d0887\"],[0.1111111111111111,\"#46039f\"],[0.2222222222222222,\"#7201a8\"],[0.3333333333333333,\"#9c179e\"],[0.4444444444444444,\"#bd3786\"],[0.5555555555555556,\"#d8576b\"],[0.6666666666666666,\"#ed7953\"],[0.7777777777777778,\"#fb9f3a\"],[0.8888888888888888,\"#fdca26\"],[1.0,\"#f0f921\"]],\"type\":\"histogram2d\"}],\"histogram2dcontour\":[{\"colorbar\":{\"outlinewidth\":0,\"ticks\":\"\"},\"colorscale\":[[0.0,\"#0d0887\"],[0.1111111111111111,\"#46039f\"],[0.2222222222222222,\"#7201a8\"],[0.3333333333333333,\"#9c179e\"],[0.4444444444444444,\"#bd3786\"],[0.5555555555555556,\"#d8576b\"],[0.6666666666666666,\"#ed7953\"],[0.7777777777777778,\"#fb9f3a\"],[0.8888888888888888,\"#fdca26\"],[1.0,\"#f0f921\"]],\"type\":\"histogram2dcontour\"}],\"mesh3d\":[{\"colorbar\":{\"outlinewidth\":0,\"ticks\":\"\"},\"type\":\"mesh3d\"}],\"parcoords\":[{\"line\":{\"colorbar\":{\"outlinewidth\":0,\"ticks\":\"\"}},\"type\":\"parcoords\"}],\"pie\":[{\"automargin\":true,\"type\":\"pie\"}],\"scatter\":[{\"marker\":{\"line\":{\"color\":\"#283442\"}},\"type\":\"scatter\"}],\"scatter3d\":[{\"line\":{\"colorbar\":{\"outlinewidth\":0,\"ticks\":\"\"}},\"marker\":{\"colorbar\":{\"outlinewidth\":0,\"ticks\":\"\"}},\"type\":\"scatter3d\"}],\"scattercarpet\":[{\"marker\":{\"colorbar\":{\"outlinewidth\":0,\"ticks\":\"\"}},\"type\":\"scattercarpet\"}],\"scattergeo\":[{\"marker\":{\"colorbar\":{\"outlinewidth\":0,\"ticks\":\"\"}},\"type\":\"scattergeo\"}],\"scattergl\":[{\"marker\":{\"line\":{\"color\":\"#283442\"}},\"type\":\"scattergl\"}],\"scattermapbox\":[{\"marker\":{\"colorbar\":{\"outlinewidth\":0,\"ticks\":\"\"}},\"type\":\"scattermapbox\"}],\"scatterpolar\":[{\"marker\":{\"colorbar\":{\"outlinewidth\":0,\"ticks\":\"\"}},\"type\":\"scatterpolar\"}],\"scatterpolargl\":[{\"marker\":{\"colorbar\":{\"outlinewidth\":0,\"ticks\":\"\"}},\"type\":\"scatterpolargl\"}],\"scatterternary\":[{\"marker\":{\"colorbar\":{\"outlinewidth\":0,\"ticks\":\"\"}},\"type\":\"scatterternary\"}],\"surface\":[{\"colorbar\":{\"outlinewidth\":0,\"ticks\":\"\"},\"colorscale\":[[0.0,\"#0d0887\"],[0.1111111111111111,\"#46039f\"],[0.2222222222222222,\"#7201a8\"],[0.3333333333333333,\"#9c179e\"],[0.4444444444444444,\"#bd3786\"],[0.5555555555555556,\"#d8576b\"],[0.6666666666666666,\"#ed7953\"],[0.7777777777777778,\"#fb9f3a\"],[0.8888888888888888,\"#fdca26\"],[1.0,\"#f0f921\"]],\"type\":\"surface\"}],\"table\":[{\"cells\":{\"fill\":{\"color\":\"#506784\"},\"line\":{\"color\":\"rgb(17,17,17)\"}},\"header\":{\"fill\":{\"color\":\"#2a3f5f\"},\"line\":{\"color\":\"rgb(17,17,17)\"}},\"type\":\"table\"}]},\"layout\":{\"annotationdefaults\":{\"arrowcolor\":\"#f2f5fa\",\"arrowhead\":0,\"arrowwidth\":1},\"autotypenumbers\":\"strict\",\"coloraxis\":{\"colorbar\":{\"outlinewidth\":0,\"ticks\":\"\"}},\"colorscale\":{\"diverging\":[[0,\"#8e0152\"],[0.1,\"#c51b7d\"],[0.2,\"#de77ae\"],[0.3,\"#f1b6da\"],[0.4,\"#fde0ef\"],[0.5,\"#f7f7f7\"],[0.6,\"#e6f5d0\"],[0.7,\"#b8e186\"],[0.8,\"#7fbc41\"],[0.9,\"#4d9221\"],[1,\"#276419\"]],\"sequential\":[[0.0,\"#0d0887\"],[0.1111111111111111,\"#46039f\"],[0.2222222222222222,\"#7201a8\"],[0.3333333333333333,\"#9c179e\"],[0.4444444444444444,\"#bd3786\"],[0.5555555555555556,\"#d8576b\"],[0.6666666666666666,\"#ed7953\"],[0.7777777777777778,\"#fb9f3a\"],[0.8888888888888888,\"#fdca26\"],[1.0,\"#f0f921\"]],\"sequentialminus\":[[0.0,\"#0d0887\"],[0.1111111111111111,\"#46039f\"],[0.2222222222222222,\"#7201a8\"],[0.3333333333333333,\"#9c179e\"],[0.4444444444444444,\"#bd3786\"],[0.5555555555555556,\"#d8576b\"],[0.6666666666666666,\"#ed7953\"],[0.7777777777777778,\"#fb9f3a\"],[0.8888888888888888,\"#fdca26\"],[1.0,\"#f0f921\"]]},\"colorway\":[\"#636efa\",\"#EF553B\",\"#00cc96\",\"#ab63fa\",\"#FFA15A\",\"#19d3f3\",\"#FF6692\",\"#B6E880\",\"#FF97FF\",\"#FECB52\"],\"font\":{\"color\":\"#f2f5fa\"},\"geo\":{\"bgcolor\":\"rgb(17,17,17)\",\"lakecolor\":\"rgb(17,17,17)\",\"landcolor\":\"rgb(17,17,17)\",\"showlakes\":true,\"showland\":true,\"subunitcolor\":\"#506784\"},\"hoverlabel\":{\"align\":\"left\"},\"hovermode\":\"closest\",\"mapbox\":{\"style\":\"dark\"},\"paper_bgcolor\":\"rgb(17,17,17)\",\"plot_bgcolor\":\"rgb(17,17,17)\",\"polar\":{\"angularaxis\":{\"gridcolor\":\"#506784\",\"linecolor\":\"#506784\",\"ticks\":\"\"},\"bgcolor\":\"rgb(17,17,17)\",\"radialaxis\":{\"gridcolor\":\"#506784\",\"linecolor\":\"#506784\",\"ticks\":\"\"}},\"scene\":{\"xaxis\":{\"backgroundcolor\":\"rgb(17,17,17)\",\"gridcolor\":\"#506784\",\"gridwidth\":2,\"linecolor\":\"#506784\",\"showbackground\":true,\"ticks\":\"\",\"zerolinecolor\":\"#C8D4E3\"},\"yaxis\":{\"backgroundcolor\":\"rgb(17,17,17)\",\"gridcolor\":\"#506784\",\"gridwidth\":2,\"linecolor\":\"#506784\",\"showbackground\":true,\"ticks\":\"\",\"zerolinecolor\":\"#C8D4E3\"},\"zaxis\":{\"backgroundcolor\":\"rgb(17,17,17)\",\"gridcolor\":\"#506784\",\"gridwidth\":2,\"linecolor\":\"#506784\",\"showbackground\":true,\"ticks\":\"\",\"zerolinecolor\":\"#C8D4E3\"}},\"shapedefaults\":{\"line\":{\"color\":\"#f2f5fa\"}},\"sliderdefaults\":{\"bgcolor\":\"#C8D4E3\",\"bordercolor\":\"rgb(17,17,17)\",\"borderwidth\":1,\"tickwidth\":0},\"ternary\":{\"aaxis\":{\"gridcolor\":\"#506784\",\"linecolor\":\"#506784\",\"ticks\":\"\"},\"baxis\":{\"gridcolor\":\"#506784\",\"linecolor\":\"#506784\",\"ticks\":\"\"},\"bgcolor\":\"rgb(17,17,17)\",\"caxis\":{\"gridcolor\":\"#506784\",\"linecolor\":\"#506784\",\"ticks\":\"\"}},\"title\":{\"x\":0.05},\"updatemenudefaults\":{\"bgcolor\":\"#506784\",\"borderwidth\":0},\"xaxis\":{\"automargin\":true,\"gridcolor\":\"#283442\",\"linecolor\":\"#506784\",\"ticks\":\"\",\"title\":{\"standoff\":15},\"zerolinecolor\":\"#283442\",\"zerolinewidth\":2},\"yaxis\":{\"automargin\":true,\"gridcolor\":\"#283442\",\"linecolor\":\"#506784\",\"ticks\":\"\",\"title\":{\"standoff\":15},\"zerolinecolor\":\"#283442\",\"zerolinewidth\":2}}}},                        {\"responsive\": true}                    ).then(function(){\n                            \nvar gd = document.getElementById('30acb1dd-a08a-4244-8184-f630fcfbb7b7');\nvar x = new MutationObserver(function (mutations, observer) {{\n        var display = window.getComputedStyle(gd).display;\n        if (!display || display === 'none') {{\n            console.log([gd, 'removed!']);\n            Plotly.purge(gd);\n            observer.disconnect();\n        }}\n}});\n\n// Listen for the removal of the full notebook cells\nvar notebookContainer = gd.closest('#notebook-container');\nif (notebookContainer) {{\n    x.observe(notebookContainer, {childList: true});\n}}\n\n// Listen for the clearing of the current output cell\nvar outputEl = gd.closest('.output');\nif (outputEl) {{\n    x.observe(outputEl, {childList: true});\n}}\n\n                        })                };                });            </script>        </div>"
     },
     "metadata": {},
     "output_type": "display_data"
    }
   ],
   "source": [
    "fig = go.Figure([go.Scatter(x=df['Date'], y=df['AAPL.Open'])])\n",
    "fig.show()"
   ],
   "metadata": {
    "collapsed": false,
    "pycharm": {
     "name": "#%%\n"
    }
   }
  },
  {
   "cell_type": "code",
   "execution_count": 27,
   "outputs": [],
   "source": [
    "df = pd.read_csv('https://raw.githubusercontent.com/plotly/datasets/master/tesla-stock-price.csv')\n",
    "df.sort_values('date',inplace=True)"
   ],
   "metadata": {
    "collapsed": false,
    "pycharm": {
     "name": "#%%\n"
    }
   }
  },
  {
   "cell_type": "code",
   "execution_count": 29,
   "outputs": [
    {
     "data": {
      "application/vnd.plotly.v1+json": {
       "data": [
        {
         "mode": "markers",
         "name": "open",
         "text": [
          270.49,
          221.31,
          227.01,
          228.1,
          213.03,
          210.09,
          211.72,
          209.09,
          215.26,
          210.35,
          212.96,
          211.63,
          206.93,
          213.79,
          208.35,
          231.63,
          231.77,
          232.36,
          225.33,
          216.5,
          219.08,
          212.94,
          207.19,
          214.31,
          214.0,
          221.07,
          221.8,
          220.01,
          217.75,
          218.25,
          229.64,
          231.61,
          230.26,
          237.19,
          231.99,
          232.71,
          230.38,
          231.13,
          226.72,
          224.52,
          227.07,
          217.02,
          218.58,
          221.09,
          234.51,
          233.39,
          230.46,
          232.56,
          229.95,
          229.7,
          230.57,
          228.95,
          237.19,
          238.09,
          240.01,
          223.41,
          223.43,
          219.04,
          215.65,
          211.0,
          207.85,
          209.97,
          200.31,
          206.18,
          204.99,
          204.72,
          198.7,
          199.97,
          202.55,
          196.38,
          193.56,
          188.07,
          189.7,
          191.2,
          196.94,
          182.78,
          173.48,
          175.33,
          162.6,
          147.99,
          148.25,
          143.67,
          150.47,
          151.04,
          155.17,
          168.68,
          166.77,
          166.58,
          177.74,
          177.21,
          179.0,
          187.43,
          190.34,
          191.93,
          186.35,
          188.34,
          195.74,
          201.04,
          205.29,
          202.6,
          208.72,
          205.18,
          207.5,
          215.15,
          218.34,
          221.93,
          226.38,
          232.74,
          238.32,
          234.24,
          222.58,
          227.75,
          230.26,
          230.13,
          226.89,
          229.77,
          237.59,
          246.99,
          255.47,
          265.42,
          257.2,
          250.07,
          249.92,
          247.82,
          254.53,
          251.86,
          254.51,
          253.88,
          247.37,
          249.97,
          248.29,
          253.75,
          251.82,
          253.74,
          251.47,
          247.71,
          240.76,
          241.8,
          232.32,
          222.56,
          211.53,
          214.93,
          208.92,
          208.69,
          208.96,
          207.28,
          207.61,
          208.29,
          204.66,
          211.17,
          215.21,
          220.28,
          216.22,
          217.91,
          219.58,
          225.12,
          223.04,
          223.23,
          219.56,
          218.96,
          218.99,
          220.68,
          232.34,
          235.52,
          229.36,
          218.79,
          217.87,
          214.96,
          217.7,
          217.93,
          215.47,
          219.7,
          219.61,
          196.66,
          196.4,
          193.15,
          198.55,
          201.79,
          210.19,
          212.28,
          216.5,
          213.98,
          214.44,
          215.94,
          216.78,
          224.78,
          224.65,
          222.53,
          221.53,
          220.4,
          226.25,
          225.26,
          228.36,
          220.5,
          222.27,
          230.01,
          229.51,
          228.49,
          230.61,
          234.79,
          230.01,
          227.2,
          225.79,
          230.61,
          230.03,
          226.16,
          229.08,
          225.65,
          224.91,
          225.61,
          225.59,
          223.61,
          223.24,
          223.51,
          225.0,
          222.93,
          224.84,
          222.62,
          220.96,
          219.99,
          215.2,
          211.34,
          212.01,
          200.77,
          197.78,
          202.83,
          201.71,
          197.36,
          194.47,
          198.3,
          196.05,
          196.41,
          200.42,
          205.4,
          206.34,
          204.64,
          205.22,
          206.43,
          207.45,
          208.99,
          205.81,
          206.27,
          200.7,
          204.03,
          213.7,
          211.41,
          208.46,
          201.0,
          196.61,
          200.95,
          200.1,
          201.51,
          200.24,
          196.51,
          193.96,
          199.1,
          203.56,
          199.1,
          200.09,
          202.76,
          202.34,
          202.24,
          204.01,
          199.97,
          197.73,
          190.79,
          188.02,
          187.42,
          190.56,
          193.21,
          194.94,
          190.06,
          185.35,
          188.56,
          181.45,
          183.77,
          183.93,
          188.66,
          185.02,
          184.52,
          191.17,
          193.14,
          196.65,
          196.12,
          189.57,
          189.4,
          181.88,
          181.47,
          186.8,
          185.85,
          193.15,
          192.29,
          192.18,
          192.43,
          198.15,
          198.69,
          197.58,
          202.49,
          202.73,
          208.79,
          207.7,
          208.45,
          213.34,
          219.53,
          219.74,
          214.68,
          213.69,
          216.99,
          226.99,
          226.75,
          229.01,
          231.28,
          229.87,
          229.73,
          229.59,
          237.75,
          235.58,
          238.36,
          243.76,
          244.73,
          248.92,
          254.61,
          254.47,
          252.51,
          252.95,
          250.63,
          251.93,
          249.24,
          251.55,
          251.33,
          257.77,
          257.48,
          262.08,
          269.2,
          269.23,
          280.6,
          280.98,
          279.76,
          268.95,
          272.23,
          277.39,
          273.51,
          255.99,
          257.0,
          246.23,
          249.99,
          250.02,
          250.48,
          251.57,
          251.21,
          248.59,
          246.87,
          244.9,
          243.69,
          246.17,
          258.0,
          255.73,
          262.05,
          261.5,
          261.92,
          250.68,
          255.01,
          254.78,
          263.16,
          270.22,
          277.45,
          277.38,
          277.92,
          278.3,
          298.52,
          303.7,
          295.0,
          298.7,
          302.54,
          312.39,
          308.71,
          296.84,
          304.0,
          301.44,
          300.25,
          305.52,
          302.51,
          305.6,
          308.03,
          313.79,
          310.17,
          308.63,
          314.07,
          322.83,
          318.89,
          311.02,
          295.46,
          308.35,
          307.19,
          321.26,
          325.22,
          323.1,
          324.81,
          315.88,
          317.01,
          306.11,
          313.06,
          310.83,
          310.35,
          303.86,
          310.22,
          316.83,
          325.14,
          335.1,
          341.01,
          340.37,
          339.85,
          347.32,
          352.85,
          359.65,
          370.0,
          357.32,
          359.01,
          375.95,
          380.66,
          375.34,
          371.4,
          369.8,
          372.24,
          376.4,
          382.61,
          383.45,
          377.49,
          362.37,
          371.24,
          360.75,
          361.61,
          352.62,
          327.09,
          308.83,
          313.22,
          316.05,
          327.22,
          329.52,
          323.41,
          327.78,
          319.57,
          328.24,
          325.26,
          329.92,
          328.4,
          342.52,
          339.6,
          343.85,
          334.46,
          335.07,
          323.47,
          319.57,
          325.89,
          347.09,
          356.91,
          355.17,
          365.22,
          363.53,
          355.4,
          357.87,
          363.8,
          362.33,
          362.91,
          351.92,
          347.46,
          337.86,
          341.35,
          352.77,
          352.93,
          348.05,
          345.66,
          347.36,
          353.18,
          355.9,
          355.4,
          349.59,
          344.53,
          350.61,
          343.4,
          363.69,
          362.75,
          366.23,
          377.64,
          379.81,
          385.0,
          375.1,
          373.91,
          366.48,
          351.09,
          344.99,
          345.25,
          340.97,
          339.6,
          341.1,
          341.53,
          348.14,
          355.01,
          355.33,
          356.88,
          342.94,
          355.59,
          354.6,
          355.68,
          355.57,
          350.6,
          355.75,
          359.65,
          351.81,
          345.1,
          337.02,
          337.34,
          325.84,
          326.17,
          320.87,
          320.08,
          331.53,
          321.08,
          299.26,
          306.09,
          302.78,
          306.05,
          304.39,
          302.99,
          302.99,
          315.4,
          308.7,
          311.3,
          312.5,
          315.05,
          308.74,
          317.81,
          312.6,
          315.55,
          316.81,
          317.55,
          307.54,
          308.85,
          306.53,
          305.2,
          303.7,
          313.26,
          311.24,
          315.13,
          328.91,
          341.03,
          339.03,
          337.89,
          343.45,
          338.87,
          331.1,
          328.98,
          331.66,
          325.2,
          317.29,
          311.64,
          315.36,
          311.35,
          320.53,
          317.25,
          314.62,
          316.58,
          336.41,
          333.69,
          334.8,
          337.95,
          336.22,
          340.06,
          347.16,
          344.57,
          350.02,
          351.56,
          352.79,
          345.89,
          337.64,
          342.85,
          349.53,
          345.82,
          354.31,
          349.25,
          343.75,
          333.13,
          333.97,
          345.0,
          315.23,
          310.42,
          315.73,
          323.66,
          322.31,
          334.065,
          335.49,
          334.77,
          333.3,
          346.17,
          352.05,
          357.42,
          350.99,
          343.06,
          330.93,
          335.12,
          333.35,
          328.2,
          332.3,
          329.1,
          327.17,
          345.51,
          341.84,
          326.63,
          325.6,
          321.35,
          313.56,
          310.55,
          316.53,
          309.1,
          301.54,
          304.18,
          279.18,
          257.78,
          266.13,
          252.48,
          267.53,
          286.94,
          305.72,
          299.3,
          289.66,
          304.7,
          300.93,
          294.08,
          300.34,
          291.21,
          287.69,
          293.35,
          300.08,
          290.24,
          283.37,
          283.46,
          280.69,
          285.48,
          294.075,
          293.9,
          299.92,
          301.15,
          284.45,
          294.09,
          302.77,
          301.97,
          306.85,
          305.02,
          301.06,
          291.97,
          284.18,
          286.48,
          284.54,
          276.82,
          284.49,
          275.01,
          279.07,
          277.85,
          278.85,
          283.76,
          291.72,
          284.73,
          291.82,
          296.74,
          291.13,
          319.5,
          316.09,
          317.66,
          332.1,
          342.77,
          344.78,
          357.72,
          358.17,
          370.83,
          352.55,
          362.22,
          347.51,
          333.63,
          333.01,
          342.0,
          344.5,
          349.93,
          342.95,
          335.07,
          310.86,
          309.16,
          308.9,
          318.51,
          322.47,
          318.96,
          316.71,
          318.87,
          310.1,
          322.69,
          323.85,
          320.23,
          313.58,
          303.2,
          297.43,
          308.74,
          306.65,
          297.18,
          290.17,
          298.14,
          300.84,
          349.54,
          348.17,
          341.99,
          379.57,
          370.34,
          352.45,
          355.49,
          356.41,
          347.64,
          338.69,
          335.45,
          305.5,
          308.44,
          321.9,
          321.64,
          320.1,
          322.82,
          319.27,
          311.86,
          305.01,
          303.15,
          301.66,
          288.95,
          280.74,
          280.95,
          263.24,
          285.5,
          279.44,
          290.54,
          289.46,
          295.2,
          294.84,
          284.96,
          299.02,
          298.33,
          299.1,
          299.68,
          300.99,
          309.58,
          307.52,
          264.77,
          310.7,
          301.02,
          294.8,
          281.83,
          261.95,
          250.56,
          262.8,
          256.88,
          252.23,
          258.78,
          259.59
         ],
         "x": [
          "11:34",
          "2015/10/15",
          "2015/10/16",
          "2015/10/19",
          "2015/10/20",
          "2015/10/21",
          "2015/10/22",
          "2015/10/23",
          "2015/10/26",
          "2015/10/27",
          "2015/10/28",
          "2015/10/29",
          "2015/10/30",
          "2015/11/02",
          "2015/11/03",
          "2015/11/04",
          "2015/11/05",
          "2015/11/06",
          "2015/11/09",
          "2015/11/10",
          "2015/11/11",
          "2015/11/12",
          "2015/11/13",
          "2015/11/16",
          "2015/11/17",
          "2015/11/18",
          "2015/11/19",
          "2015/11/20",
          "2015/11/23",
          "2015/11/24",
          "2015/11/25",
          "2015/11/27",
          "2015/11/30",
          "2015/12/01",
          "2015/12/02",
          "2015/12/03",
          "2015/12/04",
          "2015/12/07",
          "2015/12/08",
          "2015/12/09",
          "2015/12/10",
          "2015/12/11",
          "2015/12/14",
          "2015/12/15",
          "2015/12/16",
          "2015/12/17",
          "2015/12/18",
          "2015/12/21",
          "2015/12/22",
          "2015/12/23",
          "2015/12/24",
          "2015/12/28",
          "2015/12/29",
          "2015/12/30",
          "2015/12/31",
          "2016/01/04",
          "2016/01/05",
          "2016/01/06",
          "2016/01/07",
          "2016/01/08",
          "2016/01/11",
          "2016/01/12",
          "2016/01/13",
          "2016/01/14",
          "2016/01/15",
          "2016/01/19",
          "2016/01/20",
          "2016/01/21",
          "2016/01/22",
          "2016/01/25",
          "2016/01/26",
          "2016/01/27",
          "2016/01/28",
          "2016/01/29",
          "2016/02/01",
          "2016/02/02",
          "2016/02/03",
          "2016/02/04",
          "2016/02/05",
          "2016/02/08",
          "2016/02/09",
          "2016/02/10",
          "2016/02/11",
          "2016/02/12",
          "2016/02/16",
          "2016/02/17",
          "2016/02/18",
          "2016/02/19",
          "2016/02/22",
          "2016/02/23",
          "2016/02/24",
          "2016/02/25",
          "2016/02/26",
          "2016/02/29",
          "2016/03/01",
          "2016/03/02",
          "2016/03/03",
          "2016/03/04",
          "2016/03/07",
          "2016/03/08",
          "2016/03/09",
          "2016/03/10",
          "2016/03/11",
          "2016/03/14",
          "2016/03/15",
          "2016/03/16",
          "2016/03/17",
          "2016/03/18",
          "2016/03/21",
          "2016/03/22",
          "2016/03/23",
          "2016/03/24",
          "2016/03/28",
          "2016/03/29",
          "2016/03/30",
          "2016/03/31",
          "2016/04/01",
          "2016/04/04",
          "2016/04/05",
          "2016/04/06",
          "2016/04/07",
          "2016/04/08",
          "2016/04/11",
          "2016/04/12",
          "2016/04/13",
          "2016/04/14",
          "2016/04/15",
          "2016/04/18",
          "2016/04/19",
          "2016/04/20",
          "2016/04/21",
          "2016/04/22",
          "2016/04/25",
          "2016/04/26",
          "2016/04/27",
          "2016/04/28",
          "2016/04/29",
          "2016/05/02",
          "2016/05/03",
          "2016/05/04",
          "2016/05/05",
          "2016/05/06",
          "2016/05/09",
          "2016/05/10",
          "2016/05/11",
          "2016/05/12",
          "2016/05/13",
          "2016/05/16",
          "2016/05/17",
          "2016/05/18",
          "2016/05/19",
          "2016/05/20",
          "2016/05/23",
          "2016/05/24",
          "2016/05/25",
          "2016/05/26",
          "2016/05/27",
          "2016/05/31",
          "2016/06/01",
          "2016/06/02",
          "2016/06/03",
          "2016/06/06",
          "2016/06/07",
          "2016/06/08",
          "2016/06/09",
          "2016/06/10",
          "2016/06/13",
          "2016/06/14",
          "2016/06/15",
          "2016/06/16",
          "2016/06/17",
          "2016/06/20",
          "2016/06/21",
          "2016/06/22",
          "2016/06/23",
          "2016/06/24",
          "2016/06/27",
          "2016/06/28",
          "2016/06/29",
          "2016/06/30",
          "2016/07/01",
          "2016/07/05",
          "2016/07/06",
          "2016/07/07",
          "2016/07/08",
          "2016/07/11",
          "2016/07/12",
          "2016/07/13",
          "2016/07/14",
          "2016/07/15",
          "2016/07/18",
          "2016/07/19",
          "2016/07/20",
          "2016/07/21",
          "2016/07/22",
          "2016/07/25",
          "2016/07/26",
          "2016/07/27",
          "2016/07/28",
          "2016/07/29",
          "2016/08/01",
          "2016/08/02",
          "2016/08/03",
          "2016/08/04",
          "2016/08/05",
          "2016/08/08",
          "2016/08/09",
          "2016/08/10",
          "2016/08/11",
          "2016/08/12",
          "2016/08/15",
          "2016/08/16",
          "2016/08/17",
          "2016/08/18",
          "2016/08/19",
          "2016/08/22",
          "2016/08/23",
          "2016/08/24",
          "2016/08/25",
          "2016/08/26",
          "2016/08/29",
          "2016/08/30",
          "2016/08/31",
          "2016/09/01",
          "2016/09/02",
          "2016/09/06",
          "2016/09/07",
          "2016/09/08",
          "2016/09/09",
          "2016/09/12",
          "2016/09/13",
          "2016/09/14",
          "2016/09/15",
          "2016/09/16",
          "2016/09/19",
          "2016/09/20",
          "2016/09/21",
          "2016/09/22",
          "2016/09/23",
          "2016/09/26",
          "2016/09/27",
          "2016/09/28",
          "2016/09/29",
          "2016/09/30",
          "2016/10/03",
          "2016/10/04",
          "2016/10/05",
          "2016/10/06",
          "2016/10/07",
          "2016/10/10",
          "2016/10/11",
          "2016/10/12",
          "2016/10/13",
          "2016/10/14",
          "2016/10/17",
          "2016/10/18",
          "2016/10/19",
          "2016/10/20",
          "2016/10/21",
          "2016/10/24",
          "2016/10/25",
          "2016/10/26",
          "2016/10/27",
          "2016/10/28",
          "2016/10/31",
          "2016/11/01",
          "2016/11/02",
          "2016/11/03",
          "2016/11/04",
          "2016/11/07",
          "2016/11/08",
          "2016/11/09",
          "2016/11/10",
          "2016/11/11",
          "2016/11/14",
          "2016/11/15",
          "2016/11/16",
          "2016/11/17",
          "2016/11/18",
          "2016/11/21",
          "2016/11/22",
          "2016/11/23",
          "2016/11/25",
          "2016/11/28",
          "2016/11/29",
          "2016/11/30",
          "2016/12/01",
          "2016/12/02",
          "2016/12/05",
          "2016/12/06",
          "2016/12/07",
          "2016/12/08",
          "2016/12/09",
          "2016/12/12",
          "2016/12/13",
          "2016/12/14",
          "2016/12/15",
          "2016/12/16",
          "2016/12/19",
          "2016/12/20",
          "2016/12/21",
          "2016/12/22",
          "2016/12/23",
          "2016/12/27",
          "2016/12/28",
          "2016/12/29",
          "2016/12/30",
          "2017/01/03",
          "2017/01/04",
          "2017/01/05",
          "2017/01/06",
          "2017/01/09",
          "2017/01/10",
          "2017/01/11",
          "2017/01/12",
          "2017/01/13",
          "2017/01/17",
          "2017/01/18",
          "2017/01/19",
          "2017/01/20",
          "2017/01/23",
          "2017/01/24",
          "2017/01/25",
          "2017/01/26",
          "2017/01/27",
          "2017/01/30",
          "2017/01/31",
          "2017/02/01",
          "2017/02/02",
          "2017/02/03",
          "2017/02/06",
          "2017/02/07",
          "2017/02/08",
          "2017/02/09",
          "2017/02/10",
          "2017/02/13",
          "2017/02/14",
          "2017/02/15",
          "2017/02/16",
          "2017/02/17",
          "2017/02/21",
          "2017/02/22",
          "2017/02/23",
          "2017/02/24",
          "2017/02/27",
          "2017/02/28",
          "2017/03/01",
          "2017/03/02",
          "2017/03/03",
          "2017/03/06",
          "2017/03/07",
          "2017/03/08",
          "2017/03/09",
          "2017/03/10",
          "2017/03/13",
          "2017/03/14",
          "2017/03/15",
          "2017/03/16",
          "2017/03/17",
          "2017/03/20",
          "2017/03/21",
          "2017/03/22",
          "2017/03/23",
          "2017/03/24",
          "2017/03/27",
          "2017/03/28",
          "2017/03/29",
          "2017/03/30",
          "2017/03/31",
          "2017/04/03",
          "2017/04/04",
          "2017/04/05",
          "2017/04/06",
          "2017/04/07",
          "2017/04/10",
          "2017/04/11",
          "2017/04/12",
          "2017/04/13",
          "2017/04/17",
          "2017/04/18",
          "2017/04/19",
          "2017/04/20",
          "2017/04/21",
          "2017/04/24",
          "2017/04/25",
          "2017/04/26",
          "2017/04/27",
          "2017/04/28",
          "2017/05/01",
          "2017/05/02",
          "2017/05/03",
          "2017/05/04",
          "2017/05/05",
          "2017/05/08",
          "2017/05/09",
          "2017/05/10",
          "2017/05/11",
          "2017/05/12",
          "2017/05/15",
          "2017/05/16",
          "2017/05/17",
          "2017/05/18",
          "2017/05/19",
          "2017/05/22",
          "2017/05/23",
          "2017/05/24",
          "2017/05/25",
          "2017/05/26",
          "2017/05/30",
          "2017/05/31",
          "2017/06/01",
          "2017/06/02",
          "2017/06/05",
          "2017/06/06",
          "2017/06/07",
          "2017/06/08",
          "2017/06/09",
          "2017/06/12",
          "2017/06/13",
          "2017/06/14",
          "2017/06/15",
          "2017/06/16",
          "2017/06/19",
          "2017/06/20",
          "2017/06/21",
          "2017/06/22",
          "2017/06/23",
          "2017/06/26",
          "2017/06/27",
          "2017/06/28",
          "2017/06/29",
          "2017/06/30",
          "2017/07/03",
          "2017/07/05",
          "2017/07/06",
          "2017/07/07",
          "2017/07/10",
          "2017/07/11",
          "2017/07/12",
          "2017/07/13",
          "2017/07/14",
          "2017/07/17",
          "2017/07/18",
          "2017/07/19",
          "2017/07/20",
          "2017/07/21",
          "2017/07/24",
          "2017/07/25",
          "2017/07/26",
          "2017/07/27",
          "2017/07/28",
          "2017/07/31",
          "2017/08/01",
          "2017/08/02",
          "2017/08/03",
          "2017/08/04",
          "2017/08/07",
          "2017/08/08",
          "2017/08/09",
          "2017/08/10",
          "2017/08/11",
          "2017/08/14",
          "2017/08/15",
          "2017/08/16",
          "2017/08/17",
          "2017/08/18",
          "2017/08/21",
          "2017/08/22",
          "2017/08/23",
          "2017/08/24",
          "2017/08/25",
          "2017/08/28",
          "2017/08/29",
          "2017/08/30",
          "2017/08/31",
          "2017/09/01",
          "2017/09/05",
          "2017/09/06",
          "2017/09/07",
          "2017/09/08",
          "2017/09/11",
          "2017/09/12",
          "2017/09/13",
          "2017/09/14",
          "2017/09/15",
          "2017/09/18",
          "2017/09/19",
          "2017/09/20",
          "2017/09/21",
          "2017/09/22",
          "2017/09/25",
          "2017/09/26",
          "2017/09/27",
          "2017/09/28",
          "2017/09/29",
          "2017/10/02",
          "2017/10/03",
          "2017/10/04",
          "2017/10/05",
          "2017/10/06",
          "2017/10/09",
          "2017/10/10",
          "2017/10/11",
          "2017/10/12",
          "2017/10/13",
          "2017/10/16",
          "2017/10/17",
          "2017/10/18",
          "2017/10/19",
          "2017/10/20",
          "2017/10/23",
          "2017/10/24",
          "2017/10/25",
          "2017/10/26",
          "2017/10/27",
          "2017/10/30",
          "2017/10/31",
          "2017/11/01",
          "2017/11/02",
          "2017/11/03",
          "2017/11/06",
          "2017/11/07",
          "2017/11/08",
          "2017/11/09",
          "2017/11/10",
          "2017/11/13",
          "2017/11/14",
          "2017/11/15",
          "2017/11/16",
          "2017/11/17",
          "2017/11/20",
          "2017/11/21",
          "2017/11/22",
          "2017/11/24",
          "2017/11/27",
          "2017/11/28",
          "2017/11/29",
          "2017/11/30",
          "2017/12/01",
          "2017/12/04",
          "2017/12/05",
          "2017/12/06",
          "2017/12/07",
          "2017/12/08",
          "2017/12/11",
          "2017/12/12",
          "2017/12/13",
          "2017/12/14",
          "2017/12/15",
          "2017/12/18",
          "2017/12/19",
          "2017/12/20",
          "2017/12/21",
          "2017/12/22",
          "2017/12/26",
          "2017/12/27",
          "2017/12/28",
          "2017/12/29",
          "2018/01/02",
          "2018/01/03",
          "2018/01/04",
          "2018/01/05",
          "2018/01/08",
          "2018/01/09",
          "2018/01/10",
          "2018/01/11",
          "2018/01/12",
          "2018/01/16",
          "2018/01/17",
          "2018/01/18",
          "2018/01/19",
          "2018/01/22",
          "2018/01/23",
          "2018/01/24",
          "2018/01/25",
          "2018/01/26",
          "2018/01/29",
          "2018/01/30",
          "2018/01/31",
          "2018/02/01",
          "2018/02/02",
          "2018/02/05",
          "2018/02/06",
          "2018/02/07",
          "2018/02/08",
          "2018/02/09",
          "2018/02/12",
          "2018/02/13",
          "2018/02/14",
          "2018/02/15",
          "2018/02/16",
          "2018/02/20",
          "2018/02/21",
          "2018/02/22",
          "2018/02/23",
          "2018/02/26",
          "2018/02/27",
          "2018/02/28",
          "2018/03/01",
          "2018/03/02",
          "2018/03/05",
          "2018/03/06",
          "2018/03/07",
          "2018/03/08",
          "2018/03/09",
          "2018/03/12",
          "2018/03/13",
          "2018/03/14",
          "2018/03/15",
          "2018/03/16",
          "2018/03/19",
          "2018/03/20",
          "2018/03/21",
          "2018/03/22",
          "2018/03/23",
          "2018/03/26",
          "2018/03/27",
          "2018/03/28",
          "2018/03/29",
          "2018/04/02",
          "2018/04/03",
          "2018/04/04",
          "2018/04/05",
          "2018/04/06",
          "2018/04/09",
          "2018/04/10",
          "2018/04/11",
          "2018/04/12",
          "2018/04/13",
          "2018/04/16",
          "2018/04/17",
          "2018/04/18",
          "2018/04/19",
          "2018/04/20",
          "2018/04/23",
          "2018/04/24",
          "2018/04/25",
          "2018/04/26",
          "2018/04/27",
          "2018/04/30",
          "2018/05/01",
          "2018/05/02",
          "2018/05/03",
          "2018/05/04",
          "2018/05/07",
          "2018/05/08",
          "2018/05/09",
          "2018/05/10",
          "2018/05/11",
          "2018/05/14",
          "2018/05/15",
          "2018/05/16",
          "2018/05/17",
          "2018/05/18",
          "2018/05/21",
          "2018/05/22",
          "2018/05/23",
          "2018/05/24",
          "2018/05/25",
          "2018/05/29",
          "2018/05/30",
          "2018/05/31",
          "2018/06/01",
          "2018/06/04",
          "2018/06/05",
          "2018/06/06",
          "2018/06/07",
          "2018/06/08",
          "2018/06/11",
          "2018/06/12",
          "2018/06/13",
          "2018/06/14",
          "2018/06/15",
          "2018/06/18",
          "2018/06/19",
          "2018/06/20",
          "2018/06/21",
          "2018/06/22",
          "2018/06/25",
          "2018/06/26",
          "2018/06/27",
          "2018/06/28",
          "2018/06/29",
          "2018/07/02",
          "2018/07/03",
          "2018/07/05",
          "2018/07/06",
          "2018/07/09",
          "2018/07/10",
          "2018/07/11",
          "2018/07/12",
          "2018/07/13",
          "2018/07/16",
          "2018/07/17",
          "2018/07/18",
          "2018/07/19",
          "2018/07/20",
          "2018/07/23",
          "2018/07/24",
          "2018/07/25",
          "2018/07/26",
          "2018/07/27",
          "2018/07/30",
          "2018/07/31",
          "2018/08/01",
          "2018/08/02",
          "2018/08/03",
          "2018/08/06",
          "2018/08/07",
          "2018/08/08",
          "2018/08/09",
          "2018/08/10",
          "2018/08/13",
          "2018/08/14",
          "2018/08/15",
          "2018/08/16",
          "2018/08/17",
          "2018/08/20",
          "2018/08/21",
          "2018/08/22",
          "2018/08/23",
          "2018/08/24",
          "2018/08/27",
          "2018/08/28",
          "2018/08/29",
          "2018/08/30",
          "2018/08/31",
          "2018/09/04",
          "2018/09/05",
          "2018/09/06",
          "2018/09/07",
          "2018/09/10",
          "2018/09/11",
          "2018/09/12",
          "2018/09/13",
          "2018/09/14",
          "2018/09/17",
          "2018/09/18",
          "2018/09/19",
          "2018/09/20",
          "2018/09/21",
          "2018/09/24",
          "2018/09/25",
          "2018/09/26",
          "2018/09/27",
          "2018/09/28",
          "2018/10/01",
          "2018/10/02",
          "2018/10/03",
          "2018/10/04",
          "2018/10/05",
          "2018/10/08",
          "2018/10/09",
          "2018/10/10",
          "2018/10/11",
          "2018/10/12",
          "2018/10/15"
         ],
         "y": [
          264.5,
          216.43,
          223.04,
          226.5,
          227.72,
          211.99,
          211.56,
          215.0,
          211.38,
          214.84,
          211.31,
          211.75,
          210.4,
          208.92,
          213.85,
          227.0,
          230.58,
          230.7,
          232.99,
          223.48,
          217.77,
          217.85,
          212.95,
          206.09,
          215.2,
          214.5,
          220.54,
          223.49,
          217.35,
          215.37,
          221.34,
          231.06,
          231.79,
          231.06,
          237.0,
          235.48,
          232.46,
          227.7,
          227.52,
          226.7,
          224.71,
          225.24,
          217.51,
          221.82,
          222.1,
          233.94,
          232.89,
          231.69,
          234.99,
          232.18,
          230.56,
          231.49,
          230.06,
          236.6,
          238.51,
          230.72,
          226.36,
          220.0,
          214.19,
          217.86,
          214.01,
          211.6,
          212.01,
          202.21,
          198.97,
          208.71,
          199.4,
          201.55,
          204.801,
          200.06,
          196.7,
          192.38,
          190.79,
          189.95,
          188.76,
          192.42,
          183.59,
          170.7,
          171.3,
          157.105,
          142.32,
          150.5,
          152.0,
          155.0,
          158.7,
          159.0,
          172.42,
          163.66,
          170.12,
          176.16,
          172.75,
          178.65,
          188.7,
          192.4,
          194.25,
          183.73,
          188.28,
          198.0,
          197.68,
          203.5,
          204.52,
          210.0,
          207.93,
          212.65,
          214.27,
          218.0,
          221.47,
          229.1,
          235.34,
          237.21,
          232.37,
          215.78,
          231.61,
          229.89,
          235.09,
          229.34,
          244.825,
          249.12,
          240.5,
          253.97,
          266.45,
          260.5,
          251.0,
          249.5,
          248.51,
          253.0,
          251.31,
          252.23,
          253.12,
          246.26,
          248.99,
          248.89,
          253.01,
          252.05,
          252.75,
          249.85,
          248.14,
          241.5,
          237.36,
          230.29,
          228.46,
          210.87,
          215.72,
          207.55,
          207.59,
          211.44,
          207.78,
          208.15,
          209.05,
          209.15,
          213.62,
          216.99,
          219.87,
          216.6,
          217.91,
          220.5,
          224.99,
          223.04,
          221.48,
          219.59,
          220.0,
          218.0,
          222.24,
          233.8,
          234.98,
          227.39,
          219.5,
          218.88,
          216.95,
          217.42,
          217.81,
          219.5,
          220.68,
          199.47,
          195.69,
          190.05,
          190.86,
          201.89,
          205.13,
          212.97,
          206.14,
          209.73,
          210.0,
          213.1,
          217.8,
          219.96,
          224.1,
          225.5,
          223.12,
          222.52,
          219.64,
          225.0,
          226.47,
          226.0,
          221.99,
          222.27,
          227.69,
          229.34,
          227.95,
          230.7,
          235.5,
          229.37,
          227.37,
          225.69,
          230.0,
          228.0,
          226.82,
          228.24,
          226.17,
          225.41,
          226.02,
          225.49,
          224.33,
          223.82,
          223.54,
          224.17,
          224.32,
          227.05,
          223.11,
          222.14,
          220.15,
          216.11,
          210.43,
          209.01,
          202.33,
          199.02,
          205.5,
          199.55,
          199.09,
          195.0,
          197.06,
          195.75,
          196.49,
          200.42,
          207.0,
          206.85,
          206.37,
          206.4,
          205.99,
          206.5,
          209.65,
          207.51,
          205.6,
          202.21,
          212.3,
          213.1,
          212.24,
          202.46,
          201.0,
          201.35,
          201.85,
          200.95,
          200.5,
          200.66,
          197.05,
          195.99,
          199.74,
          202.12,
          198.6,
          201.0,
          202.9,
          201.0,
          211.34,
          204.0,
          202.49,
          198.04,
          190.05,
          189.0,
          189.0,
          193.59,
          193.79,
          186.875,
          191.05,
          184.24,
          188.0,
          182.78,
          182.65,
          183.49,
          190.65,
          185.04,
          185.84,
          190.61,
          193.64,
          195.48,
          195.56,
          191.0,
          188.25,
          182.88,
          182.51,
          185.52,
          186.15,
          192.05,
          190.87,
          192.8,
          193.18,
          198.74,
          198.41,
          198.08,
          202.49,
          203.05,
          208.45,
          208.22,
          208.0,
          214.88,
          221.53,
          218.56,
          216.3,
          214.86,
          214.75,
          226.42,
          226.93,
          228.97,
          232.0,
          229.07,
          229.06,
          230.0,
          236.7,
          236.65,
          247.25,
          245.46,
          245.85,
          250.0,
          257.31,
          254.29,
          251.38,
          252.53,
          249.24,
          253.05,
          248.34,
          251.91,
          251.0,
          258.19,
          257.35,
          266.25,
          269.79,
          270.74,
          279.03,
          280.0,
          277.6,
          265.8,
          275.45,
          280.31,
          264.0,
          252.66,
          248.17,
          244.19,
          254.18,
          249.71,
          250.74,
          247.91,
          251.92,
          247.0,
          247.63,
          246.21,
          244.82,
          246.11,
          257.0,
          262.4,
          264.0,
          260.6,
          262.83,
          251.56,
          255.39,
          255.7,
          260.6,
          277.02,
          278.34,
          278.04,
          278.73,
          286.9,
          296.89,
          302.04,
          296.88,
          297.5,
          309.15,
          313.38,
          306.34,
          296.7,
          302.7,
          299.7,
          302.46,
          306.51,
          302.0,
          309.22,
          308.0,
          312.37,
          311.69,
          309.83,
          314.88,
          324.0,
          317.67,
          307.435,
          298.0,
          310.9,
          309.38,
          321.56,
          323.4,
          325.48,
          318.38,
          317.59,
          314.39,
          307.0,
          315.5,
          312.8,
          310.46,
          306.51,
          311.02,
          317.28,
          326.0,
          337.69,
          344.0,
          339.77,
          338.5,
          344.7,
          356.34,
          363.75,
          374.42,
          357.99,
          367.62,
          381.085,
          372.5,
          377.975,
          375.0,
          376.67,
          374.35,
          377.99,
          382.45,
          386.69,
          376.4,
          366.68,
          370.61,
          363.71,
          370.24,
          347.2,
          317.26,
          313.5,
          312.9,
          316.0,
          330.4,
          330.11,
          323.19,
          325.54,
          317.5,
          328.23,
          326.9,
          329.46,
          330.24,
          345.0,
          340.36,
          346.0,
          336.89,
          335.5,
          323.0,
          318.94,
          345.33,
          347.0,
          357.35,
          357.53,
          361.0,
          361.6,
          356.97,
          364.63,
          365.2,
          363.0,
          361.21,
          352.91,
          345.82,
          341.13,
          338.99,
          352.52,
          354.24,
          347.28,
          339.48,
          349.67,
          353.55,
          356.12,
          353.8,
          349.5,
          345.98,
          348.99,
          351.35,
          364.49,
          363.82,
          364.33,
          374.51,
          380.25,
          380.0,
          373.0,
          374.9,
          366.49,
          353.15,
          350.93,
          349.9,
          339.88,
          341.86,
          342.52,
          335.9,
          351.25,
          356.0,
          353.1,
          349.65,
          346.8,
          353.89,
          352.95,
          356.98,
          353.76,
          350.91,
          355.97,
          355.56,
          352.69,
          349.88,
          338.8,
          336.7,
          327.78,
          319.75,
          319.18,
          320.23,
          332.25,
          300.13,
          299.5,
          307.0,
          301.02,
          305.5,
          302.5,
          302.5,
          300.13,
          315.0,
          306.01,
          313.99,
          325.67,
          313.79,
          310.86,
          316.77,
          313.79,
          313.25,
          316.36,
          317.3,
          308.56,
          305.44,
          306.5,
          302.0,
          300.1,
          312.0,
          314.6,
          314.63,
          330.45,
          340.93,
          341.01,
          342.04,
          344.9,
          340.26,
          332.69,
          329.59,
          329.51,
          323.83,
          316.0,
          311.75,
          316.18,
          312.0,
          321.0,
          312.87,
          316.62,
          316.0,
          335.16,
          332.2,
          335.24,
          338.63,
          337.54,
          340.47,
          345.67,
          345.0,
          349.4,
          360.0,
          354.58,
          348.27,
          341.5,
          339.85,
          345.14,
          347.51,
          351.0,
          348.44,
          337.97,
          325.21,
          338.99,
          343.31,
          319.93,
          316.13,
          315.02,
          320.84,
          324.5,
          332.5,
          334.47,
          336.03,
          335.53,
          347.83,
          353.5,
          356.25,
          352.57,
          345.01,
          326.98,
          332.39,
          333.75,
          325.44,
          332.86,
          324.1,
          328.61,
          344.92,
          336.76,
          329.38,
          325.96,
          316.5,
          314.87,
          310.25,
          313.89,
          311.25,
          307.34,
          304.0,
          264.58,
          256.49,
          256.26,
          269.82,
          252.78,
          289.34,
          301.0,
          300.37,
          298.97,
          300.74,
          302.32,
          303.6,
          299.0,
          288.87,
          291.08,
          291.08,
          295.17,
          291.29,
          285.0,
          283.5,
          278.75,
          285.37,
          293.61,
          293.51,
          298.57,
          278.79,
          283.0,
          297.5,
          300.795,
          300.41,
          307.4997,
          307.7,
          303.32,
          285.01,
          283.83,
          285.9,
          284.65,
          281.33,
          287.762,
          277.76,
          278.4,
          277.625,
          278.51,
          283.29,
          287.21,
          285.86,
          294.34,
          297.7,
          300.5,
          316.15,
          319.0,
          322.51,
          344.7,
          346.706,
          347.63,
          353.84,
          355.4,
          365.16,
          358.04,
          362.0,
          351.54,
          330.12,
          336.054,
          345.0,
          348.66,
          353.33,
          360.07,
          331.75,
          313.76,
          304.955,
          311.99,
          324.56,
          315.8,
          321.43,
          315.58,
          311.71,
          308.81,
          325.0,
          316.33,
          321.23,
          301.84,
          304.4209,
          296.74,
          304.85,
          307.25,
          295.9,
          292.25,
          297.99,
          328.44,
          347.81,
          345.46,
          343.84,
          369.09,
          365.55,
          354.0,
          361.13,
          358.45,
          341.906,
          339.91,
          323.5,
          291.704,
          310.61,
          320.87,
          319.14,
          320.7,
          318.0,
          318.41,
          310.27,
          302.26,
          302.0,
          296.94,
          285.05,
          284.8,
          260.1,
          273.26,
          279.47,
          281.44,
          288.02,
          288.76,
          290.04,
          296.69,
          280.51,
          303.56,
          297.7,
          298.48,
          300.0,
          301.91,
          312.9,
          270.26,
          305.77,
          313.95,
          303.33,
          293.95,
          274.65,
          264.52,
          255.25,
          264.61,
          257.53,
          261.0,
          259.06
         ],
         "type": "scatter"
        },
        {
         "name": "high",
         "x": [
          "11:34",
          "2015/10/15",
          "2015/10/16",
          "2015/10/19",
          "2015/10/20",
          "2015/10/21",
          "2015/10/22",
          "2015/10/23",
          "2015/10/26",
          "2015/10/27",
          "2015/10/28",
          "2015/10/29",
          "2015/10/30",
          "2015/11/02",
          "2015/11/03",
          "2015/11/04",
          "2015/11/05",
          "2015/11/06",
          "2015/11/09",
          "2015/11/10",
          "2015/11/11",
          "2015/11/12",
          "2015/11/13",
          "2015/11/16",
          "2015/11/17",
          "2015/11/18",
          "2015/11/19",
          "2015/11/20",
          "2015/11/23",
          "2015/11/24",
          "2015/11/25",
          "2015/11/27",
          "2015/11/30",
          "2015/12/01",
          "2015/12/02",
          "2015/12/03",
          "2015/12/04",
          "2015/12/07",
          "2015/12/08",
          "2015/12/09",
          "2015/12/10",
          "2015/12/11",
          "2015/12/14",
          "2015/12/15",
          "2015/12/16",
          "2015/12/17",
          "2015/12/18",
          "2015/12/21",
          "2015/12/22",
          "2015/12/23",
          "2015/12/24",
          "2015/12/28",
          "2015/12/29",
          "2015/12/30",
          "2015/12/31",
          "2016/01/04",
          "2016/01/05",
          "2016/01/06",
          "2016/01/07",
          "2016/01/08",
          "2016/01/11",
          "2016/01/12",
          "2016/01/13",
          "2016/01/14",
          "2016/01/15",
          "2016/01/19",
          "2016/01/20",
          "2016/01/21",
          "2016/01/22",
          "2016/01/25",
          "2016/01/26",
          "2016/01/27",
          "2016/01/28",
          "2016/01/29",
          "2016/02/01",
          "2016/02/02",
          "2016/02/03",
          "2016/02/04",
          "2016/02/05",
          "2016/02/08",
          "2016/02/09",
          "2016/02/10",
          "2016/02/11",
          "2016/02/12",
          "2016/02/16",
          "2016/02/17",
          "2016/02/18",
          "2016/02/19",
          "2016/02/22",
          "2016/02/23",
          "2016/02/24",
          "2016/02/25",
          "2016/02/26",
          "2016/02/29",
          "2016/03/01",
          "2016/03/02",
          "2016/03/03",
          "2016/03/04",
          "2016/03/07",
          "2016/03/08",
          "2016/03/09",
          "2016/03/10",
          "2016/03/11",
          "2016/03/14",
          "2016/03/15",
          "2016/03/16",
          "2016/03/17",
          "2016/03/18",
          "2016/03/21",
          "2016/03/22",
          "2016/03/23",
          "2016/03/24",
          "2016/03/28",
          "2016/03/29",
          "2016/03/30",
          "2016/03/31",
          "2016/04/01",
          "2016/04/04",
          "2016/04/05",
          "2016/04/06",
          "2016/04/07",
          "2016/04/08",
          "2016/04/11",
          "2016/04/12",
          "2016/04/13",
          "2016/04/14",
          "2016/04/15",
          "2016/04/18",
          "2016/04/19",
          "2016/04/20",
          "2016/04/21",
          "2016/04/22",
          "2016/04/25",
          "2016/04/26",
          "2016/04/27",
          "2016/04/28",
          "2016/04/29",
          "2016/05/02",
          "2016/05/03",
          "2016/05/04",
          "2016/05/05",
          "2016/05/06",
          "2016/05/09",
          "2016/05/10",
          "2016/05/11",
          "2016/05/12",
          "2016/05/13",
          "2016/05/16",
          "2016/05/17",
          "2016/05/18",
          "2016/05/19",
          "2016/05/20",
          "2016/05/23",
          "2016/05/24",
          "2016/05/25",
          "2016/05/26",
          "2016/05/27",
          "2016/05/31",
          "2016/06/01",
          "2016/06/02",
          "2016/06/03",
          "2016/06/06",
          "2016/06/07",
          "2016/06/08",
          "2016/06/09",
          "2016/06/10",
          "2016/06/13",
          "2016/06/14",
          "2016/06/15",
          "2016/06/16",
          "2016/06/17",
          "2016/06/20",
          "2016/06/21",
          "2016/06/22",
          "2016/06/23",
          "2016/06/24",
          "2016/06/27",
          "2016/06/28",
          "2016/06/29",
          "2016/06/30",
          "2016/07/01",
          "2016/07/05",
          "2016/07/06",
          "2016/07/07",
          "2016/07/08",
          "2016/07/11",
          "2016/07/12",
          "2016/07/13",
          "2016/07/14",
          "2016/07/15",
          "2016/07/18",
          "2016/07/19",
          "2016/07/20",
          "2016/07/21",
          "2016/07/22",
          "2016/07/25",
          "2016/07/26",
          "2016/07/27",
          "2016/07/28",
          "2016/07/29",
          "2016/08/01",
          "2016/08/02",
          "2016/08/03",
          "2016/08/04",
          "2016/08/05",
          "2016/08/08",
          "2016/08/09",
          "2016/08/10",
          "2016/08/11",
          "2016/08/12",
          "2016/08/15",
          "2016/08/16",
          "2016/08/17",
          "2016/08/18",
          "2016/08/19",
          "2016/08/22",
          "2016/08/23",
          "2016/08/24",
          "2016/08/25",
          "2016/08/26",
          "2016/08/29",
          "2016/08/30",
          "2016/08/31",
          "2016/09/01",
          "2016/09/02",
          "2016/09/06",
          "2016/09/07",
          "2016/09/08",
          "2016/09/09",
          "2016/09/12",
          "2016/09/13",
          "2016/09/14",
          "2016/09/15",
          "2016/09/16",
          "2016/09/19",
          "2016/09/20",
          "2016/09/21",
          "2016/09/22",
          "2016/09/23",
          "2016/09/26",
          "2016/09/27",
          "2016/09/28",
          "2016/09/29",
          "2016/09/30",
          "2016/10/03",
          "2016/10/04",
          "2016/10/05",
          "2016/10/06",
          "2016/10/07",
          "2016/10/10",
          "2016/10/11",
          "2016/10/12",
          "2016/10/13",
          "2016/10/14",
          "2016/10/17",
          "2016/10/18",
          "2016/10/19",
          "2016/10/20",
          "2016/10/21",
          "2016/10/24",
          "2016/10/25",
          "2016/10/26",
          "2016/10/27",
          "2016/10/28",
          "2016/10/31",
          "2016/11/01",
          "2016/11/02",
          "2016/11/03",
          "2016/11/04",
          "2016/11/07",
          "2016/11/08",
          "2016/11/09",
          "2016/11/10",
          "2016/11/11",
          "2016/11/14",
          "2016/11/15",
          "2016/11/16",
          "2016/11/17",
          "2016/11/18",
          "2016/11/21",
          "2016/11/22",
          "2016/11/23",
          "2016/11/25",
          "2016/11/28",
          "2016/11/29",
          "2016/11/30",
          "2016/12/01",
          "2016/12/02",
          "2016/12/05",
          "2016/12/06",
          "2016/12/07",
          "2016/12/08",
          "2016/12/09",
          "2016/12/12",
          "2016/12/13",
          "2016/12/14",
          "2016/12/15",
          "2016/12/16",
          "2016/12/19",
          "2016/12/20",
          "2016/12/21",
          "2016/12/22",
          "2016/12/23",
          "2016/12/27",
          "2016/12/28",
          "2016/12/29",
          "2016/12/30",
          "2017/01/03",
          "2017/01/04",
          "2017/01/05",
          "2017/01/06",
          "2017/01/09",
          "2017/01/10",
          "2017/01/11",
          "2017/01/12",
          "2017/01/13",
          "2017/01/17",
          "2017/01/18",
          "2017/01/19",
          "2017/01/20",
          "2017/01/23",
          "2017/01/24",
          "2017/01/25",
          "2017/01/26",
          "2017/01/27",
          "2017/01/30",
          "2017/01/31",
          "2017/02/01",
          "2017/02/02",
          "2017/02/03",
          "2017/02/06",
          "2017/02/07",
          "2017/02/08",
          "2017/02/09",
          "2017/02/10",
          "2017/02/13",
          "2017/02/14",
          "2017/02/15",
          "2017/02/16",
          "2017/02/17",
          "2017/02/21",
          "2017/02/22",
          "2017/02/23",
          "2017/02/24",
          "2017/02/27",
          "2017/02/28",
          "2017/03/01",
          "2017/03/02",
          "2017/03/03",
          "2017/03/06",
          "2017/03/07",
          "2017/03/08",
          "2017/03/09",
          "2017/03/10",
          "2017/03/13",
          "2017/03/14",
          "2017/03/15",
          "2017/03/16",
          "2017/03/17",
          "2017/03/20",
          "2017/03/21",
          "2017/03/22",
          "2017/03/23",
          "2017/03/24",
          "2017/03/27",
          "2017/03/28",
          "2017/03/29",
          "2017/03/30",
          "2017/03/31",
          "2017/04/03",
          "2017/04/04",
          "2017/04/05",
          "2017/04/06",
          "2017/04/07",
          "2017/04/10",
          "2017/04/11",
          "2017/04/12",
          "2017/04/13",
          "2017/04/17",
          "2017/04/18",
          "2017/04/19",
          "2017/04/20",
          "2017/04/21",
          "2017/04/24",
          "2017/04/25",
          "2017/04/26",
          "2017/04/27",
          "2017/04/28",
          "2017/05/01",
          "2017/05/02",
          "2017/05/03",
          "2017/05/04",
          "2017/05/05",
          "2017/05/08",
          "2017/05/09",
          "2017/05/10",
          "2017/05/11",
          "2017/05/12",
          "2017/05/15",
          "2017/05/16",
          "2017/05/17",
          "2017/05/18",
          "2017/05/19",
          "2017/05/22",
          "2017/05/23",
          "2017/05/24",
          "2017/05/25",
          "2017/05/26",
          "2017/05/30",
          "2017/05/31",
          "2017/06/01",
          "2017/06/02",
          "2017/06/05",
          "2017/06/06",
          "2017/06/07",
          "2017/06/08",
          "2017/06/09",
          "2017/06/12",
          "2017/06/13",
          "2017/06/14",
          "2017/06/15",
          "2017/06/16",
          "2017/06/19",
          "2017/06/20",
          "2017/06/21",
          "2017/06/22",
          "2017/06/23",
          "2017/06/26",
          "2017/06/27",
          "2017/06/28",
          "2017/06/29",
          "2017/06/30",
          "2017/07/03",
          "2017/07/05",
          "2017/07/06",
          "2017/07/07",
          "2017/07/10",
          "2017/07/11",
          "2017/07/12",
          "2017/07/13",
          "2017/07/14",
          "2017/07/17",
          "2017/07/18",
          "2017/07/19",
          "2017/07/20",
          "2017/07/21",
          "2017/07/24",
          "2017/07/25",
          "2017/07/26",
          "2017/07/27",
          "2017/07/28",
          "2017/07/31",
          "2017/08/01",
          "2017/08/02",
          "2017/08/03",
          "2017/08/04",
          "2017/08/07",
          "2017/08/08",
          "2017/08/09",
          "2017/08/10",
          "2017/08/11",
          "2017/08/14",
          "2017/08/15",
          "2017/08/16",
          "2017/08/17",
          "2017/08/18",
          "2017/08/21",
          "2017/08/22",
          "2017/08/23",
          "2017/08/24",
          "2017/08/25",
          "2017/08/28",
          "2017/08/29",
          "2017/08/30",
          "2017/08/31",
          "2017/09/01",
          "2017/09/05",
          "2017/09/06",
          "2017/09/07",
          "2017/09/08",
          "2017/09/11",
          "2017/09/12",
          "2017/09/13",
          "2017/09/14",
          "2017/09/15",
          "2017/09/18",
          "2017/09/19",
          "2017/09/20",
          "2017/09/21",
          "2017/09/22",
          "2017/09/25",
          "2017/09/26",
          "2017/09/27",
          "2017/09/28",
          "2017/09/29",
          "2017/10/02",
          "2017/10/03",
          "2017/10/04",
          "2017/10/05",
          "2017/10/06",
          "2017/10/09",
          "2017/10/10",
          "2017/10/11",
          "2017/10/12",
          "2017/10/13",
          "2017/10/16",
          "2017/10/17",
          "2017/10/18",
          "2017/10/19",
          "2017/10/20",
          "2017/10/23",
          "2017/10/24",
          "2017/10/25",
          "2017/10/26",
          "2017/10/27",
          "2017/10/30",
          "2017/10/31",
          "2017/11/01",
          "2017/11/02",
          "2017/11/03",
          "2017/11/06",
          "2017/11/07",
          "2017/11/08",
          "2017/11/09",
          "2017/11/10",
          "2017/11/13",
          "2017/11/14",
          "2017/11/15",
          "2017/11/16",
          "2017/11/17",
          "2017/11/20",
          "2017/11/21",
          "2017/11/22",
          "2017/11/24",
          "2017/11/27",
          "2017/11/28",
          "2017/11/29",
          "2017/11/30",
          "2017/12/01",
          "2017/12/04",
          "2017/12/05",
          "2017/12/06",
          "2017/12/07",
          "2017/12/08",
          "2017/12/11",
          "2017/12/12",
          "2017/12/13",
          "2017/12/14",
          "2017/12/15",
          "2017/12/18",
          "2017/12/19",
          "2017/12/20",
          "2017/12/21",
          "2017/12/22",
          "2017/12/26",
          "2017/12/27",
          "2017/12/28",
          "2017/12/29",
          "2018/01/02",
          "2018/01/03",
          "2018/01/04",
          "2018/01/05",
          "2018/01/08",
          "2018/01/09",
          "2018/01/10",
          "2018/01/11",
          "2018/01/12",
          "2018/01/16",
          "2018/01/17",
          "2018/01/18",
          "2018/01/19",
          "2018/01/22",
          "2018/01/23",
          "2018/01/24",
          "2018/01/25",
          "2018/01/26",
          "2018/01/29",
          "2018/01/30",
          "2018/01/31",
          "2018/02/01",
          "2018/02/02",
          "2018/02/05",
          "2018/02/06",
          "2018/02/07",
          "2018/02/08",
          "2018/02/09",
          "2018/02/12",
          "2018/02/13",
          "2018/02/14",
          "2018/02/15",
          "2018/02/16",
          "2018/02/20",
          "2018/02/21",
          "2018/02/22",
          "2018/02/23",
          "2018/02/26",
          "2018/02/27",
          "2018/02/28",
          "2018/03/01",
          "2018/03/02",
          "2018/03/05",
          "2018/03/06",
          "2018/03/07",
          "2018/03/08",
          "2018/03/09",
          "2018/03/12",
          "2018/03/13",
          "2018/03/14",
          "2018/03/15",
          "2018/03/16",
          "2018/03/19",
          "2018/03/20",
          "2018/03/21",
          "2018/03/22",
          "2018/03/23",
          "2018/03/26",
          "2018/03/27",
          "2018/03/28",
          "2018/03/29",
          "2018/04/02",
          "2018/04/03",
          "2018/04/04",
          "2018/04/05",
          "2018/04/06",
          "2018/04/09",
          "2018/04/10",
          "2018/04/11",
          "2018/04/12",
          "2018/04/13",
          "2018/04/16",
          "2018/04/17",
          "2018/04/18",
          "2018/04/19",
          "2018/04/20",
          "2018/04/23",
          "2018/04/24",
          "2018/04/25",
          "2018/04/26",
          "2018/04/27",
          "2018/04/30",
          "2018/05/01",
          "2018/05/02",
          "2018/05/03",
          "2018/05/04",
          "2018/05/07",
          "2018/05/08",
          "2018/05/09",
          "2018/05/10",
          "2018/05/11",
          "2018/05/14",
          "2018/05/15",
          "2018/05/16",
          "2018/05/17",
          "2018/05/18",
          "2018/05/21",
          "2018/05/22",
          "2018/05/23",
          "2018/05/24",
          "2018/05/25",
          "2018/05/29",
          "2018/05/30",
          "2018/05/31",
          "2018/06/01",
          "2018/06/04",
          "2018/06/05",
          "2018/06/06",
          "2018/06/07",
          "2018/06/08",
          "2018/06/11",
          "2018/06/12",
          "2018/06/13",
          "2018/06/14",
          "2018/06/15",
          "2018/06/18",
          "2018/06/19",
          "2018/06/20",
          "2018/06/21",
          "2018/06/22",
          "2018/06/25",
          "2018/06/26",
          "2018/06/27",
          "2018/06/28",
          "2018/06/29",
          "2018/07/02",
          "2018/07/03",
          "2018/07/05",
          "2018/07/06",
          "2018/07/09",
          "2018/07/10",
          "2018/07/11",
          "2018/07/12",
          "2018/07/13",
          "2018/07/16",
          "2018/07/17",
          "2018/07/18",
          "2018/07/19",
          "2018/07/20",
          "2018/07/23",
          "2018/07/24",
          "2018/07/25",
          "2018/07/26",
          "2018/07/27",
          "2018/07/30",
          "2018/07/31",
          "2018/08/01",
          "2018/08/02",
          "2018/08/03",
          "2018/08/06",
          "2018/08/07",
          "2018/08/08",
          "2018/08/09",
          "2018/08/10",
          "2018/08/13",
          "2018/08/14",
          "2018/08/15",
          "2018/08/16",
          "2018/08/17",
          "2018/08/20",
          "2018/08/21",
          "2018/08/22",
          "2018/08/23",
          "2018/08/24",
          "2018/08/27",
          "2018/08/28",
          "2018/08/29",
          "2018/08/30",
          "2018/08/31",
          "2018/09/04",
          "2018/09/05",
          "2018/09/06",
          "2018/09/07",
          "2018/09/10",
          "2018/09/11",
          "2018/09/12",
          "2018/09/13",
          "2018/09/14",
          "2018/09/17",
          "2018/09/18",
          "2018/09/19",
          "2018/09/20",
          "2018/09/21",
          "2018/09/24",
          "2018/09/25",
          "2018/09/26",
          "2018/09/27",
          "2018/09/28",
          "2018/10/01",
          "2018/10/02",
          "2018/10/03",
          "2018/10/04",
          "2018/10/05",
          "2018/10/08",
          "2018/10/09",
          "2018/10/10",
          "2018/10/11",
          "2018/10/12",
          "2018/10/15"
         ],
         "y": [
          273.88,
          221.73,
          230.4805,
          231.15,
          228.6,
          214.81,
          215.75,
          215.35,
          215.88,
          217.1,
          213.45,
          213.7481,
          211.63,
          215.8,
          214.44,
          232.74,
          234.5843,
          233.359,
          232.99,
          223.7,
          219.48,
          219.0,
          212.99,
          214.98,
          216.0,
          221.38,
          226.19,
          225.0,
          219.18,
          221.0,
          230.825,
          232.25,
          234.28,
          238.0,
          238.6,
          237.45,
          233.27,
          235.63,
          228.8,
          227.5,
          228.49,
          225.75,
          220.92,
          222.22,
          234.88,
          237.76,
          235.9,
          235.83,
          236.55,
          233.45,
          231.88,
          231.98,
          237.72,
          243.634,
          243.45,
          231.38,
          226.89,
          220.05,
          218.44,
          220.44,
          214.45,
          213.7395,
          212.65,
          210.0,
          205.07,
          210.47,
          201.28,
          203.23,
          205.5,
          203.57,
          197.82,
          193.26,
          191.28,
          193.74,
          199.52,
          193.12,
          183.94,
          175.98,
          173.0,
          157.15,
          159.79,
          154.97,
          163.26,
          157.01,
          162.95,
          169.34,
          172.95,
          167.49,
          178.91,
          181.73,
          179.5,
          188.5192,
          192.0,
          196.35,
          195.9484,
          188.52,
          197.42,
          204.03,
          209.7,
          207.5,
          209.3726,
          213.29,
          209.42,
          216.72,
          218.97,
          222.58,
          228.5,
          234.48,
          239.88,
          238.99,
          234.73,
          228.8877,
          234.81,
          232.38,
          235.5,
          237.42,
          247.9,
          252.12,
          256.56,
          267.74,
          269.34,
          260.82,
          258.99,
          251.8,
          255.5,
          256.839,
          254.6,
          258.31,
          254.3699,
          253.66,
          250.9,
          254.0,
          257.38,
          255.73,
          255.0,
          253.43,
          248.43,
          243.19,
          238.91,
          234.46,
          228.64,
          216.37,
          216.15,
          209.47,
          215.48,
          211.67,
          211.2,
          213.15,
          209.8199,
          215.31,
          216.79,
          220.55,
          222.6,
          218.74,
          221.36,
          225.26,
          225.93,
          224.7497,
          222.4,
          219.909,
          221.94,
          220.9,
          234.44,
          240.845,
          235.33,
          227.97,
          225.77,
          222.2,
          221.9,
          218.04,
          219.99,
          223.75,
          222.569,
          205.95,
          197.55,
          195.12,
          198.81,
          204.05,
          211.78,
          213.4999,
          218.24,
          214.5441,
          215.23,
          218.12,
          219.81,
          226.78,
          227.5,
          225.59,
          224.94,
          222.7499,
          227.09,
          229.1,
          229.8,
          227.847,
          224.5,
          231.39,
          230.0,
          233.36,
          230.76,
          235.28,
          236.63,
          229.87,
          229.699,
          230.86,
          232.0,
          229.6,
          231.5375,
          229.87,
          227.57,
          226.65,
          229.5,
          227.19,
          224.83,
          225.66,
          225.169,
          225.11,
          228.49,
          227.15,
          223.8,
          222.855,
          220.4,
          216.11,
          212.6,
          211.0999,
          203.2,
          203.25,
          206.4968,
          199.89,
          199.92,
          201.369,
          198.49,
          197.9248,
          202.5193,
          205.7,
          209.43,
          207.75,
          207.0,
          207.28,
          210.18,
          211.0,
          209.9818,
          208.25,
          207.33,
          204.98,
          215.6688,
          213.32,
          213.15,
          204.2099,
          201.32,
          204.14,
          202.2,
          203.88,
          200.895,
          201.43,
          198.39,
          199.47,
          206.66,
          203.0,
          201.57,
          203.9452,
          204.69,
          203.19,
          213.7,
          205.32,
          202.49,
          198.5,
          192.6951,
          191.47,
          193.46,
          194.29,
          197.49,
          192.0,
          191.61,
          188.88,
          188.25,
          186.43,
          184.73,
          189.49,
          193.0,
          188.89,
          191.47,
          195.644,
          197.2372,
          199.35,
          196.73,
          191.89,
          188.53,
          184.88,
          188.89,
          186.58,
          193.4,
          192.5,
          193.836,
          194.42,
          201.28,
          203.0,
          200.74,
          202.59,
          204.45,
          209.0,
          212.23,
          209.99,
          213.45,
          222.25,
          223.8,
          219.2,
          217.5,
          220.33,
          228.0,
          227.48,
          230.31,
          231.92,
          232.0,
          229.98,
          230.7,
          237.85,
          239.96,
          239.71,
          248.68,
          246.0,
          250.8899,
          254.8,
          258.46,
          255.74,
          253.0,
          255.2899,
          255.89,
          253.2,
          252.42,
          252.179,
          257.82,
          260.0,
          263.36,
          271.18,
          270.95,
          280.7899,
          287.39,
          282.24,
          280.0,
          272.89,
          281.4,
          283.45,
          264.66,
          258.25,
          248.36,
          251.0,
          254.85,
          253.28,
          251.9,
          251.7,
          253.89,
          250.07,
          248.66,
          246.5,
          246.85,
          258.12,
          261.0,
          265.75,
          265.33,
          264.55,
          264.8,
          255.07,
          257.672,
          263.89,
          270.57,
          280.68,
          279.6,
          282.0,
          279.68,
          299.0,
          304.81,
          304.88,
          301.94,
          302.69,
          313.7299,
          313.47,
          308.4481,
          307.39,
          304.0,
          300.8399,
          306.62,
          309.15,
          306.4,
          310.55,
          313.98,
          314.5,
          313.09,
          314.8,
          327.25,
          327.6599,
          321.53,
          307.77,
          308.55,
          313.79,
          321.99,
          325.5,
          326.0,
          327.0,
          320.2,
          320.06,
          314.63,
          313.94,
          316.5,
          314.37,
          310.73,
          311.0,
          316.97,
          325.49,
          336.28,
          342.89,
          344.88,
          342.88,
          348.44,
          359.4929,
          360.5,
          371.9,
          376.87,
          364.5,
          376.0,
          384.25,
          375.46,
          378.01,
          376.7,
          378.88,
          376.99,
          385.0,
          386.99,
          386.95,
          376.4,
          371.74,
          371.0,
          366.7674,
          371.35,
          347.24,
          320.7899,
          317.0,
          317.94,
          327.28,
          333.1,
          331.6,
          328.42,
          327.1,
          329.13,
          331.65,
          330.22,
          331.2575,
          343.399,
          345.6,
          345.5,
          347.5,
          339.6,
          341.49,
          324.45,
          327.12,
          350.0,
          357.27,
          359.48,
          368.58,
          370.0,
          366.6504,
          361.26,
          367.66,
          365.49,
          366.5,
          363.3,
          354.0,
          345.82,
          342.24,
          353.49,
          356.66,
          355.69,
          347.35,
          349.05,
          353.47,
          358.44,
          357.59,
          355.49,
          350.979,
          352.48,
          349.78,
          363.71,
          368.76,
          368.07,
          377.96,
          380.0,
          389.61,
          382.39,
          378.249,
          376.83,
          369.8999,
          357.469,
          351.24,
          351.489,
          342.75,
          344.68,
          343.7,
          348.55,
          358.62,
          357.435,
          360.0992,
          351.75,
          355.63,
          357.6,
          359.78,
          358.49,
          354.48,
          356.22,
          363.0,
          357.1465,
          354.55,
          349.95,
          342.8,
          337.5,
          330.23,
          324.59,
          323.78,
          331.95,
          332.6089,
          308.69,
          306.25,
          307.5,
          306.5,
          306.89,
          304.46,
          308.36,
          316.8,
          316.35,
          312.49,
          318.14,
          326.67,
          315.5,
          318.23,
          317.42,
          316.41,
          317.34,
          320.0,
          318.0,
          310.7,
          310.32,
          308.265,
          308.0,
          313.39,
          318.6341,
          316.98,
          329.01,
          341.44,
          344.22,
          347.44,
          343.9,
          346.73,
          341.4925,
          333.1,
          333.74,
          330.9214,
          323.94,
          317.68,
          315.82,
          316.41,
          322.1099,
          325.25,
          318.55,
          317.24,
          337.0199,
          338.8,
          337.0,
          344.8099,
          340.41,
          345.0,
          349.0,
          352.3,
          350.5899,
          357.83,
          360.5,
          354.75,
          349.2,
          344.0,
          350.85,
          348.27,
          356.19,
          359.66,
          351.95,
          344.47,
          336.22,
          346.0,
          348.62,
          320.9845,
          318.08,
          324.19,
          326.17,
          334.12,
          343.12,
          340.84,
          339.6929,
          347.44,
          354.99,
          359.0,
          359.99,
          355.24,
          348.67,
          335.22,
          337.75,
          336.37,
          332.5,
          333.3,
          328.49,
          347.21,
          345.12,
          339.81,
          332.85,
          327.4,
          320.75,
          316.25,
          322.44,
          318.82,
          311.61,
          307.59,
          304.27,
          268.68,
          270.9599,
          260.3318,
          273.35,
          288.37,
          306.26,
          309.28,
          309.5,
          307.1,
          308.98,
          303.95,
          303.9499,
          299.66,
          292.17,
          300.24,
          301.01,
          299.98,
          291.62,
          287.09,
          285.16,
          285.79,
          294.47,
          298.73,
          300.82,
          306.85,
          288.04,
          296.86,
          305.9588,
          307.75,
          307.01,
          312.99,
          308.88,
          304.94,
          286.96,
          288.81,
          289.1873,
          284.65,
          291.49,
          288.0,
          279.9099,
          281.11,
          279.64,
          286.5,
          295.005,
          290.37,
          291.95,
          299.0,
          297.8,
          322.17,
          330.0,
          324.48,
          334.66,
          354.97,
          347.2,
          358.75,
          364.67,
          373.73,
          370.0,
          364.38,
          366.2139,
          352.25,
          338.47,
          343.55,
          350.79,
          357.02,
          353.86,
          364.78,
          332.49,
          314.39,
          312.07,
          318.52,
          327.6771,
          321.94,
          323.23,
          319.5849,
          315.16,
          324.74,
          325.5,
          323.54,
          323.24,
          305.5,
          307.7171,
          309.62,
          310.7,
          307.6933,
          296.1,
          298.32,
          303.0,
          349.99,
          355.0,
          354.98,
          387.46,
          382.64,
          367.01,
          360.0,
          363.19,
          359.1995,
          344.49,
          342.28,
          326.77,
          308.5,
          324.79,
          323.88,
          327.32,
          323.85,
          322.435,
          318.88,
          311.85,
          304.6,
          305.3082,
          298.19,
          286.78,
          291.17,
          268.35,
          286.03,
          282.0,
          292.5,
          295.0,
          297.3256,
          300.87,
          302.64,
          300.0,
          305.98,
          300.58,
          302.9993,
          304.6,
          313.89,
          314.96,
          278.0,
          311.44,
          316.84,
          304.6,
          294.0,
          274.88,
          267.7599,
          266.77,
          265.51,
          262.25,
          261.99,
          263.28
         ],
         "type": "scatter"
        },
        {
         "name": "low",
         "x": [
          "11:34",
          "2015/10/15",
          "2015/10/16",
          "2015/10/19",
          "2015/10/20",
          "2015/10/21",
          "2015/10/22",
          "2015/10/23",
          "2015/10/26",
          "2015/10/27",
          "2015/10/28",
          "2015/10/29",
          "2015/10/30",
          "2015/11/02",
          "2015/11/03",
          "2015/11/04",
          "2015/11/05",
          "2015/11/06",
          "2015/11/09",
          "2015/11/10",
          "2015/11/11",
          "2015/11/12",
          "2015/11/13",
          "2015/11/16",
          "2015/11/17",
          "2015/11/18",
          "2015/11/19",
          "2015/11/20",
          "2015/11/23",
          "2015/11/24",
          "2015/11/25",
          "2015/11/27",
          "2015/11/30",
          "2015/12/01",
          "2015/12/02",
          "2015/12/03",
          "2015/12/04",
          "2015/12/07",
          "2015/12/08",
          "2015/12/09",
          "2015/12/10",
          "2015/12/11",
          "2015/12/14",
          "2015/12/15",
          "2015/12/16",
          "2015/12/17",
          "2015/12/18",
          "2015/12/21",
          "2015/12/22",
          "2015/12/23",
          "2015/12/24",
          "2015/12/28",
          "2015/12/29",
          "2015/12/30",
          "2015/12/31",
          "2016/01/04",
          "2016/01/05",
          "2016/01/06",
          "2016/01/07",
          "2016/01/08",
          "2016/01/11",
          "2016/01/12",
          "2016/01/13",
          "2016/01/14",
          "2016/01/15",
          "2016/01/19",
          "2016/01/20",
          "2016/01/21",
          "2016/01/22",
          "2016/01/25",
          "2016/01/26",
          "2016/01/27",
          "2016/01/28",
          "2016/01/29",
          "2016/02/01",
          "2016/02/02",
          "2016/02/03",
          "2016/02/04",
          "2016/02/05",
          "2016/02/08",
          "2016/02/09",
          "2016/02/10",
          "2016/02/11",
          "2016/02/12",
          "2016/02/16",
          "2016/02/17",
          "2016/02/18",
          "2016/02/19",
          "2016/02/22",
          "2016/02/23",
          "2016/02/24",
          "2016/02/25",
          "2016/02/26",
          "2016/02/29",
          "2016/03/01",
          "2016/03/02",
          "2016/03/03",
          "2016/03/04",
          "2016/03/07",
          "2016/03/08",
          "2016/03/09",
          "2016/03/10",
          "2016/03/11",
          "2016/03/14",
          "2016/03/15",
          "2016/03/16",
          "2016/03/17",
          "2016/03/18",
          "2016/03/21",
          "2016/03/22",
          "2016/03/23",
          "2016/03/24",
          "2016/03/28",
          "2016/03/29",
          "2016/03/30",
          "2016/03/31",
          "2016/04/01",
          "2016/04/04",
          "2016/04/05",
          "2016/04/06",
          "2016/04/07",
          "2016/04/08",
          "2016/04/11",
          "2016/04/12",
          "2016/04/13",
          "2016/04/14",
          "2016/04/15",
          "2016/04/18",
          "2016/04/19",
          "2016/04/20",
          "2016/04/21",
          "2016/04/22",
          "2016/04/25",
          "2016/04/26",
          "2016/04/27",
          "2016/04/28",
          "2016/04/29",
          "2016/05/02",
          "2016/05/03",
          "2016/05/04",
          "2016/05/05",
          "2016/05/06",
          "2016/05/09",
          "2016/05/10",
          "2016/05/11",
          "2016/05/12",
          "2016/05/13",
          "2016/05/16",
          "2016/05/17",
          "2016/05/18",
          "2016/05/19",
          "2016/05/20",
          "2016/05/23",
          "2016/05/24",
          "2016/05/25",
          "2016/05/26",
          "2016/05/27",
          "2016/05/31",
          "2016/06/01",
          "2016/06/02",
          "2016/06/03",
          "2016/06/06",
          "2016/06/07",
          "2016/06/08",
          "2016/06/09",
          "2016/06/10",
          "2016/06/13",
          "2016/06/14",
          "2016/06/15",
          "2016/06/16",
          "2016/06/17",
          "2016/06/20",
          "2016/06/21",
          "2016/06/22",
          "2016/06/23",
          "2016/06/24",
          "2016/06/27",
          "2016/06/28",
          "2016/06/29",
          "2016/06/30",
          "2016/07/01",
          "2016/07/05",
          "2016/07/06",
          "2016/07/07",
          "2016/07/08",
          "2016/07/11",
          "2016/07/12",
          "2016/07/13",
          "2016/07/14",
          "2016/07/15",
          "2016/07/18",
          "2016/07/19",
          "2016/07/20",
          "2016/07/21",
          "2016/07/22",
          "2016/07/25",
          "2016/07/26",
          "2016/07/27",
          "2016/07/28",
          "2016/07/29",
          "2016/08/01",
          "2016/08/02",
          "2016/08/03",
          "2016/08/04",
          "2016/08/05",
          "2016/08/08",
          "2016/08/09",
          "2016/08/10",
          "2016/08/11",
          "2016/08/12",
          "2016/08/15",
          "2016/08/16",
          "2016/08/17",
          "2016/08/18",
          "2016/08/19",
          "2016/08/22",
          "2016/08/23",
          "2016/08/24",
          "2016/08/25",
          "2016/08/26",
          "2016/08/29",
          "2016/08/30",
          "2016/08/31",
          "2016/09/01",
          "2016/09/02",
          "2016/09/06",
          "2016/09/07",
          "2016/09/08",
          "2016/09/09",
          "2016/09/12",
          "2016/09/13",
          "2016/09/14",
          "2016/09/15",
          "2016/09/16",
          "2016/09/19",
          "2016/09/20",
          "2016/09/21",
          "2016/09/22",
          "2016/09/23",
          "2016/09/26",
          "2016/09/27",
          "2016/09/28",
          "2016/09/29",
          "2016/09/30",
          "2016/10/03",
          "2016/10/04",
          "2016/10/05",
          "2016/10/06",
          "2016/10/07",
          "2016/10/10",
          "2016/10/11",
          "2016/10/12",
          "2016/10/13",
          "2016/10/14",
          "2016/10/17",
          "2016/10/18",
          "2016/10/19",
          "2016/10/20",
          "2016/10/21",
          "2016/10/24",
          "2016/10/25",
          "2016/10/26",
          "2016/10/27",
          "2016/10/28",
          "2016/10/31",
          "2016/11/01",
          "2016/11/02",
          "2016/11/03",
          "2016/11/04",
          "2016/11/07",
          "2016/11/08",
          "2016/11/09",
          "2016/11/10",
          "2016/11/11",
          "2016/11/14",
          "2016/11/15",
          "2016/11/16",
          "2016/11/17",
          "2016/11/18",
          "2016/11/21",
          "2016/11/22",
          "2016/11/23",
          "2016/11/25",
          "2016/11/28",
          "2016/11/29",
          "2016/11/30",
          "2016/12/01",
          "2016/12/02",
          "2016/12/05",
          "2016/12/06",
          "2016/12/07",
          "2016/12/08",
          "2016/12/09",
          "2016/12/12",
          "2016/12/13",
          "2016/12/14",
          "2016/12/15",
          "2016/12/16",
          "2016/12/19",
          "2016/12/20",
          "2016/12/21",
          "2016/12/22",
          "2016/12/23",
          "2016/12/27",
          "2016/12/28",
          "2016/12/29",
          "2016/12/30",
          "2017/01/03",
          "2017/01/04",
          "2017/01/05",
          "2017/01/06",
          "2017/01/09",
          "2017/01/10",
          "2017/01/11",
          "2017/01/12",
          "2017/01/13",
          "2017/01/17",
          "2017/01/18",
          "2017/01/19",
          "2017/01/20",
          "2017/01/23",
          "2017/01/24",
          "2017/01/25",
          "2017/01/26",
          "2017/01/27",
          "2017/01/30",
          "2017/01/31",
          "2017/02/01",
          "2017/02/02",
          "2017/02/03",
          "2017/02/06",
          "2017/02/07",
          "2017/02/08",
          "2017/02/09",
          "2017/02/10",
          "2017/02/13",
          "2017/02/14",
          "2017/02/15",
          "2017/02/16",
          "2017/02/17",
          "2017/02/21",
          "2017/02/22",
          "2017/02/23",
          "2017/02/24",
          "2017/02/27",
          "2017/02/28",
          "2017/03/01",
          "2017/03/02",
          "2017/03/03",
          "2017/03/06",
          "2017/03/07",
          "2017/03/08",
          "2017/03/09",
          "2017/03/10",
          "2017/03/13",
          "2017/03/14",
          "2017/03/15",
          "2017/03/16",
          "2017/03/17",
          "2017/03/20",
          "2017/03/21",
          "2017/03/22",
          "2017/03/23",
          "2017/03/24",
          "2017/03/27",
          "2017/03/28",
          "2017/03/29",
          "2017/03/30",
          "2017/03/31",
          "2017/04/03",
          "2017/04/04",
          "2017/04/05",
          "2017/04/06",
          "2017/04/07",
          "2017/04/10",
          "2017/04/11",
          "2017/04/12",
          "2017/04/13",
          "2017/04/17",
          "2017/04/18",
          "2017/04/19",
          "2017/04/20",
          "2017/04/21",
          "2017/04/24",
          "2017/04/25",
          "2017/04/26",
          "2017/04/27",
          "2017/04/28",
          "2017/05/01",
          "2017/05/02",
          "2017/05/03",
          "2017/05/04",
          "2017/05/05",
          "2017/05/08",
          "2017/05/09",
          "2017/05/10",
          "2017/05/11",
          "2017/05/12",
          "2017/05/15",
          "2017/05/16",
          "2017/05/17",
          "2017/05/18",
          "2017/05/19",
          "2017/05/22",
          "2017/05/23",
          "2017/05/24",
          "2017/05/25",
          "2017/05/26",
          "2017/05/30",
          "2017/05/31",
          "2017/06/01",
          "2017/06/02",
          "2017/06/05",
          "2017/06/06",
          "2017/06/07",
          "2017/06/08",
          "2017/06/09",
          "2017/06/12",
          "2017/06/13",
          "2017/06/14",
          "2017/06/15",
          "2017/06/16",
          "2017/06/19",
          "2017/06/20",
          "2017/06/21",
          "2017/06/22",
          "2017/06/23",
          "2017/06/26",
          "2017/06/27",
          "2017/06/28",
          "2017/06/29",
          "2017/06/30",
          "2017/07/03",
          "2017/07/05",
          "2017/07/06",
          "2017/07/07",
          "2017/07/10",
          "2017/07/11",
          "2017/07/12",
          "2017/07/13",
          "2017/07/14",
          "2017/07/17",
          "2017/07/18",
          "2017/07/19",
          "2017/07/20",
          "2017/07/21",
          "2017/07/24",
          "2017/07/25",
          "2017/07/26",
          "2017/07/27",
          "2017/07/28",
          "2017/07/31",
          "2017/08/01",
          "2017/08/02",
          "2017/08/03",
          "2017/08/04",
          "2017/08/07",
          "2017/08/08",
          "2017/08/09",
          "2017/08/10",
          "2017/08/11",
          "2017/08/14",
          "2017/08/15",
          "2017/08/16",
          "2017/08/17",
          "2017/08/18",
          "2017/08/21",
          "2017/08/22",
          "2017/08/23",
          "2017/08/24",
          "2017/08/25",
          "2017/08/28",
          "2017/08/29",
          "2017/08/30",
          "2017/08/31",
          "2017/09/01",
          "2017/09/05",
          "2017/09/06",
          "2017/09/07",
          "2017/09/08",
          "2017/09/11",
          "2017/09/12",
          "2017/09/13",
          "2017/09/14",
          "2017/09/15",
          "2017/09/18",
          "2017/09/19",
          "2017/09/20",
          "2017/09/21",
          "2017/09/22",
          "2017/09/25",
          "2017/09/26",
          "2017/09/27",
          "2017/09/28",
          "2017/09/29",
          "2017/10/02",
          "2017/10/03",
          "2017/10/04",
          "2017/10/05",
          "2017/10/06",
          "2017/10/09",
          "2017/10/10",
          "2017/10/11",
          "2017/10/12",
          "2017/10/13",
          "2017/10/16",
          "2017/10/17",
          "2017/10/18",
          "2017/10/19",
          "2017/10/20",
          "2017/10/23",
          "2017/10/24",
          "2017/10/25",
          "2017/10/26",
          "2017/10/27",
          "2017/10/30",
          "2017/10/31",
          "2017/11/01",
          "2017/11/02",
          "2017/11/03",
          "2017/11/06",
          "2017/11/07",
          "2017/11/08",
          "2017/11/09",
          "2017/11/10",
          "2017/11/13",
          "2017/11/14",
          "2017/11/15",
          "2017/11/16",
          "2017/11/17",
          "2017/11/20",
          "2017/11/21",
          "2017/11/22",
          "2017/11/24",
          "2017/11/27",
          "2017/11/28",
          "2017/11/29",
          "2017/11/30",
          "2017/12/01",
          "2017/12/04",
          "2017/12/05",
          "2017/12/06",
          "2017/12/07",
          "2017/12/08",
          "2017/12/11",
          "2017/12/12",
          "2017/12/13",
          "2017/12/14",
          "2017/12/15",
          "2017/12/18",
          "2017/12/19",
          "2017/12/20",
          "2017/12/21",
          "2017/12/22",
          "2017/12/26",
          "2017/12/27",
          "2017/12/28",
          "2017/12/29",
          "2018/01/02",
          "2018/01/03",
          "2018/01/04",
          "2018/01/05",
          "2018/01/08",
          "2018/01/09",
          "2018/01/10",
          "2018/01/11",
          "2018/01/12",
          "2018/01/16",
          "2018/01/17",
          "2018/01/18",
          "2018/01/19",
          "2018/01/22",
          "2018/01/23",
          "2018/01/24",
          "2018/01/25",
          "2018/01/26",
          "2018/01/29",
          "2018/01/30",
          "2018/01/31",
          "2018/02/01",
          "2018/02/02",
          "2018/02/05",
          "2018/02/06",
          "2018/02/07",
          "2018/02/08",
          "2018/02/09",
          "2018/02/12",
          "2018/02/13",
          "2018/02/14",
          "2018/02/15",
          "2018/02/16",
          "2018/02/20",
          "2018/02/21",
          "2018/02/22",
          "2018/02/23",
          "2018/02/26",
          "2018/02/27",
          "2018/02/28",
          "2018/03/01",
          "2018/03/02",
          "2018/03/05",
          "2018/03/06",
          "2018/03/07",
          "2018/03/08",
          "2018/03/09",
          "2018/03/12",
          "2018/03/13",
          "2018/03/14",
          "2018/03/15",
          "2018/03/16",
          "2018/03/19",
          "2018/03/20",
          "2018/03/21",
          "2018/03/22",
          "2018/03/23",
          "2018/03/26",
          "2018/03/27",
          "2018/03/28",
          "2018/03/29",
          "2018/04/02",
          "2018/04/03",
          "2018/04/04",
          "2018/04/05",
          "2018/04/06",
          "2018/04/09",
          "2018/04/10",
          "2018/04/11",
          "2018/04/12",
          "2018/04/13",
          "2018/04/16",
          "2018/04/17",
          "2018/04/18",
          "2018/04/19",
          "2018/04/20",
          "2018/04/23",
          "2018/04/24",
          "2018/04/25",
          "2018/04/26",
          "2018/04/27",
          "2018/04/30",
          "2018/05/01",
          "2018/05/02",
          "2018/05/03",
          "2018/05/04",
          "2018/05/07",
          "2018/05/08",
          "2018/05/09",
          "2018/05/10",
          "2018/05/11",
          "2018/05/14",
          "2018/05/15",
          "2018/05/16",
          "2018/05/17",
          "2018/05/18",
          "2018/05/21",
          "2018/05/22",
          "2018/05/23",
          "2018/05/24",
          "2018/05/25",
          "2018/05/29",
          "2018/05/30",
          "2018/05/31",
          "2018/06/01",
          "2018/06/04",
          "2018/06/05",
          "2018/06/06",
          "2018/06/07",
          "2018/06/08",
          "2018/06/11",
          "2018/06/12",
          "2018/06/13",
          "2018/06/14",
          "2018/06/15",
          "2018/06/18",
          "2018/06/19",
          "2018/06/20",
          "2018/06/21",
          "2018/06/22",
          "2018/06/25",
          "2018/06/26",
          "2018/06/27",
          "2018/06/28",
          "2018/06/29",
          "2018/07/02",
          "2018/07/03",
          "2018/07/05",
          "2018/07/06",
          "2018/07/09",
          "2018/07/10",
          "2018/07/11",
          "2018/07/12",
          "2018/07/13",
          "2018/07/16",
          "2018/07/17",
          "2018/07/18",
          "2018/07/19",
          "2018/07/20",
          "2018/07/23",
          "2018/07/24",
          "2018/07/25",
          "2018/07/26",
          "2018/07/27",
          "2018/07/30",
          "2018/07/31",
          "2018/08/01",
          "2018/08/02",
          "2018/08/03",
          "2018/08/06",
          "2018/08/07",
          "2018/08/08",
          "2018/08/09",
          "2018/08/10",
          "2018/08/13",
          "2018/08/14",
          "2018/08/15",
          "2018/08/16",
          "2018/08/17",
          "2018/08/20",
          "2018/08/21",
          "2018/08/22",
          "2018/08/23",
          "2018/08/24",
          "2018/08/27",
          "2018/08/28",
          "2018/08/29",
          "2018/08/30",
          "2018/08/31",
          "2018/09/04",
          "2018/09/05",
          "2018/09/06",
          "2018/09/07",
          "2018/09/10",
          "2018/09/11",
          "2018/09/12",
          "2018/09/13",
          "2018/09/14",
          "2018/09/17",
          "2018/09/18",
          "2018/09/19",
          "2018/09/20",
          "2018/09/21",
          "2018/09/24",
          "2018/09/25",
          "2018/09/26",
          "2018/09/27",
          "2018/09/28",
          "2018/10/01",
          "2018/10/02",
          "2018/10/03",
          "2018/10/04",
          "2018/10/05",
          "2018/10/08",
          "2018/10/09",
          "2018/10/10",
          "2018/10/11",
          "2018/10/12",
          "2018/10/15"
         ],
         "y": [
          262.24,
          213.7,
          222.87,
          224.94,
          202.0,
          208.8,
          209.4,
          207.69,
          210.0,
          207.51,
          208.3,
          210.64,
          203.89,
          207.22,
          207.75,
          225.2,
          229.19,
          229.5,
          224.31,
          216.08,
          213.63,
          212.66,
          206.52,
          205.8,
          211.4,
          212.52,
          220.3,
          213.58,
          214.6798,
          215.0,
          220.375,
          227.01,
          229.08,
          231.05,
          231.23,
          230.0,
          227.66,
          226.15,
          224.2,
          220.72,
          223.64,
          216.64,
          214.87,
          218.0,
          220.73,
          229.8149,
          229.29,
          231.08,
          229.63,
          228.13,
          228.28,
          225.54,
          229.547,
          235.6707,
          238.37,
          219.0,
          220.0,
          215.98,
          213.67,
          210.77,
          203.0,
          205.31,
          200.0,
          193.38,
          197.25,
          200.78,
          191.25,
          195.02,
          199.03,
          195.88,
          188.88,
          185.77,
          182.41,
          188.08,
          182.75,
          180.23,
          170.18,
          166.99,
          157.7442,
          146.0,
          141.05,
          141.74,
          147.0,
          143.7,
          154.11,
          156.68,
          164.77,
          162.5,
          169.85,
          173.68,
          167.84,
          175.2,
          185.0,
          189.222,
          182.7,
          181.5,
          184.22,
          197.5001,
          197.4,
          202.2,
          202.79,
          200.671,
          205.33,
          210.64,
          211.5,
          217.02,
          220.0,
          228.06,
          235.0,
          232.558,
          222.03,
          215.0,
          225.0,
          225.33,
          226.5,
          225.01,
          233.25,
          243.64,
          240.0,
          253.45,
          254.51,
          248.0201,
          245.3,
          243.63,
          247.33,
          251.0501,
          249.12,
          251.66,
          241.251,
          241.5,
          246.91,
          245.71,
          250.76,
          249.39,
          249.4,
          247.44,
          237.81,
          234.82,
          231.62,
          220.4,
          209.79,
          208.11,
          206.8,
          205.0,
          206.05,
          203.6572,
          206.7,
          207.92,
          204.02,
          207.75,
          207.3,
          216.35,
          215.86,
          215.18,
          216.51,
          219.05,
          220.75,
          221.5001,
          216.89,
          217.11,
          218.01,
          215.45,
          221.52,
          232.605,
          227.06,
          218.4217,
          217.66,
          212.53,
          215.13,
          213.5,
          214.5,
          218.23,
          218.81,
          195.75,
          192.13,
          189.73,
          187.87,
          199.41,
          203.0,
          209.02,
          206.0,
          208.0,
          209.0,
          213.01,
          214.5,
          219.51,
          223.22,
          220.29,
          221.05,
          219.64,
          218.3,
          224.75,
          225.0,
          219.1,
          218.88,
          221.3715,
          225.3,
          226.92,
          226.6,
          230.24,
          229.38,
          221.4,
          224.21,
          222.05,
          227.4,
          226.09,
          226.65,
          224.62,
          223.41,
          224.04,
          224.93,
          223.4101,
          222.8,
          222.29,
          222.53,
          222.68,
          222.8,
          222.22,
          220.77,
          218.82,
          215.0,
          210.52,
          208.65,
          200.5,
          196.2,
          199.0,
          200.71,
          196.36,
          193.7,
          194.1,
          193.45,
          194.8562,
          196.4,
          199.0,
          205.0,
          203.91,
          201.56,
          203.0,
          205.67,
          206.5,
          204.6093,
          205.26,
          200.58,
          199.55,
          208.25,
          208.82,
          208.12,
          200.21,
          195.8,
          199.66,
          198.31,
          200.42,
          197.05,
          196.3,
          192.0,
          193.26,
          198.06,
          197.05,
          197.41,
          200.25,
          201.2,
          200.1,
          201.65,
          199.83,
          195.81,
          188.105,
          187.505,
          187.0401,
          185.96,
          190.05,
          191.26,
          183.95,
          180.42,
          183.0,
          178.19,
          182.05,
          181.21,
          182.1101,
          185.0,
          184.41,
          183.71,
          189.0,
          193.64,
          194.55,
          189.5,
          187.5,
          181.0,
          180.0,
          182.51,
          182.6825,
          185.0,
          189.54,
          190.81,
          191.04,
          193.0,
          196.76,
          197.39,
          197.6,
          199.84,
          202.5,
          207.41,
          206.5,
          207.71,
          214.42,
          217.2,
          214.1225,
          211.68,
          210.96,
          214.31,
          221.95,
          225.45,
          228.0,
          226.89,
          226.68,
          225.58,
          229.59,
          234.37,
          235.58,
          240.75,
          243.01,
          245.5,
          249.65,
          251.8,
          250.75,
          248.52,
          247.1,
          247.7,
          249.05,
          247.71,
          249.68,
          250.63,
          256.42,
          256.2,
          266.15,
          266.11,
          270.51,
          278.61,
          276.44,
          268.5,
          264.15,
          274.01,
          272.6,
          255.56,
          250.2,
          242.01,
          243.9,
          249.11,
          248.27,
          249.0,
          247.51,
          248.32,
          245.32,
          243.0,
          243.0,
          242.781,
          246.02,
          254.27,
          259.06,
          261.2,
          258.821,
          250.24,
          250.51,
          253.3,
          255.01,
          259.75,
          275.0,
          275.54,
          277.21,
          276.3197,
          284.58,
          294.53,
          294.2,
          294.1,
          297.15,
          308.71,
          305.5,
          296.32,
          295.3,
          298.68,
          297.9,
          302.11,
          300.23,
          300.42,
          306.0215,
          305.86,
          309.0,
          307.5,
          308.0,
          314.81,
          316.5601,
          310.45,
          290.7601,
          296.8,
          305.82,
          309.1,
          318.12,
          319.6,
          321.53,
          312.53,
          315.14,
          305.5,
          305.31,
          310.2,
          306.8,
          303.48,
          305.4,
          307.81,
          316.31,
          325.76,
          335.16,
          337.29,
          335.93,
          334.21,
          339.97,
          355.14,
          360.22,
          354.8,
          350.62,
          366.61,
          376.31,
          366.49,
          370.1,
          367.8,
          369.73,
          368.02,
          373.57,
          379.345,
          373.1,
          362.02,
          362.52,
          354.1,
          359.6187,
          351.5,
          326.33,
          306.3,
          307.38,
          303.13,
          314.3,
          324.5,
          319.97,
          321.22,
          313.45,
          315.66,
          323.2193,
          324.2,
          325.8,
          330.01,
          334.15,
          338.12,
          326.29,
          332.51,
          321.04,
          316.13,
          311.22,
          343.15,
          343.3,
          352.75,
          357.4,
          358.95,
          354.66,
          353.62,
          362.6,
          359.37,
          362.52,
          351.59,
          345.8,
          331.85,
          337.3725,
          338.3041,
          349.74,
          347.3,
          339.72,
          338.75,
          347.0,
          352.82,
          353.6902,
          345.89,
          341.56,
          343.45,
          342.3,
          350.0,
          360.4,
          359.59,
          362.63,
          372.7,
          377.68,
          373.57,
          371.07,
          364.51,
          350.88,
          342.88,
          340.9,
          340.5,
          335.4,
          338.601,
          335.51,
          331.28,
          349.6,
          351.35,
          352.25,
          342.67,
          345.5305,
          351.15,
          352.64,
          353.68,
          347.16,
          350.07,
          354.13,
          348.2,
          344.34,
          336.25,
          336.16,
          323.56,
          323.2,
          316.66,
          317.25,
          320.18,
          320.26,
          292.63,
          295.13,
          299.01,
          300.03,
          301.3001,
          296.3,
          301.85,
          299.11,
          306.9,
          301.5,
          311.3,
          313.15,
          304.75,
          308.71,
          311.84,
          311.0,
          309.51,
          313.92,
          301.23,
          304.54,
          305.05,
          300.61,
          301.0,
          300.0,
          311.05,
          311.26,
          313.75,
          330.03,
          336.5,
          336.9,
          335.76,
          337.58,
          330.3,
          325.04,
          327.21,
          324.82,
          316.58,
          310.75,
          309.54,
          310.0,
          311.0,
          315.55,
          305.68,
          312.0,
          315.5,
          327.405,
          330.0,
          333.26,
          333.67,
          334.8,
          339.75,
          343.74,
          342.6,
          349.2,
          351.0,
          343.52,
          336.4,
          335.71,
          338.28,
          342.17,
          345.19,
          348.63,
          340.51,
          333.0,
          323.5,
          335.66,
          314.6,
          294.76,
          306.25,
          312.5105,
          318.52,
          322.4,
          331.64,
          331.5,
          333.17,
          334.7501,
          347.1,
          352.355,
          350.01,
          342.22,
          330.07,
          322.97,
          329.2929,
          327.03,
          321.74,
          326.274,
          322.37,
          326.5,
          336.2635,
          323.93,
          321.1,
          319.07,
          309.67,
          308.76,
          310.19,
          308.18,
          300.45,
          291.36,
          277.18,
          252.1,
          248.21,
          244.5901,
          254.49,
          252.0,
          288.2,
          295.5,
          289.21,
          293.68,
          299.66,
          293.68,
          295.98,
          289.01,
          282.51,
          288.16,
          288.55,
          289.75,
          282.33,
          278.46,
          277.25,
          276.5,
          283.83,
          292.5,
          293.22,
          297.7844,
          275.23,
          279.52,
          295.17,
          299.0,
          300.05,
          304.1119,
          299.08,
          291.62,
          280.5,
          281.56,
          283.97,
          274.0,
          281.3,
          273.422,
          274.0,
          274.89,
          275.61,
          276.15,
          281.6,
          282.93,
          283.839,
          293.548,
          286.74,
          297.48,
          313.58,
          317.15,
          322.5,
          338.0,
          339.8,
          346.6,
          351.25,
          354.5,
          346.25,
          352.0,
          346.27,
          332.0,
          327.5,
          325.799,
          339.5,
          346.11,
          342.41,
          329.85,
          309.69,
          296.22,
          302.0,
          308.0,
          319.2,
          315.07,
          312.77,
          309.25,
          306.25,
          308.5,
          316.25,
          314.01,
          311.7093,
          292.8601,
          292.5452,
          294.5025,
          303.6411,
          295.3404,
          286.13,
          289.07,
          293.0,
          323.16,
          342.53,
          341.82,
          339.1501,
          367.12,
          345.73,
          346.0,
          349.02,
          347.1,
          332.14,
          333.82,
          303.53,
          288.2,
          309.0,
          314.67,
          318.1,
          319.4,
          308.81,
          311.19,
          303.69,
          297.72,
          298.6,
          288.0,
          277.18,
          278.88,
          252.2548,
          271.0,
          273.55,
          278.6463,
          285.18,
          286.52,
          288.13,
          275.5,
          280.5,
          293.33,
          295.37,
          293.58,
          296.5,
          301.1093,
          306.91,
          260.555,
          301.05,
          299.15,
          291.57,
          277.67,
          260.0,
          249.0,
          253.3,
          247.77,
          249.03,
          252.01,
          254.5367
         ],
         "type": "scatter"
        }
       ],
       "layout": {
        "template": {
         "data": {
          "bar": [
           {
            "error_x": {
             "color": "#f2f5fa"
            },
            "error_y": {
             "color": "#f2f5fa"
            },
            "marker": {
             "line": {
              "color": "rgb(17,17,17)",
              "width": 0.5
             },
             "pattern": {
              "fillmode": "overlay",
              "size": 10,
              "solidity": 0.2
             }
            },
            "type": "bar"
           }
          ],
          "barpolar": [
           {
            "marker": {
             "line": {
              "color": "rgb(17,17,17)",
              "width": 0.5
             },
             "pattern": {
              "fillmode": "overlay",
              "size": 10,
              "solidity": 0.2
             }
            },
            "type": "barpolar"
           }
          ],
          "carpet": [
           {
            "aaxis": {
             "endlinecolor": "#A2B1C6",
             "gridcolor": "#506784",
             "linecolor": "#506784",
             "minorgridcolor": "#506784",
             "startlinecolor": "#A2B1C6"
            },
            "baxis": {
             "endlinecolor": "#A2B1C6",
             "gridcolor": "#506784",
             "linecolor": "#506784",
             "minorgridcolor": "#506784",
             "startlinecolor": "#A2B1C6"
            },
            "type": "carpet"
           }
          ],
          "choropleth": [
           {
            "colorbar": {
             "outlinewidth": 0,
             "ticks": ""
            },
            "type": "choropleth"
           }
          ],
          "contour": [
           {
            "colorbar": {
             "outlinewidth": 0,
             "ticks": ""
            },
            "colorscale": [
             [
              0.0,
              "#0d0887"
             ],
             [
              0.1111111111111111,
              "#46039f"
             ],
             [
              0.2222222222222222,
              "#7201a8"
             ],
             [
              0.3333333333333333,
              "#9c179e"
             ],
             [
              0.4444444444444444,
              "#bd3786"
             ],
             [
              0.5555555555555556,
              "#d8576b"
             ],
             [
              0.6666666666666666,
              "#ed7953"
             ],
             [
              0.7777777777777778,
              "#fb9f3a"
             ],
             [
              0.8888888888888888,
              "#fdca26"
             ],
             [
              1.0,
              "#f0f921"
             ]
            ],
            "type": "contour"
           }
          ],
          "contourcarpet": [
           {
            "colorbar": {
             "outlinewidth": 0,
             "ticks": ""
            },
            "type": "contourcarpet"
           }
          ],
          "heatmap": [
           {
            "colorbar": {
             "outlinewidth": 0,
             "ticks": ""
            },
            "colorscale": [
             [
              0.0,
              "#0d0887"
             ],
             [
              0.1111111111111111,
              "#46039f"
             ],
             [
              0.2222222222222222,
              "#7201a8"
             ],
             [
              0.3333333333333333,
              "#9c179e"
             ],
             [
              0.4444444444444444,
              "#bd3786"
             ],
             [
              0.5555555555555556,
              "#d8576b"
             ],
             [
              0.6666666666666666,
              "#ed7953"
             ],
             [
              0.7777777777777778,
              "#fb9f3a"
             ],
             [
              0.8888888888888888,
              "#fdca26"
             ],
             [
              1.0,
              "#f0f921"
             ]
            ],
            "type": "heatmap"
           }
          ],
          "heatmapgl": [
           {
            "colorbar": {
             "outlinewidth": 0,
             "ticks": ""
            },
            "colorscale": [
             [
              0.0,
              "#0d0887"
             ],
             [
              0.1111111111111111,
              "#46039f"
             ],
             [
              0.2222222222222222,
              "#7201a8"
             ],
             [
              0.3333333333333333,
              "#9c179e"
             ],
             [
              0.4444444444444444,
              "#bd3786"
             ],
             [
              0.5555555555555556,
              "#d8576b"
             ],
             [
              0.6666666666666666,
              "#ed7953"
             ],
             [
              0.7777777777777778,
              "#fb9f3a"
             ],
             [
              0.8888888888888888,
              "#fdca26"
             ],
             [
              1.0,
              "#f0f921"
             ]
            ],
            "type": "heatmapgl"
           }
          ],
          "histogram": [
           {
            "marker": {
             "pattern": {
              "fillmode": "overlay",
              "size": 10,
              "solidity": 0.2
             }
            },
            "type": "histogram"
           }
          ],
          "histogram2d": [
           {
            "colorbar": {
             "outlinewidth": 0,
             "ticks": ""
            },
            "colorscale": [
             [
              0.0,
              "#0d0887"
             ],
             [
              0.1111111111111111,
              "#46039f"
             ],
             [
              0.2222222222222222,
              "#7201a8"
             ],
             [
              0.3333333333333333,
              "#9c179e"
             ],
             [
              0.4444444444444444,
              "#bd3786"
             ],
             [
              0.5555555555555556,
              "#d8576b"
             ],
             [
              0.6666666666666666,
              "#ed7953"
             ],
             [
              0.7777777777777778,
              "#fb9f3a"
             ],
             [
              0.8888888888888888,
              "#fdca26"
             ],
             [
              1.0,
              "#f0f921"
             ]
            ],
            "type": "histogram2d"
           }
          ],
          "histogram2dcontour": [
           {
            "colorbar": {
             "outlinewidth": 0,
             "ticks": ""
            },
            "colorscale": [
             [
              0.0,
              "#0d0887"
             ],
             [
              0.1111111111111111,
              "#46039f"
             ],
             [
              0.2222222222222222,
              "#7201a8"
             ],
             [
              0.3333333333333333,
              "#9c179e"
             ],
             [
              0.4444444444444444,
              "#bd3786"
             ],
             [
              0.5555555555555556,
              "#d8576b"
             ],
             [
              0.6666666666666666,
              "#ed7953"
             ],
             [
              0.7777777777777778,
              "#fb9f3a"
             ],
             [
              0.8888888888888888,
              "#fdca26"
             ],
             [
              1.0,
              "#f0f921"
             ]
            ],
            "type": "histogram2dcontour"
           }
          ],
          "mesh3d": [
           {
            "colorbar": {
             "outlinewidth": 0,
             "ticks": ""
            },
            "type": "mesh3d"
           }
          ],
          "parcoords": [
           {
            "line": {
             "colorbar": {
              "outlinewidth": 0,
              "ticks": ""
             }
            },
            "type": "parcoords"
           }
          ],
          "pie": [
           {
            "automargin": true,
            "type": "pie"
           }
          ],
          "scatter": [
           {
            "marker": {
             "line": {
              "color": "#283442"
             }
            },
            "type": "scatter"
           }
          ],
          "scatter3d": [
           {
            "line": {
             "colorbar": {
              "outlinewidth": 0,
              "ticks": ""
             }
            },
            "marker": {
             "colorbar": {
              "outlinewidth": 0,
              "ticks": ""
             }
            },
            "type": "scatter3d"
           }
          ],
          "scattercarpet": [
           {
            "marker": {
             "colorbar": {
              "outlinewidth": 0,
              "ticks": ""
             }
            },
            "type": "scattercarpet"
           }
          ],
          "scattergeo": [
           {
            "marker": {
             "colorbar": {
              "outlinewidth": 0,
              "ticks": ""
             }
            },
            "type": "scattergeo"
           }
          ],
          "scattergl": [
           {
            "marker": {
             "line": {
              "color": "#283442"
             }
            },
            "type": "scattergl"
           }
          ],
          "scattermapbox": [
           {
            "marker": {
             "colorbar": {
              "outlinewidth": 0,
              "ticks": ""
             }
            },
            "type": "scattermapbox"
           }
          ],
          "scatterpolar": [
           {
            "marker": {
             "colorbar": {
              "outlinewidth": 0,
              "ticks": ""
             }
            },
            "type": "scatterpolar"
           }
          ],
          "scatterpolargl": [
           {
            "marker": {
             "colorbar": {
              "outlinewidth": 0,
              "ticks": ""
             }
            },
            "type": "scatterpolargl"
           }
          ],
          "scatterternary": [
           {
            "marker": {
             "colorbar": {
              "outlinewidth": 0,
              "ticks": ""
             }
            },
            "type": "scatterternary"
           }
          ],
          "surface": [
           {
            "colorbar": {
             "outlinewidth": 0,
             "ticks": ""
            },
            "colorscale": [
             [
              0.0,
              "#0d0887"
             ],
             [
              0.1111111111111111,
              "#46039f"
             ],
             [
              0.2222222222222222,
              "#7201a8"
             ],
             [
              0.3333333333333333,
              "#9c179e"
             ],
             [
              0.4444444444444444,
              "#bd3786"
             ],
             [
              0.5555555555555556,
              "#d8576b"
             ],
             [
              0.6666666666666666,
              "#ed7953"
             ],
             [
              0.7777777777777778,
              "#fb9f3a"
             ],
             [
              0.8888888888888888,
              "#fdca26"
             ],
             [
              1.0,
              "#f0f921"
             ]
            ],
            "type": "surface"
           }
          ],
          "table": [
           {
            "cells": {
             "fill": {
              "color": "#506784"
             },
             "line": {
              "color": "rgb(17,17,17)"
             }
            },
            "header": {
             "fill": {
              "color": "#2a3f5f"
             },
             "line": {
              "color": "rgb(17,17,17)"
             }
            },
            "type": "table"
           }
          ]
         },
         "layout": {
          "annotationdefaults": {
           "arrowcolor": "#f2f5fa",
           "arrowhead": 0,
           "arrowwidth": 1
          },
          "autotypenumbers": "strict",
          "coloraxis": {
           "colorbar": {
            "outlinewidth": 0,
            "ticks": ""
           }
          },
          "colorscale": {
           "diverging": [
            [
             0,
             "#8e0152"
            ],
            [
             0.1,
             "#c51b7d"
            ],
            [
             0.2,
             "#de77ae"
            ],
            [
             0.3,
             "#f1b6da"
            ],
            [
             0.4,
             "#fde0ef"
            ],
            [
             0.5,
             "#f7f7f7"
            ],
            [
             0.6,
             "#e6f5d0"
            ],
            [
             0.7,
             "#b8e186"
            ],
            [
             0.8,
             "#7fbc41"
            ],
            [
             0.9,
             "#4d9221"
            ],
            [
             1,
             "#276419"
            ]
           ],
           "sequential": [
            [
             0.0,
             "#0d0887"
            ],
            [
             0.1111111111111111,
             "#46039f"
            ],
            [
             0.2222222222222222,
             "#7201a8"
            ],
            [
             0.3333333333333333,
             "#9c179e"
            ],
            [
             0.4444444444444444,
             "#bd3786"
            ],
            [
             0.5555555555555556,
             "#d8576b"
            ],
            [
             0.6666666666666666,
             "#ed7953"
            ],
            [
             0.7777777777777778,
             "#fb9f3a"
            ],
            [
             0.8888888888888888,
             "#fdca26"
            ],
            [
             1.0,
             "#f0f921"
            ]
           ],
           "sequentialminus": [
            [
             0.0,
             "#0d0887"
            ],
            [
             0.1111111111111111,
             "#46039f"
            ],
            [
             0.2222222222222222,
             "#7201a8"
            ],
            [
             0.3333333333333333,
             "#9c179e"
            ],
            [
             0.4444444444444444,
             "#bd3786"
            ],
            [
             0.5555555555555556,
             "#d8576b"
            ],
            [
             0.6666666666666666,
             "#ed7953"
            ],
            [
             0.7777777777777778,
             "#fb9f3a"
            ],
            [
             0.8888888888888888,
             "#fdca26"
            ],
            [
             1.0,
             "#f0f921"
            ]
           ]
          },
          "colorway": [
           "#636efa",
           "#EF553B",
           "#00cc96",
           "#ab63fa",
           "#FFA15A",
           "#19d3f3",
           "#FF6692",
           "#B6E880",
           "#FF97FF",
           "#FECB52"
          ],
          "font": {
           "color": "#f2f5fa"
          },
          "geo": {
           "bgcolor": "rgb(17,17,17)",
           "lakecolor": "rgb(17,17,17)",
           "landcolor": "rgb(17,17,17)",
           "showlakes": true,
           "showland": true,
           "subunitcolor": "#506784"
          },
          "hoverlabel": {
           "align": "left"
          },
          "hovermode": "closest",
          "mapbox": {
           "style": "dark"
          },
          "paper_bgcolor": "rgb(17,17,17)",
          "plot_bgcolor": "rgb(17,17,17)",
          "polar": {
           "angularaxis": {
            "gridcolor": "#506784",
            "linecolor": "#506784",
            "ticks": ""
           },
           "bgcolor": "rgb(17,17,17)",
           "radialaxis": {
            "gridcolor": "#506784",
            "linecolor": "#506784",
            "ticks": ""
           }
          },
          "scene": {
           "xaxis": {
            "backgroundcolor": "rgb(17,17,17)",
            "gridcolor": "#506784",
            "gridwidth": 2,
            "linecolor": "#506784",
            "showbackground": true,
            "ticks": "",
            "zerolinecolor": "#C8D4E3"
           },
           "yaxis": {
            "backgroundcolor": "rgb(17,17,17)",
            "gridcolor": "#506784",
            "gridwidth": 2,
            "linecolor": "#506784",
            "showbackground": true,
            "ticks": "",
            "zerolinecolor": "#C8D4E3"
           },
           "zaxis": {
            "backgroundcolor": "rgb(17,17,17)",
            "gridcolor": "#506784",
            "gridwidth": 2,
            "linecolor": "#506784",
            "showbackground": true,
            "ticks": "",
            "zerolinecolor": "#C8D4E3"
           }
          },
          "shapedefaults": {
           "line": {
            "color": "#f2f5fa"
           }
          },
          "sliderdefaults": {
           "bgcolor": "#C8D4E3",
           "bordercolor": "rgb(17,17,17)",
           "borderwidth": 1,
           "tickwidth": 0
          },
          "ternary": {
           "aaxis": {
            "gridcolor": "#506784",
            "linecolor": "#506784",
            "ticks": ""
           },
           "baxis": {
            "gridcolor": "#506784",
            "linecolor": "#506784",
            "ticks": ""
           },
           "bgcolor": "rgb(17,17,17)",
           "caxis": {
            "gridcolor": "#506784",
            "linecolor": "#506784",
            "ticks": ""
           }
          },
          "title": {
           "x": 0.05
          },
          "updatemenudefaults": {
           "bgcolor": "#506784",
           "borderwidth": 0
          },
          "xaxis": {
           "automargin": true,
           "gridcolor": "#283442",
           "linecolor": "#506784",
           "ticks": "",
           "title": {
            "standoff": 15
           },
           "zerolinecolor": "#283442",
           "zerolinewidth": 2
          },
          "yaxis": {
           "automargin": true,
           "gridcolor": "#283442",
           "linecolor": "#506784",
           "ticks": "",
           "title": {
            "standoff": 15
           },
           "zerolinecolor": "#283442",
           "zerolinewidth": 2
          }
         }
        }
       },
       "config": {
        "plotlyServerURL": "https://plot.ly"
       }
      },
      "text/html": "<div>                            <div id=\"1d5f1493-0cb5-4165-b1d5-b8c6039b21a2\" class=\"plotly-graph-div\" style=\"height:525px; width:100%;\"></div>            <script type=\"text/javascript\">                require([\"plotly\"], function(Plotly) {                    window.PLOTLYENV=window.PLOTLYENV || {};                                    if (document.getElementById(\"1d5f1493-0cb5-4165-b1d5-b8c6039b21a2\")) {                    Plotly.newPlot(                        \"1d5f1493-0cb5-4165-b1d5-b8c6039b21a2\",                        [{\"mode\":\"markers\",\"name\":\"open\",\"text\":[270.49,221.31,227.01,228.1,213.03,210.09,211.72,209.09,215.26,210.35,212.96,211.63,206.93,213.79,208.35,231.63,231.77,232.36,225.33,216.5,219.08,212.94,207.19,214.31,214.0,221.07,221.8,220.01,217.75,218.25,229.64,231.61,230.26,237.19,231.99,232.71,230.38,231.13,226.72,224.52,227.07,217.02,218.58,221.09,234.51,233.39,230.46,232.56,229.95,229.7,230.57,228.95,237.19,238.09,240.01,223.41,223.43,219.04,215.65,211.0,207.85,209.97,200.31,206.18,204.99,204.72,198.7,199.97,202.55,196.38,193.56,188.07,189.7,191.2,196.94,182.78,173.48,175.33,162.6,147.99,148.25,143.67,150.47,151.04,155.17,168.68,166.77,166.58,177.74,177.21,179.0,187.43,190.34,191.93,186.35,188.34,195.74,201.04,205.29,202.6,208.72,205.18,207.5,215.15,218.34,221.93,226.38,232.74,238.32,234.24,222.58,227.75,230.26,230.13,226.89,229.77,237.59,246.99,255.47,265.42,257.2,250.07,249.92,247.82,254.53,251.86,254.51,253.88,247.37,249.97,248.29,253.75,251.82,253.74,251.47,247.71,240.76,241.8,232.32,222.56,211.53,214.93,208.92,208.69,208.96,207.28,207.61,208.29,204.66,211.17,215.21,220.28,216.22,217.91,219.58,225.12,223.04,223.23,219.56,218.96,218.99,220.68,232.34,235.52,229.36,218.79,217.87,214.96,217.7,217.93,215.47,219.7,219.61,196.66,196.4,193.15,198.55,201.79,210.19,212.28,216.5,213.98,214.44,215.94,216.78,224.78,224.65,222.53,221.53,220.4,226.25,225.26,228.36,220.5,222.27,230.01,229.51,228.49,230.61,234.79,230.01,227.2,225.79,230.61,230.03,226.16,229.08,225.65,224.91,225.61,225.59,223.61,223.24,223.51,225.0,222.93,224.84,222.62,220.96,219.99,215.2,211.34,212.01,200.77,197.78,202.83,201.71,197.36,194.47,198.3,196.05,196.41,200.42,205.4,206.34,204.64,205.22,206.43,207.45,208.99,205.81,206.27,200.7,204.03,213.7,211.41,208.46,201.0,196.61,200.95,200.1,201.51,200.24,196.51,193.96,199.1,203.56,199.1,200.09,202.76,202.34,202.24,204.01,199.97,197.73,190.79,188.02,187.42,190.56,193.21,194.94,190.06,185.35,188.56,181.45,183.77,183.93,188.66,185.02,184.52,191.17,193.14,196.65,196.12,189.57,189.4,181.88,181.47,186.8,185.85,193.15,192.29,192.18,192.43,198.15,198.69,197.58,202.49,202.73,208.79,207.7,208.45,213.34,219.53,219.74,214.68,213.69,216.99,226.99,226.75,229.01,231.28,229.87,229.73,229.59,237.75,235.58,238.36,243.76,244.73,248.92,254.61,254.47,252.51,252.95,250.63,251.93,249.24,251.55,251.33,257.77,257.48,262.08,269.2,269.23,280.6,280.98,279.76,268.95,272.23,277.39,273.51,255.99,257.0,246.23,249.99,250.02,250.48,251.57,251.21,248.59,246.87,244.9,243.69,246.17,258.0,255.73,262.05,261.5,261.92,250.68,255.01,254.78,263.16,270.22,277.45,277.38,277.92,278.3,298.52,303.7,295.0,298.7,302.54,312.39,308.71,296.84,304.0,301.44,300.25,305.52,302.51,305.6,308.03,313.79,310.17,308.63,314.07,322.83,318.89,311.02,295.46,308.35,307.19,321.26,325.22,323.1,324.81,315.88,317.01,306.11,313.06,310.83,310.35,303.86,310.22,316.83,325.14,335.1,341.01,340.37,339.85,347.32,352.85,359.65,370.0,357.32,359.01,375.95,380.66,375.34,371.4,369.8,372.24,376.4,382.61,383.45,377.49,362.37,371.24,360.75,361.61,352.62,327.09,308.83,313.22,316.05,327.22,329.52,323.41,327.78,319.57,328.24,325.26,329.92,328.4,342.52,339.6,343.85,334.46,335.07,323.47,319.57,325.89,347.09,356.91,355.17,365.22,363.53,355.4,357.87,363.8,362.33,362.91,351.92,347.46,337.86,341.35,352.77,352.93,348.05,345.66,347.36,353.18,355.9,355.4,349.59,344.53,350.61,343.4,363.69,362.75,366.23,377.64,379.81,385.0,375.1,373.91,366.48,351.09,344.99,345.25,340.97,339.6,341.1,341.53,348.14,355.01,355.33,356.88,342.94,355.59,354.6,355.68,355.57,350.6,355.75,359.65,351.81,345.1,337.02,337.34,325.84,326.17,320.87,320.08,331.53,321.08,299.26,306.09,302.78,306.05,304.39,302.99,302.99,315.4,308.7,311.3,312.5,315.05,308.74,317.81,312.6,315.55,316.81,317.55,307.54,308.85,306.53,305.2,303.7,313.26,311.24,315.13,328.91,341.03,339.03,337.89,343.45,338.87,331.1,328.98,331.66,325.2,317.29,311.64,315.36,311.35,320.53,317.25,314.62,316.58,336.41,333.69,334.8,337.95,336.22,340.06,347.16,344.57,350.02,351.56,352.79,345.89,337.64,342.85,349.53,345.82,354.31,349.25,343.75,333.13,333.97,345.0,315.23,310.42,315.73,323.66,322.31,334.065,335.49,334.77,333.3,346.17,352.05,357.42,350.99,343.06,330.93,335.12,333.35,328.2,332.3,329.1,327.17,345.51,341.84,326.63,325.6,321.35,313.56,310.55,316.53,309.1,301.54,304.18,279.18,257.78,266.13,252.48,267.53,286.94,305.72,299.3,289.66,304.7,300.93,294.08,300.34,291.21,287.69,293.35,300.08,290.24,283.37,283.46,280.69,285.48,294.075,293.9,299.92,301.15,284.45,294.09,302.77,301.97,306.85,305.02,301.06,291.97,284.18,286.48,284.54,276.82,284.49,275.01,279.07,277.85,278.85,283.76,291.72,284.73,291.82,296.74,291.13,319.5,316.09,317.66,332.1,342.77,344.78,357.72,358.17,370.83,352.55,362.22,347.51,333.63,333.01,342.0,344.5,349.93,342.95,335.07,310.86,309.16,308.9,318.51,322.47,318.96,316.71,318.87,310.1,322.69,323.85,320.23,313.58,303.2,297.43,308.74,306.65,297.18,290.17,298.14,300.84,349.54,348.17,341.99,379.57,370.34,352.45,355.49,356.41,347.64,338.69,335.45,305.5,308.44,321.9,321.64,320.1,322.82,319.27,311.86,305.01,303.15,301.66,288.95,280.74,280.95,263.24,285.5,279.44,290.54,289.46,295.2,294.84,284.96,299.02,298.33,299.1,299.68,300.99,309.58,307.52,264.77,310.7,301.02,294.8,281.83,261.95,250.56,262.8,256.88,252.23,258.78,259.59],\"x\":[\"11:34\",\"2015/10/15\",\"2015/10/16\",\"2015/10/19\",\"2015/10/20\",\"2015/10/21\",\"2015/10/22\",\"2015/10/23\",\"2015/10/26\",\"2015/10/27\",\"2015/10/28\",\"2015/10/29\",\"2015/10/30\",\"2015/11/02\",\"2015/11/03\",\"2015/11/04\",\"2015/11/05\",\"2015/11/06\",\"2015/11/09\",\"2015/11/10\",\"2015/11/11\",\"2015/11/12\",\"2015/11/13\",\"2015/11/16\",\"2015/11/17\",\"2015/11/18\",\"2015/11/19\",\"2015/11/20\",\"2015/11/23\",\"2015/11/24\",\"2015/11/25\",\"2015/11/27\",\"2015/11/30\",\"2015/12/01\",\"2015/12/02\",\"2015/12/03\",\"2015/12/04\",\"2015/12/07\",\"2015/12/08\",\"2015/12/09\",\"2015/12/10\",\"2015/12/11\",\"2015/12/14\",\"2015/12/15\",\"2015/12/16\",\"2015/12/17\",\"2015/12/18\",\"2015/12/21\",\"2015/12/22\",\"2015/12/23\",\"2015/12/24\",\"2015/12/28\",\"2015/12/29\",\"2015/12/30\",\"2015/12/31\",\"2016/01/04\",\"2016/01/05\",\"2016/01/06\",\"2016/01/07\",\"2016/01/08\",\"2016/01/11\",\"2016/01/12\",\"2016/01/13\",\"2016/01/14\",\"2016/01/15\",\"2016/01/19\",\"2016/01/20\",\"2016/01/21\",\"2016/01/22\",\"2016/01/25\",\"2016/01/26\",\"2016/01/27\",\"2016/01/28\",\"2016/01/29\",\"2016/02/01\",\"2016/02/02\",\"2016/02/03\",\"2016/02/04\",\"2016/02/05\",\"2016/02/08\",\"2016/02/09\",\"2016/02/10\",\"2016/02/11\",\"2016/02/12\",\"2016/02/16\",\"2016/02/17\",\"2016/02/18\",\"2016/02/19\",\"2016/02/22\",\"2016/02/23\",\"2016/02/24\",\"2016/02/25\",\"2016/02/26\",\"2016/02/29\",\"2016/03/01\",\"2016/03/02\",\"2016/03/03\",\"2016/03/04\",\"2016/03/07\",\"2016/03/08\",\"2016/03/09\",\"2016/03/10\",\"2016/03/11\",\"2016/03/14\",\"2016/03/15\",\"2016/03/16\",\"2016/03/17\",\"2016/03/18\",\"2016/03/21\",\"2016/03/22\",\"2016/03/23\",\"2016/03/24\",\"2016/03/28\",\"2016/03/29\",\"2016/03/30\",\"2016/03/31\",\"2016/04/01\",\"2016/04/04\",\"2016/04/05\",\"2016/04/06\",\"2016/04/07\",\"2016/04/08\",\"2016/04/11\",\"2016/04/12\",\"2016/04/13\",\"2016/04/14\",\"2016/04/15\",\"2016/04/18\",\"2016/04/19\",\"2016/04/20\",\"2016/04/21\",\"2016/04/22\",\"2016/04/25\",\"2016/04/26\",\"2016/04/27\",\"2016/04/28\",\"2016/04/29\",\"2016/05/02\",\"2016/05/03\",\"2016/05/04\",\"2016/05/05\",\"2016/05/06\",\"2016/05/09\",\"2016/05/10\",\"2016/05/11\",\"2016/05/12\",\"2016/05/13\",\"2016/05/16\",\"2016/05/17\",\"2016/05/18\",\"2016/05/19\",\"2016/05/20\",\"2016/05/23\",\"2016/05/24\",\"2016/05/25\",\"2016/05/26\",\"2016/05/27\",\"2016/05/31\",\"2016/06/01\",\"2016/06/02\",\"2016/06/03\",\"2016/06/06\",\"2016/06/07\",\"2016/06/08\",\"2016/06/09\",\"2016/06/10\",\"2016/06/13\",\"2016/06/14\",\"2016/06/15\",\"2016/06/16\",\"2016/06/17\",\"2016/06/20\",\"2016/06/21\",\"2016/06/22\",\"2016/06/23\",\"2016/06/24\",\"2016/06/27\",\"2016/06/28\",\"2016/06/29\",\"2016/06/30\",\"2016/07/01\",\"2016/07/05\",\"2016/07/06\",\"2016/07/07\",\"2016/07/08\",\"2016/07/11\",\"2016/07/12\",\"2016/07/13\",\"2016/07/14\",\"2016/07/15\",\"2016/07/18\",\"2016/07/19\",\"2016/07/20\",\"2016/07/21\",\"2016/07/22\",\"2016/07/25\",\"2016/07/26\",\"2016/07/27\",\"2016/07/28\",\"2016/07/29\",\"2016/08/01\",\"2016/08/02\",\"2016/08/03\",\"2016/08/04\",\"2016/08/05\",\"2016/08/08\",\"2016/08/09\",\"2016/08/10\",\"2016/08/11\",\"2016/08/12\",\"2016/08/15\",\"2016/08/16\",\"2016/08/17\",\"2016/08/18\",\"2016/08/19\",\"2016/08/22\",\"2016/08/23\",\"2016/08/24\",\"2016/08/25\",\"2016/08/26\",\"2016/08/29\",\"2016/08/30\",\"2016/08/31\",\"2016/09/01\",\"2016/09/02\",\"2016/09/06\",\"2016/09/07\",\"2016/09/08\",\"2016/09/09\",\"2016/09/12\",\"2016/09/13\",\"2016/09/14\",\"2016/09/15\",\"2016/09/16\",\"2016/09/19\",\"2016/09/20\",\"2016/09/21\",\"2016/09/22\",\"2016/09/23\",\"2016/09/26\",\"2016/09/27\",\"2016/09/28\",\"2016/09/29\",\"2016/09/30\",\"2016/10/03\",\"2016/10/04\",\"2016/10/05\",\"2016/10/06\",\"2016/10/07\",\"2016/10/10\",\"2016/10/11\",\"2016/10/12\",\"2016/10/13\",\"2016/10/14\",\"2016/10/17\",\"2016/10/18\",\"2016/10/19\",\"2016/10/20\",\"2016/10/21\",\"2016/10/24\",\"2016/10/25\",\"2016/10/26\",\"2016/10/27\",\"2016/10/28\",\"2016/10/31\",\"2016/11/01\",\"2016/11/02\",\"2016/11/03\",\"2016/11/04\",\"2016/11/07\",\"2016/11/08\",\"2016/11/09\",\"2016/11/10\",\"2016/11/11\",\"2016/11/14\",\"2016/11/15\",\"2016/11/16\",\"2016/11/17\",\"2016/11/18\",\"2016/11/21\",\"2016/11/22\",\"2016/11/23\",\"2016/11/25\",\"2016/11/28\",\"2016/11/29\",\"2016/11/30\",\"2016/12/01\",\"2016/12/02\",\"2016/12/05\",\"2016/12/06\",\"2016/12/07\",\"2016/12/08\",\"2016/12/09\",\"2016/12/12\",\"2016/12/13\",\"2016/12/14\",\"2016/12/15\",\"2016/12/16\",\"2016/12/19\",\"2016/12/20\",\"2016/12/21\",\"2016/12/22\",\"2016/12/23\",\"2016/12/27\",\"2016/12/28\",\"2016/12/29\",\"2016/12/30\",\"2017/01/03\",\"2017/01/04\",\"2017/01/05\",\"2017/01/06\",\"2017/01/09\",\"2017/01/10\",\"2017/01/11\",\"2017/01/12\",\"2017/01/13\",\"2017/01/17\",\"2017/01/18\",\"2017/01/19\",\"2017/01/20\",\"2017/01/23\",\"2017/01/24\",\"2017/01/25\",\"2017/01/26\",\"2017/01/27\",\"2017/01/30\",\"2017/01/31\",\"2017/02/01\",\"2017/02/02\",\"2017/02/03\",\"2017/02/06\",\"2017/02/07\",\"2017/02/08\",\"2017/02/09\",\"2017/02/10\",\"2017/02/13\",\"2017/02/14\",\"2017/02/15\",\"2017/02/16\",\"2017/02/17\",\"2017/02/21\",\"2017/02/22\",\"2017/02/23\",\"2017/02/24\",\"2017/02/27\",\"2017/02/28\",\"2017/03/01\",\"2017/03/02\",\"2017/03/03\",\"2017/03/06\",\"2017/03/07\",\"2017/03/08\",\"2017/03/09\",\"2017/03/10\",\"2017/03/13\",\"2017/03/14\",\"2017/03/15\",\"2017/03/16\",\"2017/03/17\",\"2017/03/20\",\"2017/03/21\",\"2017/03/22\",\"2017/03/23\",\"2017/03/24\",\"2017/03/27\",\"2017/03/28\",\"2017/03/29\",\"2017/03/30\",\"2017/03/31\",\"2017/04/03\",\"2017/04/04\",\"2017/04/05\",\"2017/04/06\",\"2017/04/07\",\"2017/04/10\",\"2017/04/11\",\"2017/04/12\",\"2017/04/13\",\"2017/04/17\",\"2017/04/18\",\"2017/04/19\",\"2017/04/20\",\"2017/04/21\",\"2017/04/24\",\"2017/04/25\",\"2017/04/26\",\"2017/04/27\",\"2017/04/28\",\"2017/05/01\",\"2017/05/02\",\"2017/05/03\",\"2017/05/04\",\"2017/05/05\",\"2017/05/08\",\"2017/05/09\",\"2017/05/10\",\"2017/05/11\",\"2017/05/12\",\"2017/05/15\",\"2017/05/16\",\"2017/05/17\",\"2017/05/18\",\"2017/05/19\",\"2017/05/22\",\"2017/05/23\",\"2017/05/24\",\"2017/05/25\",\"2017/05/26\",\"2017/05/30\",\"2017/05/31\",\"2017/06/01\",\"2017/06/02\",\"2017/06/05\",\"2017/06/06\",\"2017/06/07\",\"2017/06/08\",\"2017/06/09\",\"2017/06/12\",\"2017/06/13\",\"2017/06/14\",\"2017/06/15\",\"2017/06/16\",\"2017/06/19\",\"2017/06/20\",\"2017/06/21\",\"2017/06/22\",\"2017/06/23\",\"2017/06/26\",\"2017/06/27\",\"2017/06/28\",\"2017/06/29\",\"2017/06/30\",\"2017/07/03\",\"2017/07/05\",\"2017/07/06\",\"2017/07/07\",\"2017/07/10\",\"2017/07/11\",\"2017/07/12\",\"2017/07/13\",\"2017/07/14\",\"2017/07/17\",\"2017/07/18\",\"2017/07/19\",\"2017/07/20\",\"2017/07/21\",\"2017/07/24\",\"2017/07/25\",\"2017/07/26\",\"2017/07/27\",\"2017/07/28\",\"2017/07/31\",\"2017/08/01\",\"2017/08/02\",\"2017/08/03\",\"2017/08/04\",\"2017/08/07\",\"2017/08/08\",\"2017/08/09\",\"2017/08/10\",\"2017/08/11\",\"2017/08/14\",\"2017/08/15\",\"2017/08/16\",\"2017/08/17\",\"2017/08/18\",\"2017/08/21\",\"2017/08/22\",\"2017/08/23\",\"2017/08/24\",\"2017/08/25\",\"2017/08/28\",\"2017/08/29\",\"2017/08/30\",\"2017/08/31\",\"2017/09/01\",\"2017/09/05\",\"2017/09/06\",\"2017/09/07\",\"2017/09/08\",\"2017/09/11\",\"2017/09/12\",\"2017/09/13\",\"2017/09/14\",\"2017/09/15\",\"2017/09/18\",\"2017/09/19\",\"2017/09/20\",\"2017/09/21\",\"2017/09/22\",\"2017/09/25\",\"2017/09/26\",\"2017/09/27\",\"2017/09/28\",\"2017/09/29\",\"2017/10/02\",\"2017/10/03\",\"2017/10/04\",\"2017/10/05\",\"2017/10/06\",\"2017/10/09\",\"2017/10/10\",\"2017/10/11\",\"2017/10/12\",\"2017/10/13\",\"2017/10/16\",\"2017/10/17\",\"2017/10/18\",\"2017/10/19\",\"2017/10/20\",\"2017/10/23\",\"2017/10/24\",\"2017/10/25\",\"2017/10/26\",\"2017/10/27\",\"2017/10/30\",\"2017/10/31\",\"2017/11/01\",\"2017/11/02\",\"2017/11/03\",\"2017/11/06\",\"2017/11/07\",\"2017/11/08\",\"2017/11/09\",\"2017/11/10\",\"2017/11/13\",\"2017/11/14\",\"2017/11/15\",\"2017/11/16\",\"2017/11/17\",\"2017/11/20\",\"2017/11/21\",\"2017/11/22\",\"2017/11/24\",\"2017/11/27\",\"2017/11/28\",\"2017/11/29\",\"2017/11/30\",\"2017/12/01\",\"2017/12/04\",\"2017/12/05\",\"2017/12/06\",\"2017/12/07\",\"2017/12/08\",\"2017/12/11\",\"2017/12/12\",\"2017/12/13\",\"2017/12/14\",\"2017/12/15\",\"2017/12/18\",\"2017/12/19\",\"2017/12/20\",\"2017/12/21\",\"2017/12/22\",\"2017/12/26\",\"2017/12/27\",\"2017/12/28\",\"2017/12/29\",\"2018/01/02\",\"2018/01/03\",\"2018/01/04\",\"2018/01/05\",\"2018/01/08\",\"2018/01/09\",\"2018/01/10\",\"2018/01/11\",\"2018/01/12\",\"2018/01/16\",\"2018/01/17\",\"2018/01/18\",\"2018/01/19\",\"2018/01/22\",\"2018/01/23\",\"2018/01/24\",\"2018/01/25\",\"2018/01/26\",\"2018/01/29\",\"2018/01/30\",\"2018/01/31\",\"2018/02/01\",\"2018/02/02\",\"2018/02/05\",\"2018/02/06\",\"2018/02/07\",\"2018/02/08\",\"2018/02/09\",\"2018/02/12\",\"2018/02/13\",\"2018/02/14\",\"2018/02/15\",\"2018/02/16\",\"2018/02/20\",\"2018/02/21\",\"2018/02/22\",\"2018/02/23\",\"2018/02/26\",\"2018/02/27\",\"2018/02/28\",\"2018/03/01\",\"2018/03/02\",\"2018/03/05\",\"2018/03/06\",\"2018/03/07\",\"2018/03/08\",\"2018/03/09\",\"2018/03/12\",\"2018/03/13\",\"2018/03/14\",\"2018/03/15\",\"2018/03/16\",\"2018/03/19\",\"2018/03/20\",\"2018/03/21\",\"2018/03/22\",\"2018/03/23\",\"2018/03/26\",\"2018/03/27\",\"2018/03/28\",\"2018/03/29\",\"2018/04/02\",\"2018/04/03\",\"2018/04/04\",\"2018/04/05\",\"2018/04/06\",\"2018/04/09\",\"2018/04/10\",\"2018/04/11\",\"2018/04/12\",\"2018/04/13\",\"2018/04/16\",\"2018/04/17\",\"2018/04/18\",\"2018/04/19\",\"2018/04/20\",\"2018/04/23\",\"2018/04/24\",\"2018/04/25\",\"2018/04/26\",\"2018/04/27\",\"2018/04/30\",\"2018/05/01\",\"2018/05/02\",\"2018/05/03\",\"2018/05/04\",\"2018/05/07\",\"2018/05/08\",\"2018/05/09\",\"2018/05/10\",\"2018/05/11\",\"2018/05/14\",\"2018/05/15\",\"2018/05/16\",\"2018/05/17\",\"2018/05/18\",\"2018/05/21\",\"2018/05/22\",\"2018/05/23\",\"2018/05/24\",\"2018/05/25\",\"2018/05/29\",\"2018/05/30\",\"2018/05/31\",\"2018/06/01\",\"2018/06/04\",\"2018/06/05\",\"2018/06/06\",\"2018/06/07\",\"2018/06/08\",\"2018/06/11\",\"2018/06/12\",\"2018/06/13\",\"2018/06/14\",\"2018/06/15\",\"2018/06/18\",\"2018/06/19\",\"2018/06/20\",\"2018/06/21\",\"2018/06/22\",\"2018/06/25\",\"2018/06/26\",\"2018/06/27\",\"2018/06/28\",\"2018/06/29\",\"2018/07/02\",\"2018/07/03\",\"2018/07/05\",\"2018/07/06\",\"2018/07/09\",\"2018/07/10\",\"2018/07/11\",\"2018/07/12\",\"2018/07/13\",\"2018/07/16\",\"2018/07/17\",\"2018/07/18\",\"2018/07/19\",\"2018/07/20\",\"2018/07/23\",\"2018/07/24\",\"2018/07/25\",\"2018/07/26\",\"2018/07/27\",\"2018/07/30\",\"2018/07/31\",\"2018/08/01\",\"2018/08/02\",\"2018/08/03\",\"2018/08/06\",\"2018/08/07\",\"2018/08/08\",\"2018/08/09\",\"2018/08/10\",\"2018/08/13\",\"2018/08/14\",\"2018/08/15\",\"2018/08/16\",\"2018/08/17\",\"2018/08/20\",\"2018/08/21\",\"2018/08/22\",\"2018/08/23\",\"2018/08/24\",\"2018/08/27\",\"2018/08/28\",\"2018/08/29\",\"2018/08/30\",\"2018/08/31\",\"2018/09/04\",\"2018/09/05\",\"2018/09/06\",\"2018/09/07\",\"2018/09/10\",\"2018/09/11\",\"2018/09/12\",\"2018/09/13\",\"2018/09/14\",\"2018/09/17\",\"2018/09/18\",\"2018/09/19\",\"2018/09/20\",\"2018/09/21\",\"2018/09/24\",\"2018/09/25\",\"2018/09/26\",\"2018/09/27\",\"2018/09/28\",\"2018/10/01\",\"2018/10/02\",\"2018/10/03\",\"2018/10/04\",\"2018/10/05\",\"2018/10/08\",\"2018/10/09\",\"2018/10/10\",\"2018/10/11\",\"2018/10/12\",\"2018/10/15\"],\"y\":[264.5,216.43,223.04,226.5,227.72,211.99,211.56,215.0,211.38,214.84,211.31,211.75,210.4,208.92,213.85,227.0,230.58,230.7,232.99,223.48,217.77,217.85,212.95,206.09,215.2,214.5,220.54,223.49,217.35,215.37,221.34,231.06,231.79,231.06,237.0,235.48,232.46,227.7,227.52,226.7,224.71,225.24,217.51,221.82,222.1,233.94,232.89,231.69,234.99,232.18,230.56,231.49,230.06,236.6,238.51,230.72,226.36,220.0,214.19,217.86,214.01,211.6,212.01,202.21,198.97,208.71,199.4,201.55,204.801,200.06,196.7,192.38,190.79,189.95,188.76,192.42,183.59,170.7,171.3,157.105,142.32,150.5,152.0,155.0,158.7,159.0,172.42,163.66,170.12,176.16,172.75,178.65,188.7,192.4,194.25,183.73,188.28,198.0,197.68,203.5,204.52,210.0,207.93,212.65,214.27,218.0,221.47,229.1,235.34,237.21,232.37,215.78,231.61,229.89,235.09,229.34,244.825,249.12,240.5,253.97,266.45,260.5,251.0,249.5,248.51,253.0,251.31,252.23,253.12,246.26,248.99,248.89,253.01,252.05,252.75,249.85,248.14,241.5,237.36,230.29,228.46,210.87,215.72,207.55,207.59,211.44,207.78,208.15,209.05,209.15,213.62,216.99,219.87,216.6,217.91,220.5,224.99,223.04,221.48,219.59,220.0,218.0,222.24,233.8,234.98,227.39,219.5,218.88,216.95,217.42,217.81,219.5,220.68,199.47,195.69,190.05,190.86,201.89,205.13,212.97,206.14,209.73,210.0,213.1,217.8,219.96,224.1,225.5,223.12,222.52,219.64,225.0,226.47,226.0,221.99,222.27,227.69,229.34,227.95,230.7,235.5,229.37,227.37,225.69,230.0,228.0,226.82,228.24,226.17,225.41,226.02,225.49,224.33,223.82,223.54,224.17,224.32,227.05,223.11,222.14,220.15,216.11,210.43,209.01,202.33,199.02,205.5,199.55,199.09,195.0,197.06,195.75,196.49,200.42,207.0,206.85,206.37,206.4,205.99,206.5,209.65,207.51,205.6,202.21,212.3,213.1,212.24,202.46,201.0,201.35,201.85,200.95,200.5,200.66,197.05,195.99,199.74,202.12,198.6,201.0,202.9,201.0,211.34,204.0,202.49,198.04,190.05,189.0,189.0,193.59,193.79,186.875,191.05,184.24,188.0,182.78,182.65,183.49,190.65,185.04,185.84,190.61,193.64,195.48,195.56,191.0,188.25,182.88,182.51,185.52,186.15,192.05,190.87,192.8,193.18,198.74,198.41,198.08,202.49,203.05,208.45,208.22,208.0,214.88,221.53,218.56,216.3,214.86,214.75,226.42,226.93,228.97,232.0,229.07,229.06,230.0,236.7,236.65,247.25,245.46,245.85,250.0,257.31,254.29,251.38,252.53,249.24,253.05,248.34,251.91,251.0,258.19,257.35,266.25,269.79,270.74,279.03,280.0,277.6,265.8,275.45,280.31,264.0,252.66,248.17,244.19,254.18,249.71,250.74,247.91,251.92,247.0,247.63,246.21,244.82,246.11,257.0,262.4,264.0,260.6,262.83,251.56,255.39,255.7,260.6,277.02,278.34,278.04,278.73,286.9,296.89,302.04,296.88,297.5,309.15,313.38,306.34,296.7,302.7,299.7,302.46,306.51,302.0,309.22,308.0,312.37,311.69,309.83,314.88,324.0,317.67,307.435,298.0,310.9,309.38,321.56,323.4,325.48,318.38,317.59,314.39,307.0,315.5,312.8,310.46,306.51,311.02,317.28,326.0,337.69,344.0,339.77,338.5,344.7,356.34,363.75,374.42,357.99,367.62,381.085,372.5,377.975,375.0,376.67,374.35,377.99,382.45,386.69,376.4,366.68,370.61,363.71,370.24,347.2,317.26,313.5,312.9,316.0,330.4,330.11,323.19,325.54,317.5,328.23,326.9,329.46,330.24,345.0,340.36,346.0,336.89,335.5,323.0,318.94,345.33,347.0,357.35,357.53,361.0,361.6,356.97,364.63,365.2,363.0,361.21,352.91,345.82,341.13,338.99,352.52,354.24,347.28,339.48,349.67,353.55,356.12,353.8,349.5,345.98,348.99,351.35,364.49,363.82,364.33,374.51,380.25,380.0,373.0,374.9,366.49,353.15,350.93,349.9,339.88,341.86,342.52,335.9,351.25,356.0,353.1,349.65,346.8,353.89,352.95,356.98,353.76,350.91,355.97,355.56,352.69,349.88,338.8,336.7,327.78,319.75,319.18,320.23,332.25,300.13,299.5,307.0,301.02,305.5,302.5,302.5,300.13,315.0,306.01,313.99,325.67,313.79,310.86,316.77,313.79,313.25,316.36,317.3,308.56,305.44,306.5,302.0,300.1,312.0,314.6,314.63,330.45,340.93,341.01,342.04,344.9,340.26,332.69,329.59,329.51,323.83,316.0,311.75,316.18,312.0,321.0,312.87,316.62,316.0,335.16,332.2,335.24,338.63,337.54,340.47,345.67,345.0,349.4,360.0,354.58,348.27,341.5,339.85,345.14,347.51,351.0,348.44,337.97,325.21,338.99,343.31,319.93,316.13,315.02,320.84,324.5,332.5,334.47,336.03,335.53,347.83,353.5,356.25,352.57,345.01,326.98,332.39,333.75,325.44,332.86,324.1,328.61,344.92,336.76,329.38,325.96,316.5,314.87,310.25,313.89,311.25,307.34,304.0,264.58,256.49,256.26,269.82,252.78,289.34,301.0,300.37,298.97,300.74,302.32,303.6,299.0,288.87,291.08,291.08,295.17,291.29,285.0,283.5,278.75,285.37,293.61,293.51,298.57,278.79,283.0,297.5,300.795,300.41,307.4997,307.7,303.32,285.01,283.83,285.9,284.65,281.33,287.762,277.76,278.4,277.625,278.51,283.29,287.21,285.86,294.34,297.7,300.5,316.15,319.0,322.51,344.7,346.706,347.63,353.84,355.4,365.16,358.04,362.0,351.54,330.12,336.054,345.0,348.66,353.33,360.07,331.75,313.76,304.955,311.99,324.56,315.8,321.43,315.58,311.71,308.81,325.0,316.33,321.23,301.84,304.4209,296.74,304.85,307.25,295.9,292.25,297.99,328.44,347.81,345.46,343.84,369.09,365.55,354.0,361.13,358.45,341.906,339.91,323.5,291.704,310.61,320.87,319.14,320.7,318.0,318.41,310.27,302.26,302.0,296.94,285.05,284.8,260.1,273.26,279.47,281.44,288.02,288.76,290.04,296.69,280.51,303.56,297.7,298.48,300.0,301.91,312.9,270.26,305.77,313.95,303.33,293.95,274.65,264.52,255.25,264.61,257.53,261.0,259.06],\"type\":\"scatter\"},{\"name\":\"high\",\"x\":[\"11:34\",\"2015/10/15\",\"2015/10/16\",\"2015/10/19\",\"2015/10/20\",\"2015/10/21\",\"2015/10/22\",\"2015/10/23\",\"2015/10/26\",\"2015/10/27\",\"2015/10/28\",\"2015/10/29\",\"2015/10/30\",\"2015/11/02\",\"2015/11/03\",\"2015/11/04\",\"2015/11/05\",\"2015/11/06\",\"2015/11/09\",\"2015/11/10\",\"2015/11/11\",\"2015/11/12\",\"2015/11/13\",\"2015/11/16\",\"2015/11/17\",\"2015/11/18\",\"2015/11/19\",\"2015/11/20\",\"2015/11/23\",\"2015/11/24\",\"2015/11/25\",\"2015/11/27\",\"2015/11/30\",\"2015/12/01\",\"2015/12/02\",\"2015/12/03\",\"2015/12/04\",\"2015/12/07\",\"2015/12/08\",\"2015/12/09\",\"2015/12/10\",\"2015/12/11\",\"2015/12/14\",\"2015/12/15\",\"2015/12/16\",\"2015/12/17\",\"2015/12/18\",\"2015/12/21\",\"2015/12/22\",\"2015/12/23\",\"2015/12/24\",\"2015/12/28\",\"2015/12/29\",\"2015/12/30\",\"2015/12/31\",\"2016/01/04\",\"2016/01/05\",\"2016/01/06\",\"2016/01/07\",\"2016/01/08\",\"2016/01/11\",\"2016/01/12\",\"2016/01/13\",\"2016/01/14\",\"2016/01/15\",\"2016/01/19\",\"2016/01/20\",\"2016/01/21\",\"2016/01/22\",\"2016/01/25\",\"2016/01/26\",\"2016/01/27\",\"2016/01/28\",\"2016/01/29\",\"2016/02/01\",\"2016/02/02\",\"2016/02/03\",\"2016/02/04\",\"2016/02/05\",\"2016/02/08\",\"2016/02/09\",\"2016/02/10\",\"2016/02/11\",\"2016/02/12\",\"2016/02/16\",\"2016/02/17\",\"2016/02/18\",\"2016/02/19\",\"2016/02/22\",\"2016/02/23\",\"2016/02/24\",\"2016/02/25\",\"2016/02/26\",\"2016/02/29\",\"2016/03/01\",\"2016/03/02\",\"2016/03/03\",\"2016/03/04\",\"2016/03/07\",\"2016/03/08\",\"2016/03/09\",\"2016/03/10\",\"2016/03/11\",\"2016/03/14\",\"2016/03/15\",\"2016/03/16\",\"2016/03/17\",\"2016/03/18\",\"2016/03/21\",\"2016/03/22\",\"2016/03/23\",\"2016/03/24\",\"2016/03/28\",\"2016/03/29\",\"2016/03/30\",\"2016/03/31\",\"2016/04/01\",\"2016/04/04\",\"2016/04/05\",\"2016/04/06\",\"2016/04/07\",\"2016/04/08\",\"2016/04/11\",\"2016/04/12\",\"2016/04/13\",\"2016/04/14\",\"2016/04/15\",\"2016/04/18\",\"2016/04/19\",\"2016/04/20\",\"2016/04/21\",\"2016/04/22\",\"2016/04/25\",\"2016/04/26\",\"2016/04/27\",\"2016/04/28\",\"2016/04/29\",\"2016/05/02\",\"2016/05/03\",\"2016/05/04\",\"2016/05/05\",\"2016/05/06\",\"2016/05/09\",\"2016/05/10\",\"2016/05/11\",\"2016/05/12\",\"2016/05/13\",\"2016/05/16\",\"2016/05/17\",\"2016/05/18\",\"2016/05/19\",\"2016/05/20\",\"2016/05/23\",\"2016/05/24\",\"2016/05/25\",\"2016/05/26\",\"2016/05/27\",\"2016/05/31\",\"2016/06/01\",\"2016/06/02\",\"2016/06/03\",\"2016/06/06\",\"2016/06/07\",\"2016/06/08\",\"2016/06/09\",\"2016/06/10\",\"2016/06/13\",\"2016/06/14\",\"2016/06/15\",\"2016/06/16\",\"2016/06/17\",\"2016/06/20\",\"2016/06/21\",\"2016/06/22\",\"2016/06/23\",\"2016/06/24\",\"2016/06/27\",\"2016/06/28\",\"2016/06/29\",\"2016/06/30\",\"2016/07/01\",\"2016/07/05\",\"2016/07/06\",\"2016/07/07\",\"2016/07/08\",\"2016/07/11\",\"2016/07/12\",\"2016/07/13\",\"2016/07/14\",\"2016/07/15\",\"2016/07/18\",\"2016/07/19\",\"2016/07/20\",\"2016/07/21\",\"2016/07/22\",\"2016/07/25\",\"2016/07/26\",\"2016/07/27\",\"2016/07/28\",\"2016/07/29\",\"2016/08/01\",\"2016/08/02\",\"2016/08/03\",\"2016/08/04\",\"2016/08/05\",\"2016/08/08\",\"2016/08/09\",\"2016/08/10\",\"2016/08/11\",\"2016/08/12\",\"2016/08/15\",\"2016/08/16\",\"2016/08/17\",\"2016/08/18\",\"2016/08/19\",\"2016/08/22\",\"2016/08/23\",\"2016/08/24\",\"2016/08/25\",\"2016/08/26\",\"2016/08/29\",\"2016/08/30\",\"2016/08/31\",\"2016/09/01\",\"2016/09/02\",\"2016/09/06\",\"2016/09/07\",\"2016/09/08\",\"2016/09/09\",\"2016/09/12\",\"2016/09/13\",\"2016/09/14\",\"2016/09/15\",\"2016/09/16\",\"2016/09/19\",\"2016/09/20\",\"2016/09/21\",\"2016/09/22\",\"2016/09/23\",\"2016/09/26\",\"2016/09/27\",\"2016/09/28\",\"2016/09/29\",\"2016/09/30\",\"2016/10/03\",\"2016/10/04\",\"2016/10/05\",\"2016/10/06\",\"2016/10/07\",\"2016/10/10\",\"2016/10/11\",\"2016/10/12\",\"2016/10/13\",\"2016/10/14\",\"2016/10/17\",\"2016/10/18\",\"2016/10/19\",\"2016/10/20\",\"2016/10/21\",\"2016/10/24\",\"2016/10/25\",\"2016/10/26\",\"2016/10/27\",\"2016/10/28\",\"2016/10/31\",\"2016/11/01\",\"2016/11/02\",\"2016/11/03\",\"2016/11/04\",\"2016/11/07\",\"2016/11/08\",\"2016/11/09\",\"2016/11/10\",\"2016/11/11\",\"2016/11/14\",\"2016/11/15\",\"2016/11/16\",\"2016/11/17\",\"2016/11/18\",\"2016/11/21\",\"2016/11/22\",\"2016/11/23\",\"2016/11/25\",\"2016/11/28\",\"2016/11/29\",\"2016/11/30\",\"2016/12/01\",\"2016/12/02\",\"2016/12/05\",\"2016/12/06\",\"2016/12/07\",\"2016/12/08\",\"2016/12/09\",\"2016/12/12\",\"2016/12/13\",\"2016/12/14\",\"2016/12/15\",\"2016/12/16\",\"2016/12/19\",\"2016/12/20\",\"2016/12/21\",\"2016/12/22\",\"2016/12/23\",\"2016/12/27\",\"2016/12/28\",\"2016/12/29\",\"2016/12/30\",\"2017/01/03\",\"2017/01/04\",\"2017/01/05\",\"2017/01/06\",\"2017/01/09\",\"2017/01/10\",\"2017/01/11\",\"2017/01/12\",\"2017/01/13\",\"2017/01/17\",\"2017/01/18\",\"2017/01/19\",\"2017/01/20\",\"2017/01/23\",\"2017/01/24\",\"2017/01/25\",\"2017/01/26\",\"2017/01/27\",\"2017/01/30\",\"2017/01/31\",\"2017/02/01\",\"2017/02/02\",\"2017/02/03\",\"2017/02/06\",\"2017/02/07\",\"2017/02/08\",\"2017/02/09\",\"2017/02/10\",\"2017/02/13\",\"2017/02/14\",\"2017/02/15\",\"2017/02/16\",\"2017/02/17\",\"2017/02/21\",\"2017/02/22\",\"2017/02/23\",\"2017/02/24\",\"2017/02/27\",\"2017/02/28\",\"2017/03/01\",\"2017/03/02\",\"2017/03/03\",\"2017/03/06\",\"2017/03/07\",\"2017/03/08\",\"2017/03/09\",\"2017/03/10\",\"2017/03/13\",\"2017/03/14\",\"2017/03/15\",\"2017/03/16\",\"2017/03/17\",\"2017/03/20\",\"2017/03/21\",\"2017/03/22\",\"2017/03/23\",\"2017/03/24\",\"2017/03/27\",\"2017/03/28\",\"2017/03/29\",\"2017/03/30\",\"2017/03/31\",\"2017/04/03\",\"2017/04/04\",\"2017/04/05\",\"2017/04/06\",\"2017/04/07\",\"2017/04/10\",\"2017/04/11\",\"2017/04/12\",\"2017/04/13\",\"2017/04/17\",\"2017/04/18\",\"2017/04/19\",\"2017/04/20\",\"2017/04/21\",\"2017/04/24\",\"2017/04/25\",\"2017/04/26\",\"2017/04/27\",\"2017/04/28\",\"2017/05/01\",\"2017/05/02\",\"2017/05/03\",\"2017/05/04\",\"2017/05/05\",\"2017/05/08\",\"2017/05/09\",\"2017/05/10\",\"2017/05/11\",\"2017/05/12\",\"2017/05/15\",\"2017/05/16\",\"2017/05/17\",\"2017/05/18\",\"2017/05/19\",\"2017/05/22\",\"2017/05/23\",\"2017/05/24\",\"2017/05/25\",\"2017/05/26\",\"2017/05/30\",\"2017/05/31\",\"2017/06/01\",\"2017/06/02\",\"2017/06/05\",\"2017/06/06\",\"2017/06/07\",\"2017/06/08\",\"2017/06/09\",\"2017/06/12\",\"2017/06/13\",\"2017/06/14\",\"2017/06/15\",\"2017/06/16\",\"2017/06/19\",\"2017/06/20\",\"2017/06/21\",\"2017/06/22\",\"2017/06/23\",\"2017/06/26\",\"2017/06/27\",\"2017/06/28\",\"2017/06/29\",\"2017/06/30\",\"2017/07/03\",\"2017/07/05\",\"2017/07/06\",\"2017/07/07\",\"2017/07/10\",\"2017/07/11\",\"2017/07/12\",\"2017/07/13\",\"2017/07/14\",\"2017/07/17\",\"2017/07/18\",\"2017/07/19\",\"2017/07/20\",\"2017/07/21\",\"2017/07/24\",\"2017/07/25\",\"2017/07/26\",\"2017/07/27\",\"2017/07/28\",\"2017/07/31\",\"2017/08/01\",\"2017/08/02\",\"2017/08/03\",\"2017/08/04\",\"2017/08/07\",\"2017/08/08\",\"2017/08/09\",\"2017/08/10\",\"2017/08/11\",\"2017/08/14\",\"2017/08/15\",\"2017/08/16\",\"2017/08/17\",\"2017/08/18\",\"2017/08/21\",\"2017/08/22\",\"2017/08/23\",\"2017/08/24\",\"2017/08/25\",\"2017/08/28\",\"2017/08/29\",\"2017/08/30\",\"2017/08/31\",\"2017/09/01\",\"2017/09/05\",\"2017/09/06\",\"2017/09/07\",\"2017/09/08\",\"2017/09/11\",\"2017/09/12\",\"2017/09/13\",\"2017/09/14\",\"2017/09/15\",\"2017/09/18\",\"2017/09/19\",\"2017/09/20\",\"2017/09/21\",\"2017/09/22\",\"2017/09/25\",\"2017/09/26\",\"2017/09/27\",\"2017/09/28\",\"2017/09/29\",\"2017/10/02\",\"2017/10/03\",\"2017/10/04\",\"2017/10/05\",\"2017/10/06\",\"2017/10/09\",\"2017/10/10\",\"2017/10/11\",\"2017/10/12\",\"2017/10/13\",\"2017/10/16\",\"2017/10/17\",\"2017/10/18\",\"2017/10/19\",\"2017/10/20\",\"2017/10/23\",\"2017/10/24\",\"2017/10/25\",\"2017/10/26\",\"2017/10/27\",\"2017/10/30\",\"2017/10/31\",\"2017/11/01\",\"2017/11/02\",\"2017/11/03\",\"2017/11/06\",\"2017/11/07\",\"2017/11/08\",\"2017/11/09\",\"2017/11/10\",\"2017/11/13\",\"2017/11/14\",\"2017/11/15\",\"2017/11/16\",\"2017/11/17\",\"2017/11/20\",\"2017/11/21\",\"2017/11/22\",\"2017/11/24\",\"2017/11/27\",\"2017/11/28\",\"2017/11/29\",\"2017/11/30\",\"2017/12/01\",\"2017/12/04\",\"2017/12/05\",\"2017/12/06\",\"2017/12/07\",\"2017/12/08\",\"2017/12/11\",\"2017/12/12\",\"2017/12/13\",\"2017/12/14\",\"2017/12/15\",\"2017/12/18\",\"2017/12/19\",\"2017/12/20\",\"2017/12/21\",\"2017/12/22\",\"2017/12/26\",\"2017/12/27\",\"2017/12/28\",\"2017/12/29\",\"2018/01/02\",\"2018/01/03\",\"2018/01/04\",\"2018/01/05\",\"2018/01/08\",\"2018/01/09\",\"2018/01/10\",\"2018/01/11\",\"2018/01/12\",\"2018/01/16\",\"2018/01/17\",\"2018/01/18\",\"2018/01/19\",\"2018/01/22\",\"2018/01/23\",\"2018/01/24\",\"2018/01/25\",\"2018/01/26\",\"2018/01/29\",\"2018/01/30\",\"2018/01/31\",\"2018/02/01\",\"2018/02/02\",\"2018/02/05\",\"2018/02/06\",\"2018/02/07\",\"2018/02/08\",\"2018/02/09\",\"2018/02/12\",\"2018/02/13\",\"2018/02/14\",\"2018/02/15\",\"2018/02/16\",\"2018/02/20\",\"2018/02/21\",\"2018/02/22\",\"2018/02/23\",\"2018/02/26\",\"2018/02/27\",\"2018/02/28\",\"2018/03/01\",\"2018/03/02\",\"2018/03/05\",\"2018/03/06\",\"2018/03/07\",\"2018/03/08\",\"2018/03/09\",\"2018/03/12\",\"2018/03/13\",\"2018/03/14\",\"2018/03/15\",\"2018/03/16\",\"2018/03/19\",\"2018/03/20\",\"2018/03/21\",\"2018/03/22\",\"2018/03/23\",\"2018/03/26\",\"2018/03/27\",\"2018/03/28\",\"2018/03/29\",\"2018/04/02\",\"2018/04/03\",\"2018/04/04\",\"2018/04/05\",\"2018/04/06\",\"2018/04/09\",\"2018/04/10\",\"2018/04/11\",\"2018/04/12\",\"2018/04/13\",\"2018/04/16\",\"2018/04/17\",\"2018/04/18\",\"2018/04/19\",\"2018/04/20\",\"2018/04/23\",\"2018/04/24\",\"2018/04/25\",\"2018/04/26\",\"2018/04/27\",\"2018/04/30\",\"2018/05/01\",\"2018/05/02\",\"2018/05/03\",\"2018/05/04\",\"2018/05/07\",\"2018/05/08\",\"2018/05/09\",\"2018/05/10\",\"2018/05/11\",\"2018/05/14\",\"2018/05/15\",\"2018/05/16\",\"2018/05/17\",\"2018/05/18\",\"2018/05/21\",\"2018/05/22\",\"2018/05/23\",\"2018/05/24\",\"2018/05/25\",\"2018/05/29\",\"2018/05/30\",\"2018/05/31\",\"2018/06/01\",\"2018/06/04\",\"2018/06/05\",\"2018/06/06\",\"2018/06/07\",\"2018/06/08\",\"2018/06/11\",\"2018/06/12\",\"2018/06/13\",\"2018/06/14\",\"2018/06/15\",\"2018/06/18\",\"2018/06/19\",\"2018/06/20\",\"2018/06/21\",\"2018/06/22\",\"2018/06/25\",\"2018/06/26\",\"2018/06/27\",\"2018/06/28\",\"2018/06/29\",\"2018/07/02\",\"2018/07/03\",\"2018/07/05\",\"2018/07/06\",\"2018/07/09\",\"2018/07/10\",\"2018/07/11\",\"2018/07/12\",\"2018/07/13\",\"2018/07/16\",\"2018/07/17\",\"2018/07/18\",\"2018/07/19\",\"2018/07/20\",\"2018/07/23\",\"2018/07/24\",\"2018/07/25\",\"2018/07/26\",\"2018/07/27\",\"2018/07/30\",\"2018/07/31\",\"2018/08/01\",\"2018/08/02\",\"2018/08/03\",\"2018/08/06\",\"2018/08/07\",\"2018/08/08\",\"2018/08/09\",\"2018/08/10\",\"2018/08/13\",\"2018/08/14\",\"2018/08/15\",\"2018/08/16\",\"2018/08/17\",\"2018/08/20\",\"2018/08/21\",\"2018/08/22\",\"2018/08/23\",\"2018/08/24\",\"2018/08/27\",\"2018/08/28\",\"2018/08/29\",\"2018/08/30\",\"2018/08/31\",\"2018/09/04\",\"2018/09/05\",\"2018/09/06\",\"2018/09/07\",\"2018/09/10\",\"2018/09/11\",\"2018/09/12\",\"2018/09/13\",\"2018/09/14\",\"2018/09/17\",\"2018/09/18\",\"2018/09/19\",\"2018/09/20\",\"2018/09/21\",\"2018/09/24\",\"2018/09/25\",\"2018/09/26\",\"2018/09/27\",\"2018/09/28\",\"2018/10/01\",\"2018/10/02\",\"2018/10/03\",\"2018/10/04\",\"2018/10/05\",\"2018/10/08\",\"2018/10/09\",\"2018/10/10\",\"2018/10/11\",\"2018/10/12\",\"2018/10/15\"],\"y\":[273.88,221.73,230.4805,231.15,228.6,214.81,215.75,215.35,215.88,217.1,213.45,213.7481,211.63,215.8,214.44,232.74,234.5843,233.359,232.99,223.7,219.48,219.0,212.99,214.98,216.0,221.38,226.19,225.0,219.18,221.0,230.825,232.25,234.28,238.0,238.6,237.45,233.27,235.63,228.8,227.5,228.49,225.75,220.92,222.22,234.88,237.76,235.9,235.83,236.55,233.45,231.88,231.98,237.72,243.634,243.45,231.38,226.89,220.05,218.44,220.44,214.45,213.7395,212.65,210.0,205.07,210.47,201.28,203.23,205.5,203.57,197.82,193.26,191.28,193.74,199.52,193.12,183.94,175.98,173.0,157.15,159.79,154.97,163.26,157.01,162.95,169.34,172.95,167.49,178.91,181.73,179.5,188.5192,192.0,196.35,195.9484,188.52,197.42,204.03,209.7,207.5,209.3726,213.29,209.42,216.72,218.97,222.58,228.5,234.48,239.88,238.99,234.73,228.8877,234.81,232.38,235.5,237.42,247.9,252.12,256.56,267.74,269.34,260.82,258.99,251.8,255.5,256.839,254.6,258.31,254.3699,253.66,250.9,254.0,257.38,255.73,255.0,253.43,248.43,243.19,238.91,234.46,228.64,216.37,216.15,209.47,215.48,211.67,211.2,213.15,209.8199,215.31,216.79,220.55,222.6,218.74,221.36,225.26,225.93,224.7497,222.4,219.909,221.94,220.9,234.44,240.845,235.33,227.97,225.77,222.2,221.9,218.04,219.99,223.75,222.569,205.95,197.55,195.12,198.81,204.05,211.78,213.4999,218.24,214.5441,215.23,218.12,219.81,226.78,227.5,225.59,224.94,222.7499,227.09,229.1,229.8,227.847,224.5,231.39,230.0,233.36,230.76,235.28,236.63,229.87,229.699,230.86,232.0,229.6,231.5375,229.87,227.57,226.65,229.5,227.19,224.83,225.66,225.169,225.11,228.49,227.15,223.8,222.855,220.4,216.11,212.6,211.0999,203.2,203.25,206.4968,199.89,199.92,201.369,198.49,197.9248,202.5193,205.7,209.43,207.75,207.0,207.28,210.18,211.0,209.9818,208.25,207.33,204.98,215.6688,213.32,213.15,204.2099,201.32,204.14,202.2,203.88,200.895,201.43,198.39,199.47,206.66,203.0,201.57,203.9452,204.69,203.19,213.7,205.32,202.49,198.5,192.6951,191.47,193.46,194.29,197.49,192.0,191.61,188.88,188.25,186.43,184.73,189.49,193.0,188.89,191.47,195.644,197.2372,199.35,196.73,191.89,188.53,184.88,188.89,186.58,193.4,192.5,193.836,194.42,201.28,203.0,200.74,202.59,204.45,209.0,212.23,209.99,213.45,222.25,223.8,219.2,217.5,220.33,228.0,227.48,230.31,231.92,232.0,229.98,230.7,237.85,239.96,239.71,248.68,246.0,250.8899,254.8,258.46,255.74,253.0,255.2899,255.89,253.2,252.42,252.179,257.82,260.0,263.36,271.18,270.95,280.7899,287.39,282.24,280.0,272.89,281.4,283.45,264.66,258.25,248.36,251.0,254.85,253.28,251.9,251.7,253.89,250.07,248.66,246.5,246.85,258.12,261.0,265.75,265.33,264.55,264.8,255.07,257.672,263.89,270.57,280.68,279.6,282.0,279.68,299.0,304.81,304.88,301.94,302.69,313.7299,313.47,308.4481,307.39,304.0,300.8399,306.62,309.15,306.4,310.55,313.98,314.5,313.09,314.8,327.25,327.6599,321.53,307.77,308.55,313.79,321.99,325.5,326.0,327.0,320.2,320.06,314.63,313.94,316.5,314.37,310.73,311.0,316.97,325.49,336.28,342.89,344.88,342.88,348.44,359.4929,360.5,371.9,376.87,364.5,376.0,384.25,375.46,378.01,376.7,378.88,376.99,385.0,386.99,386.95,376.4,371.74,371.0,366.7674,371.35,347.24,320.7899,317.0,317.94,327.28,333.1,331.6,328.42,327.1,329.13,331.65,330.22,331.2575,343.399,345.6,345.5,347.5,339.6,341.49,324.45,327.12,350.0,357.27,359.48,368.58,370.0,366.6504,361.26,367.66,365.49,366.5,363.3,354.0,345.82,342.24,353.49,356.66,355.69,347.35,349.05,353.47,358.44,357.59,355.49,350.979,352.48,349.78,363.71,368.76,368.07,377.96,380.0,389.61,382.39,378.249,376.83,369.8999,357.469,351.24,351.489,342.75,344.68,343.7,348.55,358.62,357.435,360.0992,351.75,355.63,357.6,359.78,358.49,354.48,356.22,363.0,357.1465,354.55,349.95,342.8,337.5,330.23,324.59,323.78,331.95,332.6089,308.69,306.25,307.5,306.5,306.89,304.46,308.36,316.8,316.35,312.49,318.14,326.67,315.5,318.23,317.42,316.41,317.34,320.0,318.0,310.7,310.32,308.265,308.0,313.39,318.6341,316.98,329.01,341.44,344.22,347.44,343.9,346.73,341.4925,333.1,333.74,330.9214,323.94,317.68,315.82,316.41,322.1099,325.25,318.55,317.24,337.0199,338.8,337.0,344.8099,340.41,345.0,349.0,352.3,350.5899,357.83,360.5,354.75,349.2,344.0,350.85,348.27,356.19,359.66,351.95,344.47,336.22,346.0,348.62,320.9845,318.08,324.19,326.17,334.12,343.12,340.84,339.6929,347.44,354.99,359.0,359.99,355.24,348.67,335.22,337.75,336.37,332.5,333.3,328.49,347.21,345.12,339.81,332.85,327.4,320.75,316.25,322.44,318.82,311.61,307.59,304.27,268.68,270.9599,260.3318,273.35,288.37,306.26,309.28,309.5,307.1,308.98,303.95,303.9499,299.66,292.17,300.24,301.01,299.98,291.62,287.09,285.16,285.79,294.47,298.73,300.82,306.85,288.04,296.86,305.9588,307.75,307.01,312.99,308.88,304.94,286.96,288.81,289.1873,284.65,291.49,288.0,279.9099,281.11,279.64,286.5,295.005,290.37,291.95,299.0,297.8,322.17,330.0,324.48,334.66,354.97,347.2,358.75,364.67,373.73,370.0,364.38,366.2139,352.25,338.47,343.55,350.79,357.02,353.86,364.78,332.49,314.39,312.07,318.52,327.6771,321.94,323.23,319.5849,315.16,324.74,325.5,323.54,323.24,305.5,307.7171,309.62,310.7,307.6933,296.1,298.32,303.0,349.99,355.0,354.98,387.46,382.64,367.01,360.0,363.19,359.1995,344.49,342.28,326.77,308.5,324.79,323.88,327.32,323.85,322.435,318.88,311.85,304.6,305.3082,298.19,286.78,291.17,268.35,286.03,282.0,292.5,295.0,297.3256,300.87,302.64,300.0,305.98,300.58,302.9993,304.6,313.89,314.96,278.0,311.44,316.84,304.6,294.0,274.88,267.7599,266.77,265.51,262.25,261.99,263.28],\"type\":\"scatter\"},{\"name\":\"low\",\"x\":[\"11:34\",\"2015/10/15\",\"2015/10/16\",\"2015/10/19\",\"2015/10/20\",\"2015/10/21\",\"2015/10/22\",\"2015/10/23\",\"2015/10/26\",\"2015/10/27\",\"2015/10/28\",\"2015/10/29\",\"2015/10/30\",\"2015/11/02\",\"2015/11/03\",\"2015/11/04\",\"2015/11/05\",\"2015/11/06\",\"2015/11/09\",\"2015/11/10\",\"2015/11/11\",\"2015/11/12\",\"2015/11/13\",\"2015/11/16\",\"2015/11/17\",\"2015/11/18\",\"2015/11/19\",\"2015/11/20\",\"2015/11/23\",\"2015/11/24\",\"2015/11/25\",\"2015/11/27\",\"2015/11/30\",\"2015/12/01\",\"2015/12/02\",\"2015/12/03\",\"2015/12/04\",\"2015/12/07\",\"2015/12/08\",\"2015/12/09\",\"2015/12/10\",\"2015/12/11\",\"2015/12/14\",\"2015/12/15\",\"2015/12/16\",\"2015/12/17\",\"2015/12/18\",\"2015/12/21\",\"2015/12/22\",\"2015/12/23\",\"2015/12/24\",\"2015/12/28\",\"2015/12/29\",\"2015/12/30\",\"2015/12/31\",\"2016/01/04\",\"2016/01/05\",\"2016/01/06\",\"2016/01/07\",\"2016/01/08\",\"2016/01/11\",\"2016/01/12\",\"2016/01/13\",\"2016/01/14\",\"2016/01/15\",\"2016/01/19\",\"2016/01/20\",\"2016/01/21\",\"2016/01/22\",\"2016/01/25\",\"2016/01/26\",\"2016/01/27\",\"2016/01/28\",\"2016/01/29\",\"2016/02/01\",\"2016/02/02\",\"2016/02/03\",\"2016/02/04\",\"2016/02/05\",\"2016/02/08\",\"2016/02/09\",\"2016/02/10\",\"2016/02/11\",\"2016/02/12\",\"2016/02/16\",\"2016/02/17\",\"2016/02/18\",\"2016/02/19\",\"2016/02/22\",\"2016/02/23\",\"2016/02/24\",\"2016/02/25\",\"2016/02/26\",\"2016/02/29\",\"2016/03/01\",\"2016/03/02\",\"2016/03/03\",\"2016/03/04\",\"2016/03/07\",\"2016/03/08\",\"2016/03/09\",\"2016/03/10\",\"2016/03/11\",\"2016/03/14\",\"2016/03/15\",\"2016/03/16\",\"2016/03/17\",\"2016/03/18\",\"2016/03/21\",\"2016/03/22\",\"2016/03/23\",\"2016/03/24\",\"2016/03/28\",\"2016/03/29\",\"2016/03/30\",\"2016/03/31\",\"2016/04/01\",\"2016/04/04\",\"2016/04/05\",\"2016/04/06\",\"2016/04/07\",\"2016/04/08\",\"2016/04/11\",\"2016/04/12\",\"2016/04/13\",\"2016/04/14\",\"2016/04/15\",\"2016/04/18\",\"2016/04/19\",\"2016/04/20\",\"2016/04/21\",\"2016/04/22\",\"2016/04/25\",\"2016/04/26\",\"2016/04/27\",\"2016/04/28\",\"2016/04/29\",\"2016/05/02\",\"2016/05/03\",\"2016/05/04\",\"2016/05/05\",\"2016/05/06\",\"2016/05/09\",\"2016/05/10\",\"2016/05/11\",\"2016/05/12\",\"2016/05/13\",\"2016/05/16\",\"2016/05/17\",\"2016/05/18\",\"2016/05/19\",\"2016/05/20\",\"2016/05/23\",\"2016/05/24\",\"2016/05/25\",\"2016/05/26\",\"2016/05/27\",\"2016/05/31\",\"2016/06/01\",\"2016/06/02\",\"2016/06/03\",\"2016/06/06\",\"2016/06/07\",\"2016/06/08\",\"2016/06/09\",\"2016/06/10\",\"2016/06/13\",\"2016/06/14\",\"2016/06/15\",\"2016/06/16\",\"2016/06/17\",\"2016/06/20\",\"2016/06/21\",\"2016/06/22\",\"2016/06/23\",\"2016/06/24\",\"2016/06/27\",\"2016/06/28\",\"2016/06/29\",\"2016/06/30\",\"2016/07/01\",\"2016/07/05\",\"2016/07/06\",\"2016/07/07\",\"2016/07/08\",\"2016/07/11\",\"2016/07/12\",\"2016/07/13\",\"2016/07/14\",\"2016/07/15\",\"2016/07/18\",\"2016/07/19\",\"2016/07/20\",\"2016/07/21\",\"2016/07/22\",\"2016/07/25\",\"2016/07/26\",\"2016/07/27\",\"2016/07/28\",\"2016/07/29\",\"2016/08/01\",\"2016/08/02\",\"2016/08/03\",\"2016/08/04\",\"2016/08/05\",\"2016/08/08\",\"2016/08/09\",\"2016/08/10\",\"2016/08/11\",\"2016/08/12\",\"2016/08/15\",\"2016/08/16\",\"2016/08/17\",\"2016/08/18\",\"2016/08/19\",\"2016/08/22\",\"2016/08/23\",\"2016/08/24\",\"2016/08/25\",\"2016/08/26\",\"2016/08/29\",\"2016/08/30\",\"2016/08/31\",\"2016/09/01\",\"2016/09/02\",\"2016/09/06\",\"2016/09/07\",\"2016/09/08\",\"2016/09/09\",\"2016/09/12\",\"2016/09/13\",\"2016/09/14\",\"2016/09/15\",\"2016/09/16\",\"2016/09/19\",\"2016/09/20\",\"2016/09/21\",\"2016/09/22\",\"2016/09/23\",\"2016/09/26\",\"2016/09/27\",\"2016/09/28\",\"2016/09/29\",\"2016/09/30\",\"2016/10/03\",\"2016/10/04\",\"2016/10/05\",\"2016/10/06\",\"2016/10/07\",\"2016/10/10\",\"2016/10/11\",\"2016/10/12\",\"2016/10/13\",\"2016/10/14\",\"2016/10/17\",\"2016/10/18\",\"2016/10/19\",\"2016/10/20\",\"2016/10/21\",\"2016/10/24\",\"2016/10/25\",\"2016/10/26\",\"2016/10/27\",\"2016/10/28\",\"2016/10/31\",\"2016/11/01\",\"2016/11/02\",\"2016/11/03\",\"2016/11/04\",\"2016/11/07\",\"2016/11/08\",\"2016/11/09\",\"2016/11/10\",\"2016/11/11\",\"2016/11/14\",\"2016/11/15\",\"2016/11/16\",\"2016/11/17\",\"2016/11/18\",\"2016/11/21\",\"2016/11/22\",\"2016/11/23\",\"2016/11/25\",\"2016/11/28\",\"2016/11/29\",\"2016/11/30\",\"2016/12/01\",\"2016/12/02\",\"2016/12/05\",\"2016/12/06\",\"2016/12/07\",\"2016/12/08\",\"2016/12/09\",\"2016/12/12\",\"2016/12/13\",\"2016/12/14\",\"2016/12/15\",\"2016/12/16\",\"2016/12/19\",\"2016/12/20\",\"2016/12/21\",\"2016/12/22\",\"2016/12/23\",\"2016/12/27\",\"2016/12/28\",\"2016/12/29\",\"2016/12/30\",\"2017/01/03\",\"2017/01/04\",\"2017/01/05\",\"2017/01/06\",\"2017/01/09\",\"2017/01/10\",\"2017/01/11\",\"2017/01/12\",\"2017/01/13\",\"2017/01/17\",\"2017/01/18\",\"2017/01/19\",\"2017/01/20\",\"2017/01/23\",\"2017/01/24\",\"2017/01/25\",\"2017/01/26\",\"2017/01/27\",\"2017/01/30\",\"2017/01/31\",\"2017/02/01\",\"2017/02/02\",\"2017/02/03\",\"2017/02/06\",\"2017/02/07\",\"2017/02/08\",\"2017/02/09\",\"2017/02/10\",\"2017/02/13\",\"2017/02/14\",\"2017/02/15\",\"2017/02/16\",\"2017/02/17\",\"2017/02/21\",\"2017/02/22\",\"2017/02/23\",\"2017/02/24\",\"2017/02/27\",\"2017/02/28\",\"2017/03/01\",\"2017/03/02\",\"2017/03/03\",\"2017/03/06\",\"2017/03/07\",\"2017/03/08\",\"2017/03/09\",\"2017/03/10\",\"2017/03/13\",\"2017/03/14\",\"2017/03/15\",\"2017/03/16\",\"2017/03/17\",\"2017/03/20\",\"2017/03/21\",\"2017/03/22\",\"2017/03/23\",\"2017/03/24\",\"2017/03/27\",\"2017/03/28\",\"2017/03/29\",\"2017/03/30\",\"2017/03/31\",\"2017/04/03\",\"2017/04/04\",\"2017/04/05\",\"2017/04/06\",\"2017/04/07\",\"2017/04/10\",\"2017/04/11\",\"2017/04/12\",\"2017/04/13\",\"2017/04/17\",\"2017/04/18\",\"2017/04/19\",\"2017/04/20\",\"2017/04/21\",\"2017/04/24\",\"2017/04/25\",\"2017/04/26\",\"2017/04/27\",\"2017/04/28\",\"2017/05/01\",\"2017/05/02\",\"2017/05/03\",\"2017/05/04\",\"2017/05/05\",\"2017/05/08\",\"2017/05/09\",\"2017/05/10\",\"2017/05/11\",\"2017/05/12\",\"2017/05/15\",\"2017/05/16\",\"2017/05/17\",\"2017/05/18\",\"2017/05/19\",\"2017/05/22\",\"2017/05/23\",\"2017/05/24\",\"2017/05/25\",\"2017/05/26\",\"2017/05/30\",\"2017/05/31\",\"2017/06/01\",\"2017/06/02\",\"2017/06/05\",\"2017/06/06\",\"2017/06/07\",\"2017/06/08\",\"2017/06/09\",\"2017/06/12\",\"2017/06/13\",\"2017/06/14\",\"2017/06/15\",\"2017/06/16\",\"2017/06/19\",\"2017/06/20\",\"2017/06/21\",\"2017/06/22\",\"2017/06/23\",\"2017/06/26\",\"2017/06/27\",\"2017/06/28\",\"2017/06/29\",\"2017/06/30\",\"2017/07/03\",\"2017/07/05\",\"2017/07/06\",\"2017/07/07\",\"2017/07/10\",\"2017/07/11\",\"2017/07/12\",\"2017/07/13\",\"2017/07/14\",\"2017/07/17\",\"2017/07/18\",\"2017/07/19\",\"2017/07/20\",\"2017/07/21\",\"2017/07/24\",\"2017/07/25\",\"2017/07/26\",\"2017/07/27\",\"2017/07/28\",\"2017/07/31\",\"2017/08/01\",\"2017/08/02\",\"2017/08/03\",\"2017/08/04\",\"2017/08/07\",\"2017/08/08\",\"2017/08/09\",\"2017/08/10\",\"2017/08/11\",\"2017/08/14\",\"2017/08/15\",\"2017/08/16\",\"2017/08/17\",\"2017/08/18\",\"2017/08/21\",\"2017/08/22\",\"2017/08/23\",\"2017/08/24\",\"2017/08/25\",\"2017/08/28\",\"2017/08/29\",\"2017/08/30\",\"2017/08/31\",\"2017/09/01\",\"2017/09/05\",\"2017/09/06\",\"2017/09/07\",\"2017/09/08\",\"2017/09/11\",\"2017/09/12\",\"2017/09/13\",\"2017/09/14\",\"2017/09/15\",\"2017/09/18\",\"2017/09/19\",\"2017/09/20\",\"2017/09/21\",\"2017/09/22\",\"2017/09/25\",\"2017/09/26\",\"2017/09/27\",\"2017/09/28\",\"2017/09/29\",\"2017/10/02\",\"2017/10/03\",\"2017/10/04\",\"2017/10/05\",\"2017/10/06\",\"2017/10/09\",\"2017/10/10\",\"2017/10/11\",\"2017/10/12\",\"2017/10/13\",\"2017/10/16\",\"2017/10/17\",\"2017/10/18\",\"2017/10/19\",\"2017/10/20\",\"2017/10/23\",\"2017/10/24\",\"2017/10/25\",\"2017/10/26\",\"2017/10/27\",\"2017/10/30\",\"2017/10/31\",\"2017/11/01\",\"2017/11/02\",\"2017/11/03\",\"2017/11/06\",\"2017/11/07\",\"2017/11/08\",\"2017/11/09\",\"2017/11/10\",\"2017/11/13\",\"2017/11/14\",\"2017/11/15\",\"2017/11/16\",\"2017/11/17\",\"2017/11/20\",\"2017/11/21\",\"2017/11/22\",\"2017/11/24\",\"2017/11/27\",\"2017/11/28\",\"2017/11/29\",\"2017/11/30\",\"2017/12/01\",\"2017/12/04\",\"2017/12/05\",\"2017/12/06\",\"2017/12/07\",\"2017/12/08\",\"2017/12/11\",\"2017/12/12\",\"2017/12/13\",\"2017/12/14\",\"2017/12/15\",\"2017/12/18\",\"2017/12/19\",\"2017/12/20\",\"2017/12/21\",\"2017/12/22\",\"2017/12/26\",\"2017/12/27\",\"2017/12/28\",\"2017/12/29\",\"2018/01/02\",\"2018/01/03\",\"2018/01/04\",\"2018/01/05\",\"2018/01/08\",\"2018/01/09\",\"2018/01/10\",\"2018/01/11\",\"2018/01/12\",\"2018/01/16\",\"2018/01/17\",\"2018/01/18\",\"2018/01/19\",\"2018/01/22\",\"2018/01/23\",\"2018/01/24\",\"2018/01/25\",\"2018/01/26\",\"2018/01/29\",\"2018/01/30\",\"2018/01/31\",\"2018/02/01\",\"2018/02/02\",\"2018/02/05\",\"2018/02/06\",\"2018/02/07\",\"2018/02/08\",\"2018/02/09\",\"2018/02/12\",\"2018/02/13\",\"2018/02/14\",\"2018/02/15\",\"2018/02/16\",\"2018/02/20\",\"2018/02/21\",\"2018/02/22\",\"2018/02/23\",\"2018/02/26\",\"2018/02/27\",\"2018/02/28\",\"2018/03/01\",\"2018/03/02\",\"2018/03/05\",\"2018/03/06\",\"2018/03/07\",\"2018/03/08\",\"2018/03/09\",\"2018/03/12\",\"2018/03/13\",\"2018/03/14\",\"2018/03/15\",\"2018/03/16\",\"2018/03/19\",\"2018/03/20\",\"2018/03/21\",\"2018/03/22\",\"2018/03/23\",\"2018/03/26\",\"2018/03/27\",\"2018/03/28\",\"2018/03/29\",\"2018/04/02\",\"2018/04/03\",\"2018/04/04\",\"2018/04/05\",\"2018/04/06\",\"2018/04/09\",\"2018/04/10\",\"2018/04/11\",\"2018/04/12\",\"2018/04/13\",\"2018/04/16\",\"2018/04/17\",\"2018/04/18\",\"2018/04/19\",\"2018/04/20\",\"2018/04/23\",\"2018/04/24\",\"2018/04/25\",\"2018/04/26\",\"2018/04/27\",\"2018/04/30\",\"2018/05/01\",\"2018/05/02\",\"2018/05/03\",\"2018/05/04\",\"2018/05/07\",\"2018/05/08\",\"2018/05/09\",\"2018/05/10\",\"2018/05/11\",\"2018/05/14\",\"2018/05/15\",\"2018/05/16\",\"2018/05/17\",\"2018/05/18\",\"2018/05/21\",\"2018/05/22\",\"2018/05/23\",\"2018/05/24\",\"2018/05/25\",\"2018/05/29\",\"2018/05/30\",\"2018/05/31\",\"2018/06/01\",\"2018/06/04\",\"2018/06/05\",\"2018/06/06\",\"2018/06/07\",\"2018/06/08\",\"2018/06/11\",\"2018/06/12\",\"2018/06/13\",\"2018/06/14\",\"2018/06/15\",\"2018/06/18\",\"2018/06/19\",\"2018/06/20\",\"2018/06/21\",\"2018/06/22\",\"2018/06/25\",\"2018/06/26\",\"2018/06/27\",\"2018/06/28\",\"2018/06/29\",\"2018/07/02\",\"2018/07/03\",\"2018/07/05\",\"2018/07/06\",\"2018/07/09\",\"2018/07/10\",\"2018/07/11\",\"2018/07/12\",\"2018/07/13\",\"2018/07/16\",\"2018/07/17\",\"2018/07/18\",\"2018/07/19\",\"2018/07/20\",\"2018/07/23\",\"2018/07/24\",\"2018/07/25\",\"2018/07/26\",\"2018/07/27\",\"2018/07/30\",\"2018/07/31\",\"2018/08/01\",\"2018/08/02\",\"2018/08/03\",\"2018/08/06\",\"2018/08/07\",\"2018/08/08\",\"2018/08/09\",\"2018/08/10\",\"2018/08/13\",\"2018/08/14\",\"2018/08/15\",\"2018/08/16\",\"2018/08/17\",\"2018/08/20\",\"2018/08/21\",\"2018/08/22\",\"2018/08/23\",\"2018/08/24\",\"2018/08/27\",\"2018/08/28\",\"2018/08/29\",\"2018/08/30\",\"2018/08/31\",\"2018/09/04\",\"2018/09/05\",\"2018/09/06\",\"2018/09/07\",\"2018/09/10\",\"2018/09/11\",\"2018/09/12\",\"2018/09/13\",\"2018/09/14\",\"2018/09/17\",\"2018/09/18\",\"2018/09/19\",\"2018/09/20\",\"2018/09/21\",\"2018/09/24\",\"2018/09/25\",\"2018/09/26\",\"2018/09/27\",\"2018/09/28\",\"2018/10/01\",\"2018/10/02\",\"2018/10/03\",\"2018/10/04\",\"2018/10/05\",\"2018/10/08\",\"2018/10/09\",\"2018/10/10\",\"2018/10/11\",\"2018/10/12\",\"2018/10/15\"],\"y\":[262.24,213.7,222.87,224.94,202.0,208.8,209.4,207.69,210.0,207.51,208.3,210.64,203.89,207.22,207.75,225.2,229.19,229.5,224.31,216.08,213.63,212.66,206.52,205.8,211.4,212.52,220.3,213.58,214.6798,215.0,220.375,227.01,229.08,231.05,231.23,230.0,227.66,226.15,224.2,220.72,223.64,216.64,214.87,218.0,220.73,229.8149,229.29,231.08,229.63,228.13,228.28,225.54,229.547,235.6707,238.37,219.0,220.0,215.98,213.67,210.77,203.0,205.31,200.0,193.38,197.25,200.78,191.25,195.02,199.03,195.88,188.88,185.77,182.41,188.08,182.75,180.23,170.18,166.99,157.7442,146.0,141.05,141.74,147.0,143.7,154.11,156.68,164.77,162.5,169.85,173.68,167.84,175.2,185.0,189.222,182.7,181.5,184.22,197.5001,197.4,202.2,202.79,200.671,205.33,210.64,211.5,217.02,220.0,228.06,235.0,232.558,222.03,215.0,225.0,225.33,226.5,225.01,233.25,243.64,240.0,253.45,254.51,248.0201,245.3,243.63,247.33,251.0501,249.12,251.66,241.251,241.5,246.91,245.71,250.76,249.39,249.4,247.44,237.81,234.82,231.62,220.4,209.79,208.11,206.8,205.0,206.05,203.6572,206.7,207.92,204.02,207.75,207.3,216.35,215.86,215.18,216.51,219.05,220.75,221.5001,216.89,217.11,218.01,215.45,221.52,232.605,227.06,218.4217,217.66,212.53,215.13,213.5,214.5,218.23,218.81,195.75,192.13,189.73,187.87,199.41,203.0,209.02,206.0,208.0,209.0,213.01,214.5,219.51,223.22,220.29,221.05,219.64,218.3,224.75,225.0,219.1,218.88,221.3715,225.3,226.92,226.6,230.24,229.38,221.4,224.21,222.05,227.4,226.09,226.65,224.62,223.41,224.04,224.93,223.4101,222.8,222.29,222.53,222.68,222.8,222.22,220.77,218.82,215.0,210.52,208.65,200.5,196.2,199.0,200.71,196.36,193.7,194.1,193.45,194.8562,196.4,199.0,205.0,203.91,201.56,203.0,205.67,206.5,204.6093,205.26,200.58,199.55,208.25,208.82,208.12,200.21,195.8,199.66,198.31,200.42,197.05,196.3,192.0,193.26,198.06,197.05,197.41,200.25,201.2,200.1,201.65,199.83,195.81,188.105,187.505,187.0401,185.96,190.05,191.26,183.95,180.42,183.0,178.19,182.05,181.21,182.1101,185.0,184.41,183.71,189.0,193.64,194.55,189.5,187.5,181.0,180.0,182.51,182.6825,185.0,189.54,190.81,191.04,193.0,196.76,197.39,197.6,199.84,202.5,207.41,206.5,207.71,214.42,217.2,214.1225,211.68,210.96,214.31,221.95,225.45,228.0,226.89,226.68,225.58,229.59,234.37,235.58,240.75,243.01,245.5,249.65,251.8,250.75,248.52,247.1,247.7,249.05,247.71,249.68,250.63,256.42,256.2,266.15,266.11,270.51,278.61,276.44,268.5,264.15,274.01,272.6,255.56,250.2,242.01,243.9,249.11,248.27,249.0,247.51,248.32,245.32,243.0,243.0,242.781,246.02,254.27,259.06,261.2,258.821,250.24,250.51,253.3,255.01,259.75,275.0,275.54,277.21,276.3197,284.58,294.53,294.2,294.1,297.15,308.71,305.5,296.32,295.3,298.68,297.9,302.11,300.23,300.42,306.0215,305.86,309.0,307.5,308.0,314.81,316.5601,310.45,290.7601,296.8,305.82,309.1,318.12,319.6,321.53,312.53,315.14,305.5,305.31,310.2,306.8,303.48,305.4,307.81,316.31,325.76,335.16,337.29,335.93,334.21,339.97,355.14,360.22,354.8,350.62,366.61,376.31,366.49,370.1,367.8,369.73,368.02,373.57,379.345,373.1,362.02,362.52,354.1,359.6187,351.5,326.33,306.3,307.38,303.13,314.3,324.5,319.97,321.22,313.45,315.66,323.2193,324.2,325.8,330.01,334.15,338.12,326.29,332.51,321.04,316.13,311.22,343.15,343.3,352.75,357.4,358.95,354.66,353.62,362.6,359.37,362.52,351.59,345.8,331.85,337.3725,338.3041,349.74,347.3,339.72,338.75,347.0,352.82,353.6902,345.89,341.56,343.45,342.3,350.0,360.4,359.59,362.63,372.7,377.68,373.57,371.07,364.51,350.88,342.88,340.9,340.5,335.4,338.601,335.51,331.28,349.6,351.35,352.25,342.67,345.5305,351.15,352.64,353.68,347.16,350.07,354.13,348.2,344.34,336.25,336.16,323.56,323.2,316.66,317.25,320.18,320.26,292.63,295.13,299.01,300.03,301.3001,296.3,301.85,299.11,306.9,301.5,311.3,313.15,304.75,308.71,311.84,311.0,309.51,313.92,301.23,304.54,305.05,300.61,301.0,300.0,311.05,311.26,313.75,330.03,336.5,336.9,335.76,337.58,330.3,325.04,327.21,324.82,316.58,310.75,309.54,310.0,311.0,315.55,305.68,312.0,315.5,327.405,330.0,333.26,333.67,334.8,339.75,343.74,342.6,349.2,351.0,343.52,336.4,335.71,338.28,342.17,345.19,348.63,340.51,333.0,323.5,335.66,314.6,294.76,306.25,312.5105,318.52,322.4,331.64,331.5,333.17,334.7501,347.1,352.355,350.01,342.22,330.07,322.97,329.2929,327.03,321.74,326.274,322.37,326.5,336.2635,323.93,321.1,319.07,309.67,308.76,310.19,308.18,300.45,291.36,277.18,252.1,248.21,244.5901,254.49,252.0,288.2,295.5,289.21,293.68,299.66,293.68,295.98,289.01,282.51,288.16,288.55,289.75,282.33,278.46,277.25,276.5,283.83,292.5,293.22,297.7844,275.23,279.52,295.17,299.0,300.05,304.1119,299.08,291.62,280.5,281.56,283.97,274.0,281.3,273.422,274.0,274.89,275.61,276.15,281.6,282.93,283.839,293.548,286.74,297.48,313.58,317.15,322.5,338.0,339.8,346.6,351.25,354.5,346.25,352.0,346.27,332.0,327.5,325.799,339.5,346.11,342.41,329.85,309.69,296.22,302.0,308.0,319.2,315.07,312.77,309.25,306.25,308.5,316.25,314.01,311.7093,292.8601,292.5452,294.5025,303.6411,295.3404,286.13,289.07,293.0,323.16,342.53,341.82,339.1501,367.12,345.73,346.0,349.02,347.1,332.14,333.82,303.53,288.2,309.0,314.67,318.1,319.4,308.81,311.19,303.69,297.72,298.6,288.0,277.18,278.88,252.2548,271.0,273.55,278.6463,285.18,286.52,288.13,275.5,280.5,293.33,295.37,293.58,296.5,301.1093,306.91,260.555,301.05,299.15,291.57,277.67,260.0,249.0,253.3,247.77,249.03,252.01,254.5367],\"type\":\"scatter\"}],                        {\"template\":{\"data\":{\"bar\":[{\"error_x\":{\"color\":\"#f2f5fa\"},\"error_y\":{\"color\":\"#f2f5fa\"},\"marker\":{\"line\":{\"color\":\"rgb(17,17,17)\",\"width\":0.5},\"pattern\":{\"fillmode\":\"overlay\",\"size\":10,\"solidity\":0.2}},\"type\":\"bar\"}],\"barpolar\":[{\"marker\":{\"line\":{\"color\":\"rgb(17,17,17)\",\"width\":0.5},\"pattern\":{\"fillmode\":\"overlay\",\"size\":10,\"solidity\":0.2}},\"type\":\"barpolar\"}],\"carpet\":[{\"aaxis\":{\"endlinecolor\":\"#A2B1C6\",\"gridcolor\":\"#506784\",\"linecolor\":\"#506784\",\"minorgridcolor\":\"#506784\",\"startlinecolor\":\"#A2B1C6\"},\"baxis\":{\"endlinecolor\":\"#A2B1C6\",\"gridcolor\":\"#506784\",\"linecolor\":\"#506784\",\"minorgridcolor\":\"#506784\",\"startlinecolor\":\"#A2B1C6\"},\"type\":\"carpet\"}],\"choropleth\":[{\"colorbar\":{\"outlinewidth\":0,\"ticks\":\"\"},\"type\":\"choropleth\"}],\"contour\":[{\"colorbar\":{\"outlinewidth\":0,\"ticks\":\"\"},\"colorscale\":[[0.0,\"#0d0887\"],[0.1111111111111111,\"#46039f\"],[0.2222222222222222,\"#7201a8\"],[0.3333333333333333,\"#9c179e\"],[0.4444444444444444,\"#bd3786\"],[0.5555555555555556,\"#d8576b\"],[0.6666666666666666,\"#ed7953\"],[0.7777777777777778,\"#fb9f3a\"],[0.8888888888888888,\"#fdca26\"],[1.0,\"#f0f921\"]],\"type\":\"contour\"}],\"contourcarpet\":[{\"colorbar\":{\"outlinewidth\":0,\"ticks\":\"\"},\"type\":\"contourcarpet\"}],\"heatmap\":[{\"colorbar\":{\"outlinewidth\":0,\"ticks\":\"\"},\"colorscale\":[[0.0,\"#0d0887\"],[0.1111111111111111,\"#46039f\"],[0.2222222222222222,\"#7201a8\"],[0.3333333333333333,\"#9c179e\"],[0.4444444444444444,\"#bd3786\"],[0.5555555555555556,\"#d8576b\"],[0.6666666666666666,\"#ed7953\"],[0.7777777777777778,\"#fb9f3a\"],[0.8888888888888888,\"#fdca26\"],[1.0,\"#f0f921\"]],\"type\":\"heatmap\"}],\"heatmapgl\":[{\"colorbar\":{\"outlinewidth\":0,\"ticks\":\"\"},\"colorscale\":[[0.0,\"#0d0887\"],[0.1111111111111111,\"#46039f\"],[0.2222222222222222,\"#7201a8\"],[0.3333333333333333,\"#9c179e\"],[0.4444444444444444,\"#bd3786\"],[0.5555555555555556,\"#d8576b\"],[0.6666666666666666,\"#ed7953\"],[0.7777777777777778,\"#fb9f3a\"],[0.8888888888888888,\"#fdca26\"],[1.0,\"#f0f921\"]],\"type\":\"heatmapgl\"}],\"histogram\":[{\"marker\":{\"pattern\":{\"fillmode\":\"overlay\",\"size\":10,\"solidity\":0.2}},\"type\":\"histogram\"}],\"histogram2d\":[{\"colorbar\":{\"outlinewidth\":0,\"ticks\":\"\"},\"colorscale\":[[0.0,\"#0d0887\"],[0.1111111111111111,\"#46039f\"],[0.2222222222222222,\"#7201a8\"],[0.3333333333333333,\"#9c179e\"],[0.4444444444444444,\"#bd3786\"],[0.5555555555555556,\"#d8576b\"],[0.6666666666666666,\"#ed7953\"],[0.7777777777777778,\"#fb9f3a\"],[0.8888888888888888,\"#fdca26\"],[1.0,\"#f0f921\"]],\"type\":\"histogram2d\"}],\"histogram2dcontour\":[{\"colorbar\":{\"outlinewidth\":0,\"ticks\":\"\"},\"colorscale\":[[0.0,\"#0d0887\"],[0.1111111111111111,\"#46039f\"],[0.2222222222222222,\"#7201a8\"],[0.3333333333333333,\"#9c179e\"],[0.4444444444444444,\"#bd3786\"],[0.5555555555555556,\"#d8576b\"],[0.6666666666666666,\"#ed7953\"],[0.7777777777777778,\"#fb9f3a\"],[0.8888888888888888,\"#fdca26\"],[1.0,\"#f0f921\"]],\"type\":\"histogram2dcontour\"}],\"mesh3d\":[{\"colorbar\":{\"outlinewidth\":0,\"ticks\":\"\"},\"type\":\"mesh3d\"}],\"parcoords\":[{\"line\":{\"colorbar\":{\"outlinewidth\":0,\"ticks\":\"\"}},\"type\":\"parcoords\"}],\"pie\":[{\"automargin\":true,\"type\":\"pie\"}],\"scatter\":[{\"marker\":{\"line\":{\"color\":\"#283442\"}},\"type\":\"scatter\"}],\"scatter3d\":[{\"line\":{\"colorbar\":{\"outlinewidth\":0,\"ticks\":\"\"}},\"marker\":{\"colorbar\":{\"outlinewidth\":0,\"ticks\":\"\"}},\"type\":\"scatter3d\"}],\"scattercarpet\":[{\"marker\":{\"colorbar\":{\"outlinewidth\":0,\"ticks\":\"\"}},\"type\":\"scattercarpet\"}],\"scattergeo\":[{\"marker\":{\"colorbar\":{\"outlinewidth\":0,\"ticks\":\"\"}},\"type\":\"scattergeo\"}],\"scattergl\":[{\"marker\":{\"line\":{\"color\":\"#283442\"}},\"type\":\"scattergl\"}],\"scattermapbox\":[{\"marker\":{\"colorbar\":{\"outlinewidth\":0,\"ticks\":\"\"}},\"type\":\"scattermapbox\"}],\"scatterpolar\":[{\"marker\":{\"colorbar\":{\"outlinewidth\":0,\"ticks\":\"\"}},\"type\":\"scatterpolar\"}],\"scatterpolargl\":[{\"marker\":{\"colorbar\":{\"outlinewidth\":0,\"ticks\":\"\"}},\"type\":\"scatterpolargl\"}],\"scatterternary\":[{\"marker\":{\"colorbar\":{\"outlinewidth\":0,\"ticks\":\"\"}},\"type\":\"scatterternary\"}],\"surface\":[{\"colorbar\":{\"outlinewidth\":0,\"ticks\":\"\"},\"colorscale\":[[0.0,\"#0d0887\"],[0.1111111111111111,\"#46039f\"],[0.2222222222222222,\"#7201a8\"],[0.3333333333333333,\"#9c179e\"],[0.4444444444444444,\"#bd3786\"],[0.5555555555555556,\"#d8576b\"],[0.6666666666666666,\"#ed7953\"],[0.7777777777777778,\"#fb9f3a\"],[0.8888888888888888,\"#fdca26\"],[1.0,\"#f0f921\"]],\"type\":\"surface\"}],\"table\":[{\"cells\":{\"fill\":{\"color\":\"#506784\"},\"line\":{\"color\":\"rgb(17,17,17)\"}},\"header\":{\"fill\":{\"color\":\"#2a3f5f\"},\"line\":{\"color\":\"rgb(17,17,17)\"}},\"type\":\"table\"}]},\"layout\":{\"annotationdefaults\":{\"arrowcolor\":\"#f2f5fa\",\"arrowhead\":0,\"arrowwidth\":1},\"autotypenumbers\":\"strict\",\"coloraxis\":{\"colorbar\":{\"outlinewidth\":0,\"ticks\":\"\"}},\"colorscale\":{\"diverging\":[[0,\"#8e0152\"],[0.1,\"#c51b7d\"],[0.2,\"#de77ae\"],[0.3,\"#f1b6da\"],[0.4,\"#fde0ef\"],[0.5,\"#f7f7f7\"],[0.6,\"#e6f5d0\"],[0.7,\"#b8e186\"],[0.8,\"#7fbc41\"],[0.9,\"#4d9221\"],[1,\"#276419\"]],\"sequential\":[[0.0,\"#0d0887\"],[0.1111111111111111,\"#46039f\"],[0.2222222222222222,\"#7201a8\"],[0.3333333333333333,\"#9c179e\"],[0.4444444444444444,\"#bd3786\"],[0.5555555555555556,\"#d8576b\"],[0.6666666666666666,\"#ed7953\"],[0.7777777777777778,\"#fb9f3a\"],[0.8888888888888888,\"#fdca26\"],[1.0,\"#f0f921\"]],\"sequentialminus\":[[0.0,\"#0d0887\"],[0.1111111111111111,\"#46039f\"],[0.2222222222222222,\"#7201a8\"],[0.3333333333333333,\"#9c179e\"],[0.4444444444444444,\"#bd3786\"],[0.5555555555555556,\"#d8576b\"],[0.6666666666666666,\"#ed7953\"],[0.7777777777777778,\"#fb9f3a\"],[0.8888888888888888,\"#fdca26\"],[1.0,\"#f0f921\"]]},\"colorway\":[\"#636efa\",\"#EF553B\",\"#00cc96\",\"#ab63fa\",\"#FFA15A\",\"#19d3f3\",\"#FF6692\",\"#B6E880\",\"#FF97FF\",\"#FECB52\"],\"font\":{\"color\":\"#f2f5fa\"},\"geo\":{\"bgcolor\":\"rgb(17,17,17)\",\"lakecolor\":\"rgb(17,17,17)\",\"landcolor\":\"rgb(17,17,17)\",\"showlakes\":true,\"showland\":true,\"subunitcolor\":\"#506784\"},\"hoverlabel\":{\"align\":\"left\"},\"hovermode\":\"closest\",\"mapbox\":{\"style\":\"dark\"},\"paper_bgcolor\":\"rgb(17,17,17)\",\"plot_bgcolor\":\"rgb(17,17,17)\",\"polar\":{\"angularaxis\":{\"gridcolor\":\"#506784\",\"linecolor\":\"#506784\",\"ticks\":\"\"},\"bgcolor\":\"rgb(17,17,17)\",\"radialaxis\":{\"gridcolor\":\"#506784\",\"linecolor\":\"#506784\",\"ticks\":\"\"}},\"scene\":{\"xaxis\":{\"backgroundcolor\":\"rgb(17,17,17)\",\"gridcolor\":\"#506784\",\"gridwidth\":2,\"linecolor\":\"#506784\",\"showbackground\":true,\"ticks\":\"\",\"zerolinecolor\":\"#C8D4E3\"},\"yaxis\":{\"backgroundcolor\":\"rgb(17,17,17)\",\"gridcolor\":\"#506784\",\"gridwidth\":2,\"linecolor\":\"#506784\",\"showbackground\":true,\"ticks\":\"\",\"zerolinecolor\":\"#C8D4E3\"},\"zaxis\":{\"backgroundcolor\":\"rgb(17,17,17)\",\"gridcolor\":\"#506784\",\"gridwidth\":2,\"linecolor\":\"#506784\",\"showbackground\":true,\"ticks\":\"\",\"zerolinecolor\":\"#C8D4E3\"}},\"shapedefaults\":{\"line\":{\"color\":\"#f2f5fa\"}},\"sliderdefaults\":{\"bgcolor\":\"#C8D4E3\",\"bordercolor\":\"rgb(17,17,17)\",\"borderwidth\":1,\"tickwidth\":0},\"ternary\":{\"aaxis\":{\"gridcolor\":\"#506784\",\"linecolor\":\"#506784\",\"ticks\":\"\"},\"baxis\":{\"gridcolor\":\"#506784\",\"linecolor\":\"#506784\",\"ticks\":\"\"},\"bgcolor\":\"rgb(17,17,17)\",\"caxis\":{\"gridcolor\":\"#506784\",\"linecolor\":\"#506784\",\"ticks\":\"\"}},\"title\":{\"x\":0.05},\"updatemenudefaults\":{\"bgcolor\":\"#506784\",\"borderwidth\":0},\"xaxis\":{\"automargin\":true,\"gridcolor\":\"#283442\",\"linecolor\":\"#506784\",\"ticks\":\"\",\"title\":{\"standoff\":15},\"zerolinecolor\":\"#283442\",\"zerolinewidth\":2},\"yaxis\":{\"automargin\":true,\"gridcolor\":\"#283442\",\"linecolor\":\"#506784\",\"ticks\":\"\",\"title\":{\"standoff\":15},\"zerolinecolor\":\"#283442\",\"zerolinewidth\":2}}}},                        {\"responsive\": true}                    ).then(function(){\n                            \nvar gd = document.getElementById('1d5f1493-0cb5-4165-b1d5-b8c6039b21a2');\nvar x = new MutationObserver(function (mutations, observer) {{\n        var display = window.getComputedStyle(gd).display;\n        if (!display || display === 'none') {{\n            console.log([gd, 'removed!']);\n            Plotly.purge(gd);\n            observer.disconnect();\n        }}\n}});\n\n// Listen for the removal of the full notebook cells\nvar notebookContainer = gd.closest('#notebook-container');\nif (notebookContainer) {{\n    x.observe(notebookContainer, {childList: true});\n}}\n\n// Listen for the clearing of the current output cell\nvar outputEl = gd.closest('.output');\nif (outputEl) {{\n    x.observe(outputEl, {childList: true});\n}}\n\n                        })                };                });            </script>        </div>"
     },
     "metadata": {},
     "output_type": "display_data"
    }
   ],
   "source": [
    "fig = go.Figure([go.Scatter(x=df['date'], y=df['open'], mode='markers', text=df['close'], name='open'),go.Scatter(x=df['date'], y=df['high'],name='high'),go.Scatter(x=df['date'], y=df['low'], name='low') ])\n",
    "fig.show()"
   ],
   "metadata": {
    "collapsed": false,
    "pycharm": {
     "name": "#%%\n"
    }
   }
  },
  {
   "cell_type": "code",
   "execution_count": null,
   "outputs": [],
   "source": [],
   "metadata": {
    "collapsed": false,
    "pycharm": {
     "name": "#%%\n"
    }
   }
  }
 ],
 "metadata": {
  "kernelspec": {
   "display_name": "Python 3",
   "language": "python",
   "name": "python3"
  },
  "language_info": {
   "codemirror_mode": {
    "name": "ipython",
    "version": 2
   },
   "file_extension": ".py",
   "mimetype": "text/x-python",
   "name": "python",
   "nbconvert_exporter": "python",
   "pygments_lexer": "ipython2",
   "version": "2.7.6"
  }
 },
 "nbformat": 4,
 "nbformat_minor": 0
}