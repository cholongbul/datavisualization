{
 "cells": [
  {
   "cell_type": "code",
   "execution_count": 2,
   "metadata": {
    "collapsed": true
   },
   "outputs": [
    {
     "data": {
      "text/plain": "(35, 9)"
     },
     "execution_count": 2,
     "metadata": {},
     "output_type": "execute_result"
    }
   ],
   "source": [
    "import pandas as pd\n",
    "import numpy as np\n",
    "\n",
    "csvdata = pd.read_csv('대구광역시 남구_지방세 과세 현황_20191231.csv')\n",
    "csvdata.shape"
   ]
  },
  {
   "cell_type": "code",
   "execution_count": 5,
   "outputs": [
    {
     "data": {
      "text/plain": "     시도명 시군구명  자치단체코드  과세년도   세목명   과세건수         과세금액  비과세건수        비과세금액\n0  대구광역시   남구   27200  2017   취득세  15283  32290219000   4014   5620474000\n1  대구광역시   남구   27200  2017   등록세      0            0      2      1274000\n2  대구광역시   남구   27200  2017   주민세  72138   3004038000  12057    832155000\n3  대구광역시   남구   27200  2017   재산세  69699  15268200000  21882  10191490000\n4  대구광역시   남구   27200  2017  자동차세  92735  10637925000  15805    834103000",
      "text/html": "<div>\n<style scoped>\n    .dataframe tbody tr th:only-of-type {\n        vertical-align: middle;\n    }\n\n    .dataframe tbody tr th {\n        vertical-align: top;\n    }\n\n    .dataframe thead th {\n        text-align: right;\n    }\n</style>\n<table border=\"1\" class=\"dataframe\">\n  <thead>\n    <tr style=\"text-align: right;\">\n      <th></th>\n      <th>시도명</th>\n      <th>시군구명</th>\n      <th>자치단체코드</th>\n      <th>과세년도</th>\n      <th>세목명</th>\n      <th>과세건수</th>\n      <th>과세금액</th>\n      <th>비과세건수</th>\n      <th>비과세금액</th>\n    </tr>\n  </thead>\n  <tbody>\n    <tr>\n      <th>0</th>\n      <td>대구광역시</td>\n      <td>남구</td>\n      <td>27200</td>\n      <td>2017</td>\n      <td>취득세</td>\n      <td>15283</td>\n      <td>32290219000</td>\n      <td>4014</td>\n      <td>5620474000</td>\n    </tr>\n    <tr>\n      <th>1</th>\n      <td>대구광역시</td>\n      <td>남구</td>\n      <td>27200</td>\n      <td>2017</td>\n      <td>등록세</td>\n      <td>0</td>\n      <td>0</td>\n      <td>2</td>\n      <td>1274000</td>\n    </tr>\n    <tr>\n      <th>2</th>\n      <td>대구광역시</td>\n      <td>남구</td>\n      <td>27200</td>\n      <td>2017</td>\n      <td>주민세</td>\n      <td>72138</td>\n      <td>3004038000</td>\n      <td>12057</td>\n      <td>832155000</td>\n    </tr>\n    <tr>\n      <th>3</th>\n      <td>대구광역시</td>\n      <td>남구</td>\n      <td>27200</td>\n      <td>2017</td>\n      <td>재산세</td>\n      <td>69699</td>\n      <td>15268200000</td>\n      <td>21882</td>\n      <td>10191490000</td>\n    </tr>\n    <tr>\n      <th>4</th>\n      <td>대구광역시</td>\n      <td>남구</td>\n      <td>27200</td>\n      <td>2017</td>\n      <td>자동차세</td>\n      <td>92735</td>\n      <td>10637925000</td>\n      <td>15805</td>\n      <td>834103000</td>\n    </tr>\n  </tbody>\n</table>\n</div>"
     },
     "execution_count": 5,
     "metadata": {},
     "output_type": "execute_result"
    }
   ],
   "source": [
    "csvdata.head()"
   ],
   "metadata": {
    "collapsed": false,
    "pycharm": {
     "name": "#%%\n"
    }
   }
  },
  {
   "cell_type": "code",
   "execution_count": 8,
   "outputs": [
    {
     "data": {
      "text/plain": "<AxesSubplot:ylabel='Frequency'>"
     },
     "execution_count": 8,
     "metadata": {},
     "output_type": "execute_result"
    },
    {
     "data": {
      "text/plain": "<Figure size 432x288 with 1 Axes>",
      "image/png": "[encoded data removed]"
     },
     "metadata": {
      "needs_background": "light"
     },
     "output_type": "display_data"
    }
   ],
   "source": [
    "csvdata.과세건수.plot.hist(bins=16)"
   ],
   "metadata": {
    "collapsed": false,
    "pycharm": {
     "name": "#%%\n"
    }
   }
  },
  {
   "cell_type": "code",
   "execution_count": null,
   "outputs": [],
   "source": [],
   "metadata": {
    "collapsed": false,
    "pycharm": {
     "name": "#%%\n"
    }
   }
  }
 ],
 "metadata": {
  "kernelspec": {
   "display_name": "Python 3",
   "language": "python",
   "name": "python3"
  },
  "language_info": {
   "codemirror_mode": {
    "name": "ipython",
    "version": 2
   },
   "file_extension": ".py",
   "mimetype": "text/x-python",
   "name": "python",
   "nbconvert_exporter": "python",
   "pygments_lexer": "ipython2",
   "version": "2.7.6"
  }
 },
 "nbformat": 4,
 "nbformat_minor": 0
}