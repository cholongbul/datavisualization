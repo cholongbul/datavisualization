{
 "cells": [
  {
   "cell_type": "markdown",
   "metadata": {
    "collapsed": true,
    "pycharm": {
     "name": "#%% md\n"
    }
   },
   "source": [
    "<h1> Cleanning and Handling Data </h1>"
   ]
  },
  {
   "cell_type": "code",
   "execution_count": 2,
   "outputs": [
    {
     "data": {
      "text/plain": "     A    B    C    D    E\n0   93  424  677  293  221\n1  995  384  836  593  909\n2  559  745  695  530  414\n3  566  836  190  303  935\n4  725  502  611  673  565\n5  772  846  544  922  693\n6  384  195  323  738  313\n7  991  965  127  907  226\n8  228   97   87  600  184\n9  431  610  458  894  579",
      "text/html": "<div>\n<style scoped>\n    .dataframe tbody tr th:only-of-type {\n        vertical-align: middle;\n    }\n\n    .dataframe tbody tr th {\n        vertical-align: top;\n    }\n\n    .dataframe thead th {\n        text-align: right;\n    }\n</style>\n<table border=\"1\" class=\"dataframe\">\n  <thead>\n    <tr style=\"text-align: right;\">\n      <th></th>\n      <th>A</th>\n      <th>B</th>\n      <th>C</th>\n      <th>D</th>\n      <th>E</th>\n    </tr>\n  </thead>\n  <tbody>\n    <tr>\n      <th>0</th>\n      <td>93</td>\n      <td>424</td>\n      <td>677</td>\n      <td>293</td>\n      <td>221</td>\n    </tr>\n    <tr>\n      <th>1</th>\n      <td>995</td>\n      <td>384</td>\n      <td>836</td>\n      <td>593</td>\n      <td>909</td>\n    </tr>\n    <tr>\n      <th>2</th>\n      <td>559</td>\n      <td>745</td>\n      <td>695</td>\n      <td>530</td>\n      <td>414</td>\n    </tr>\n    <tr>\n      <th>3</th>\n      <td>566</td>\n      <td>836</td>\n      <td>190</td>\n      <td>303</td>\n      <td>935</td>\n    </tr>\n    <tr>\n      <th>4</th>\n      <td>725</td>\n      <td>502</td>\n      <td>611</td>\n      <td>673</td>\n      <td>565</td>\n    </tr>\n    <tr>\n      <th>5</th>\n      <td>772</td>\n      <td>846</td>\n      <td>544</td>\n      <td>922</td>\n      <td>693</td>\n    </tr>\n    <tr>\n      <th>6</th>\n      <td>384</td>\n      <td>195</td>\n      <td>323</td>\n      <td>738</td>\n      <td>313</td>\n    </tr>\n    <tr>\n      <th>7</th>\n      <td>991</td>\n      <td>965</td>\n      <td>127</td>\n      <td>907</td>\n      <td>226</td>\n    </tr>\n    <tr>\n      <th>8</th>\n      <td>228</td>\n      <td>97</td>\n      <td>87</td>\n      <td>600</td>\n      <td>184</td>\n    </tr>\n    <tr>\n      <th>9</th>\n      <td>431</td>\n      <td>610</td>\n      <td>458</td>\n      <td>894</td>\n      <td>579</td>\n    </tr>\n  </tbody>\n</table>\n</div>"
     },
     "execution_count": 2,
     "metadata": {},
     "output_type": "execute_result"
    }
   ],
   "source": [
    "import numpy as np\n",
    "import pandas as pd\n",
    "\n",
    "df = pd.DataFrame(np.random.randint(0, 1000, size=(10,5)), columns=list('ABCDE'))\n",
    "df"
   ],
   "metadata": {
    "collapsed": false,
    "pycharm": {
     "name": "#%%\n"
    }
   }
  },
  {
   "cell_type": "code",
   "execution_count": null,
   "outputs": [],
   "source": [],
   "metadata": {
    "collapsed": false,
    "pycharm": {
     "name": "#%%\n"
    }
   }
  }
 ],
 "metadata": {
  "kernelspec": {
   "display_name": "Python 3",
   "language": "python",
   "name": "python3"
  },
  "language_info": {
   "codemirror_mode": {
    "name": "ipython",
    "version": 2
   },
   "file_extension": ".py",
   "mimetype": "text/x-python",
   "name": "python",
   "nbconvert_exporter": "python",
   "pygments_lexer": "ipython2",
   "version": "2.7.6"
  }
 },
 "nbformat": 4,
 "nbformat_minor": 0
}