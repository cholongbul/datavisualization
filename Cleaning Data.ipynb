{
 "cells": [
  {
   "cell_type": "markdown",
   "metadata": {
    "collapsed": true,
    "pycharm": {
     "name": "#%% md\n"
    }
   },
   "source": [
    "<h1> Cleanning and Handling Data </h1>"
   ]
  },
  {
   "cell_type": "code",
   "execution_count": 2,
   "outputs": [
    {
     "data": {
      "text/plain": "     A    B    C    D    E\n0   93  424  677  293  221\n1  995  384  836  593  909\n2  559  745  695  530  414\n3  566  836  190  303  935\n4  725  502  611  673  565\n5  772  846  544  922  693\n6  384  195  323  738  313\n7  991  965  127  907  226\n8  228   97   87  600  184\n9  431  610  458  894  579",
      "text/html": "<div>\n<style scoped>\n    .dataframe tbody tr th:only-of-type {\n        vertical-align: middle;\n    }\n\n    .dataframe tbody tr th {\n        vertical-align: top;\n    }\n\n    .dataframe thead th {\n        text-align: right;\n    }\n</style>\n<table border=\"1\" class=\"dataframe\">\n  <thead>\n    <tr style=\"text-align: right;\">\n      <th></th>\n      <th>A</th>\n      <th>B</th>\n      <th>C</th>\n      <th>D</th>\n      <th>E</th>\n    </tr>\n  </thead>\n  <tbody>\n    <tr>\n      <th>0</th>\n      <td>93</td>\n      <td>424</td>\n      <td>677</td>\n      <td>293</td>\n      <td>221</td>\n    </tr>\n    <tr>\n      <th>1</th>\n      <td>995</td>\n      <td>384</td>\n      <td>836</td>\n      <td>593</td>\n      <td>909</td>\n    </tr>\n    <tr>\n      <th>2</th>\n      <td>559</td>\n      <td>745</td>\n      <td>695</td>\n      <td>530</td>\n      <td>414</td>\n    </tr>\n    <tr>\n      <th>3</th>\n      <td>566</td>\n      <td>836</td>\n      <td>190</td>\n      <td>303</td>\n      <td>935</td>\n    </tr>\n    <tr>\n      <th>4</th>\n      <td>725</td>\n      <td>502</td>\n      <td>611</td>\n      <td>673</td>\n      <td>565</td>\n    </tr>\n    <tr>\n      <th>5</th>\n      <td>772</td>\n      <td>846</td>\n      <td>544</td>\n      <td>922</td>\n      <td>693</td>\n    </tr>\n    <tr>\n      <th>6</th>\n      <td>384</td>\n      <td>195</td>\n      <td>323</td>\n      <td>738</td>\n      <td>313</td>\n    </tr>\n    <tr>\n      <th>7</th>\n      <td>991</td>\n      <td>965</td>\n      <td>127</td>\n      <td>907</td>\n      <td>226</td>\n    </tr>\n    <tr>\n      <th>8</th>\n      <td>228</td>\n      <td>97</td>\n      <td>87</td>\n      <td>600</td>\n      <td>184</td>\n    </tr>\n    <tr>\n      <th>9</th>\n      <td>431</td>\n      <td>610</td>\n      <td>458</td>\n      <td>894</td>\n      <td>579</td>\n    </tr>\n  </tbody>\n</table>\n</div>"
     },
     "execution_count": 2,
     "metadata": {},
     "output_type": "execute_result"
    }
   ],
   "source": [
    "import numpy as np\n",
    "import pandas as pd\n",
    "\n",
    "df = pd.DataFrame(np.random.randint(0, 1000, size=(10,5)), columns=list('ABCDE'))\n",
    "df"
   ],
   "metadata": {
    "collapsed": false,
    "pycharm": {
     "name": "#%%\n"
    }
   }
  },
  {
   "cell_type": "code",
   "execution_count": 3,
   "outputs": [
    {
     "data": {
      "text/plain": "    Color Car Brand\n0     Red     Dodge\n1    Blue  Mercedes\n2  Purple      Fiat\n3  Yellow    Deawoo",
      "text/html": "<div>\n<style scoped>\n    .dataframe tbody tr th:only-of-type {\n        vertical-align: middle;\n    }\n\n    .dataframe tbody tr th {\n        vertical-align: top;\n    }\n\n    .dataframe thead th {\n        text-align: right;\n    }\n</style>\n<table border=\"1\" class=\"dataframe\">\n  <thead>\n    <tr style=\"text-align: right;\">\n      <th></th>\n      <th>Color</th>\n      <th>Car Brand</th>\n    </tr>\n  </thead>\n  <tbody>\n    <tr>\n      <th>0</th>\n      <td>Red</td>\n      <td>Dodge</td>\n    </tr>\n    <tr>\n      <th>1</th>\n      <td>Blue</td>\n      <td>Mercedes</td>\n    </tr>\n    <tr>\n      <th>2</th>\n      <td>Purple</td>\n      <td>Fiat</td>\n    </tr>\n    <tr>\n      <th>3</th>\n      <td>Yellow</td>\n      <td>Deawoo</td>\n    </tr>\n  </tbody>\n</table>\n</div>"
     },
     "execution_count": 3,
     "metadata": {},
     "output_type": "execute_result"
    }
   ],
   "source": [
    "#categorical\n",
    "df_categorical = pd.DataFrame({\"Color\": [\"Red\",\"Blue\", \"Purple\", \"Yellow\"], \"Car Brand\": [\"Dodge\", \"Mercedes\", \"Fiat\", \"Deawoo\"]})\n",
    "df_categorical"
   ],
   "metadata": {
    "collapsed": false,
    "pycharm": {
     "name": "#%%\n"
    }
   }
  },
  {
   "cell_type": "markdown",
   "source": [
    "<h1>Missing Values</h1>"
   ],
   "metadata": {
    "collapsed": false,
    "pycharm": {
     "name": "#%% md\n"
    }
   }
  },
  {
   "cell_type": "markdown",
   "source": [
    "NaNs"
   ],
   "metadata": {
    "collapsed": false,
    "pycharm": {
     "name": "#%% md\n"
    }
   }
  },
  {
   "cell_type": "code",
   "execution_count": 4,
   "outputs": [
    {
     "data": {
      "text/plain": "    example\n0       NaN\n1       NaN\n2      20.0\n3      30.0\n4      40.0\n5      50.0\n6      60.0\n7      60.0\n8       NaN\n9       NaN\n10      1.0\n11      2.0\n12      3.0\n13      4.0\n14      5.0\n15      NaN\n16      NaN\n17      NaN",
      "text/html": "<div>\n<style scoped>\n    .dataframe tbody tr th:only-of-type {\n        vertical-align: middle;\n    }\n\n    .dataframe tbody tr th {\n        vertical-align: top;\n    }\n\n    .dataframe thead th {\n        text-align: right;\n    }\n</style>\n<table border=\"1\" class=\"dataframe\">\n  <thead>\n    <tr style=\"text-align: right;\">\n      <th></th>\n      <th>example</th>\n    </tr>\n  </thead>\n  <tbody>\n    <tr>\n      <th>0</th>\n      <td>NaN</td>\n    </tr>\n    <tr>\n      <th>1</th>\n      <td>NaN</td>\n    </tr>\n    <tr>\n      <th>2</th>\n      <td>20.0</td>\n    </tr>\n    <tr>\n      <th>3</th>\n      <td>30.0</td>\n    </tr>\n    <tr>\n      <th>4</th>\n      <td>40.0</td>\n    </tr>\n    <tr>\n      <th>5</th>\n      <td>50.0</td>\n    </tr>\n    <tr>\n      <th>6</th>\n      <td>60.0</td>\n    </tr>\n    <tr>\n      <th>7</th>\n      <td>60.0</td>\n    </tr>\n    <tr>\n      <th>8</th>\n      <td>NaN</td>\n    </tr>\n    <tr>\n      <th>9</th>\n      <td>NaN</td>\n    </tr>\n    <tr>\n      <th>10</th>\n      <td>1.0</td>\n    </tr>\n    <tr>\n      <th>11</th>\n      <td>2.0</td>\n    </tr>\n    <tr>\n      <th>12</th>\n      <td>3.0</td>\n    </tr>\n    <tr>\n      <th>13</th>\n      <td>4.0</td>\n    </tr>\n    <tr>\n      <th>14</th>\n      <td>5.0</td>\n    </tr>\n    <tr>\n      <th>15</th>\n      <td>NaN</td>\n    </tr>\n    <tr>\n      <th>16</th>\n      <td>NaN</td>\n    </tr>\n    <tr>\n      <th>17</th>\n      <td>NaN</td>\n    </tr>\n  </tbody>\n</table>\n</div>"
     },
     "execution_count": 4,
     "metadata": {},
     "output_type": "execute_result"
    }
   ],
   "source": [
    "#Handle NaN's\n",
    "create_nan = {'example': [np.nan, np.nan, 20,30,40, 50, 60, 60, np.nan,np.nan,1,2,3,4,5,np.nan,np.nan, np.nan]}\n",
    "df_nan = pd.DataFrame(create_nan,columns=['example'])\n",
    "df_nan"
   ],
   "metadata": {
    "collapsed": false,
    "pycharm": {
     "name": "#%%\n"
    }
   }
  },
  {
   "cell_type": "code",
   "execution_count": 5,
   "outputs": [
    {
     "data": {
      "text/plain": "True"
     },
     "execution_count": 5,
     "metadata": {},
     "output_type": "execute_result"
    }
   ],
   "source": [
    "df_nan.isnull().values.any()"
   ],
   "metadata": {
    "collapsed": false,
    "pycharm": {
     "name": "#%%\n"
    }
   }
  },
  {
   "cell_type": "code",
   "execution_count": 6,
   "outputs": [
    {
     "data": {
      "text/plain": "True"
     },
     "execution_count": 6,
     "metadata": {},
     "output_type": "execute_result"
    }
   ],
   "source": [
    "df_nan['example'].isnull().values.any()"
   ],
   "metadata": {
    "collapsed": false,
    "pycharm": {
     "name": "#%%\n"
    }
   }
  },
  {
   "cell_type": "code",
   "execution_count": 7,
   "outputs": [
    {
     "data": {
      "text/plain": "    example\n0       0.0\n1       0.0\n2      20.0\n3      30.0\n4      40.0\n5      50.0\n6      60.0\n7      60.0\n8       0.0\n9       0.0\n10      1.0\n11      2.0\n12      3.0\n13      4.0\n14      5.0\n15      0.0\n16      0.0\n17      0.0",
      "text/html": "<div>\n<style scoped>\n    .dataframe tbody tr th:only-of-type {\n        vertical-align: middle;\n    }\n\n    .dataframe tbody tr th {\n        vertical-align: top;\n    }\n\n    .dataframe thead th {\n        text-align: right;\n    }\n</style>\n<table border=\"1\" class=\"dataframe\">\n  <thead>\n    <tr style=\"text-align: right;\">\n      <th></th>\n      <th>example</th>\n    </tr>\n  </thead>\n  <tbody>\n    <tr>\n      <th>0</th>\n      <td>0.0</td>\n    </tr>\n    <tr>\n      <th>1</th>\n      <td>0.0</td>\n    </tr>\n    <tr>\n      <th>2</th>\n      <td>20.0</td>\n    </tr>\n    <tr>\n      <th>3</th>\n      <td>30.0</td>\n    </tr>\n    <tr>\n      <th>4</th>\n      <td>40.0</td>\n    </tr>\n    <tr>\n      <th>5</th>\n      <td>50.0</td>\n    </tr>\n    <tr>\n      <th>6</th>\n      <td>60.0</td>\n    </tr>\n    <tr>\n      <th>7</th>\n      <td>60.0</td>\n    </tr>\n    <tr>\n      <th>8</th>\n      <td>0.0</td>\n    </tr>\n    <tr>\n      <th>9</th>\n      <td>0.0</td>\n    </tr>\n    <tr>\n      <th>10</th>\n      <td>1.0</td>\n    </tr>\n    <tr>\n      <th>11</th>\n      <td>2.0</td>\n    </tr>\n    <tr>\n      <th>12</th>\n      <td>3.0</td>\n    </tr>\n    <tr>\n      <th>13</th>\n      <td>4.0</td>\n    </tr>\n    <tr>\n      <th>14</th>\n      <td>5.0</td>\n    </tr>\n    <tr>\n      <th>15</th>\n      <td>0.0</td>\n    </tr>\n    <tr>\n      <th>16</th>\n      <td>0.0</td>\n    </tr>\n    <tr>\n      <th>17</th>\n      <td>0.0</td>\n    </tr>\n  </tbody>\n</table>\n</div>"
     },
     "execution_count": 7,
     "metadata": {},
     "output_type": "execute_result"
    }
   ],
   "source": [
    "df_clean = df_nan.fillna(0)\n",
    "df_clean"
   ],
   "metadata": {
    "collapsed": false,
    "pycharm": {
     "name": "#%%\n"
    }
   }
  },
  {
   "cell_type": "code",
   "execution_count": 8,
   "outputs": [
    {
     "data": {
      "text/plain": "    example\n0       NaN\n1       NaN\n2      20.0\n3      30.0\n4      40.0\n5      50.0\n6      60.0\n7      60.0\n8      60.0\n9      60.0\n10      1.0\n11      2.0\n12      3.0\n13      4.0\n14      5.0\n15      5.0\n16      5.0\n17      5.0",
      "text/html": "<div>\n<style scoped>\n    .dataframe tbody tr th:only-of-type {\n        vertical-align: middle;\n    }\n\n    .dataframe tbody tr th {\n        vertical-align: top;\n    }\n\n    .dataframe thead th {\n        text-align: right;\n    }\n</style>\n<table border=\"1\" class=\"dataframe\">\n  <thead>\n    <tr style=\"text-align: right;\">\n      <th></th>\n      <th>example</th>\n    </tr>\n  </thead>\n  <tbody>\n    <tr>\n      <th>0</th>\n      <td>NaN</td>\n    </tr>\n    <tr>\n      <th>1</th>\n      <td>NaN</td>\n    </tr>\n    <tr>\n      <th>2</th>\n      <td>20.0</td>\n    </tr>\n    <tr>\n      <th>3</th>\n      <td>30.0</td>\n    </tr>\n    <tr>\n      <th>4</th>\n      <td>40.0</td>\n    </tr>\n    <tr>\n      <th>5</th>\n      <td>50.0</td>\n    </tr>\n    <tr>\n      <th>6</th>\n      <td>60.0</td>\n    </tr>\n    <tr>\n      <th>7</th>\n      <td>60.0</td>\n    </tr>\n    <tr>\n      <th>8</th>\n      <td>60.0</td>\n    </tr>\n    <tr>\n      <th>9</th>\n      <td>60.0</td>\n    </tr>\n    <tr>\n      <th>10</th>\n      <td>1.0</td>\n    </tr>\n    <tr>\n      <th>11</th>\n      <td>2.0</td>\n    </tr>\n    <tr>\n      <th>12</th>\n      <td>3.0</td>\n    </tr>\n    <tr>\n      <th>13</th>\n      <td>4.0</td>\n    </tr>\n    <tr>\n      <th>14</th>\n      <td>5.0</td>\n    </tr>\n    <tr>\n      <th>15</th>\n      <td>5.0</td>\n    </tr>\n    <tr>\n      <th>16</th>\n      <td>5.0</td>\n    </tr>\n    <tr>\n      <th>17</th>\n      <td>5.0</td>\n    </tr>\n  </tbody>\n</table>\n</div>"
     },
     "execution_count": 8,
     "metadata": {},
     "output_type": "execute_result"
    }
   ],
   "source": [
    "df_nan.fillna(method='ffill')"
   ],
   "metadata": {
    "collapsed": false,
    "pycharm": {
     "name": "#%%\n"
    }
   }
  },
  {
   "cell_type": "code",
   "execution_count": 9,
   "outputs": [
    {
     "data": {
      "text/plain": "    example\n2      20.0\n3      30.0\n4      40.0\n5      50.0\n6      60.0\n7      60.0\n10      1.0\n11      2.0\n12      3.0\n13      4.0\n14      5.0",
      "text/html": "<div>\n<style scoped>\n    .dataframe tbody tr th:only-of-type {\n        vertical-align: middle;\n    }\n\n    .dataframe tbody tr th {\n        vertical-align: top;\n    }\n\n    .dataframe thead th {\n        text-align: right;\n    }\n</style>\n<table border=\"1\" class=\"dataframe\">\n  <thead>\n    <tr style=\"text-align: right;\">\n      <th></th>\n      <th>example</th>\n    </tr>\n  </thead>\n  <tbody>\n    <tr>\n      <th>2</th>\n      <td>20.0</td>\n    </tr>\n    <tr>\n      <th>3</th>\n      <td>30.0</td>\n    </tr>\n    <tr>\n      <th>4</th>\n      <td>40.0</td>\n    </tr>\n    <tr>\n      <th>5</th>\n      <td>50.0</td>\n    </tr>\n    <tr>\n      <th>6</th>\n      <td>60.0</td>\n    </tr>\n    <tr>\n      <th>7</th>\n      <td>60.0</td>\n    </tr>\n    <tr>\n      <th>10</th>\n      <td>1.0</td>\n    </tr>\n    <tr>\n      <th>11</th>\n      <td>2.0</td>\n    </tr>\n    <tr>\n      <th>12</th>\n      <td>3.0</td>\n    </tr>\n    <tr>\n      <th>13</th>\n      <td>4.0</td>\n    </tr>\n    <tr>\n      <th>14</th>\n      <td>5.0</td>\n    </tr>\n  </tbody>\n</table>\n</div>"
     },
     "execution_count": 9,
     "metadata": {},
     "output_type": "execute_result"
    }
   ],
   "source": [
    "df_drop = df_nan.dropna()\n",
    "df_drop"
   ],
   "metadata": {
    "collapsed": false,
    "pycharm": {
     "name": "#%%\n"
    }
   }
  },
  {
   "cell_type": "code",
   "execution_count": 12,
   "outputs": [
    {
     "data": {
      "text/plain": "         example\ncount  11.000000\nmean   25.000000\nstd    24.041631\nmin     1.000000\n25%     3.500000\n50%    20.000000\n75%    45.000000\nmax    60.000000",
      "text/html": "<div>\n<style scoped>\n    .dataframe tbody tr th:only-of-type {\n        vertical-align: middle;\n    }\n\n    .dataframe tbody tr th {\n        vertical-align: top;\n    }\n\n    .dataframe thead th {\n        text-align: right;\n    }\n</style>\n<table border=\"1\" class=\"dataframe\">\n  <thead>\n    <tr style=\"text-align: right;\">\n      <th></th>\n      <th>example</th>\n    </tr>\n  </thead>\n  <tbody>\n    <tr>\n      <th>count</th>\n      <td>11.000000</td>\n    </tr>\n    <tr>\n      <th>mean</th>\n      <td>25.000000</td>\n    </tr>\n    <tr>\n      <th>std</th>\n      <td>24.041631</td>\n    </tr>\n    <tr>\n      <th>min</th>\n      <td>1.000000</td>\n    </tr>\n    <tr>\n      <th>25%</th>\n      <td>3.500000</td>\n    </tr>\n    <tr>\n      <th>50%</th>\n      <td>20.000000</td>\n    </tr>\n    <tr>\n      <th>75%</th>\n      <td>45.000000</td>\n    </tr>\n    <tr>\n      <th>max</th>\n      <td>60.000000</td>\n    </tr>\n  </tbody>\n</table>\n</div>"
     },
     "execution_count": 12,
     "metadata": {},
     "output_type": "execute_result"
    }
   ],
   "source": [
    "df_drop.describe()"
   ],
   "metadata": {
    "collapsed": false,
    "pycharm": {
     "name": "#%%\n"
    }
   }
  },
  {
   "cell_type": "markdown",
   "source": [
    "<h1> Encoding </h1>"
   ],
   "metadata": {
    "collapsed": false,
    "pycharm": {
     "name": "#%% md\n"
    }
   }
  },
  {
   "cell_type": "code",
   "execution_count": 13,
   "outputs": [
    {
     "data": {
      "text/plain": "   Color_Blue  Color_Purple  Color_Red  Color_Yellow  Car Brand_Deawoo  \\\n0           0             0          1             0                 0   \n1           1             0          0             0                 0   \n2           0             1          0             0                 0   \n3           0             0          0             1                 1   \n\n   Car Brand_Dodge  Car Brand_Fiat  Car Brand_Mercedes  \n0                1               0                   0  \n1                0               0                   1  \n2                0               1                   0  \n3                0               0                   0  ",
      "text/html": "<div>\n<style scoped>\n    .dataframe tbody tr th:only-of-type {\n        vertical-align: middle;\n    }\n\n    .dataframe tbody tr th {\n        vertical-align: top;\n    }\n\n    .dataframe thead th {\n        text-align: right;\n    }\n</style>\n<table border=\"1\" class=\"dataframe\">\n  <thead>\n    <tr style=\"text-align: right;\">\n      <th></th>\n      <th>Color_Blue</th>\n      <th>Color_Purple</th>\n      <th>Color_Red</th>\n      <th>Color_Yellow</th>\n      <th>Car Brand_Deawoo</th>\n      <th>Car Brand_Dodge</th>\n      <th>Car Brand_Fiat</th>\n      <th>Car Brand_Mercedes</th>\n    </tr>\n  </thead>\n  <tbody>\n    <tr>\n      <th>0</th>\n      <td>0</td>\n      <td>0</td>\n      <td>1</td>\n      <td>0</td>\n      <td>0</td>\n      <td>1</td>\n      <td>0</td>\n      <td>0</td>\n    </tr>\n    <tr>\n      <th>1</th>\n      <td>1</td>\n      <td>0</td>\n      <td>0</td>\n      <td>0</td>\n      <td>0</td>\n      <td>0</td>\n      <td>0</td>\n      <td>1</td>\n    </tr>\n    <tr>\n      <th>2</th>\n      <td>0</td>\n      <td>1</td>\n      <td>0</td>\n      <td>0</td>\n      <td>0</td>\n      <td>0</td>\n      <td>1</td>\n      <td>0</td>\n    </tr>\n    <tr>\n      <th>3</th>\n      <td>0</td>\n      <td>0</td>\n      <td>0</td>\n      <td>1</td>\n      <td>1</td>\n      <td>0</td>\n      <td>0</td>\n      <td>0</td>\n    </tr>\n  </tbody>\n</table>\n</div>"
     },
     "execution_count": 13,
     "metadata": {},
     "output_type": "execute_result"
    }
   ],
   "source": [
    "#Encoding\n",
    "\n",
    "pd.get_dummies(df_categorical)"
   ],
   "metadata": {
    "collapsed": false,
    "pycharm": {
     "name": "#%%\n"
    }
   }
  },
  {
   "cell_type": "code",
   "execution_count": 14,
   "outputs": [
    {
     "data": {
      "text/plain": "    Color Car Brand\n0     Red     Dodge\n1    Blue  Mercedes\n2  Purple      Fiat\n3  Yellow    Deawoo",
      "text/html": "<div>\n<style scoped>\n    .dataframe tbody tr th:only-of-type {\n        vertical-align: middle;\n    }\n\n    .dataframe tbody tr th {\n        vertical-align: top;\n    }\n\n    .dataframe thead th {\n        text-align: right;\n    }\n</style>\n<table border=\"1\" class=\"dataframe\">\n  <thead>\n    <tr style=\"text-align: right;\">\n      <th></th>\n      <th>Color</th>\n      <th>Car Brand</th>\n    </tr>\n  </thead>\n  <tbody>\n    <tr>\n      <th>0</th>\n      <td>Red</td>\n      <td>Dodge</td>\n    </tr>\n    <tr>\n      <th>1</th>\n      <td>Blue</td>\n      <td>Mercedes</td>\n    </tr>\n    <tr>\n      <th>2</th>\n      <td>Purple</td>\n      <td>Fiat</td>\n    </tr>\n    <tr>\n      <th>3</th>\n      <td>Yellow</td>\n      <td>Deawoo</td>\n    </tr>\n  </tbody>\n</table>\n</div>"
     },
     "execution_count": 14,
     "metadata": {},
     "output_type": "execute_result"
    }
   ],
   "source": [
    "df_categorical"
   ],
   "metadata": {
    "collapsed": false,
    "pycharm": {
     "name": "#%%\n"
    }
   }
  },
  {
   "cell_type": "markdown",
   "source": [
    "<h1> Converting Data Types </h1>"
   ],
   "metadata": {
    "collapsed": false,
    "pycharm": {
     "name": "#%% md\n"
    }
   }
  },
  {
   "cell_type": "code",
   "execution_count": 15,
   "outputs": [
    {
     "data": {
      "text/plain": "example    float64\ndtype: object"
     },
     "execution_count": 15,
     "metadata": {},
     "output_type": "execute_result"
    }
   ],
   "source": [
    "df_clean\n",
    "df_clean.dtypes"
   ],
   "metadata": {
    "collapsed": false,
    "pycharm": {
     "name": "#%%\n"
    }
   }
  },
  {
   "cell_type": "code",
   "execution_count": 16,
   "outputs": [
    {
     "data": {
      "text/plain": "example    string\ndtype: object"
     },
     "execution_count": 16,
     "metadata": {},
     "output_type": "execute_result"
    }
   ],
   "source": [
    "df_string = df_clean.astype('string')\n",
    "df_string.dtypes"
   ],
   "metadata": {
    "collapsed": false,
    "pycharm": {
     "name": "#%%\n"
    }
   }
  },
  {
   "cell_type": "code",
   "execution_count": 17,
   "outputs": [
    {
     "data": {
      "text/plain": "example    int32\ndtype: object"
     },
     "execution_count": 17,
     "metadata": {},
     "output_type": "execute_result"
    }
   ],
   "source": [
    "df_int = df_clean.astype('int')\n",
    "df_int.dtypes"
   ],
   "metadata": {
    "collapsed": false,
    "pycharm": {
     "name": "#%%\n"
    }
   }
  },
  {
   "cell_type": "code",
   "execution_count": null,
   "outputs": [],
   "source": [],
   "metadata": {
    "collapsed": false,
    "pycharm": {
     "name": "#%%\n"
    }
   }
  }
 ],
 "metadata": {
  "kernelspec": {
   "display_name": "Python 3",
   "language": "python",
   "name": "python3"
  },
  "language_info": {
   "codemirror_mode": {
    "name": "ipython",
    "version": 2
   },
   "file_extension": ".py",
   "mimetype": "text/x-python",
   "name": "python",
   "nbconvert_exporter": "python",
   "pygments_lexer": "ipython2",
   "version": "2.7.6"
  }
 },
 "nbformat": 4,
 "nbformat_minor": 0
}